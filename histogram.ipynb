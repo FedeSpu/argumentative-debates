{
  "nbformat": 4,
  "nbformat_minor": 0,
  "metadata": {
    "colab": {
      "name": "histogram.ipynb",
      "provenance": [],
      "authorship_tag": "ABX9TyOimIpP0Nsifw+4gpgRLhys"
    },
    "kernelspec": {
      "name": "python3",
      "display_name": "Python 3"
    },
    "language_info": {
      "name": "python"
    }
  },
  "cells": [
    {
      "cell_type": "code",
      "source": [
        "import matplotlib.pyplot as plt "
      ],
      "metadata": {
        "id": "68G9gcWoKPJc"
      },
      "execution_count": null,
      "outputs": []
    },
    {
      "cell_type": "code",
      "execution_count": null,
      "metadata": {
        "id": "XeHwUp67J_9q"
      },
      "outputs": [],
      "source": [
        "def show_histogram(df):\n",
        "  '''\n",
        "  Plot the histogram of votes (in the bins: 0 to 4), given a dataframe with column 'Votes'\n",
        "  '''\n",
        "  df_histo = df[df['NumVotes'] != 0].reset_index()\n",
        "\n",
        "  res = np.zeros(5)\n",
        "  for v in df_histo['Votes'].values:\n",
        "    res += v\n",
        "    \n",
        "  res = [int(a) for a in list(res)]\n",
        "  plt.bar(range(0,5), res)\n",
        "  plt.show()"
      ]
    }
  ]
}