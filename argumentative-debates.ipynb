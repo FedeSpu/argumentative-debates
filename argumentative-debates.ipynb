{
  "nbformat": 4,
  "nbformat_minor": 0,
  "metadata": {
    "colab": {
      "name": "colab-github.ipynb",
      "provenance": [],
      "collapsed_sections": [],
      "toc_visible": true
    },
    "kernelspec": {
      "name": "python3",
      "display_name": "Python 3"
    },
    "language_info": {
      "name": "python"
    },
    "accelerator": "GPU"
  },
  "cells": [
    {
      "cell_type": "markdown",
      "source": [
        "Authors: Andrea Proia, Federico Spurio, Cristian Urbinati"
      ],
      "metadata": {
        "id": "97m2DQob8Y5M"
      }
    },
    {
      "cell_type": "markdown",
      "source": [
        "# **Kialo claim impact prediction**"
      ],
      "metadata": {
        "id": "tePPH-iunATh"
      }
    },
    {
      "cell_type": "code",
      "source": [
        "from google.colab import drive\n",
        "drive.mount('/content/drive')"
      ],
      "metadata": {
        "colab": {
          "base_uri": "https://localhost:8080/"
        },
        "id": "YWsGDyoXIHGH",
        "outputId": "8e6b6420-c61b-486c-dfbe-3bce4e6376a6"
      },
      "execution_count": 1,
      "outputs": [
        {
          "output_type": "stream",
          "name": "stdout",
          "text": [
            "Mounted at /content/drive\n"
          ]
        }
      ]
    },
    {
      "cell_type": "code",
      "source": [
        "%cd 'drive/MyDrive/NLP/project'"
      ],
      "metadata": {
        "colab": {
          "base_uri": "https://localhost:8080/"
        },
        "id": "SVhwapLtJbC9",
        "outputId": "e3518169-171b-4c11-bbce-35f46f6768af"
      },
      "execution_count": 2,
      "outputs": [
        {
          "output_type": "stream",
          "name": "stdout",
          "text": [
            "/content/drive/.shortcut-targets-by-id/121u2ns7zgxVc05UfWe1-JZYAnrIQ3iH9/NLP/project\n"
          ]
        }
      ]
    },
    {
      "cell_type": "markdown",
      "source": [
        "# Introduction\n"
      ],
      "metadata": {
        "id": "aMP-l3pPnPme"
      }
    },
    {
      "cell_type": "markdown",
      "source": [
        "The task is to predict the impact of a claim inside a debate. Debates are taken from Kialo, a\n",
        "website that covers several topics of discussion and where users can express their statement that\n",
        "can be in favor or disagree with the previous. The structure that is generated take the shape of\n",
        "a tree.\n",
        "We first need to find a way to create a corpus dataset and extract all the information we consider\n",
        "relevant to do the training, then we perform some analysis on the distribution of the data and\n",
        "we try to apply both machine learning techniques and deep learning models to make regression\n",
        "on the impact value.\n",
        "We use GloVe pre-trained model to obtain a vector representation of each word in the debates\n",
        "and then we compute the embedding for each claim, using a bidirectional LSTM to highlight\n",
        "relevant terms and patterns in sentences"
      ],
      "metadata": {
        "id": "x1dujDQOnUIT"
      }
    },
    {
      "cell_type": "markdown",
      "source": [
        "# Imports"
      ],
      "metadata": {
        "id": "kwjQGk1LOsvW"
      }
    },
    {
      "cell_type": "code",
      "execution_count": 3,
      "metadata": {
        "id": "E1AnKVX45Ki3"
      },
      "outputs": [],
      "source": [
        "import numpy as np\n",
        "import pandas as pd\n",
        "from tqdm import tqdm\n",
        "from typing import List, Callable, Dict\n",
        "from collections import OrderedDict\n",
        "from itertools import groupby\n",
        "import datetime\n",
        "\n",
        "import os\n",
        "import re\n",
        "import unicodedata\n",
        "import ast\n",
        "import warnings\n",
        "warnings.filterwarnings('ignore')\n",
        "\n",
        "import tensorflow as tf\n",
        "from tensorflow import keras\n",
        "from tensorflow.keras import layers\n",
        "\n",
        "import matplotlib.pyplot as plt\n",
        "import matplotlib as mpl\n",
        "import matplotlib.pyplot as plt\n",
        "plt.rcParams[\"figure.figsize\"] = (10,5)"
      ]
    },
    {
      "cell_type": "markdown",
      "source": [
        "# Utility functions"
      ],
      "metadata": {
        "id": "65tz82L70qmQ"
      }
    },
    {
      "cell_type": "code",
      "source": [
        "def flat_list(list_to_flatten):\n",
        "  '''\n",
        "  Given a list of lists, returns the simple list flattened\n",
        "  '''\n",
        "  return [item for sublist in list_to_flatten for item in sublist]"
      ],
      "metadata": {
        "id": "6-sUX8Zk4mFa"
      },
      "execution_count": null,
      "outputs": []
    },
    {
      "cell_type": "code",
      "source": [
        "def clean_claim(claim):\n",
        "  '''\n",
        "  Given a claim from the dataset, returns the claim 'cleaned'\n",
        "  '''\n",
        "  # Delete links in format [sentence](link)\n",
        "  claim = re.sub(r'\\[|\\]|\\(http[\\w\\W]*?[^\\\\\\)][\\)]', '', claim).strip().lower()\n",
        "  # Replace all non words terms with a space and delete \\n, \\t, \\r, \\v\n",
        "  claim = re.sub(r'[^\\w\\s]|[\\n\\r\\t\\v]', ' ', claim).strip()\n",
        "  # Replace more spaces with only one\n",
        "  claim = re.sub(r' +', ' ', claim).strip()\n",
        "\n",
        "  return claim"
      ],
      "metadata": {
        "id": "1I6B9G9l0qJZ"
      },
      "execution_count": null,
      "outputs": []
    },
    {
      "cell_type": "markdown",
      "source": [
        "# Dataset creation\n",
        "This section can be skipped if the dataframe is loaded from the outside of this notebook"
      ],
      "metadata": {
        "id": "_KAWI__D8K1Q"
      }
    },
    {
      "cell_type": "code",
      "source": [
        "df = pd.DataFrame()"
      ],
      "metadata": {
        "id": "tTDQaUG4mI6M"
      },
      "execution_count": null,
      "outputs": []
    },
    {
      "cell_type": "markdown",
      "source": [
        "We create a vocabulary `debates`, that has as keys the names of the directories (named as the general topic), and as value all the name of the files (named as the debates on kialo) related to the general topic \n",
        "\n"
      ],
      "metadata": {
        "id": "g4OBVJGs8W44"
      }
    },
    {
      "cell_type": "code",
      "source": [
        "debates = {}\n",
        "for root, dirs, files in os.walk('.'):\n",
        "  if root == '.':\n",
        "    continue\n",
        "   \n",
        "  debate_names = [debate for debate in files if '.CSV' in debate]\n",
        "  if debate_names:\n",
        "    debates[root] = debate_names\n",
        "\n",
        "print(debates)"
      ],
      "metadata": {
        "colab": {
          "base_uri": "https://localhost:8080/"
        },
        "id": "cHh3YTKevY5F",
        "outputId": "178a0764-4afe-45fd-c7ef-139c9a98eefc"
      },
      "execution_count": 82,
      "outputs": [
        {
          "output_type": "stream",
          "name": "stdout",
          "text": [
            "{'./palestine': ['palestine.CSV'], './vegan': ['vegan.CSV'], './bull-fight': ['bull-fight.CSV'], './gun-control': ['gun-control.CSV'], './cheating-after-one-night': ['cheating.CSV'], './united-states-europe': ['useurope.CSV'], './nipples': ['nipples.CSV'], './monarchies': ['monarchies.CSV'], './harry-potter': ['harry-potter.CSV'], './alien-existence': ['alien.CSV'], './feminism-is-a-force': ['feminism-is-a-force.CSV'], './free-will-or-determinism': ['free-will-or-determinism.CSV'], './religion': ['people-should-not-follow-any-specific-religion.CSV', 'has-religion-been-a-good-thing-for-humanity.CSV', 'the-existence-of-god.CSV', 'god-exists.CSV'], './ubi': ['ubi.CSV']}\n"
          ]
        }
      ]
    },
    {
      "cell_type": "code",
      "source": [
        "debate_dir_list = []\n",
        "for key in debates.keys():\n",
        "  debate_dir_list.append([key + '/' + d for d in debates[key]])\n",
        "\n",
        "debate_dir_list = flat_list(debate_dir_list)\n",
        "print(debate_dir_list)\n",
        "sep = ';'"
      ],
      "metadata": {
        "colab": {
          "base_uri": "https://localhost:8080/"
        },
        "id": "phdXLD_E3h7u",
        "outputId": "a47b2725-0793-400d-e688-addf2040752f"
      },
      "execution_count": null,
      "outputs": [
        {
          "output_type": "stream",
          "name": "stdout",
          "text": [
            "['./palestine/palestine.CSV', './vegan/vegan.CSV', './bull-fight/bull-fight.CSV', './gun-control/gun-control.CSV', './cheating-after-one-night/cheating.CSV', './united-states-europe/useurope.CSV', './nipples/nipples.CSV', './monarchies/monarchies.CSV', './harry-potter/harry-potter.CSV', './alien-existence/alien.CSV', './feminism-is-a-force/feminism-is-a-force.CSV', './free-will-or-determinism/free-will-or-determinism.CSV', './religion/people-should-not-follow-any-specific-religion.CSV', './religion/has-religion-been-a-good-thing-for-humanity.CSV', './religion/the-existence-of-god.CSV', './religion/god-exists.CSV', './ubi/ubi.CSV']\n"
          ]
        }
      ]
    },
    {
      "cell_type": "markdown",
      "source": [
        "We read all the dataset scraped from Kialo, and merge them. After that, we do some preprocessing on the claims "
      ],
      "metadata": {
        "id": "BnXEhR41Pb7k"
      }
    },
    {
      "cell_type": "code",
      "source": [
        "for debate in debate_dir_list:\n",
        "  # The csv files under the religion folder have as separator ',', while the others have ';'\n",
        "  if 'religion' in debate:\n",
        "    dataset_csv = pd.read_csv(debate, quotechar='\"', sep=',', encoding='cp1252')\n",
        "  else:\n",
        "    dataset_csv = pd.read_csv(debate, quotechar='\"', sep=sep, encoding='cp1252')\n",
        "    \n",
        "  dataset_csv = dataset_csv.drop(columns=['Unnamed: 0'])\n",
        "\n",
        "  dataset_csv['Claim'] = dataset_csv['Claim'].apply(clean_claim)\n",
        "  dataset_csv['Debate_name'] = debate.split('/')[2].split('.')[0]\n",
        "  \n",
        "  df = df.append(dataset_csv, ignore_index=True)"
      ],
      "metadata": {
        "id": "21TIz7qL9EDw"
      },
      "execution_count": null,
      "outputs": []
    },
    {
      "cell_type": "code",
      "source": [
        "df"
      ],
      "metadata": {
        "colab": {
          "base_uri": "https://localhost:8080/",
          "height": 424
        },
        "id": "nKB1iGb29yaw",
        "outputId": "e503c91c-62d6-4100-b026-f2e02b0d9d7b"
      },
      "execution_count": null,
      "outputs": [
        {
          "output_type": "execute_result",
          "data": {
            "text/html": [
              "\n",
              "  <div id=\"df-29d1093b-3b4e-4f16-8a60-ecb7aab12a9f\">\n",
              "    <div class=\"colab-df-container\">\n",
              "      <div>\n",
              "<style scoped>\n",
              "    .dataframe tbody tr th:only-of-type {\n",
              "        vertical-align: middle;\n",
              "    }\n",
              "\n",
              "    .dataframe tbody tr th {\n",
              "        vertical-align: top;\n",
              "    }\n",
              "\n",
              "    .dataframe thead th {\n",
              "        text-align: right;\n",
              "    }\n",
              "</style>\n",
              "<table border=\"1\" class=\"dataframe\">\n",
              "  <thead>\n",
              "    <tr style=\"text-align: right;\">\n",
              "      <th></th>\n",
              "      <th>Level</th>\n",
              "      <th>Stance</th>\n",
              "      <th>Claim</th>\n",
              "      <th>Votes</th>\n",
              "      <th>Comments</th>\n",
              "      <th>Depth</th>\n",
              "      <th>Debate_name</th>\n",
              "    </tr>\n",
              "  </thead>\n",
              "  <tbody>\n",
              "    <tr>\n",
              "      <th>0</th>\n",
              "      <td>1</td>\n",
              "      <td>None</td>\n",
              "      <td>the us should recognize palestine as a state</td>\n",
              "      <td>['16', '7', '10', '14', '37']</td>\n",
              "      <td>NaN</td>\n",
              "      <td>0</td>\n",
              "      <td>palestine</td>\n",
              "    </tr>\n",
              "    <tr>\n",
              "      <th>1</th>\n",
              "      <td>1.1</td>\n",
              "      <td>pro</td>\n",
              "      <td>the us has an obligation to recognise palestin...</td>\n",
              "      <td>['1', '0', '0', '0', '0']</td>\n",
              "      <td>5</td>\n",
              "      <td>1</td>\n",
              "      <td>palestine</td>\n",
              "    </tr>\n",
              "    <tr>\n",
              "      <th>2</th>\n",
              "      <td>1.1.1</td>\n",
              "      <td>pro</td>\n",
              "      <td>public opinion in the us supports this step mo...</td>\n",
              "      <td>['0', '0', '0', '0', '0']</td>\n",
              "      <td>3</td>\n",
              "      <td>2</td>\n",
              "      <td>palestine</td>\n",
              "    </tr>\n",
              "    <tr>\n",
              "      <th>3</th>\n",
              "      <td>1.1.1.1</td>\n",
              "      <td>pro</td>\n",
              "      <td>two thirds of all americans and even almost ha...</td>\n",
              "      <td>['1', '1', '4', '10', '1']</td>\n",
              "      <td></td>\n",
              "      <td>3</td>\n",
              "      <td>palestine</td>\n",
              "    </tr>\n",
              "    <tr>\n",
              "      <th>4</th>\n",
              "      <td>1.1.1.1.1</td>\n",
              "      <td>pro</td>\n",
              "      <td>the us historical pattern of vetoing nearly ev...</td>\n",
              "      <td>['0', '1', '6', '7', '0']</td>\n",
              "      <td>1</td>\n",
              "      <td>4</td>\n",
              "      <td>palestine</td>\n",
              "    </tr>\n",
              "    <tr>\n",
              "      <th>...</th>\n",
              "      <td>...</td>\n",
              "      <td>...</td>\n",
              "      <td>...</td>\n",
              "      <td>...</td>\n",
              "      <td>...</td>\n",
              "      <td>...</td>\n",
              "      <td>...</td>\n",
              "    </tr>\n",
              "    <tr>\n",
              "      <th>22543</th>\n",
              "      <td>1.7.5.2.1.1</td>\n",
              "      <td>pro</td>\n",
              "      <td>conservatives aren t in favor of higher taxes ...</td>\n",
              "      <td>['0', '0', '0', '0', '0']</td>\n",
              "      <td></td>\n",
              "      <td>5</td>\n",
              "      <td>ubi</td>\n",
              "    </tr>\n",
              "    <tr>\n",
              "      <th>22544</th>\n",
              "      <td>1.7.5.2.2</td>\n",
              "      <td>pro</td>\n",
              "      <td>a ubi would not necessarily downsize the gover...</td>\n",
              "      <td>['0', '0', '0', '0', '0']</td>\n",
              "      <td></td>\n",
              "      <td>4</td>\n",
              "      <td>ubi</td>\n",
              "    </tr>\n",
              "    <tr>\n",
              "      <th>22545</th>\n",
              "      <td>1.7.5.2.2.1</td>\n",
              "      <td>con</td>\n",
              "      <td>ubi could at least partially replace some gove...</td>\n",
              "      <td>['0', '0', '0', '0', '0']</td>\n",
              "      <td>5</td>\n",
              "      <td>5</td>\n",
              "      <td>ubi</td>\n",
              "    </tr>\n",
              "    <tr>\n",
              "      <th>22546</th>\n",
              "      <td>1.7.5.2.2.1.1</td>\n",
              "      <td>pro</td>\n",
              "      <td>unlike cash transfers assistance programs like...</td>\n",
              "      <td>['0', '0', '0', '0', '0']</td>\n",
              "      <td>1</td>\n",
              "      <td>6</td>\n",
              "      <td>ubi</td>\n",
              "    </tr>\n",
              "    <tr>\n",
              "      <th>22547</th>\n",
              "      <td>1.7.5.2.3</td>\n",
              "      <td>con</td>\n",
              "      <td>conservative goals often reduce safety stabili...</td>\n",
              "      <td>['1', '0', '0', '0', '0']</td>\n",
              "      <td></td>\n",
              "      <td>4</td>\n",
              "      <td>ubi</td>\n",
              "    </tr>\n",
              "  </tbody>\n",
              "</table>\n",
              "<p>22548 rows × 7 columns</p>\n",
              "</div>\n",
              "      <button class=\"colab-df-convert\" onclick=\"convertToInteractive('df-29d1093b-3b4e-4f16-8a60-ecb7aab12a9f')\"\n",
              "              title=\"Convert this dataframe to an interactive table.\"\n",
              "              style=\"display:none;\">\n",
              "        \n",
              "  <svg xmlns=\"http://www.w3.org/2000/svg\" height=\"24px\"viewBox=\"0 0 24 24\"\n",
              "       width=\"24px\">\n",
              "    <path d=\"M0 0h24v24H0V0z\" fill=\"none\"/>\n",
              "    <path d=\"M18.56 5.44l.94 2.06.94-2.06 2.06-.94-2.06-.94-.94-2.06-.94 2.06-2.06.94zm-11 1L8.5 8.5l.94-2.06 2.06-.94-2.06-.94L8.5 2.5l-.94 2.06-2.06.94zm10 10l.94 2.06.94-2.06 2.06-.94-2.06-.94-.94-2.06-.94 2.06-2.06.94z\"/><path d=\"M17.41 7.96l-1.37-1.37c-.4-.4-.92-.59-1.43-.59-.52 0-1.04.2-1.43.59L10.3 9.45l-7.72 7.72c-.78.78-.78 2.05 0 2.83L4 21.41c.39.39.9.59 1.41.59.51 0 1.02-.2 1.41-.59l7.78-7.78 2.81-2.81c.8-.78.8-2.07 0-2.86zM5.41 20L4 18.59l7.72-7.72 1.47 1.35L5.41 20z\"/>\n",
              "  </svg>\n",
              "      </button>\n",
              "      \n",
              "  <style>\n",
              "    .colab-df-container {\n",
              "      display:flex;\n",
              "      flex-wrap:wrap;\n",
              "      gap: 12px;\n",
              "    }\n",
              "\n",
              "    .colab-df-convert {\n",
              "      background-color: #E8F0FE;\n",
              "      border: none;\n",
              "      border-radius: 50%;\n",
              "      cursor: pointer;\n",
              "      display: none;\n",
              "      fill: #1967D2;\n",
              "      height: 32px;\n",
              "      padding: 0 0 0 0;\n",
              "      width: 32px;\n",
              "    }\n",
              "\n",
              "    .colab-df-convert:hover {\n",
              "      background-color: #E2EBFA;\n",
              "      box-shadow: 0px 1px 2px rgba(60, 64, 67, 0.3), 0px 1px 3px 1px rgba(60, 64, 67, 0.15);\n",
              "      fill: #174EA6;\n",
              "    }\n",
              "\n",
              "    [theme=dark] .colab-df-convert {\n",
              "      background-color: #3B4455;\n",
              "      fill: #D2E3FC;\n",
              "    }\n",
              "\n",
              "    [theme=dark] .colab-df-convert:hover {\n",
              "      background-color: #434B5C;\n",
              "      box-shadow: 0px 1px 3px 1px rgba(0, 0, 0, 0.15);\n",
              "      filter: drop-shadow(0px 1px 2px rgba(0, 0, 0, 0.3));\n",
              "      fill: #FFFFFF;\n",
              "    }\n",
              "  </style>\n",
              "\n",
              "      <script>\n",
              "        const buttonEl =\n",
              "          document.querySelector('#df-29d1093b-3b4e-4f16-8a60-ecb7aab12a9f button.colab-df-convert');\n",
              "        buttonEl.style.display =\n",
              "          google.colab.kernel.accessAllowed ? 'block' : 'none';\n",
              "\n",
              "        async function convertToInteractive(key) {\n",
              "          const element = document.querySelector('#df-29d1093b-3b4e-4f16-8a60-ecb7aab12a9f');\n",
              "          const dataTable =\n",
              "            await google.colab.kernel.invokeFunction('convertToInteractive',\n",
              "                                                     [key], {});\n",
              "          if (!dataTable) return;\n",
              "\n",
              "          const docLinkHtml = 'Like what you see? Visit the ' +\n",
              "            '<a target=\"_blank\" href=https://colab.research.google.com/notebooks/data_table.ipynb>data table notebook</a>'\n",
              "            + ' to learn more about interactive tables.';\n",
              "          element.innerHTML = '';\n",
              "          dataTable['output_type'] = 'display_data';\n",
              "          await google.colab.output.renderOutput(dataTable, element);\n",
              "          const docLink = document.createElement('div');\n",
              "          docLink.innerHTML = docLinkHtml;\n",
              "          element.appendChild(docLink);\n",
              "        }\n",
              "      </script>\n",
              "    </div>\n",
              "  </div>\n",
              "  "
            ],
            "text/plain": [
              "               Level Stance  ... Depth Debate_name\n",
              "0                  1   None  ...     0   palestine\n",
              "1                1.1    pro  ...     1   palestine\n",
              "2              1.1.1    pro  ...     2   palestine\n",
              "3            1.1.1.1    pro  ...     3   palestine\n",
              "4          1.1.1.1.1    pro  ...     4   palestine\n",
              "...              ...    ...  ...   ...         ...\n",
              "22543    1.7.5.2.1.1    pro  ...     5         ubi\n",
              "22544      1.7.5.2.2    pro  ...     4         ubi\n",
              "22545    1.7.5.2.2.1    con  ...     5         ubi\n",
              "22546  1.7.5.2.2.1.1    pro  ...     6         ubi\n",
              "22547      1.7.5.2.3    con  ...     4         ubi\n",
              "\n",
              "[22548 rows x 7 columns]"
            ]
          },
          "metadata": {},
          "execution_count": 34
        }
      ]
    },
    {
      "cell_type": "markdown",
      "source": [
        "We manipulate the above dataset, adding columns useful for further processing"
      ],
      "metadata": {
        "id": "3Isw5mV-MPF0"
      }
    },
    {
      "cell_type": "code",
      "source": [
        "# The list of votes of the csv file is a string; \n",
        "# this line of code convert the string into a list of integer\n",
        "df['Votes'] = df['Votes'].apply(lambda x: [int(elem) for elem in ast.literal_eval(x)])\n",
        "# Calulate the total number of votes obtained by the claim\n",
        "df['Tot_votes'] = df['Votes'].apply(lambda x: sum(x))\n",
        "\n",
        "# np.average does not deal with all weights be zeros. So we add a small quantity \n",
        "# and later remove entries with zero votes\n",
        "df['Mean_vote'] = df['Votes'].apply(lambda x: np.average([0,1,2,3,4], weights=[(a + 1e-8) for a in x], axis=0))\n",
        "df['Mean_vote'] = df['Mean_vote'].apply(lambda x: np.around(x, 1))\n",
        "\n",
        "# If the number of total votes are zero, we put zero as mean \n",
        "# (also because we don't deal with them in the computational part)\n",
        "df.loc[df['Tot_votes'] == 0, 'Mean_vote'] = 0"
      ],
      "metadata": {
        "id": "YOWt3S2vG_no"
      },
      "execution_count": null,
      "outputs": []
    },
    {
      "cell_type": "code",
      "source": [
        "# For each claim, we add columns for the claim, the mean vote and the stance of the parent node\n",
        "def retrieve_parent_info(level, debate, column_info: str):\n",
        "  parentLevel = level.rsplit('.', 1)[0]\n",
        "  return df.loc[(df['Level']  == parentLevel) & (df['Debate_name']  == debate)][column_info].values[0] if (len(parentLevel) > 0) else \"None\""
      ],
      "metadata": {
        "id": "7td6buxg_QMS"
      },
      "execution_count": null,
      "outputs": []
    },
    {
      "cell_type": "code",
      "source": [
        "# It takes a while\n",
        "df[\"Parent_claim\"] = df.apply(lambda row: retrieve_parent_info(row['Level'], row['Debate_name'], 'Claim'), axis=1)\n",
        "df[\"Parent_vote\"] = df.apply(lambda row: retrieve_parent_info(row['Level'], row['Debate_name'], 'Mean_vote'), axis=1)\n",
        "df[\"Parent_stance\"] = df.apply(lambda row: retrieve_parent_info(row['Level'], row['Debate_name'], 'Stance'), axis=1)"
      ],
      "metadata": {
        "id": "jrSx0qM4YcEl"
      },
      "execution_count": null,
      "outputs": []
    },
    {
      "cell_type": "code",
      "source": [
        "# Drop the main claim; it is not generated by users and doesn't have any parent and no stance (used for statistics and predictions)\n",
        "df = df.drop(df[df['Stance'] == 'None'].index) \n",
        "# Drop claims with less than 2 votes\n",
        "df = df.drop(df[df['Tot_votes'] < 2].index) "
      ],
      "metadata": {
        "id": "CqCOjbbLj3x_"
      },
      "execution_count": null,
      "outputs": []
    },
    {
      "cell_type": "code",
      "source": [
        "# Save dataframe to csv\n",
        "df.to_csv(\"dataframe.csv\", index=False)"
      ],
      "metadata": {
        "id": "WVPeXaQHge38"
      },
      "execution_count": null,
      "outputs": []
    },
    {
      "cell_type": "markdown",
      "source": [
        "# Dataset analysis\n",
        "In this section we perform some analysis on the dataset to discover relation between some claim features. In particular:\n",
        "- see if the distribution of the impact (integer and rounded to first decimal) is uniform or there are peaks that suggest is better to use a classifier instead of a regressor\n",
        "- see if there is a relation between the depth and the number of votes or the impact value"
      ],
      "metadata": {
        "id": "F98U6Be1DQfL"
      }
    },
    {
      "cell_type": "code",
      "source": [
        "def show_histogram_tot_votes(df):\n",
        "  '''\n",
        "  Plot the histogram of total singular votes (that are integer between 0 and 4), \n",
        "  given a dataframe with column 'Votes'\n",
        "  '''\n",
        "  votes = np.zeros(5)\n",
        "  for v in df['Votes'].values:\n",
        "    votes += v\n",
        "    \n",
        "  votes = [int(v) for v in list(votes)]\n",
        "  plt.bar(range(0,5), votes)\n",
        "  plt.show()\n",
        "\n",
        "show_histogram_tot_votes(df)"
      ],
      "metadata": {
        "colab": {
          "base_uri": "https://localhost:8080/",
          "height": 320
        },
        "id": "tdYleDd36Kk6",
        "outputId": "a272620c-8288-4f6c-9d42-258c89545e8b"
      },
      "execution_count": null,
      "outputs": [
        {
          "output_type": "display_data",
          "data": {
            "image/png": "[encoded data removed]",
            "text/plain": [
              "<Figure size 720x360 with 1 Axes>"
            ]
          },
          "metadata": {
            "needs_background": "light"
          }
        }
      ]
    },
    {
      "cell_type": "code",
      "source": [
        "def show_histogram_mean_votes(df):\n",
        "  '''\n",
        "  Plot the histogram of the sum of mean vote of each claim\n",
        "  '''\n",
        "  d = df['Mean_vote'].round().values\n",
        "  plt.bar(*np.unique(d, return_counts=True))\n",
        "  plt.show()\n",
        "\n",
        "  d = df['Mean_vote'].values\n",
        "  plt.bar(*np.unique(d, return_counts=True), width=0.1)\n",
        "  plt.show()\n",
        "\n",
        "show_histogram_mean_votes(df)"
      ],
      "metadata": {
        "colab": {
          "base_uri": "https://localhost:8080/",
          "height": 623
        },
        "id": "J_9S1Q8M6i6b",
        "outputId": "a1eae7c8-9789-4791-ef58-44e5c50dbe8d"
      },
      "execution_count": 42,
      "outputs": [
        {
          "output_type": "display_data",
          "data": {
            "image/png": "[encoded data removed]",
            "text/plain": [
              "<Figure size 720x360 with 1 Axes>"
            ]
          },
          "metadata": {
            "needs_background": "light"
          }
        },
        {
          "output_type": "display_data",
          "data": {
            "image/png": "[encoded data removed]",
            "text/plain": [
              "<Figure size 720x360 with 1 Axes>"
            ]
          },
          "metadata": {
            "needs_background": "light"
          }
        }
      ]
    },
    {
      "cell_type": "markdown",
      "source": [
        "Let's see how the number of votes normalized in percentage for each debate and the impact (mean vote) varies with respect to the depth in the tree-structure"
      ],
      "metadata": {
        "id": "Xmq2bYjYlTb6"
      }
    },
    {
      "cell_type": "code",
      "source": [
        "dabate_vs_totVotes = df[['Debate_name', 'Depth','Tot_votes']].groupby(['Debate_name', 'Depth'], as_index=False).sum()\n",
        "dabate_vs_meanVote = df[['Debate_name', 'Depth','Mean_vote']].groupby(['Debate_name', 'Depth'], as_index=False).mean()\n",
        "\n",
        "for debate in dabate_vs_totVotes['Debate_name'].unique():\n",
        "  depths = dabate_vs_totVotes[dabate_vs_totVotes['Debate_name'] == debate]['Depth'].values\n",
        "  tot_votes = dabate_vs_totVotes[dabate_vs_totVotes['Debate_name'] == debate]['Tot_votes'].values\n",
        "  mean_vote = dabate_vs_meanVote[dabate_vs_meanVote['Debate_name'] == debate]['Mean_vote'].values\n",
        "\n",
        "  cmap = mpl.cm.viridis_r\n",
        "  norm = mpl.colors.Normalize(vmin=0, vmax=4)\n",
        "\n",
        "  plt.title(f'Debate: {debate}')\n",
        "  plt.xlabel('Depth')\n",
        "  plt.ylabel('Tot votes (%)')\n",
        "  plt.xticks(range(max(depths) + 1))\n",
        "  plt.colorbar(mpl.cm.ScalarMappable(norm=norm, cmap=cmap), label='Mean vote')\n",
        "  plt.bar(depths, tot_votes/sum(tot_votes) * 100, color=cmap(norm(mean_vote)))\n",
        "  plt.show()"
      ],
      "metadata": {
        "colab": {
          "base_uri": "https://localhost:8080/",
          "height": 1000
        },
        "id": "iw8MDL_F7vdF",
        "outputId": "6a1767ac-0fa8-44dc-c379-42ca803f4e29"
      },
      "execution_count": null,
      "outputs": [
        {
          "output_type": "display_data",
          "data": {
            "image/png": "[encoded data removed]",
            "text/plain": [
              "<Figure size 720x360 with 2 Axes>"
            ]
          },
          "metadata": {
            "needs_background": "light"
          }
        },
        {
          "output_type": "display_data",
          "data": {
            "image/png": "[encoded data removed]",
            "text/plain": [
              "<Figure size 720x360 with 2 Axes>"
            ]
          },
          "metadata": {
            "needs_background": "light"
          }
        },
        {
          "output_type": "display_data",
          "data": {
            "image/png": "[encoded data removed]",
            "text/plain": [
              "<Figure size 720x360 with 2 Axes>"
            ]
          },
          "metadata": {
            "needs_background": "light"
          }
        },
        {
          "output_type": "display_data",
          "data": {
            "image/png": "[encoded data removed]",
            "text/plain": [
              "<Figure size 720x360 with 2 Axes>"
            ]
          },
          "metadata": {
            "needs_background": "light"
          }
        },
        {
          "output_type": "display_data",
          "data": {
            "image/png": "[encoded data removed]",
            "text/plain": [
              "<Figure size 720x360 with 2 Axes>"
            ]
          },
          "metadata": {
            "needs_background": "light"
          }
        },
        {
          "output_type": "display_data",
          "data": {
            "image/png": "[encoded data removed]",
            "text/plain": [
              "<Figure size 720x360 with 2 Axes>"
            ]
          },
          "metadata": {
            "needs_background": "light"
          }
        },
        {
          "output_type": "display_data",
          "data": {
            "image/png": "[encoded data removed]",
            "text/plain": [
              "<Figure size 720x360 with 2 Axes>"
            ]
          },
          "metadata": {
            "needs_background": "light"
          }
        },
        {
          "output_type": "display_data",
          "data": {
            "image/png": "[encoded data removed]",
            "text/plain": [
              "<Figure size 720x360 with 2 Axes>"
            ]
          },
          "metadata": {
            "needs_background": "light"
          }
        },
        {
          "output_type": "display_data",
          "data": {
            "image/png": "[encoded data removed]",
            "text/plain": [
              "<Figure size 720x360 with 2 Axes>"
            ]
          },
          "metadata": {
            "needs_background": "light"
          }
        },
        {
          "output_type": "display_data",
          "data": {
            "image/png": "[encoded data removed]",
            "text/plain": [
              "<Figure size 720x360 with 2 Axes>"
            ]
          },
          "metadata": {
            "needs_background": "light"
          }
        },
        {
          "output_type": "display_data",
          "data": {
            "image/png": "[encoded data removed]",
            "text/plain": [
              "<Figure size 720x360 with 2 Axes>"
            ]
          },
          "metadata": {
            "needs_background": "light"
          }
        },
        {
          "output_type": "display_data",
          "data": {
            "image/png": "[encoded data removed]",
            "text/plain": [
              "<Figure size 720x360 with 2 Axes>"
            ]
          },
          "metadata": {
            "needs_background": "light"
          }
        },
        {
          "output_type": "display_data",
          "data": {
            "image/png": "[encoded data removed]",
            "text/plain": [
              "<Figure size 720x360 with 2 Axes>"
            ]
          },
          "metadata": {
            "needs_background": "light"
          }
        },
        {
          "output_type": "display_data",
          "data": {
            "image/png": "[encoded data removed]",
            "text/plain": [
              "<Figure size 720x360 with 2 Axes>"
            ]
          },
          "metadata": {
            "needs_background": "light"
          }
        },
        {
          "output_type": "display_data",
          "data": {
            "image/png": "[encoded data removed]",
            "text/plain": [
              "<Figure size 720x360 with 2 Axes>"
            ]
          },
          "metadata": {
            "needs_background": "light"
          }
        },
        {
          "output_type": "display_data",
          "data": {
            "image/png": "[encoded data removed]",
            "text/plain": [
              "<Figure size 720x360 with 2 Axes>"
            ]
          },
          "metadata": {
            "needs_background": "light"
          }
        },
        {
          "output_type": "display_data",
          "data": {
            "image/png": "[encoded data removed]",
            "text/plain": [
              "<Figure size 720x360 with 2 Axes>"
            ]
          },
          "metadata": {
            "needs_background": "light"
          }
        }
      ]
    },
    {
      "cell_type": "markdown",
      "source": [
        "There are less votes on claims at lower level but there is not a general rule for the impact."
      ],
      "metadata": {
        "id": "VuLhyI7_l1rC"
      }
    },
    {
      "cell_type": "markdown",
      "source": [
        "Let's see if we can observe some patterns in a unique plot that groups all the debates by normalizing also the level in percentage."
      ],
      "metadata": {
        "id": "HIjF10bJmOJO"
      }
    },
    {
      "cell_type": "code",
      "source": [
        "def normalize_by_group(df, by):\n",
        "    groups = df.groupby(by)\n",
        "    max = groups.transform(\"max\")\n",
        "    normalized = df[max.columns] / max * 100\n",
        "    return normalized.astype(int)\n",
        "\n",
        "norm_depth = normalize_by_group(df[['Debate_name', 'Depth']], ['Debate_name'])['Depth']\n",
        "dabate_vs_totVotes = pd.concat([df[['Debate_name','Tot_votes']], norm_depth], axis=1).groupby(['Debate_name', 'Depth'], as_index=False).sum()\n",
        "dabate_vs_meanVote = pd.concat([df[['Debate_name','Mean_vote']], norm_depth], axis=1).groupby(['Debate_name', 'Depth'], as_index=False).mean()\n",
        "\n",
        "cmap = mpl.cm.viridis_r\n",
        "norm = mpl.colors.Normalize(vmin=0, vmax=4)\n",
        "\n",
        "depths = dabate_vs_totVotes[dabate_vs_totVotes['Debate_name'] == debate]['Depth'].values\n",
        "tot_votes = dabate_vs_totVotes[dabate_vs_totVotes['Debate_name'] == debate]['Tot_votes'].values\n",
        "mean_vote = dabate_vs_meanVote[dabate_vs_meanVote['Debate_name'] == debate]['Mean_vote'].values\n",
        "\n",
        "plt.title(f'All Debate')\n",
        "plt.xlabel('Depth (%)')\n",
        "plt.ylabel('Tot votes (%)')\n",
        "plt.colorbar(mpl.cm.ScalarMappable(norm=norm, cmap=cmap), label='Mean vote')\n",
        "plt.bar(depths, tot_votes/sum(tot_votes) * 100, color=cmap(norm(mean_vote)))\n",
        "plt.show()"
      ],
      "metadata": {
        "colab": {
          "base_uri": "https://localhost:8080/",
          "height": 350
        },
        "id": "JxJPmvU1_LUj",
        "outputId": "35a70cbd-3fa2-4d36-f946-21a35c63eb45"
      },
      "execution_count": null,
      "outputs": [
        {
          "output_type": "display_data",
          "data": {
            "image/png": "[encoded data removed]",
            "text/plain": [
              "<Figure size 720x360 with 2 Axes>"
            ]
          },
          "metadata": {
            "needs_background": "light"
          }
        }
      ]
    },
    {
      "cell_type": "markdown",
      "source": [
        "No relation can be seen, the impact at every level scale is around the mean value."
      ],
      "metadata": {
        "id": "IHrWeSGemksJ"
      }
    },
    {
      "cell_type": "markdown",
      "source": [
        "Next we would like to see if there is a relation between the impact and the number of Pro/Con child for a given claim."
      ],
      "metadata": {
        "id": "ugcEjO0anxA8"
      }
    },
    {
      "cell_type": "code",
      "source": [
        "# It takes a while\n",
        "\n",
        "def retrieve_child(level, debate, statement):\n",
        "  '''\n",
        "  Function that retrieve the total number of child with a given statement for a claim at a certain level of a given debate\n",
        "  '''\n",
        "  child_level = f'^({level}\\.\\d+)$'\n",
        "  children = df.loc[(df['Level'].str.match(child_level)) & (df['Debate_name']  == debate)]\n",
        "  return children[children['Stance'] == statement]['Stance'].count() if len(children) > 0 else 0\n",
        "\n",
        "df_pro_con = df[['Debate_name', 'Level']]\n",
        "df_pro_con['Pro'] = df_pro_con.apply(lambda row: retrieve_child(row['Level'], row['Debate_name'], 'pro'), axis=1)\n",
        "df_pro_con['Con'] = df_pro_con.apply(lambda row: retrieve_child(row['Level'], row['Debate_name'], 'con'), axis=1)\n",
        "\n",
        "df_pro_con"
      ],
      "metadata": {
        "colab": {
          "base_uri": "https://localhost:8080/",
          "height": 424
        },
        "id": "5-m8q2SUsHU0",
        "outputId": "f6f4ba7b-5a81-430a-8508-2e1a164de727"
      },
      "execution_count": null,
      "outputs": [
        {
          "output_type": "execute_result",
          "data": {
            "text/html": [
              "\n",
              "  <div id=\"df-1ee91066-2ddf-4c0b-b95c-31b897adb185\">\n",
              "    <div class=\"colab-df-container\">\n",
              "      <div>\n",
              "<style scoped>\n",
              "    .dataframe tbody tr th:only-of-type {\n",
              "        vertical-align: middle;\n",
              "    }\n",
              "\n",
              "    .dataframe tbody tr th {\n",
              "        vertical-align: top;\n",
              "    }\n",
              "\n",
              "    .dataframe thead th {\n",
              "        text-align: right;\n",
              "    }\n",
              "</style>\n",
              "<table border=\"1\" class=\"dataframe\">\n",
              "  <thead>\n",
              "    <tr style=\"text-align: right;\">\n",
              "      <th></th>\n",
              "      <th>Debate_name</th>\n",
              "      <th>Level</th>\n",
              "      <th>Pro</th>\n",
              "      <th>Con</th>\n",
              "    </tr>\n",
              "  </thead>\n",
              "  <tbody>\n",
              "    <tr>\n",
              "      <th>0</th>\n",
              "      <td>palestine</td>\n",
              "      <td>1.1.1.1</td>\n",
              "      <td>1</td>\n",
              "      <td>0</td>\n",
              "    </tr>\n",
              "    <tr>\n",
              "      <th>1</th>\n",
              "      <td>palestine</td>\n",
              "      <td>1.1.1.1.1</td>\n",
              "      <td>0</td>\n",
              "      <td>0</td>\n",
              "    </tr>\n",
              "    <tr>\n",
              "      <th>2</th>\n",
              "      <td>palestine</td>\n",
              "      <td>1.1.1.3.1</td>\n",
              "      <td>0</td>\n",
              "      <td>0</td>\n",
              "    </tr>\n",
              "    <tr>\n",
              "      <th>3</th>\n",
              "      <td>palestine</td>\n",
              "      <td>1.1.1.3.3</td>\n",
              "      <td>0</td>\n",
              "      <td>0</td>\n",
              "    </tr>\n",
              "    <tr>\n",
              "      <th>4</th>\n",
              "      <td>palestine</td>\n",
              "      <td>1.1.1.4</td>\n",
              "      <td>1</td>\n",
              "      <td>0</td>\n",
              "    </tr>\n",
              "    <tr>\n",
              "      <th>...</th>\n",
              "      <td>...</td>\n",
              "      <td>...</td>\n",
              "      <td>...</td>\n",
              "      <td>...</td>\n",
              "    </tr>\n",
              "    <tr>\n",
              "      <th>9494</th>\n",
              "      <td>ubi</td>\n",
              "      <td>1.7.4.8.2.3</td>\n",
              "      <td>0</td>\n",
              "      <td>0</td>\n",
              "    </tr>\n",
              "    <tr>\n",
              "      <th>9495</th>\n",
              "      <td>ubi</td>\n",
              "      <td>1.7.4.8.3.2.1</td>\n",
              "      <td>0</td>\n",
              "      <td>0</td>\n",
              "    </tr>\n",
              "    <tr>\n",
              "      <th>9496</th>\n",
              "      <td>ubi</td>\n",
              "      <td>1.7.4.8.3.2.2</td>\n",
              "      <td>0</td>\n",
              "      <td>0</td>\n",
              "    </tr>\n",
              "    <tr>\n",
              "      <th>9497</th>\n",
              "      <td>ubi</td>\n",
              "      <td>1.7.4.8.3.6</td>\n",
              "      <td>0</td>\n",
              "      <td>0</td>\n",
              "    </tr>\n",
              "    <tr>\n",
              "      <th>9498</th>\n",
              "      <td>ubi</td>\n",
              "      <td>1.7.5.1</td>\n",
              "      <td>0</td>\n",
              "      <td>0</td>\n",
              "    </tr>\n",
              "  </tbody>\n",
              "</table>\n",
              "<p>9499 rows × 4 columns</p>\n",
              "</div>\n",
              "      <button class=\"colab-df-convert\" onclick=\"convertToInteractive('df-1ee91066-2ddf-4c0b-b95c-31b897adb185')\"\n",
              "              title=\"Convert this dataframe to an interactive table.\"\n",
              "              style=\"display:none;\">\n",
              "        \n",
              "  <svg xmlns=\"http://www.w3.org/2000/svg\" height=\"24px\"viewBox=\"0 0 24 24\"\n",
              "       width=\"24px\">\n",
              "    <path d=\"M0 0h24v24H0V0z\" fill=\"none\"/>\n",
              "    <path d=\"M18.56 5.44l.94 2.06.94-2.06 2.06-.94-2.06-.94-.94-2.06-.94 2.06-2.06.94zm-11 1L8.5 8.5l.94-2.06 2.06-.94-2.06-.94L8.5 2.5l-.94 2.06-2.06.94zm10 10l.94 2.06.94-2.06 2.06-.94-2.06-.94-.94-2.06-.94 2.06-2.06.94z\"/><path d=\"M17.41 7.96l-1.37-1.37c-.4-.4-.92-.59-1.43-.59-.52 0-1.04.2-1.43.59L10.3 9.45l-7.72 7.72c-.78.78-.78 2.05 0 2.83L4 21.41c.39.39.9.59 1.41.59.51 0 1.02-.2 1.41-.59l7.78-7.78 2.81-2.81c.8-.78.8-2.07 0-2.86zM5.41 20L4 18.59l7.72-7.72 1.47 1.35L5.41 20z\"/>\n",
              "  </svg>\n",
              "      </button>\n",
              "      \n",
              "  <style>\n",
              "    .colab-df-container {\n",
              "      display:flex;\n",
              "      flex-wrap:wrap;\n",
              "      gap: 12px;\n",
              "    }\n",
              "\n",
              "    .colab-df-convert {\n",
              "      background-color: #E8F0FE;\n",
              "      border: none;\n",
              "      border-radius: 50%;\n",
              "      cursor: pointer;\n",
              "      display: none;\n",
              "      fill: #1967D2;\n",
              "      height: 32px;\n",
              "      padding: 0 0 0 0;\n",
              "      width: 32px;\n",
              "    }\n",
              "\n",
              "    .colab-df-convert:hover {\n",
              "      background-color: #E2EBFA;\n",
              "      box-shadow: 0px 1px 2px rgba(60, 64, 67, 0.3), 0px 1px 3px 1px rgba(60, 64, 67, 0.15);\n",
              "      fill: #174EA6;\n",
              "    }\n",
              "\n",
              "    [theme=dark] .colab-df-convert {\n",
              "      background-color: #3B4455;\n",
              "      fill: #D2E3FC;\n",
              "    }\n",
              "\n",
              "    [theme=dark] .colab-df-convert:hover {\n",
              "      background-color: #434B5C;\n",
              "      box-shadow: 0px 1px 3px 1px rgba(0, 0, 0, 0.15);\n",
              "      filter: drop-shadow(0px 1px 2px rgba(0, 0, 0, 0.3));\n",
              "      fill: #FFFFFF;\n",
              "    }\n",
              "  </style>\n",
              "\n",
              "      <script>\n",
              "        const buttonEl =\n",
              "          document.querySelector('#df-1ee91066-2ddf-4c0b-b95c-31b897adb185 button.colab-df-convert');\n",
              "        buttonEl.style.display =\n",
              "          google.colab.kernel.accessAllowed ? 'block' : 'none';\n",
              "\n",
              "        async function convertToInteractive(key) {\n",
              "          const element = document.querySelector('#df-1ee91066-2ddf-4c0b-b95c-31b897adb185');\n",
              "          const dataTable =\n",
              "            await google.colab.kernel.invokeFunction('convertToInteractive',\n",
              "                                                     [key], {});\n",
              "          if (!dataTable) return;\n",
              "\n",
              "          const docLinkHtml = 'Like what you see? Visit the ' +\n",
              "            '<a target=\"_blank\" href=https://colab.research.google.com/notebooks/data_table.ipynb>data table notebook</a>'\n",
              "            + ' to learn more about interactive tables.';\n",
              "          element.innerHTML = '';\n",
              "          dataTable['output_type'] = 'display_data';\n",
              "          await google.colab.output.renderOutput(dataTable, element);\n",
              "          const docLink = document.createElement('div');\n",
              "          docLink.innerHTML = docLinkHtml;\n",
              "          element.appendChild(docLink);\n",
              "        }\n",
              "      </script>\n",
              "    </div>\n",
              "  </div>\n",
              "  "
            ],
            "text/plain": [
              "     Debate_name          Level  Pro  Con\n",
              "0      palestine        1.1.1.1    1    0\n",
              "1      palestine      1.1.1.1.1    0    0\n",
              "2      palestine      1.1.1.3.1    0    0\n",
              "3      palestine      1.1.1.3.3    0    0\n",
              "4      palestine        1.1.1.4    1    0\n",
              "...          ...            ...  ...  ...\n",
              "9494         ubi    1.7.4.8.2.3    0    0\n",
              "9495         ubi  1.7.4.8.3.2.1    0    0\n",
              "9496         ubi  1.7.4.8.3.2.2    0    0\n",
              "9497         ubi    1.7.4.8.3.6    0    0\n",
              "9498         ubi        1.7.5.1    0    0\n",
              "\n",
              "[9499 rows x 4 columns]"
            ]
          },
          "metadata": {},
          "execution_count": 51
        }
      ]
    },
    {
      "cell_type": "code",
      "source": [
        "df_mean_pro_con = pd.concat([df_pro_con[['Debate_name', 'Pro', 'Con']], pd.DataFrame(df['Mean_vote'].values.astype(int), columns=['Mean_vote'])], axis=1) \n",
        "df_mean_pro_con = df_mean_pro_con.groupby(['Debate_name', 'Mean_vote'], as_index=False).sum()\n",
        "\n",
        "for debate in df_mean_pro_con['Debate_name'].unique():\n",
        "  x = df_mean_pro_con[df_mean_pro_con['Debate_name'] == debate]['Mean_vote'].values\n",
        "  pro = df_mean_pro_con[df_mean_pro_con['Debate_name'] == debate]['Pro'].values\n",
        "  con = df_mean_pro_con[df_mean_pro_con['Debate_name'] == debate]['Con'].values\n",
        "\n",
        "  ax = plt.subplot(111)\n",
        "  ax.bar(x-0.1, pro, width=0.2, color='g', align='center', label='Pro')\n",
        "  ax.bar(x+0.1, con, width=0.2, color='r', align='center', label='Con')\n",
        "\n",
        "  ax.legend()\n",
        "\n",
        "  plt.title(f'Debate: {debate}')\n",
        "  plt.xlabel('Mean vote')\n",
        "\n",
        "  plt.show()"
      ],
      "metadata": {
        "id": "rAVShAMwRT5d",
        "outputId": "0f0c937f-9fbd-4b68-8160-aef2945985e2",
        "colab": {
          "base_uri": "https://localhost:8080/",
          "height": 1000
        }
      },
      "execution_count": null,
      "outputs": [
        {
          "output_type": "display_data",
          "data": {
            "image/png": "[encoded data removed]",
            "text/plain": [
              "<Figure size 720x360 with 1 Axes>"
            ]
          },
          "metadata": {
            "needs_background": "light"
          }
        },
        {
          "output_type": "display_data",
          "data": {
            "image/png": "[encoded data removed]",
            "text/plain": [
              "<Figure size 720x360 with 1 Axes>"
            ]
          },
          "metadata": {
            "needs_background": "light"
          }
        },
        {
          "output_type": "display_data",
          "data": {
            "image/png": "[encoded data removed]",
            "text/plain": [
              "<Figure size 720x360 with 1 Axes>"
            ]
          },
          "metadata": {
            "needs_background": "light"
          }
        },
        {
          "output_type": "display_data",
          "data": {
            "image/png": "[encoded data removed]",
            "text/plain": [
              "<Figure size 720x360 with 1 Axes>"
            ]
          },
          "metadata": {
            "needs_background": "light"
          }
        },
        {
          "output_type": "display_data",
          "data": {
            "image/png": "[encoded data removed]",
            "text/plain": [
              "<Figure size 720x360 with 1 Axes>"
            ]
          },
          "metadata": {
            "needs_background": "light"
          }
        },
        {
          "output_type": "display_data",
          "data": {
            "image/png": "[encoded data removed]",
            "text/plain": [
              "<Figure size 720x360 with 1 Axes>"
            ]
          },
          "metadata": {
            "needs_background": "light"
          }
        },
        {
          "output_type": "display_data",
          "data": {
            "image/png": "[encoded data removed]",
            "text/plain": [
              "<Figure size 720x360 with 1 Axes>"
            ]
          },
          "metadata": {
            "needs_background": "light"
          }
        },
        {
          "output_type": "display_data",
          "data": {
            "image/png": "[encoded data removed]",
            "text/plain": [
              "<Figure size 720x360 with 1 Axes>"
            ]
          },
          "metadata": {
            "needs_background": "light"
          }
        },
        {
          "output_type": "display_data",
          "data": {
            "image/png": "[encoded data removed]",
            "text/plain": [
              "<Figure size 720x360 with 1 Axes>"
            ]
          },
          "metadata": {
            "needs_background": "light"
          }
        },
        {
          "output_type": "display_data",
          "data": {
            "image/png": "[encoded data removed]",
            "text/plain": [
              "<Figure size 720x360 with 1 Axes>"
            ]
          },
          "metadata": {
            "needs_background": "light"
          }
        },
        {
          "output_type": "display_data",
          "data": {
            "image/png": "[encoded data removed]",
            "text/plain": [
              "<Figure size 720x360 with 1 Axes>"
            ]
          },
          "metadata": {
            "needs_background": "light"
          }
        },
        {
          "output_type": "display_data",
          "data": {
            "image/png": "[encoded data removed]",
            "text/plain": [
              "<Figure size 720x360 with 1 Axes>"
            ]
          },
          "metadata": {
            "needs_background": "light"
          }
        },
        {
          "output_type": "display_data",
          "data": {
            "image/png": "[encoded data removed]",
            "text/plain": [
              "<Figure size 720x360 with 1 Axes>"
            ]
          },
          "metadata": {
            "needs_background": "light"
          }
        },
        {
          "output_type": "display_data",
          "data": {
            "image/png": "[encoded data removed]",
            "text/plain": [
              "<Figure size 720x360 with 1 Axes>"
            ]
          },
          "metadata": {
            "needs_background": "light"
          }
        },
        {
          "output_type": "display_data",
          "data": {
            "image/png": "[encoded data removed]",
            "text/plain": [
              "<Figure size 720x360 with 1 Axes>"
            ]
          },
          "metadata": {
            "needs_background": "light"
          }
        },
        {
          "output_type": "display_data",
          "data": {
            "image/png": "[encoded data removed]",
            "text/plain": [
              "<Figure size 720x360 with 1 Axes>"
            ]
          },
          "metadata": {
            "needs_background": "light"
          }
        },
        {
          "output_type": "display_data",
          "data": {
            "image/png": "[encoded data removed]",
            "text/plain": [
              "<Figure size 720x360 with 1 Axes>"
            ]
          },
          "metadata": {
            "needs_background": "light"
          }
        }
      ]
    },
    {
      "cell_type": "code",
      "source": [
        "df_mean_pro_con_total = pd.concat([df_pro_con[['Pro', 'Con']], pd.DataFrame(df['Mean_vote'].values.astype(int), columns=['Mean_vote'])], axis=1) \n",
        "df_mean_pro_con_total = df_mean_pro_con_total.groupby(['Mean_vote'], as_index=False).sum()\n",
        "\n",
        "x = df_mean_pro_con_total['Mean_vote'].values\n",
        "pro = df_mean_pro_con_total['Pro'].values\n",
        "con = df_mean_pro_con_total['Con'].values\n",
        "\n",
        "ax = plt.subplot(111)\n",
        "ax.bar(x-0.1, pro, width=0.2, color='g', align='center', label='Pro')\n",
        "ax.bar(x+0.1, con, width=0.2, color='r', align='center', label='Con')\n",
        "\n",
        "ax.legend()\n",
        "\n",
        "plt.title(f'Pro / Con child wrt mean vote')\n",
        "plt.xlabel('Mean vote')\n",
        "\n",
        "plt.show()"
      ],
      "metadata": {
        "colab": {
          "base_uri": "https://localhost:8080/",
          "height": 350
        },
        "id": "XFXP16Y_8-4l",
        "outputId": "c5eb59b7-4226-4cd9-9f0d-599c2a0fde86"
      },
      "execution_count": null,
      "outputs": [
        {
          "output_type": "display_data",
          "data": {
            "image/png": "[encoded data removed]",
            "text/plain": [
              "<Figure size 720x360 with 1 Axes>"
            ]
          },
          "metadata": {
            "needs_background": "light"
          }
        }
      ]
    },
    {
      "cell_type": "markdown",
      "source": [
        "What we can see as a general trend is that if the majoity of children is Con, then the impact is lower, if the majority of children is Pro or balanced, the impact is higher so we decided to add the number of Pro/Con children to the dataframe because it can be an important feature for training"
      ],
      "metadata": {
        "id": "BYys8DIGrGiO"
      }
    },
    {
      "cell_type": "code",
      "source": [
        "df = pd.merge(df, df_pro_con, on=['Debate_name', 'Level'])"
      ],
      "metadata": {
        "id": "aSOqWiFHsVPz"
      },
      "execution_count": null,
      "outputs": []
    },
    {
      "cell_type": "code",
      "source": [
        "# Save dataframe to csv\n",
        "df.to_csv(\"dataframe.csv\", index=False)"
      ],
      "metadata": {
        "id": "GRzkq4ICtIGu"
      },
      "execution_count": null,
      "outputs": []
    },
    {
      "cell_type": "markdown",
      "source": [
        "# Final Dataset"
      ],
      "metadata": {
        "id": "R2GBc7VlsPYE"
      }
    },
    {
      "cell_type": "code",
      "source": [
        "# Load a saved version of the dataset after the preprocessing phase\n",
        "df = pd.read_csv('dataframe.csv')"
      ],
      "metadata": {
        "id": "GAofh4RzsSM0"
      },
      "execution_count": 4,
      "outputs": []
    },
    {
      "cell_type": "markdown",
      "source": [
        "For the machine learning models we would like to take into account also the depth even we couldn't see a visible relation between it and the mean vote.\n",
        "Maybe combining it with other features can give some results.\n",
        "\n",
        "Hence we decide to normalize the depth wrt the maximum depth of each debate\n",
        "in order to make the information consistent since since tree-structure of debates can be very different."
      ],
      "metadata": {
        "id": "N0nR-G-BXqN2"
      }
    },
    {
      "cell_type": "code",
      "source": [
        "# Associate in a dictionary the maximum depth for each debate\n",
        "max_depth_debate = {}\n",
        "for debate in df['Debate_name'].unique():\n",
        "  max_depth = df[df['Debate_name'] == debate]['Depth'].max()\n",
        "  max_depth_debate[debate] = max_depth\n",
        "\n",
        "# Add the depth normalized to percentage in the dataframe\n",
        "df['Depth_norm'] = df.apply(lambda row: int(row['Depth'] / max_depth_debate[row['Debate_name']] * 100), axis=1)"
      ],
      "metadata": {
        "id": "1jahjQWR4Bhp"
      },
      "execution_count": 5,
      "outputs": []
    },
    {
      "cell_type": "code",
      "source": [
        "df"
      ],
      "metadata": {
        "colab": {
          "base_uri": "https://localhost:8080/",
          "height": 641
        },
        "id": "Zm01ci0VK3So",
        "outputId": "fde940e0-3af4-412f-be8e-e48c62ba86b4"
      },
      "execution_count": 6,
      "outputs": [
        {
          "output_type": "execute_result",
          "data": {
            "text/html": [
              "\n",
              "  <div id=\"df-7c007918-e176-4c2d-8fc4-3ffea1ede8e5\">\n",
              "    <div class=\"colab-df-container\">\n",
              "      <div>\n",
              "<style scoped>\n",
              "    .dataframe tbody tr th:only-of-type {\n",
              "        vertical-align: middle;\n",
              "    }\n",
              "\n",
              "    .dataframe tbody tr th {\n",
              "        vertical-align: top;\n",
              "    }\n",
              "\n",
              "    .dataframe thead th {\n",
              "        text-align: right;\n",
              "    }\n",
              "</style>\n",
              "<table border=\"1\" class=\"dataframe\">\n",
              "  <thead>\n",
              "    <tr style=\"text-align: right;\">\n",
              "      <th></th>\n",
              "      <th>Level</th>\n",
              "      <th>Stance</th>\n",
              "      <th>Claim</th>\n",
              "      <th>Votes</th>\n",
              "      <th>Comments</th>\n",
              "      <th>Depth</th>\n",
              "      <th>Debate_name</th>\n",
              "      <th>Tot_votes</th>\n",
              "      <th>Mean_vote</th>\n",
              "      <th>Parent_claim</th>\n",
              "      <th>Parent_vote</th>\n",
              "      <th>Parent_stance</th>\n",
              "      <th>Pro</th>\n",
              "      <th>Con</th>\n",
              "      <th>Depth_norm</th>\n",
              "    </tr>\n",
              "  </thead>\n",
              "  <tbody>\n",
              "    <tr>\n",
              "      <th>0</th>\n",
              "      <td>1.1.1.1</td>\n",
              "      <td>pro</td>\n",
              "      <td>two thirds of all americans and even almost ha...</td>\n",
              "      <td>[1, 1, 4, 10, 1]</td>\n",
              "      <td></td>\n",
              "      <td>3</td>\n",
              "      <td>palestine</td>\n",
              "      <td>17</td>\n",
              "      <td>2.5</td>\n",
              "      <td>public opinion in the us supports this step mo...</td>\n",
              "      <td>0.0</td>\n",
              "      <td>pro</td>\n",
              "      <td>1</td>\n",
              "      <td>0</td>\n",
              "      <td>30</td>\n",
              "    </tr>\n",
              "    <tr>\n",
              "      <th>1</th>\n",
              "      <td>1.1.1.1.1</td>\n",
              "      <td>pro</td>\n",
              "      <td>the us historical pattern of vetoing nearly ev...</td>\n",
              "      <td>[0, 1, 6, 7, 0]</td>\n",
              "      <td>1</td>\n",
              "      <td>4</td>\n",
              "      <td>palestine</td>\n",
              "      <td>14</td>\n",
              "      <td>2.4</td>\n",
              "      <td>two thirds of all americans and even almost ha...</td>\n",
              "      <td>2.5</td>\n",
              "      <td>pro</td>\n",
              "      <td>0</td>\n",
              "      <td>0</td>\n",
              "      <td>40</td>\n",
              "    </tr>\n",
              "    <tr>\n",
              "      <th>2</th>\n",
              "      <td>1.1.1.3.1</td>\n",
              "      <td>pro</td>\n",
              "      <td>by being the first major western country to re...</td>\n",
              "      <td>[0, 1, 5, 9, 0]</td>\n",
              "      <td>10</td>\n",
              "      <td>4</td>\n",
              "      <td>palestine</td>\n",
              "      <td>15</td>\n",
              "      <td>2.5</td>\n",
              "      <td>the us is one of the world s most influential ...</td>\n",
              "      <td>0.0</td>\n",
              "      <td>pro</td>\n",
              "      <td>0</td>\n",
              "      <td>0</td>\n",
              "      <td>40</td>\n",
              "    </tr>\n",
              "    <tr>\n",
              "      <th>3</th>\n",
              "      <td>1.1.1.3.3</td>\n",
              "      <td>con</td>\n",
              "      <td>the united states is too late to serve as an i...</td>\n",
              "      <td>[1, 2, 10, 3, 0]</td>\n",
              "      <td>16</td>\n",
              "      <td>4</td>\n",
              "      <td>palestine</td>\n",
              "      <td>16</td>\n",
              "      <td>1.9</td>\n",
              "      <td>the us is one of the world s most influential ...</td>\n",
              "      <td>0.0</td>\n",
              "      <td>pro</td>\n",
              "      <td>0</td>\n",
              "      <td>0</td>\n",
              "      <td>40</td>\n",
              "    </tr>\n",
              "    <tr>\n",
              "      <th>4</th>\n",
              "      <td>1.1.1.4</td>\n",
              "      <td>con</td>\n",
              "      <td>the ignorance of the american people could cau...</td>\n",
              "      <td>[1, 3, 2, 2, 1]</td>\n",
              "      <td>32</td>\n",
              "      <td>3</td>\n",
              "      <td>palestine</td>\n",
              "      <td>9</td>\n",
              "      <td>1.9</td>\n",
              "      <td>public opinion in the us supports this step mo...</td>\n",
              "      <td>0.0</td>\n",
              "      <td>pro</td>\n",
              "      <td>1</td>\n",
              "      <td>0</td>\n",
              "      <td>30</td>\n",
              "    </tr>\n",
              "    <tr>\n",
              "      <th>...</th>\n",
              "      <td>...</td>\n",
              "      <td>...</td>\n",
              "      <td>...</td>\n",
              "      <td>...</td>\n",
              "      <td>...</td>\n",
              "      <td>...</td>\n",
              "      <td>...</td>\n",
              "      <td>...</td>\n",
              "      <td>...</td>\n",
              "      <td>...</td>\n",
              "      <td>...</td>\n",
              "      <td>...</td>\n",
              "      <td>...</td>\n",
              "      <td>...</td>\n",
              "      <td>...</td>\n",
              "    </tr>\n",
              "    <tr>\n",
              "      <th>9494</th>\n",
              "      <td>1.7.4.8.2.3</td>\n",
              "      <td>con</td>\n",
              "      <td>by financing ubi through this system it would ...</td>\n",
              "      <td>[0, 0, 2, 0, 0]</td>\n",
              "      <td></td>\n",
              "      <td>5</td>\n",
              "      <td>ubi</td>\n",
              "      <td>2</td>\n",
              "      <td>2.0</td>\n",
              "      <td>a ubi will empower the politically marginalize...</td>\n",
              "      <td>0.0</td>\n",
              "      <td>pro</td>\n",
              "      <td>0</td>\n",
              "      <td>0</td>\n",
              "      <td>35</td>\n",
              "    </tr>\n",
              "    <tr>\n",
              "      <th>9495</th>\n",
              "      <td>1.7.4.8.3.2.1</td>\n",
              "      <td>con</td>\n",
              "      <td>this same logic could also be applied to all o...</td>\n",
              "      <td>[0, 0, 10, 5, 0]</td>\n",
              "      <td></td>\n",
              "      <td>6</td>\n",
              "      <td>ubi</td>\n",
              "      <td>15</td>\n",
              "      <td>2.3</td>\n",
              "      <td>if wealthy people already feel as though they ...</td>\n",
              "      <td>0.0</td>\n",
              "      <td>pro</td>\n",
              "      <td>0</td>\n",
              "      <td>0</td>\n",
              "      <td>42</td>\n",
              "    </tr>\n",
              "    <tr>\n",
              "      <th>9496</th>\n",
              "      <td>1.7.4.8.3.2.2</td>\n",
              "      <td>con</td>\n",
              "      <td>what the wealthy want and desire becomes less ...</td>\n",
              "      <td>[0, 6, 7, 2, 0]</td>\n",
              "      <td></td>\n",
              "      <td>6</td>\n",
              "      <td>ubi</td>\n",
              "      <td>15</td>\n",
              "      <td>1.7</td>\n",
              "      <td>if wealthy people already feel as though they ...</td>\n",
              "      <td>0.0</td>\n",
              "      <td>pro</td>\n",
              "      <td>0</td>\n",
              "      <td>0</td>\n",
              "      <td>42</td>\n",
              "    </tr>\n",
              "    <tr>\n",
              "      <th>9497</th>\n",
              "      <td>1.7.4.8.3.6</td>\n",
              "      <td>con</td>\n",
              "      <td>those high tax payers already control the stat...</td>\n",
              "      <td>[0, 0, 1, 1, 0]</td>\n",
              "      <td></td>\n",
              "      <td>5</td>\n",
              "      <td>ubi</td>\n",
              "      <td>2</td>\n",
              "      <td>2.5</td>\n",
              "      <td>a ubi together with automation will strengthen...</td>\n",
              "      <td>0.0</td>\n",
              "      <td>con</td>\n",
              "      <td>0</td>\n",
              "      <td>0</td>\n",
              "      <td>35</td>\n",
              "    </tr>\n",
              "    <tr>\n",
              "      <th>9498</th>\n",
              "      <td>1.7.5.1</td>\n",
              "      <td>pro</td>\n",
              "      <td>andrew yang is gaining support for his 2020 pr...</td>\n",
              "      <td>[0, 0, 0, 0, 2]</td>\n",
              "      <td>5</td>\n",
              "      <td>3</td>\n",
              "      <td>ubi</td>\n",
              "      <td>2</td>\n",
              "      <td>4.0</td>\n",
              "      <td>a ubi achieves both the progressive goal of pr...</td>\n",
              "      <td>0.0</td>\n",
              "      <td>con</td>\n",
              "      <td>0</td>\n",
              "      <td>0</td>\n",
              "      <td>21</td>\n",
              "    </tr>\n",
              "  </tbody>\n",
              "</table>\n",
              "<p>9499 rows × 15 columns</p>\n",
              "</div>\n",
              "      <button class=\"colab-df-convert\" onclick=\"convertToInteractive('df-7c007918-e176-4c2d-8fc4-3ffea1ede8e5')\"\n",
              "              title=\"Convert this dataframe to an interactive table.\"\n",
              "              style=\"display:none;\">\n",
              "        \n",
              "  <svg xmlns=\"http://www.w3.org/2000/svg\" height=\"24px\"viewBox=\"0 0 24 24\"\n",
              "       width=\"24px\">\n",
              "    <path d=\"M0 0h24v24H0V0z\" fill=\"none\"/>\n",
              "    <path d=\"M18.56 5.44l.94 2.06.94-2.06 2.06-.94-2.06-.94-.94-2.06-.94 2.06-2.06.94zm-11 1L8.5 8.5l.94-2.06 2.06-.94-2.06-.94L8.5 2.5l-.94 2.06-2.06.94zm10 10l.94 2.06.94-2.06 2.06-.94-2.06-.94-.94-2.06-.94 2.06-2.06.94z\"/><path d=\"M17.41 7.96l-1.37-1.37c-.4-.4-.92-.59-1.43-.59-.52 0-1.04.2-1.43.59L10.3 9.45l-7.72 7.72c-.78.78-.78 2.05 0 2.83L4 21.41c.39.39.9.59 1.41.59.51 0 1.02-.2 1.41-.59l7.78-7.78 2.81-2.81c.8-.78.8-2.07 0-2.86zM5.41 20L4 18.59l7.72-7.72 1.47 1.35L5.41 20z\"/>\n",
              "  </svg>\n",
              "      </button>\n",
              "      \n",
              "  <style>\n",
              "    .colab-df-container {\n",
              "      display:flex;\n",
              "      flex-wrap:wrap;\n",
              "      gap: 12px;\n",
              "    }\n",
              "\n",
              "    .colab-df-convert {\n",
              "      background-color: #E8F0FE;\n",
              "      border: none;\n",
              "      border-radius: 50%;\n",
              "      cursor: pointer;\n",
              "      display: none;\n",
              "      fill: #1967D2;\n",
              "      height: 32px;\n",
              "      padding: 0 0 0 0;\n",
              "      width: 32px;\n",
              "    }\n",
              "\n",
              "    .colab-df-convert:hover {\n",
              "      background-color: #E2EBFA;\n",
              "      box-shadow: 0px 1px 2px rgba(60, 64, 67, 0.3), 0px 1px 3px 1px rgba(60, 64, 67, 0.15);\n",
              "      fill: #174EA6;\n",
              "    }\n",
              "\n",
              "    [theme=dark] .colab-df-convert {\n",
              "      background-color: #3B4455;\n",
              "      fill: #D2E3FC;\n",
              "    }\n",
              "\n",
              "    [theme=dark] .colab-df-convert:hover {\n",
              "      background-color: #434B5C;\n",
              "      box-shadow: 0px 1px 3px 1px rgba(0, 0, 0, 0.15);\n",
              "      filter: drop-shadow(0px 1px 2px rgba(0, 0, 0, 0.3));\n",
              "      fill: #FFFFFF;\n",
              "    }\n",
              "  </style>\n",
              "\n",
              "      <script>\n",
              "        const buttonEl =\n",
              "          document.querySelector('#df-7c007918-e176-4c2d-8fc4-3ffea1ede8e5 button.colab-df-convert');\n",
              "        buttonEl.style.display =\n",
              "          google.colab.kernel.accessAllowed ? 'block' : 'none';\n",
              "\n",
              "        async function convertToInteractive(key) {\n",
              "          const element = document.querySelector('#df-7c007918-e176-4c2d-8fc4-3ffea1ede8e5');\n",
              "          const dataTable =\n",
              "            await google.colab.kernel.invokeFunction('convertToInteractive',\n",
              "                                                     [key], {});\n",
              "          if (!dataTable) return;\n",
              "\n",
              "          const docLinkHtml = 'Like what you see? Visit the ' +\n",
              "            '<a target=\"_blank\" href=https://colab.research.google.com/notebooks/data_table.ipynb>data table notebook</a>'\n",
              "            + ' to learn more about interactive tables.';\n",
              "          element.innerHTML = '';\n",
              "          dataTable['output_type'] = 'display_data';\n",
              "          await google.colab.output.renderOutput(dataTable, element);\n",
              "          const docLink = document.createElement('div');\n",
              "          docLink.innerHTML = docLinkHtml;\n",
              "          element.appendChild(docLink);\n",
              "        }\n",
              "      </script>\n",
              "    </div>\n",
              "  </div>\n",
              "  "
            ],
            "text/plain": [
              "              Level Stance  ... Con Depth_norm\n",
              "0           1.1.1.1    pro  ...   0         30\n",
              "1         1.1.1.1.1    pro  ...   0         40\n",
              "2         1.1.1.3.1    pro  ...   0         40\n",
              "3         1.1.1.3.3    con  ...   0         40\n",
              "4           1.1.1.4    con  ...   0         30\n",
              "...             ...    ...  ...  ..        ...\n",
              "9494    1.7.4.8.2.3    con  ...   0         35\n",
              "9495  1.7.4.8.3.2.1    con  ...   0         42\n",
              "9496  1.7.4.8.3.2.2    con  ...   0         42\n",
              "9497    1.7.4.8.3.6    con  ...   0         35\n",
              "9498        1.7.5.1    pro  ...   0         21\n",
              "\n",
              "[9499 rows x 15 columns]"
            ]
          },
          "metadata": {},
          "execution_count": 6
        }
      ]
    },
    {
      "cell_type": "markdown",
      "source": [
        "# Split"
      ],
      "metadata": {
        "id": "1F7S1dIOBAK6"
      }
    },
    {
      "cell_type": "code",
      "source": [
        "# Pandas sample function takes randomly a fraction of the dataframe so we have our debates shuffled in train/valid/test \n",
        "train = df.sample(frac=0.95, random_state=42)\n",
        "tmp = df.drop(train.index)\n",
        "valid = tmp.sample(frac=0.5, random_state=42)\n",
        "test = tmp.drop(valid.index)"
      ],
      "metadata": {
        "id": "Ns32IfZXBt_y"
      },
      "execution_count": 7,
      "outputs": []
    },
    {
      "cell_type": "code",
      "source": [
        "print(train.shape)\n",
        "print(valid.shape)\n",
        "print(test.shape)"
      ],
      "metadata": {
        "colab": {
          "base_uri": "https://localhost:8080/"
        },
        "id": "EFljWt03C4lE",
        "outputId": "0bfa8a0b-67cf-46c8-c8ed-5593bee1683b"
      },
      "execution_count": 8,
      "outputs": [
        {
          "output_type": "stream",
          "name": "stdout",
          "text": [
            "(9024, 15)\n",
            "(238, 15)\n",
            "(237, 15)\n"
          ]
        }
      ]
    },
    {
      "cell_type": "markdown",
      "source": [
        "The distribution of the data is manteined almost in all the splits, as shown in the graphs below"
      ],
      "metadata": {
        "id": "u3FWtfqXiXZJ"
      }
    },
    {
      "cell_type": "code",
      "source": [
        "show_histogram_mean_votes(train)"
      ],
      "metadata": {
        "id": "-4IhTnjWh5Fx",
        "outputId": "6eb5a7a7-a358-4697-ef66-67c8bd83b124",
        "colab": {
          "base_uri": "https://localhost:8080/",
          "height": 623
        }
      },
      "execution_count": 43,
      "outputs": [
        {
          "output_type": "display_data",
          "data": {
            "image/png": "[encoded data removed]",
            "text/plain": [
              "<Figure size 720x360 with 1 Axes>"
            ]
          },
          "metadata": {
            "needs_background": "light"
          }
        },
        {
          "output_type": "display_data",
          "data": {
            "image/png": "[encoded data removed]",
            "text/plain": [
              "<Figure size 720x360 with 1 Axes>"
            ]
          },
          "metadata": {
            "needs_background": "light"
          }
        }
      ]
    },
    {
      "cell_type": "code",
      "source": [
        "show_histogram_mean_votes(valid)"
      ],
      "metadata": {
        "id": "6UGmYiwWiNHl",
        "outputId": "d9fb9528-042b-4ba2-9ce1-f80a9ab26bb9",
        "colab": {
          "base_uri": "https://localhost:8080/",
          "height": 623
        }
      },
      "execution_count": 44,
      "outputs": [
        {
          "output_type": "display_data",
          "data": {
            "image/png": "[encoded data removed]",
            "text/plain": [
              "<Figure size 720x360 with 1 Axes>"
            ]
          },
          "metadata": {
            "needs_background": "light"
          }
        },
        {
          "output_type": "display_data",
          "data": {
            "image/png": "[encoded data removed]",
            "text/plain": [
              "<Figure size 720x360 with 1 Axes>"
            ]
          },
          "metadata": {
            "needs_background": "light"
          }
        }
      ]
    },
    {
      "cell_type": "code",
      "source": [
        "show_histogram_mean_votes(test)"
      ],
      "metadata": {
        "id": "wAfEPhxKiNhd",
        "outputId": "09394261-7005-4bb9-f63d-f9267aedab02",
        "colab": {
          "base_uri": "https://localhost:8080/",
          "height": 623
        }
      },
      "execution_count": 45,
      "outputs": [
        {
          "output_type": "display_data",
          "data": {
            "image/png": "[encoded data removed]",
            "text/plain": [
              "<Figure size 720x360 with 1 Axes>"
            ]
          },
          "metadata": {
            "needs_background": "light"
          }
        },
        {
          "output_type": "display_data",
          "data": {
            "image/png": "[encoded data removed]",
            "text/plain": [
              "<Figure size 720x360 with 1 Axes>"
            ]
          },
          "metadata": {
            "needs_background": "light"
          }
        }
      ]
    },
    {
      "cell_type": "markdown",
      "metadata": {
        "id": "zaJfpsnGhk5J"
      },
      "source": [
        "#Dataset Conversion\n",
        "In this section we define the functions that build the vocabulary of terms contained in Claims and parent Claim. In particular the function creates two dictionaries: one to retrieve the index given a word and one to obatain the word given an index.\n",
        "\n",
        "The function is incremental, so, if it is called without the previously mentioned two dictionaries, it creates new ones while if we already have a vocabulary it enriches it with new unseen words.\n",
        "\n",
        "We encode at the initialization of the vocabulary the reserved string `-PAD-` with index `0` that will be used, as the name suggest, for the padding.\n",
        "\n",
        "This vocabulary will be used by the tokenizers in order to translate strings into numerical format so that the NN can accept them as input. \n",
        "\n"
      ]
    },
    {
      "cell_type": "code",
      "source": [
        "def build_word_vocabulary(df: pd.DataFrame, word_to_idx=None, idx_to_word=None):\n",
        "    \"\"\"\n",
        "    Given a dataset, builds the corresponding word vocabulary.\n",
        "\n",
        "    :param df: dataset from which we want to build the word vocabulary (pandas.DataFrame)\n",
        "    :param idx_to_word: existing vocabulary from index to word\n",
        "    :param word_to_idx: existing vocabulary from word to index\n",
        "    \n",
        "    :return:\n",
        "      - idx_to_word: updated vocabulary from index to word\n",
        "      - word_to_idx: updated vocabulary from word to index\n",
        "      - word listing: set of unique terms that build up the vocabulary\n",
        "      - max_claim_len: max length among all the claims\n",
        "      - max_evidence_len: max length among all the evidences\n",
        "    \"\"\"\n",
        "\n",
        "    curr_idx = 1\n",
        "    # Vocabularies must be both evaluated or None\n",
        "    assert (word_to_idx is None and idx_to_word is None) or (word_to_idx is not None and idx_to_word is not None)\n",
        "\n",
        "    # If no vocabulary passed, then build one\n",
        "    if word_to_idx is None and idx_to_word is None:\n",
        "      idx_to_word = OrderedDict()\n",
        "      word_to_idx = OrderedDict()\n",
        "      # Reserved word in the dictionary for padding\n",
        "      word_to_idx[\"-PAD-\"] = 0\n",
        "      idx_to_word[0] = \"-PAD-\"\n",
        "    else:\n",
        "      curr_idx = max(idx_to_word.keys()) + 1\n",
        "\n",
        "\n",
        "    # Claim\n",
        "    max_claim_len = 0\n",
        "    for sentence in tqdm(df['Claim'].values):\n",
        "      splitted_sentece = sentence.split(\" \")\n",
        "      max_claim_len = max(len(splitted_sentece), max_claim_len)\n",
        "      for word in splitted_sentece:\n",
        "        if word not in word_to_idx:\n",
        "            word_to_idx[word] = curr_idx\n",
        "            idx_to_word[curr_idx] = word\n",
        "            curr_idx += 1\n",
        "\n",
        "    # Parent_claim\n",
        "    for sentence in tqdm(df['Parent_claim'].values):\n",
        "      splitted_sentece = sentence.split(\" \")\n",
        "      max_claim_len = max(len(splitted_sentece), max_claim_len)\n",
        "      for word in splitted_sentece:\n",
        "        if word not in word_to_idx:\n",
        "            word_to_idx[word] = curr_idx\n",
        "            idx_to_word[curr_idx] = word\n",
        "            curr_idx += 1\n",
        "\n",
        "    word_listing = list(idx_to_word.values())\n",
        "\n",
        "    return idx_to_word, word_to_idx, word_listing, max_claim_len\n",
        " \n",
        "# Testing: incremental vocabulary\n",
        "idx_to_word, word_to_idx, word_listing, max_claim_len = build_word_vocabulary(train)\n",
        "idx_to_word, word_to_idx, word_listing, max_claim_len = build_word_vocabulary(valid, word_to_idx, idx_to_word)\n",
        "idx_to_word, word_to_idx, word_listing, max_claim_len = build_word_vocabulary(test, word_to_idx, idx_to_word)\n",
        "\n",
        "print(\"\\n\")\n",
        "print('[Debug] Index -> Word vocabulary size: {}'.format(len(idx_to_word)))\n",
        "print('[Debug] Word -> Index vocabulary size: {}'.format(len(word_to_idx)))\n",
        "print('[Debug] Some words: {}'.format([(idx_to_word[idx], idx) for idx in np.arange(10)]))"
      ],
      "metadata": {
        "colab": {
          "base_uri": "https://localhost:8080/"
        },
        "id": "EVOqwvn0Dh7o",
        "outputId": "9be397cc-0aae-4272-96f9-87bf1d9b0980"
      },
      "execution_count": 9,
      "outputs": [
        {
          "output_type": "stream",
          "name": "stderr",
          "text": [
            "100%|██████████| 9024/9024 [00:00<00:00, 153744.98it/s]\n",
            "100%|██████████| 9024/9024 [00:00<00:00, 195845.02it/s]\n",
            "100%|██████████| 238/238 [00:00<00:00, 158200.37it/s]\n",
            "100%|██████████| 238/238 [00:00<00:00, 171078.72it/s]\n",
            "100%|██████████| 237/237 [00:00<00:00, 149391.35it/s]\n",
            "100%|██████████| 237/237 [00:00<00:00, 144274.32it/s]"
          ]
        },
        {
          "output_type": "stream",
          "name": "stdout",
          "text": [
            "\n",
            "\n",
            "[Debug] Index -> Word vocabulary size: 15506\n",
            "[Debug] Word -> Index vocabulary size: 15506\n",
            "[Debug] Some words: [('-PAD-', 0), ('there', 1), ('is', 2), ('no', 3), ('reasonable', 4), ('and', 5), ('consistent', 6), ('standard', 7), ('of', 8), ('evidence', 9)]\n"
          ]
        },
        {
          "output_type": "stream",
          "name": "stderr",
          "text": [
            "\n"
          ]
        }
      ]
    },
    {
      "cell_type": "code",
      "source": [
        "# Download the glove encoder\n",
        "import gensim\n",
        "import gensim.downloader as gloader\n",
        "embedding_model = gloader.load(\"glove-wiki-gigaword-50\")\n",
        "embedding_dimension = 50"
      ],
      "metadata": {
        "id": "a4PAMFOTKhpG",
        "colab": {
          "base_uri": "https://localhost:8080/"
        },
        "outputId": "4bd7df09-8deb-4a11-d7e3-adb4c470c1fe"
      },
      "execution_count": 10,
      "outputs": [
        {
          "output_type": "stream",
          "name": "stdout",
          "text": [
            "[==================================================] 100.0% 66.0/66.0MB downloaded\n"
          ]
        }
      ]
    },
    {
      "cell_type": "code",
      "source": [
        "def check_OOV_terms(embedding_model: gensim.models.keyedvectors.KeyedVectors,\n",
        "                    word_listing: List[str]):\n",
        "    \"\"\"\n",
        "    Checks differences between pre-trained embedding model vocabulary\n",
        "    and dataset specific vocabulary in order to highlight out-of-vocabulary terms.\n",
        "\n",
        "    :param embedding_model: pre-trained word embedding model (gensim wrapper)\n",
        "    :param word_listing: dataset specific vocabulary (list)\n",
        "\n",
        "    :return\n",
        "        - list of OOV terms\n",
        "    \"\"\"\n",
        "\n",
        "    embedding_vocabulary = set(embedding_model.vocab.keys())\n",
        "    oov = set(word_listing).difference(embedding_vocabulary)\n",
        "    return list(oov)\n",
        "\n",
        "# Testing\n",
        "oov_terms = check_OOV_terms(embedding_model, word_listing)"
      ],
      "metadata": {
        "id": "3Zj5kauRKLOU"
      },
      "execution_count": 11,
      "outputs": []
    },
    {
      "cell_type": "markdown",
      "metadata": {
        "id": "I5B-iQQothUl"
      },
      "source": [
        "Print some statistics:"
      ]
    },
    {
      "cell_type": "code",
      "source": [
        "tot_words = len(word_listing)\n",
        "tot_OOV = len(oov_terms)\n",
        "print('Total number of words is:\\t{}'.format(tot_words))\n",
        "print('Total number of OOV words is:\\t{}'.format(tot_OOV))\n",
        "print('Percentage of OOV words w.r.t the whole vocabulary: {:.1f}%'.format(tot_OOV / tot_words * 100))\n",
        "print('Some oov terms: {}'.format(oov_terms[:5]))"
      ],
      "metadata": {
        "colab": {
          "base_uri": "https://localhost:8080/"
        },
        "id": "JeDvAXIWK0U8",
        "outputId": "07adbe69-7f8b-4cd2-9a43-3b97073064b3"
      },
      "execution_count": 87,
      "outputs": [
        {
          "output_type": "stream",
          "name": "stdout",
          "text": [
            "Total number of words is:\t15506\n",
            "Total number of OOV words is:\t591\n",
            "Percentage of OOV words w.r.t the whole vocabulary: 3.8%\n",
            "Some oov terms: ['reversioner', 'qme', 'totalus', 'physicalist', 'abdall']\n"
          ]
        }
      ]
    },
    {
      "cell_type": "markdown",
      "source": [
        "As we expected, there are some oov terms linked to the specificity of the debate, like made-up words related to the Harry Potter world."
      ],
      "metadata": {
        "id": "8Pa6FKCZBmbI"
      }
    },
    {
      "cell_type": "markdown",
      "metadata": {
        "id": "rgoStd2KvFQN"
      },
      "source": [
        "We then define the function that builds the embedding matrix.\n",
        "\n",
        "The embedding matrix is stored inside a parameter of the tokenizer and will be passed later to the embedding layer in order to retrieve the embedding vectors.\n",
        "\n",
        "The function is called on the entire vocabulary each time it is updated with new words. In particular it checks if, in the pre-trained embedding model, a given word is present or not. If not so, the function generates a random vector with values in the bound [-0.05, 0.05] and same size of the choosen model. In the end the embedding vector is inserted into the matrix in the line corresponding to the index of that word in the vocabulary in order to match with the numeric input of the NN."
      ]
    },
    {
      "cell_type": "code",
      "source": [
        "def build_embedding_matrix(embedding_model: gensim.models.keyedvectors.KeyedVectors,\n",
        "                           embedding_dimension: int,\n",
        "                           word_to_idx: Dict[str, int],\n",
        "                           vocab_size: int,\n",
        "                           oov_terms: List[str]) -> np.ndarray:\n",
        "    \"\"\"\n",
        "    Builds the embedding matrix of a specific dataset given a pre-trained word embedding model\n",
        "\n",
        "    :param embedding_model: pre-trained word embedding model (gensim wrapper)\n",
        "    :param embedding dimension: fixed integer embedding dimension \n",
        "    :param word_to_idx: vocabulary map (word -> index) (dict)\n",
        "    :param vocab_size: size of the vocabulary\n",
        "    :param oov_terms: list of OOV terms (list)\n",
        "\n",
        "    :return\n",
        "        - embedding matrix that assigns a high dimensional vector to each word in the dataset specific vocabulary (shape |V| x d)\n",
        "    \"\"\"\n",
        "\n",
        "    embedding_matrix = np.zeros((vocab_size, embedding_dimension), dtype=np.float32)\n",
        "\n",
        "    for word, idx in tqdm(word_to_idx.items()):\n",
        "        # If the word is not in the vocabulary, associate a random embedding vector, and save it in the embedding matrix\n",
        "        try:\n",
        "            embedding_vector = embedding_model[word]\n",
        "        except (KeyError, TypeError):\n",
        "            embedding_vector = np.random.uniform(low=-0.05, high=0.05, size=embedding_dimension)\n",
        "\n",
        "        embedding_matrix[idx] = embedding_vector\n",
        "\n",
        "    return embedding_matrix\n",
        "\n",
        "# Testing\n",
        "embedding_matrix = build_embedding_matrix(embedding_model, embedding_dimension, word_to_idx, len(word_to_idx), oov_terms)\n",
        "# print(\"\\nEmbedding matrix shape: {}\".format(embedding_matrix.shape))"
      ],
      "metadata": {
        "colab": {
          "base_uri": "https://localhost:8080/"
        },
        "id": "xVZK-_gBK9HM",
        "outputId": "3f15812e-036c-47e0-db5a-5dde4383b94a"
      },
      "execution_count": 13,
      "outputs": [
        {
          "output_type": "stream",
          "name": "stderr",
          "text": [
            "100%|██████████| 15506/15506 [00:00<00:00, 202093.99it/s]\n"
          ]
        }
      ]
    },
    {
      "cell_type": "code",
      "source": [
        "class Tokenizer(object):\n",
        "    \"\"\" \n",
        "      A simple tokenizer that uses the functions: \n",
        "      - build_word_vocabulary\n",
        "      - check_OOV_terms\n",
        "      - build_embedding_matrix\n",
        "    \"\"\"\n",
        "\n",
        "    def __init__(self, build_embedding_matrix=False, embedding_dimension=None, embedding_model=None):\n",
        "        if build_embedding_matrix:\n",
        "            assert embedding_dimension is not None and type(embedding_dimension) == int\n",
        "\n",
        "        self.build_embedding_matrix = build_embedding_matrix\n",
        "        self.embedding_dimension = embedding_dimension\n",
        "        self.embedding_model = embedding_model\n",
        "\n",
        "        self.embedding_matrix = None\n",
        "        self.word_to_idx = None\n",
        "        self.idx_to_word = None\n",
        "\n",
        "    def build_vocab(self, data, **kwargs):\n",
        "        # First time with None -> create, otherwise update vocabulary\n",
        "        self.idx_to_word, self.word_to_idx, word_listing, _ = build_word_vocabulary(data, self.word_to_idx, self.idx_to_word)\n",
        "\n",
        "        if self.build_embedding_matrix:\n",
        "            \n",
        "            print('Checking OOV terms...')\n",
        "            self.oov_terms = check_OOV_terms(embedding_model=self.embedding_model,\n",
        "                                             word_listing=word_listing)\n",
        "\n",
        "            print('Building the embedding matrix...')\n",
        "            self.embedding_matrix = build_embedding_matrix(embedding_model=self.embedding_model,\n",
        "                                                           word_to_idx=self.word_to_idx,\n",
        "                                                           vocab_size=len(self.word_to_idx),        \n",
        "                                                           embedding_dimension=self.embedding_dimension,\n",
        "                                                           oov_terms=self.oov_terms)\n",
        "\n",
        "\n",
        "    def get_info(self):\n",
        "        return {\n",
        "            'build_embedding_matrix': self.build_embedding_matrix,\n",
        "            'embedding_dimension': self.embedding_dimension,\n",
        "            'embedding_matrix': self.embedding_matrix.shape if self.embedding_matrix is not None else self.embedding_matrix,\n",
        "            'embedding_model': self.embedding_model,\n",
        "            'vocab_size': len(self.word_to_idx),\n",
        "        }\n",
        "\n",
        "\n",
        "    def convert_words_to_ids(self, words):\n",
        "      return [self.word_to_idx[word] for word in words]\n",
        "\n",
        "    def convert_ids_to_words(self, ids):\n",
        "      return [self.idx_to_word[id] for id in ids] "
      ],
      "metadata": {
        "id": "BZYFVLAyLAhG"
      },
      "execution_count": 14,
      "outputs": []
    },
    {
      "cell_type": "markdown",
      "metadata": {
        "id": "Bca-yxLlv11O"
      },
      "source": [
        "Using the tokenizer we build incrementally the vocabulary and update the embedding matrix:"
      ]
    },
    {
      "cell_type": "code",
      "source": [
        "# Instantiate the tokenizer (V1)\n",
        "tokenizer = Tokenizer(build_embedding_matrix=True,\n",
        "                      embedding_dimension=embedding_dimension,\n",
        "                      embedding_model=embedding_model)\n",
        "\n",
        "# BUILDING V2 = V1 + train OOV\n",
        "tokenizer.build_vocab(train)\n",
        "print(f'Vocabulary size: {tokenizer.get_info()[\"vocab_size\"]}\\n')\n",
        "\n",
        "# BUILDING V3 = V2 + valid OOV\n",
        "tokenizer.build_vocab(valid)\n",
        "print(f'Vocabulary size: {tokenizer.get_info()[\"vocab_size\"]}\\n')\n",
        "\n",
        "# BUILDING V4 = V3 + test OOV\n",
        "tokenizer.build_vocab(test)\n",
        "print(f'\\nVocabulary size: {tokenizer.get_info()[\"vocab_size\"]}\\n')"
      ],
      "metadata": {
        "colab": {
          "base_uri": "https://localhost:8080/"
        },
        "id": "kBEVxBO8LCV8",
        "outputId": "8f12a09d-3373-40b3-e55e-f412469c2cd0"
      },
      "execution_count": 15,
      "outputs": [
        {
          "output_type": "stream",
          "name": "stderr",
          "text": [
            "100%|██████████| 9024/9024 [00:00<00:00, 150199.01it/s]\n",
            "100%|██████████| 9024/9024 [00:00<00:00, 200422.56it/s]\n"
          ]
        },
        {
          "output_type": "stream",
          "name": "stdout",
          "text": [
            "Checking OOV terms...\n",
            "Building the embedding matrix...\n"
          ]
        },
        {
          "output_type": "stream",
          "name": "stderr",
          "text": [
            "100%|██████████| 15257/15257 [00:00<00:00, 226015.68it/s]\n"
          ]
        },
        {
          "output_type": "stream",
          "name": "stdout",
          "text": [
            "Vocabulary size: 15257\n",
            "\n"
          ]
        },
        {
          "output_type": "stream",
          "name": "stderr",
          "text": [
            "100%|██████████| 238/238 [00:00<00:00, 142484.21it/s]\n",
            "100%|██████████| 238/238 [00:00<00:00, 152426.99it/s]\n"
          ]
        },
        {
          "output_type": "stream",
          "name": "stdout",
          "text": [
            "Checking OOV terms...\n",
            "Building the embedding matrix...\n"
          ]
        },
        {
          "output_type": "stream",
          "name": "stderr",
          "text": [
            "100%|██████████| 15377/15377 [00:00<00:00, 172511.43it/s]\n"
          ]
        },
        {
          "output_type": "stream",
          "name": "stdout",
          "text": [
            "Vocabulary size: 15377\n",
            "\n"
          ]
        },
        {
          "output_type": "stream",
          "name": "stderr",
          "text": [
            "100%|██████████| 237/237 [00:00<00:00, 75016.98it/s]\n",
            "100%|██████████| 237/237 [00:00<00:00, 102205.43it/s]\n"
          ]
        },
        {
          "output_type": "stream",
          "name": "stdout",
          "text": [
            "Checking OOV terms...\n",
            "Building the embedding matrix...\n"
          ]
        },
        {
          "output_type": "stream",
          "name": "stderr",
          "text": [
            "100%|██████████| 15506/15506 [00:00<00:00, 214232.37it/s]"
          ]
        },
        {
          "output_type": "stream",
          "name": "stdout",
          "text": [
            "\n",
            "Vocabulary size: 15506\n",
            "\n"
          ]
        },
        {
          "output_type": "stream",
          "name": "stderr",
          "text": [
            "\n"
          ]
        }
      ]
    },
    {
      "cell_type": "markdown",
      "metadata": {
        "id": "y1m8HYJRwiqJ"
      },
      "source": [
        "We also define two function to encode the stances into numbers (binary) and vice versa"
      ]
    },
    {
      "cell_type": "code",
      "source": [
        "def label2idx(label):\n",
        "  return {\n",
        "        'pro': 1,\n",
        "        'con': 0,\n",
        "        'None': 1 # We arbitrary decided that the stance of the main claim is pro\n",
        "  }[label]\n",
        "\n",
        "def idx2label(idx):\n",
        "  return {\n",
        "        1: 'pro',\n",
        "        0: 'con',\n",
        "  }[idx]"
      ],
      "metadata": {
        "id": "yqevIlu7qh_I"
      },
      "execution_count": 16,
      "outputs": []
    },
    {
      "cell_type": "markdown",
      "metadata": {
        "id": "JOEG_4L-w105"
      },
      "source": [
        "And we split the dataset into set for train/valid/test "
      ]
    },
    {
      "cell_type": "code",
      "source": [
        "# train\n",
        "claim_train = [sentence.split(\" \") for sentence in train['Claim'].values]\n",
        "claim_parent_train = [sentence.split(\" \") for sentence in train['Parent_claim'].values]\n",
        "parent_vote_train = train['Parent_vote'].values\n",
        "n_child_pro_train = train['Pro'].values\n",
        "n_child_con_train = train['Con'].values\n",
        "n_child_ratio_train = (n_child_pro_train + 1.0) / (n_child_con_train + 1.0)\n",
        "depth_train = train['Depth_norm'].values\n",
        "stance_train = train['Stance']\n",
        "y_train = train['Mean_vote']\n",
        "\n",
        "# valid\n",
        "claim_val = [sentence.split(\" \") for sentence in valid['Claim'].values]\n",
        "claim_parent_val = [sentence.split(\" \") for sentence in valid['Parent_claim'].values]\n",
        "parent_vote_val = valid['Parent_vote'].values\n",
        "n_child_pro_val = valid['Pro'].values\n",
        "n_child_con_val = valid['Con'].values\n",
        "n_child_ratio_val = (n_child_pro_val + 1.0) / (n_child_con_val + 1.0)\n",
        "depth_val = valid['Depth_norm'].values\n",
        "stance_val = valid['Stance']\n",
        "y_val = valid['Mean_vote']\n",
        "\n",
        "# test\n",
        "claim_test = [sentence.split(\" \") for sentence in test['Claim'].values]\n",
        "claim_parent_test = [sentence.split(\" \") for sentence in test['Parent_claim'].values]\n",
        "parent_vote_test = test['Parent_vote'].values\n",
        "n_child_pro_test = test['Pro'].values\n",
        "n_child_con_test = test['Con'].values\n",
        "n_child_ratio_test = (n_child_pro_test + 1.0) / (n_child_con_test + 1.0)\n",
        "depth_test = test['Depth_norm'].values\n",
        "stance_test = test['Stance']\n",
        "y_test = test['Mean_vote']"
      ],
      "metadata": {
        "id": "QbjUqyjbLLE0"
      },
      "execution_count": 17,
      "outputs": []
    },
    {
      "cell_type": "code",
      "source": [
        "idx_to_show =  7138 #@param {type:\"slider\", min:0, max:9023, step:1}\n",
        "print('Choosen claim of the training set:')\n",
        "print(claim_train[idx_to_show])\n",
        "print('Choosen parent claim of the training set:')\n",
        "print(claim_parent_train[idx_to_show])\n",
        "print('\\nChoosen stance of the training set:')\n",
        "print(stance_train[idx_to_show])\n",
        "print('\\nChoosen number of pro children of the training set:')\n",
        "print(n_child_pro_train[idx_to_show])\n",
        "print('\\nChoosen number of con children of the training set:')\n",
        "print(n_child_con_train[idx_to_show])\n",
        "print('\\nChoosen label of the training set:')\n",
        "print(y_train[idx_to_show])"
      ],
      "metadata": {
        "colab": {
          "base_uri": "https://localhost:8080/"
        },
        "id": "P7_uRdokLjcJ",
        "outputId": "26ebeb5b-7ac6-4b3f-b746-4e182f9f0af1"
      },
      "execution_count": 18,
      "outputs": [
        {
          "output_type": "stream",
          "name": "stdout",
          "text": [
            "Choosen claim of the training set:\n",
            "['the', 'capacity', 'for', 'harm', 'is', 'greater', 'when', 'magic', 'is', 'involved']\n",
            "Choosen parent claim of the training set:\n",
            "['would', 'we', 'like', 'to', 'live', 'in', 'the', 'world', 'of', 'harry', 'potter']\n",
            "\n",
            "Choosen stance of the training set:\n",
            "pro\n",
            "\n",
            "Choosen number of pro children of the training set:\n",
            "3\n",
            "\n",
            "Choosen number of con children of the training set:\n",
            "4\n",
            "\n",
            "Choosen label of the training set:\n",
            "1.5\n"
          ]
        }
      ]
    },
    {
      "cell_type": "markdown",
      "metadata": {
        "id": "hgFDZ6oCxe4u"
      },
      "source": [
        "Finally we encode the inputs of our model to do the evaluation steps.\n",
        "\n",
        "We accomplish this task using two functions that convert textual features and stances into a numerical format using the previously defined tokenizer and functions.\n",
        "\n",
        "The function also pads claims and evidences using zeroes (the encoding of the `-PAD-` string defined in the initialization of the vocabularies) so that they all have the same size.\n",
        "\n",
        "The maximum length of the sequences is determined by the training set in order to emulate a real scenario where the test set can also have longer sequences than the ones used to train the network. In case a claim or an evidence exceeds that dimension, it is truncated."
      ]
    },
    {
      "cell_type": "code",
      "source": [
        "def convert_text(texts, tokenizer, is_training=False, max_seq_length=None):\n",
        "    \"\"\"\n",
        "    Converts input text sequences using a given tokenizer\n",
        "\n",
        "    :param texts: either a list or numpy ndarray of strings\n",
        "    :param tokenizer: an instantiated tokenizer\n",
        "    :param is_training: whether input texts are from the training split or not\n",
        "    :param max_seq_length: the max token sequence previously computed with\n",
        "    training texts.\n",
        "\n",
        "    :return\n",
        "        text_ids: a nested list on token indices\n",
        "        max_seq_length: the max token sequence previously computed with\n",
        "        training texts.\n",
        "    \"\"\"\n",
        "\n",
        "    text_ids = [tokenizer.convert_words_to_ids(sentence) for sentence in texts]\n",
        "\n",
        "    # Padding\n",
        "    if is_training:\n",
        "        max_seq_length = int(np.quantile([len(seq) for seq in text_ids], 0.99))\n",
        "    else:\n",
        "        assert max_seq_length is not None\n",
        "\n",
        "    text_ids = [seq + [0] * (max_seq_length - len(seq)) for seq in text_ids]\n",
        "    text_ids = np.array([seq[:max_seq_length] for seq in text_ids])\n",
        "\n",
        "    if is_training:\n",
        "        return text_ids, max_seq_length\n",
        "    else:\n",
        "        return text_ids"
      ],
      "metadata": {
        "id": "9J5MPmYFL9mF"
      },
      "execution_count": 19,
      "outputs": []
    },
    {
      "cell_type": "markdown",
      "metadata": {
        "id": "YyIOZu3oBKOF"
      },
      "source": [
        "Convert claim"
      ]
    },
    {
      "cell_type": "code",
      "source": [
        "# Train\n",
        "claim_train, max_tokens = convert_text(claim_train, tokenizer, True)\n",
        "print(\"Max sequence length: {}\\n\".format(max_tokens))\n",
        "print('X train shape: ', claim_train.shape)\n",
        "\n",
        "# Val\n",
        "claim_val = convert_text(claim_val, tokenizer, False, max_tokens)\n",
        "print('X val shape: ', claim_val.shape)\n",
        "\n",
        "# Test\n",
        "claim_test = convert_text(claim_test, tokenizer, False, max_tokens)\n",
        "print('X test shape: ', claim_test.shape)"
      ],
      "metadata": {
        "id": "aWVzyQW2L_JO",
        "outputId": "f5fc32e4-2243-43fa-f7dd-191edb6e290b",
        "colab": {
          "base_uri": "https://localhost:8080/"
        }
      },
      "execution_count": 20,
      "outputs": [
        {
          "output_type": "stream",
          "name": "stdout",
          "text": [
            "Max sequence length: 76\n",
            "\n",
            "X train shape:  (9024, 76)\n",
            "X val shape:  (238, 76)\n",
            "X test shape:  (237, 76)\n"
          ]
        }
      ]
    },
    {
      "cell_type": "markdown",
      "source": [
        "Convert parent claim"
      ],
      "metadata": {
        "id": "gQat-_apGeuH"
      }
    },
    {
      "cell_type": "code",
      "source": [
        "# Train\n",
        "claim_parent_train = convert_text(claim_parent_train, tokenizer, False, max_tokens)\n",
        "print(\"Max sequence length: {}\\n\".format(max_tokens))\n",
        "print('X train shape: ', claim_parent_train.shape)\n",
        "\n",
        "# Val\n",
        "claim_parent_val = convert_text(claim_parent_val, tokenizer, False, max_tokens)\n",
        "print('X val shape: ', claim_parent_val.shape)\n",
        "\n",
        "# Test\n",
        "claim_parent_test = convert_text(claim_parent_test, tokenizer, False, max_tokens)\n",
        "print('X test shape: ', claim_parent_test.shape)"
      ],
      "metadata": {
        "colab": {
          "base_uri": "https://localhost:8080/"
        },
        "id": "k5EYVOL7zRAx",
        "outputId": "50c21f18-eb03-46b0-8f1b-00e248561ae9"
      },
      "execution_count": 21,
      "outputs": [
        {
          "output_type": "stream",
          "name": "stdout",
          "text": [
            "Max sequence length: 76\n",
            "\n",
            "X train shape:  (9024, 76)\n",
            "X val shape:  (238, 76)\n",
            "X test shape:  (237, 76)\n"
          ]
        }
      ]
    },
    {
      "cell_type": "markdown",
      "source": [
        "Convert stance"
      ],
      "metadata": {
        "id": "UHlp21ZfFowt"
      }
    },
    {
      "cell_type": "code",
      "source": [
        "# Train\n",
        "stance_train = stance_train.apply(label2idx).values\n",
        "print('Y train shape: ', stance_train.shape)\n",
        "\n",
        "# Val\n",
        "stance_val = stance_val.apply(label2idx).values\n",
        "print('Y valid shape: ', stance_val.shape)\n",
        "\n",
        "# Test\n",
        "stance_test = stance_test.apply(label2idx).values\n",
        "print('Y test shape: ', stance_test.shape)"
      ],
      "metadata": {
        "colab": {
          "base_uri": "https://localhost:8080/"
        },
        "id": "edQzJQR5Fs42",
        "outputId": "8e7c163a-5fad-43fe-bd5e-be3b866ba96c"
      },
      "execution_count": 22,
      "outputs": [
        {
          "output_type": "stream",
          "name": "stdout",
          "text": [
            "Y train shape:  (9024,)\n",
            "Y valid shape:  (238,)\n",
            "Y test shape:  (237,)\n"
          ]
        }
      ]
    },
    {
      "cell_type": "code",
      "source": [
        "idx_to_show =  1043 #@param {type:\"slider\", min:0, max:9023, step:1}\n",
        "print('Choosen claim of the training set:')\n",
        "print(claim_train[idx_to_show])\n",
        "print('Choosen parent claim of the training set:')\n",
        "print(claim_parent_train[idx_to_show])\n",
        "print('\\nChoosen stance of the training set:')\n",
        "print(stance_train[idx_to_show])\n",
        "print('\\nChoosen number of pro children of the training set:')\n",
        "print(n_child_pro_train[idx_to_show])\n",
        "print('\\nChoosen number of con children of the training set:')\n",
        "print(n_child_con_train[idx_to_show])\n",
        "print('\\nChoosen label of the training set:')\n",
        "print(y_train[idx_to_show])"
      ],
      "metadata": {
        "colab": {
          "base_uri": "https://localhost:8080/"
        },
        "id": "FecYMJp5OKux",
        "outputId": "09bdfc6f-d60c-4357-f970-10596cdd7818"
      },
      "execution_count": 23,
      "outputs": [
        {
          "output_type": "stream",
          "name": "stdout",
          "text": [
            "Choosen claim of the training set:\n",
            "[2823  139 5343   10  182  637    5 4159 4160   55  863 4365   19 3265\n",
            " 3515  182 2842    0    0    0    0    0    0    0    0    0    0    0\n",
            "    0    0    0    0    0    0    0    0    0    0    0    0    0    0\n",
            "    0    0    0    0    0    0    0    0    0    0    0    0    0    0\n",
            "    0    0    0    0    0    0    0    0    0    0    0    0    0    0\n",
            "    0    0    0    0    0    0]\n",
            "Choosen parent claim of the training set:\n",
            "[ 182  133  607   32 1961  433   15  657 1977    0    0    0    0    0\n",
            "    0    0    0    0    0    0    0    0    0    0    0    0    0    0\n",
            "    0    0    0    0    0    0    0    0    0    0    0    0    0    0\n",
            "    0    0    0    0    0    0    0    0    0    0    0    0    0    0\n",
            "    0    0    0    0    0    0    0    0    0    0    0    0    0    0\n",
            "    0    0    0    0    0    0]\n",
            "\n",
            "Choosen stance of the training set:\n",
            "0\n",
            "\n",
            "Choosen number of pro children of the training set:\n",
            "1\n",
            "\n",
            "Choosen number of con children of the training set:\n",
            "0\n",
            "\n",
            "Choosen label of the training set:\n",
            "2.0\n"
          ]
        }
      ]
    },
    {
      "cell_type": "markdown",
      "source": [
        "# Neural Networks approach"
      ],
      "metadata": {
        "id": "spjahnXkiv3H"
      }
    },
    {
      "cell_type": "markdown",
      "source": [
        "## Model definition and training"
      ],
      "metadata": {
        "id": "_8paF7IyO4n4"
      }
    },
    {
      "cell_type": "markdown",
      "source": [
        "### Embedding strategy"
      ],
      "metadata": {
        "id": "uisSMlGG8xxr"
      }
    },
    {
      "cell_type": "code",
      "source": [
        "class RNNSentenceEmbedding(tf.keras.layers.Layer):\n",
        "    \"\"\"\n",
        "    Create a recurrent sentence embedding layer that using a bidirectional LSTM\n",
        "\n",
        "    :param embedding_dim: the dimension of the embedding vector\n",
        "    :param average_all_outputs: if True the entire sequence of the bidirectional\n",
        "      LSTM is returned and then all the output vectors are averaged, otherwise\n",
        "      only the last output is returned\n",
        "\n",
        "    :return\n",
        "      the sentence embedding vector\n",
        "    \"\"\"\n",
        "    def __init__(self, embedding_dim, average_all_outputs=False, **kwargs):\n",
        "        super(RNNSentenceEmbedding, self).__init__(**kwargs)\n",
        "        self.average_all_outputs = average_all_outputs\n",
        "        self.lstm = Bidirectional(LSTM(embedding_dim, return_sequences=self.average_all_outputs))\n",
        "        \n",
        "    def call(self, inputs, average=False): \n",
        "        if self.average_all_outputs:\n",
        "            return tf.reduce_mean(self.lstm(inputs), axis=1)\n",
        "        else:\n",
        "            return self.lstm(inputs)"
      ],
      "metadata": {
        "id": "l6hyG-H9TTio"
      },
      "execution_count": 24,
      "outputs": []
    },
    {
      "cell_type": "markdown",
      "source": [
        "### Concatenation strategy"
      ],
      "metadata": {
        "id": "W8-ruvU880a1"
      }
    },
    {
      "cell_type": "code",
      "source": [
        "class ConcatationMerge(tf.keras.layers.Layer):\n",
        "  def call(self, claim_sentence_embedding, evidence_sentence_embedding, **kwargs):\n",
        "      cosine_similarity = Dot(axes=1, normalize=True)([claim_sentence_embedding, evidence_sentence_embedding])\n",
        "      merged = Concatenate()([claim_sentence_embedding, evidence_sentence_embedding])\n",
        "      return Concatenate()([merged, cosine_similarity])"
      ],
      "metadata": {
        "id": "GQ8cZlDM2brI"
      },
      "execution_count": null,
      "outputs": []
    },
    {
      "cell_type": "markdown",
      "source": [
        "### Training functions"
      ],
      "metadata": {
        "id": "Yk7M8VHi83xz"
      }
    },
    {
      "cell_type": "code",
      "source": [
        "word_embedding_info = {\n",
        "      \"output_dim\": embedding_dimension,\n",
        "      \"input_dim\": tokenizer.get_info()['vocab_size'],\n",
        "      \"input_length\": max_tokens,\n",
        "      \"weights\": tokenizer.embedding_matrix if tokenizer.embedding_matrix is None else [tokenizer.embedding_matrix],\n",
        "      \"mask_zero\": False,\n",
        "      \"trainable\": False\n",
        "    }"
      ],
      "metadata": {
        "id": "lslDmAmIOzsk"
      },
      "execution_count": null,
      "outputs": []
    },
    {
      "cell_type": "code",
      "source": [
        "training_info = {\n",
        "    'verbose': 1,\n",
        "    'epochs': 100,\n",
        "    'batch_size': 64,\n",
        "    'callbacks': [\n",
        "      keras.callbacks.EarlyStopping(monitor='val_loss',\n",
        "                                    mode='min',\n",
        "                                    patience=5, \n",
        "                                    restore_best_weights=True)]\n",
        "}"
      ],
      "metadata": {
        "id": "mkIi-VGVPBYu"
      },
      "execution_count": null,
      "outputs": []
    },
    {
      "cell_type": "code",
      "source": [
        "#Plots some graphs on training history\n",
        "def show_history(history: keras.callbacks.History):\n",
        "    \"\"\"\n",
        "    Shows training history data stored by the History Keras callback\n",
        "\n",
        "    :param history: History Keras callback\n",
        "    \"\"\"\n",
        "\n",
        "    history_data = history.history\n",
        "    print(\"Displaying the following history keys: \", history_data.keys())\n",
        "\n",
        "    for key, value in history_data.items():\n",
        "        if not key.startswith('val'):\n",
        "            fig, ax = plt.subplots(1, 1)\n",
        "            ax.set_title(key)\n",
        "            ax.plot(value)\n",
        "            if 'val_{}'.format(key) in history_data:\n",
        "                ax.plot(history_data['val_{}'.format(key)])\n",
        "            else:\n",
        "                print(\"Couldn't find validation values for metric: \", key)\n",
        "\n",
        "            ax.set_ylabel(key)\n",
        "            ax.set_xlabel('epoch')\n",
        "            ax.legend(['train', 'val'], loc='best')\n",
        "\n",
        "    plt.show()\n",
        "\n",
        "#Train the model\n",
        "def train_model(model: keras.Model,\n",
        "                x_train: np.ndarray,\n",
        "                y_train: np.ndarray,\n",
        "                x_val: np.ndarray,\n",
        "                y_val: np.ndarray,\n",
        "                training_info: Dict):\n",
        "    \"\"\"\n",
        "    Training routine for the Keras model.\n",
        "    At the end of the training, retrieved History data is shown.\n",
        "\n",
        "    :param model: Keras built model\n",
        "    :param x_train: training data in np.ndarray format\n",
        "    :param y_train: training labels in np.ndarray format\n",
        "    :param x_val: validation data in np.ndarray format\n",
        "    :param y_val: validation labels in np.ndarray format\n",
        "    :param training_info: dictionary storing model fit() argument information\n",
        "\n",
        "    :return\n",
        "        model: trained Keras model\n",
        "    \"\"\"\n",
        "    print(\"Start training! \\nParameters: {}\".format(training_info))\n",
        "    history = model.fit(x=x_train, y=y_train,\n",
        "                        validation_data=(x_val, y_val),\n",
        "                        **training_info)\n",
        "    print(\"Training completed! Showing history...\")\n",
        "\n",
        "    show_history(history)\n",
        "\n",
        "    return model"
      ],
      "metadata": {
        "id": "ELMDlOMoQGSf"
      },
      "execution_count": null,
      "outputs": []
    },
    {
      "cell_type": "markdown",
      "source": [
        "### Models implementation"
      ],
      "metadata": {
        "id": "S04SMoEr86Nh"
      }
    },
    {
      "cell_type": "code",
      "source": [
        "from tensorflow.keras.layers import Input, Embedding, Bidirectional, LSTM, Dot, Concatenate, Add, Average, Dense, Dropout, Flatten"
      ],
      "metadata": {
        "id": "Ca5_ojgtT0Pl"
      },
      "execution_count": null,
      "outputs": []
    },
    {
      "cell_type": "markdown",
      "source": [
        "#### Model 0\n",
        "In this model use only the claim to predict its impact"
      ],
      "metadata": {
        "id": "3kULa01DDP1g"
      }
    },
    {
      "cell_type": "code",
      "source": [
        "def create_model0(sentence_embedding, merging_strategy):\n",
        "    \n",
        "    # Claim input embedding\n",
        "    claim_input = Input(shape=(max_tokens,), name=\"claim_input\")\n",
        "    claim_word_embedding = Embedding(**word_embedding_info, name=\"claim_word_embedding\")(claim_input)\n",
        "    claim_sentence_embedding = sentence_embedding(claim_word_embedding)\n",
        "\n",
        "    # Regressor\n",
        "    dense_layer = Dense(50, activation=\"relu\", name=\"dense\")(claim_sentence_embedding)\n",
        "    output_class = Dense(1, activation=\"relu\", name=\"regressor\")(dense_layer)\n",
        "\n",
        "    model = keras.Model(inputs=claim_input, outputs=output_class)\n",
        "\n",
        "    model.summary()\n",
        "\n",
        "    # Compile\n",
        "    model.compile(loss='mae', metrics=['mae'],\n",
        "                  optimizer=keras.optimizers.Adam(1e-4))\n",
        "\n",
        "    return model"
      ],
      "metadata": {
        "id": "5Qh_phALEJfF"
      },
      "execution_count": null,
      "outputs": []
    },
    {
      "cell_type": "code",
      "source": [
        "model0 = create_model0(sentence_embedding=RNNSentenceEmbedding(embedding_dimension, False, name='sentence_embedding'), \n",
        "                       merging_strategy=ConcatationMerge(name=\"merging_strategy\"))\n",
        "\n",
        "model0 = train_model(model=model0, x_train=claim_train, y_train=y_train,\n",
        "                    x_val=claim_val, y_val=y_val, training_info=training_info)"
      ],
      "metadata": {
        "colab": {
          "base_uri": "https://localhost:8080/",
          "height": 1000
        },
        "id": "WiAmQoQCEVq1",
        "outputId": "d000406f-7bd3-4d7a-a968-92c2764fbcfa"
      },
      "execution_count": null,
      "outputs": [
        {
          "output_type": "stream",
          "name": "stdout",
          "text": [
            "Model: \"model\"\n",
            "_________________________________________________________________\n",
            " Layer (type)                Output Shape              Param #   \n",
            "=================================================================\n",
            " claim_input (InputLayer)    [(None, 76)]              0         \n",
            "                                                                 \n",
            " claim_word_embedding (Embed  (None, 76, 50)           775300    \n",
            " ding)                                                           \n",
            "                                                                 \n",
            " sentence_embedding (RNNSent  (None, 100)              40400     \n",
            " enceEmbedding)                                                  \n",
            "                                                                 \n",
            " dense (Dense)               (None, 50)                5050      \n",
            "                                                                 \n",
            " regressor (Dense)           (None, 1)                 51        \n",
            "                                                                 \n",
            "=================================================================\n",
            "Total params: 820,801\n",
            "Trainable params: 45,501\n",
            "Non-trainable params: 775,300\n",
            "_________________________________________________________________\n",
            "Start training! \n",
            "Parameters: {'verbose': 1, 'epochs': 100, 'batch_size': 64, 'callbacks': [<keras.callbacks.EarlyStopping object at 0x7fc38f405750>]}\n",
            "Epoch 1/100\n",
            "141/141 [==============================] - 12s 45ms/step - loss: 1.2311 - mae: 1.2311 - val_loss: 0.5322 - val_mae: 0.5322\n",
            "Epoch 2/100\n",
            "141/141 [==============================] - 5s 39ms/step - loss: 0.5539 - mae: 0.5539 - val_loss: 0.5170 - val_mae: 0.5170\n",
            "Epoch 3/100\n",
            "141/141 [==============================] - 5s 38ms/step - loss: 0.5453 - mae: 0.5453 - val_loss: 0.5083 - val_mae: 0.5083\n",
            "Epoch 4/100\n",
            "141/141 [==============================] - 5s 38ms/step - loss: 0.5407 - mae: 0.5407 - val_loss: 0.5019 - val_mae: 0.5019\n",
            "Epoch 5/100\n",
            "141/141 [==============================] - 5s 38ms/step - loss: 0.5393 - mae: 0.5393 - val_loss: 0.4970 - val_mae: 0.4970\n",
            "Epoch 6/100\n",
            "141/141 [==============================] - 5s 38ms/step - loss: 0.5347 - mae: 0.5347 - val_loss: 0.4933 - val_mae: 0.4933\n",
            "Epoch 7/100\n",
            "141/141 [==============================] - 5s 39ms/step - loss: 0.5326 - mae: 0.5326 - val_loss: 0.4926 - val_mae: 0.4926\n",
            "Epoch 8/100\n",
            "141/141 [==============================] - 5s 38ms/step - loss: 0.5309 - mae: 0.5309 - val_loss: 0.4887 - val_mae: 0.4887\n",
            "Epoch 9/100\n",
            "141/141 [==============================] - 5s 38ms/step - loss: 0.5306 - mae: 0.5306 - val_loss: 0.4932 - val_mae: 0.4932\n",
            "Epoch 10/100\n",
            "141/141 [==============================] - 5s 38ms/step - loss: 0.5293 - mae: 0.5293 - val_loss: 0.4894 - val_mae: 0.4894\n",
            "Epoch 11/100\n",
            "141/141 [==============================] - 5s 38ms/step - loss: 0.5280 - mae: 0.5280 - val_loss: 0.4917 - val_mae: 0.4917\n",
            "Epoch 12/100\n",
            "141/141 [==============================] - 5s 38ms/step - loss: 0.5267 - mae: 0.5267 - val_loss: 0.4889 - val_mae: 0.4889\n",
            "Epoch 13/100\n",
            "141/141 [==============================] - 5s 38ms/step - loss: 0.5256 - mae: 0.5256 - val_loss: 0.4906 - val_mae: 0.4906\n",
            "Training completed! Showing history...\n",
            "Displaying the following history keys:  dict_keys(['loss', 'mae', 'val_loss', 'val_mae'])\n"
          ]
        },
        {
          "output_type": "display_data",
          "data": {
            "image/png": "[encoded data removed]",
            "text/plain": [
              "<Figure size 720x360 with 1 Axes>"
            ]
          },
          "metadata": {
            "needs_background": "light"
          }
        },
        {
          "output_type": "display_data",
          "data": {
            "image/png": "[encoded data removed]",
            "text/plain": [
              "<Figure size 720x360 with 1 Axes>"
            ]
          },
          "metadata": {
            "needs_background": "light"
          }
        }
      ]
    },
    {
      "cell_type": "markdown",
      "source": [
        "#### Model 1\n",
        "In this model we merge the embedding of the selected **claim** with the embedding of the **parent claim**"
      ],
      "metadata": {
        "id": "9e-y5zGIHBhw"
      }
    },
    {
      "cell_type": "code",
      "source": [
        "def create_model1(sentence_embedding, merging_strategy):\n",
        "    \n",
        "    # Claim input embedding\n",
        "    claim_input = Input(shape=(max_tokens,), name=\"claim_input\")\n",
        "    claim_word_embedding = Embedding(**word_embedding_info, name=\"claim_word_embedding\")(claim_input)\n",
        "    claim_sentence_embedding = sentence_embedding(claim_word_embedding)\n",
        "\n",
        "    claim_parent_input = Input(shape=(max_tokens,), name='claim_parent_input')\n",
        "    claim_parent_word_embedding = Embedding(**word_embedding_info, name=\"claim_parent_word_embedding\")(claim_parent_input)\n",
        "    claim_parent_sentence_embedding = sentence_embedding(claim_parent_word_embedding)\n",
        "\n",
        "    # Merging\n",
        "    merge_layer = merging_strategy(claim_sentence_embedding, claim_parent_sentence_embedding)\n",
        "\n",
        "    # Regressor\n",
        "    dense_layer = Dense(50, activation=\"relu\", name=\"dense\")(merge_layer)\n",
        "    output_class = Dense(1, activation=\"relu\", name=\"regressor\")(dense_layer)\n",
        "\n",
        "    model = keras.Model(inputs=[claim_input, claim_parent_input], outputs=output_class)\n",
        "\n",
        "    model.summary()\n",
        "\n",
        "    # Compile\n",
        "    model.compile(loss='mae', metrics=['mae'],\n",
        "                  optimizer=keras.optimizers.Adam(1e-4))\n",
        "\n",
        "    return model"
      ],
      "metadata": {
        "id": "roHVSASm9Dag"
      },
      "execution_count": null,
      "outputs": []
    },
    {
      "cell_type": "code",
      "source": [
        "model1 = create_model1(sentence_embedding=RNNSentenceEmbedding(embedding_dimension, False, name='sentence_embedding'), \n",
        "                       merging_strategy=ConcatationMerge(name=\"merging_strategy\"))\n",
        "\n",
        "model1 = train_model(model=model1, x_train=[claim_train, claim_parent_train], y_train=y_train,\n",
        "                    x_val=[claim_val, claim_parent_val], y_val=y_val, training_info=training_info)"
      ],
      "metadata": {
        "colab": {
          "base_uri": "https://localhost:8080/",
          "height": 1000
        },
        "id": "QBntej4rDla1",
        "outputId": "b0f31b87-bd1c-42de-bf8d-07957c852c99"
      },
      "execution_count": null,
      "outputs": [
        {
          "output_type": "stream",
          "name": "stdout",
          "text": [
            "Model: \"model_1\"\n",
            "__________________________________________________________________________________________________\n",
            " Layer (type)                   Output Shape         Param #     Connected to                     \n",
            "==================================================================================================\n",
            " claim_input (InputLayer)       [(None, 76)]         0           []                               \n",
            "                                                                                                  \n",
            " claim_parent_input (InputLayer  [(None, 76)]        0           []                               \n",
            " )                                                                                                \n",
            "                                                                                                  \n",
            " claim_word_embedding (Embeddin  (None, 76, 50)      775300      ['claim_input[0][0]']            \n",
            " g)                                                                                               \n",
            "                                                                                                  \n",
            " claim_parent_word_embedding (E  (None, 76, 50)      775300      ['claim_parent_input[0][0]']     \n",
            " mbedding)                                                                                        \n",
            "                                                                                                  \n",
            " sentence_embedding (RNNSentenc  (None, 100)         40400       ['claim_word_embedding[0][0]',   \n",
            " eEmbedding)                                                      'claim_parent_word_embedding[0][\n",
            "                                                                 0]']                             \n",
            "                                                                                                  \n",
            " merging_strategy (ConcatationM  (None, 201)         0           ['sentence_embedding[0][0]',     \n",
            " erge)                                                            'sentence_embedding[1][0]']     \n",
            "                                                                                                  \n",
            " dense (Dense)                  (None, 50)           10100       ['merging_strategy[0][0]']       \n",
            "                                                                                                  \n",
            " regressor (Dense)              (None, 1)            51          ['dense[0][0]']                  \n",
            "                                                                                                  \n",
            "==================================================================================================\n",
            "Total params: 1,601,151\n",
            "Trainable params: 50,551\n",
            "Non-trainable params: 1,550,600\n",
            "__________________________________________________________________________________________________\n",
            "Start training! \n",
            "Parameters: {'verbose': 1, 'epochs': 100, 'batch_size': 64, 'callbacks': [<keras.callbacks.EarlyStopping object at 0x7fc38f405750>]}\n",
            "Epoch 1/100\n",
            "141/141 [==============================] - 19s 92ms/step - loss: 1.3651 - mae: 1.3651 - val_loss: 0.5324 - val_mae: 0.5324\n",
            "Epoch 2/100\n",
            "141/141 [==============================] - 11s 80ms/step - loss: 0.5526 - mae: 0.5526 - val_loss: 0.5193 - val_mae: 0.5193\n",
            "Epoch 3/100\n",
            "141/141 [==============================] - 11s 80ms/step - loss: 0.5434 - mae: 0.5434 - val_loss: 0.5097 - val_mae: 0.5097\n",
            "Epoch 4/100\n",
            "141/141 [==============================] - 11s 81ms/step - loss: 0.5383 - mae: 0.5383 - val_loss: 0.5041 - val_mae: 0.5041\n",
            "Epoch 5/100\n",
            "141/141 [==============================] - 11s 81ms/step - loss: 0.5344 - mae: 0.5344 - val_loss: 0.4990 - val_mae: 0.4990\n",
            "Epoch 6/100\n",
            "141/141 [==============================] - 11s 80ms/step - loss: 0.5321 - mae: 0.5321 - val_loss: 0.4984 - val_mae: 0.4984\n",
            "Epoch 7/100\n",
            "141/141 [==============================] - 11s 80ms/step - loss: 0.5307 - mae: 0.5307 - val_loss: 0.4943 - val_mae: 0.4943\n",
            "Epoch 8/100\n",
            "141/141 [==============================] - 11s 80ms/step - loss: 0.5300 - mae: 0.5300 - val_loss: 0.4924 - val_mae: 0.4924\n",
            "Epoch 9/100\n",
            "141/141 [==============================] - 11s 80ms/step - loss: 0.5270 - mae: 0.5270 - val_loss: 0.4901 - val_mae: 0.4901\n",
            "Epoch 10/100\n",
            "141/141 [==============================] - 11s 80ms/step - loss: 0.5266 - mae: 0.5266 - val_loss: 0.4895 - val_mae: 0.4895\n",
            "Epoch 11/100\n",
            "141/141 [==============================] - 11s 81ms/step - loss: 0.5243 - mae: 0.5243 - val_loss: 0.4893 - val_mae: 0.4893\n",
            "Epoch 12/100\n",
            "141/141 [==============================] - 11s 81ms/step - loss: 0.5226 - mae: 0.5226 - val_loss: 0.4917 - val_mae: 0.4917\n",
            "Epoch 13/100\n",
            "141/141 [==============================] - 11s 81ms/step - loss: 0.5217 - mae: 0.5217 - val_loss: 0.4873 - val_mae: 0.4873\n",
            "Epoch 14/100\n",
            "141/141 [==============================] - 11s 80ms/step - loss: 0.5204 - mae: 0.5204 - val_loss: 0.4869 - val_mae: 0.4869\n",
            "Epoch 15/100\n",
            "141/141 [==============================] - 11s 80ms/step - loss: 0.5188 - mae: 0.5188 - val_loss: 0.4865 - val_mae: 0.4865\n",
            "Epoch 16/100\n",
            "141/141 [==============================] - 11s 80ms/step - loss: 0.5174 - mae: 0.5174 - val_loss: 0.4870 - val_mae: 0.4870\n",
            "Epoch 17/100\n",
            "141/141 [==============================] - 11s 80ms/step - loss: 0.5159 - mae: 0.5159 - val_loss: 0.4857 - val_mae: 0.4857\n",
            "Epoch 18/100\n",
            "141/141 [==============================] - 11s 80ms/step - loss: 0.5144 - mae: 0.5144 - val_loss: 0.4856 - val_mae: 0.4856\n",
            "Epoch 19/100\n",
            "141/141 [==============================] - 11s 80ms/step - loss: 0.5135 - mae: 0.5135 - val_loss: 0.4888 - val_mae: 0.4888\n",
            "Epoch 20/100\n",
            "141/141 [==============================] - 11s 80ms/step - loss: 0.5127 - mae: 0.5127 - val_loss: 0.4886 - val_mae: 0.4886\n",
            "Epoch 21/100\n",
            "141/141 [==============================] - 11s 80ms/step - loss: 0.5119 - mae: 0.5119 - val_loss: 0.4847 - val_mae: 0.4847\n",
            "Epoch 22/100\n",
            "141/141 [==============================] - 11s 80ms/step - loss: 0.5108 - mae: 0.5108 - val_loss: 0.4856 - val_mae: 0.4856\n",
            "Epoch 23/100\n",
            "141/141 [==============================] - 11s 80ms/step - loss: 0.5103 - mae: 0.5103 - val_loss: 0.4884 - val_mae: 0.4884\n",
            "Epoch 24/100\n",
            "141/141 [==============================] - 11s 80ms/step - loss: 0.5084 - mae: 0.5084 - val_loss: 0.4903 - val_mae: 0.4903\n",
            "Epoch 25/100\n",
            "141/141 [==============================] - 11s 80ms/step - loss: 0.5073 - mae: 0.5073 - val_loss: 0.4835 - val_mae: 0.4835\n",
            "Epoch 26/100\n",
            "141/141 [==============================] - 11s 80ms/step - loss: 0.5081 - mae: 0.5081 - val_loss: 0.4850 - val_mae: 0.4850\n",
            "Epoch 27/100\n",
            "141/141 [==============================] - 11s 81ms/step - loss: 0.5051 - mae: 0.5051 - val_loss: 0.4883 - val_mae: 0.4883\n",
            "Epoch 28/100\n",
            "141/141 [==============================] - 11s 81ms/step - loss: 0.5045 - mae: 0.5045 - val_loss: 0.4962 - val_mae: 0.4962\n",
            "Epoch 29/100\n",
            "141/141 [==============================] - 11s 81ms/step - loss: 0.5029 - mae: 0.5029 - val_loss: 0.4845 - val_mae: 0.4845\n",
            "Epoch 30/100\n",
            "141/141 [==============================] - 11s 80ms/step - loss: 0.5026 - mae: 0.5026 - val_loss: 0.4867 - val_mae: 0.4867\n",
            "Training completed! Showing history...\n",
            "Displaying the following history keys:  dict_keys(['loss', 'mae', 'val_loss', 'val_mae'])\n"
          ]
        },
        {
          "output_type": "display_data",
          "data": {
            "image/png": "[encoded data removed]",
            "text/plain": [
              "<Figure size 720x360 with 1 Axes>"
            ]
          },
          "metadata": {
            "needs_background": "light"
          }
        },
        {
          "output_type": "display_data",
          "data": {
            "image/png": "[encoded data removed]",
            "text/plain": [
              "<Figure size 720x360 with 1 Axes>"
            ]
          },
          "metadata": {
            "needs_background": "light"
          }
        }
      ]
    },
    {
      "cell_type": "markdown",
      "source": [
        "#### Model 2\n",
        "In this model we merge the embedding of the selected **claim** with the embedding of the **parent claim** and then concatenate the claim **stance** and the **impact of the parent** because we thought that if the parent has a bad impact, the current claim would have higher impact if it has stance Con, vice-versa, if the parent has an high impact, if the current claim stance is Pro then it would have high impact too."
      ],
      "metadata": {
        "id": "9Vc1FS7bE8Pv"
      }
    },
    {
      "cell_type": "code",
      "source": [
        "def create_model2(sentence_embedding, merging_strategy):\n",
        "    \n",
        "    # Claim input embedding\n",
        "    claim_input = Input(shape=(max_tokens,), name=\"claim_input\")\n",
        "    claim_word_embedding = Embedding(**word_embedding_info, name=\"claim_word_embedding\")(claim_input)\n",
        "    claim_sentence_embedding = sentence_embedding(claim_word_embedding)\n",
        "\n",
        "    claim_parent_input = Input(shape=(max_tokens,), name='claim_parent_input')\n",
        "    claim_parent_word_embedding = Embedding(**word_embedding_info, name=\"claim_parent_word_embedding\")(claim_parent_input)\n",
        "    claim_parent_sentence_embedding = sentence_embedding(claim_parent_word_embedding)\n",
        "\n",
        "    # Merging\n",
        "    merge_layer = merging_strategy(claim_sentence_embedding, claim_parent_sentence_embedding)\n",
        "\n",
        "    # Claim stance input\n",
        "    stance_input = Input(shape=(1,), name='stance_input')\n",
        "\n",
        "    # Parent vote input\n",
        "    parent_vote_input = Input(shape=(1,), name='parent_vote_input')\n",
        "\n",
        "    # Concatenation\n",
        "    concatenation_layer = Concatenate()([merge_layer, stance_input, parent_vote_input])\n",
        "\n",
        "    # Regressor\n",
        "    dense_layer = Dense(50, activation=\"relu\", name=\"dense\")(concatenation_layer)\n",
        "    output_class = Dense(1, activation=\"relu\", name=\"regressor\")(dense_layer)\n",
        "\n",
        "    model = keras.Model(inputs=[claim_input, claim_parent_input, stance_input, parent_vote_input], outputs=output_class)\n",
        "\n",
        "    model.summary()\n",
        "\n",
        "    # Compile\n",
        "    model.compile(loss='mae', metrics=['mae'],\n",
        "                  optimizer=keras.optimizers.Adam(1e-4))\n",
        "\n",
        "    return model"
      ],
      "metadata": {
        "id": "IAmcXAA8PHqT"
      },
      "execution_count": null,
      "outputs": []
    },
    {
      "cell_type": "code",
      "source": [
        "model2 = create_model2(sentence_embedding=RNNSentenceEmbedding(embedding_dimension, False, name='sentence_embedding'), \n",
        "                       merging_strategy=ConcatationMerge(name=\"merging_strategy\"))\n",
        "\n",
        "model2 = train_model(model=model2, x_train=[claim_train, claim_parent_train, stance_train, parent_vote_train], y_train=y_train,\n",
        "                    x_val=[claim_val, claim_parent_val, stance_val, parent_vote_val], y_val=y_val, training_info=training_info)"
      ],
      "metadata": {
        "colab": {
          "base_uri": "https://localhost:8080/",
          "height": 1000
        },
        "id": "G5dffm2iGDli",
        "outputId": "75c295b1-789f-4f6c-899f-db317fcff016"
      },
      "execution_count": null,
      "outputs": [
        {
          "output_type": "stream",
          "name": "stdout",
          "text": [
            "Model: \"model_2\"\n",
            "__________________________________________________________________________________________________\n",
            " Layer (type)                   Output Shape         Param #     Connected to                     \n",
            "==================================================================================================\n",
            " claim_input (InputLayer)       [(None, 76)]         0           []                               \n",
            "                                                                                                  \n",
            " claim_parent_input (InputLayer  [(None, 76)]        0           []                               \n",
            " )                                                                                                \n",
            "                                                                                                  \n",
            " claim_word_embedding (Embeddin  (None, 76, 50)      775300      ['claim_input[0][0]']            \n",
            " g)                                                                                               \n",
            "                                                                                                  \n",
            " claim_parent_word_embedding (E  (None, 76, 50)      775300      ['claim_parent_input[0][0]']     \n",
            " mbedding)                                                                                        \n",
            "                                                                                                  \n",
            " sentence_embedding (RNNSentenc  (None, 100)         40400       ['claim_word_embedding[0][0]',   \n",
            " eEmbedding)                                                      'claim_parent_word_embedding[0][\n",
            "                                                                 0]']                             \n",
            "                                                                                                  \n",
            " merging_strategy (ConcatationM  (None, 201)         0           ['sentence_embedding[0][0]',     \n",
            " erge)                                                            'sentence_embedding[1][0]']     \n",
            "                                                                                                  \n",
            " stance_input (InputLayer)      [(None, 1)]          0           []                               \n",
            "                                                                                                  \n",
            " parent_vote_input (InputLayer)  [(None, 1)]         0           []                               \n",
            "                                                                                                  \n",
            " concatenate (Concatenate)      (None, 203)          0           ['merging_strategy[0][0]',       \n",
            "                                                                  'stance_input[0][0]',           \n",
            "                                                                  'parent_vote_input[0][0]']      \n",
            "                                                                                                  \n",
            " dense (Dense)                  (None, 50)           10200       ['concatenate[0][0]']            \n",
            "                                                                                                  \n",
            " regressor (Dense)              (None, 1)            51          ['dense[0][0]']                  \n",
            "                                                                                                  \n",
            "==================================================================================================\n",
            "Total params: 1,601,251\n",
            "Trainable params: 50,651\n",
            "Non-trainable params: 1,550,600\n",
            "__________________________________________________________________________________________________\n",
            "Start training! \n",
            "Parameters: {'verbose': 1, 'epochs': 100, 'batch_size': 64, 'callbacks': [<keras.callbacks.EarlyStopping object at 0x7fc38f405750>]}\n",
            "Epoch 1/100\n",
            "141/141 [==============================] - 19s 94ms/step - loss: 2.3185 - mae: 2.3185 - val_loss: 2.3186 - val_mae: 2.3186\n",
            "Epoch 2/100\n",
            "141/141 [==============================] - 11s 80ms/step - loss: 0.8332 - mae: 0.8332 - val_loss: 0.5043 - val_mae: 0.5043\n",
            "Epoch 3/100\n",
            "141/141 [==============================] - 11s 80ms/step - loss: 0.5446 - mae: 0.5446 - val_loss: 0.4982 - val_mae: 0.4982\n",
            "Epoch 4/100\n",
            "141/141 [==============================] - 11s 79ms/step - loss: 0.5381 - mae: 0.5381 - val_loss: 0.4886 - val_mae: 0.4886\n",
            "Epoch 5/100\n",
            "141/141 [==============================] - 11s 80ms/step - loss: 0.5329 - mae: 0.5329 - val_loss: 0.4848 - val_mae: 0.4848\n",
            "Epoch 6/100\n",
            "141/141 [==============================] - 11s 79ms/step - loss: 0.5317 - mae: 0.5317 - val_loss: 0.4814 - val_mae: 0.4814\n",
            "Epoch 7/100\n",
            "141/141 [==============================] - 11s 80ms/step - loss: 0.5273 - mae: 0.5273 - val_loss: 0.4801 - val_mae: 0.4801\n",
            "Epoch 8/100\n",
            "141/141 [==============================] - 11s 79ms/step - loss: 0.5244 - mae: 0.5244 - val_loss: 0.4953 - val_mae: 0.4953\n",
            "Epoch 9/100\n",
            "141/141 [==============================] - 11s 79ms/step - loss: 0.5238 - mae: 0.5238 - val_loss: 0.4774 - val_mae: 0.4774\n",
            "Epoch 10/100\n",
            "141/141 [==============================] - 11s 81ms/step - loss: 0.5217 - mae: 0.5217 - val_loss: 0.4785 - val_mae: 0.4785\n",
            "Epoch 11/100\n",
            "141/141 [==============================] - 11s 79ms/step - loss: 0.5190 - mae: 0.5190 - val_loss: 0.4761 - val_mae: 0.4761\n",
            "Epoch 12/100\n",
            "141/141 [==============================] - 11s 80ms/step - loss: 0.5175 - mae: 0.5175 - val_loss: 0.4758 - val_mae: 0.4758\n",
            "Epoch 13/100\n",
            "141/141 [==============================] - 11s 80ms/step - loss: 0.5146 - mae: 0.5146 - val_loss: 0.4737 - val_mae: 0.4737\n",
            "Epoch 14/100\n",
            "141/141 [==============================] - 11s 80ms/step - loss: 0.5139 - mae: 0.5139 - val_loss: 0.4983 - val_mae: 0.4983\n",
            "Epoch 15/100\n",
            "141/141 [==============================] - 11s 80ms/step - loss: 0.5122 - mae: 0.5122 - val_loss: 0.4759 - val_mae: 0.4759\n",
            "Epoch 16/100\n",
            "141/141 [==============================] - 11s 80ms/step - loss: 0.5108 - mae: 0.5108 - val_loss: 0.4718 - val_mae: 0.4718\n",
            "Epoch 17/100\n",
            "141/141 [==============================] - 11s 80ms/step - loss: 0.5100 - mae: 0.5100 - val_loss: 0.4719 - val_mae: 0.4719\n",
            "Epoch 18/100\n",
            "141/141 [==============================] - 11s 80ms/step - loss: 0.5075 - mae: 0.5075 - val_loss: 0.4707 - val_mae: 0.4707\n",
            "Epoch 19/100\n",
            "141/141 [==============================] - 11s 80ms/step - loss: 0.5053 - mae: 0.5053 - val_loss: 0.4716 - val_mae: 0.4716\n",
            "Epoch 20/100\n",
            "141/141 [==============================] - 11s 80ms/step - loss: 0.5040 - mae: 0.5040 - val_loss: 0.4739 - val_mae: 0.4739\n",
            "Epoch 21/100\n",
            "141/141 [==============================] - 11s 81ms/step - loss: 0.5047 - mae: 0.5047 - val_loss: 0.4746 - val_mae: 0.4746\n",
            "Epoch 22/100\n",
            "141/141 [==============================] - 11s 80ms/step - loss: 0.5013 - mae: 0.5013 - val_loss: 0.4704 - val_mae: 0.4704\n",
            "Epoch 23/100\n",
            "141/141 [==============================] - 11s 80ms/step - loss: 0.5001 - mae: 0.5001 - val_loss: 0.4718 - val_mae: 0.4718\n",
            "Epoch 24/100\n",
            "141/141 [==============================] - 11s 80ms/step - loss: 0.4974 - mae: 0.4974 - val_loss: 0.4694 - val_mae: 0.4694\n",
            "Epoch 25/100\n",
            "141/141 [==============================] - 11s 80ms/step - loss: 0.4965 - mae: 0.4965 - val_loss: 0.4696 - val_mae: 0.4696\n",
            "Epoch 26/100\n",
            "141/141 [==============================] - 11s 80ms/step - loss: 0.4950 - mae: 0.4950 - val_loss: 0.4683 - val_mae: 0.4683\n",
            "Epoch 27/100\n",
            "141/141 [==============================] - 11s 80ms/step - loss: 0.4955 - mae: 0.4955 - val_loss: 0.4695 - val_mae: 0.4695\n",
            "Epoch 28/100\n",
            "141/141 [==============================] - 11s 80ms/step - loss: 0.4919 - mae: 0.4919 - val_loss: 0.4763 - val_mae: 0.4763\n",
            "Epoch 29/100\n",
            "141/141 [==============================] - 11s 80ms/step - loss: 0.4911 - mae: 0.4911 - val_loss: 0.4692 - val_mae: 0.4692\n",
            "Epoch 30/100\n",
            "141/141 [==============================] - 11s 80ms/step - loss: 0.4894 - mae: 0.4894 - val_loss: 0.4682 - val_mae: 0.4682\n",
            "Epoch 31/100\n",
            "141/141 [==============================] - 11s 79ms/step - loss: 0.4887 - mae: 0.4887 - val_loss: 0.4694 - val_mae: 0.4694\n",
            "Epoch 32/100\n",
            "141/141 [==============================] - 11s 80ms/step - loss: 0.4873 - mae: 0.4873 - val_loss: 0.4666 - val_mae: 0.4666\n",
            "Epoch 33/100\n",
            "141/141 [==============================] - 11s 80ms/step - loss: 0.4867 - mae: 0.4867 - val_loss: 0.4682 - val_mae: 0.4682\n",
            "Epoch 34/100\n",
            "141/141 [==============================] - 11s 80ms/step - loss: 0.4839 - mae: 0.4839 - val_loss: 0.4656 - val_mae: 0.4656\n",
            "Epoch 35/100\n",
            "141/141 [==============================] - 11s 80ms/step - loss: 0.4833 - mae: 0.4833 - val_loss: 0.4654 - val_mae: 0.4654\n",
            "Epoch 36/100\n",
            "141/141 [==============================] - 11s 80ms/step - loss: 0.4816 - mae: 0.4816 - val_loss: 0.4720 - val_mae: 0.4720\n",
            "Epoch 37/100\n",
            "141/141 [==============================] - 11s 81ms/step - loss: 0.4803 - mae: 0.4803 - val_loss: 0.4662 - val_mae: 0.4662\n",
            "Epoch 38/100\n",
            "141/141 [==============================] - 11s 80ms/step - loss: 0.4798 - mae: 0.4798 - val_loss: 0.4662 - val_mae: 0.4662\n",
            "Epoch 39/100\n",
            "141/141 [==============================] - 11s 81ms/step - loss: 0.4776 - mae: 0.4776 - val_loss: 0.4638 - val_mae: 0.4638\n",
            "Epoch 40/100\n",
            "141/141 [==============================] - 11s 80ms/step - loss: 0.4779 - mae: 0.4779 - val_loss: 0.4667 - val_mae: 0.4667\n",
            "Epoch 41/100\n",
            "141/141 [==============================] - 11s 80ms/step - loss: 0.4759 - mae: 0.4759 - val_loss: 0.4672 - val_mae: 0.4672\n",
            "Epoch 42/100\n",
            "141/141 [==============================] - 11s 80ms/step - loss: 0.4760 - mae: 0.4760 - val_loss: 0.4697 - val_mae: 0.4697\n",
            "Epoch 43/100\n",
            "141/141 [==============================] - 11s 81ms/step - loss: 0.4735 - mae: 0.4735 - val_loss: 0.4661 - val_mae: 0.4661\n",
            "Epoch 44/100\n",
            "141/141 [==============================] - 11s 80ms/step - loss: 0.4717 - mae: 0.4717 - val_loss: 0.4691 - val_mae: 0.4691\n",
            "Training completed! Showing history...\n",
            "Displaying the following history keys:  dict_keys(['loss', 'mae', 'val_loss', 'val_mae'])\n"
          ]
        },
        {
          "output_type": "display_data",
          "data": {
            "image/png": "[encoded data removed]",
            "text/plain": [
              "<Figure size 720x360 with 1 Axes>"
            ]
          },
          "metadata": {
            "needs_background": "light"
          }
        },
        {
          "output_type": "display_data",
          "data": {
            "image/png": "[encoded data removed]",
            "text/plain": [
              "<Figure size 720x360 with 1 Axes>"
            ]
          },
          "metadata": {
            "needs_background": "light"
          }
        }
      ]
    },
    {
      "cell_type": "markdown",
      "source": [
        "#### Model 3\n",
        "In this model we merge the embedding of the selected **claim** with the embedding of the **parent claim** and then concatenate the claim **stance**, the **impact of the parent** and the **ratio of pro/con childs**"
      ],
      "metadata": {
        "id": "fJgV-BkpGF6a"
      }
    },
    {
      "cell_type": "code",
      "source": [
        "def create_model3(sentence_embedding, merging_strategy):\n",
        "    \n",
        "    # Claim input embedding\n",
        "    claim_input = Input(shape=(max_tokens,), name=\"claim_input\")\n",
        "    claim_word_embedding = Embedding(**word_embedding_info, name=\"claim_word_embedding\")(claim_input)\n",
        "    claim_sentence_embedding = sentence_embedding(claim_word_embedding)\n",
        "\n",
        "    claim_parent_input = Input(shape=(max_tokens,), name='claim_parent_input')\n",
        "    claim_parent_word_embedding = Embedding(**word_embedding_info, name=\"claim_parent_word_embedding\")(claim_parent_input)\n",
        "    claim_parent_sentence_embedding = sentence_embedding(claim_parent_word_embedding)\n",
        "\n",
        "    # Merging\n",
        "    merge_layer = merging_strategy(claim_sentence_embedding, claim_parent_sentence_embedding)\n",
        "\n",
        "    # Claim stance input\n",
        "    stance_input = Input(shape=(1,), name='stance_input')\n",
        "\n",
        "    # Parent vote input\n",
        "    parent_vote_input = Input(shape=(1,), name='parent_vote_input')\n",
        "\n",
        "    # Childs ratio input\n",
        "    n_child_ratio_input = Input(shape=(1,), name='n_child_ratio_input')\n",
        "\n",
        "    # Concatenation\n",
        "    concatenation_layer = Concatenate()([merge_layer, stance_input, parent_vote_input, n_child_ratio_input])\n",
        "\n",
        "    # Regressor\n",
        "    dense_layer = Dense(50, activation=\"relu\", name=\"dense\")(concatenation_layer)\n",
        "    output_class = Dense(1, activation=\"relu\", name=\"regressor\")(dense_layer)\n",
        "\n",
        "    model = keras.Model(inputs=[claim_input, claim_parent_input, stance_input, parent_vote_input, n_child_ratio_input], outputs=output_class)\n",
        "\n",
        "    model.summary()\n",
        "\n",
        "    # Compile\n",
        "    model.compile(loss='mae', metrics=['mae'],\n",
        "                  optimizer=keras.optimizers.Adam(1e-4))\n",
        "\n",
        "    return model"
      ],
      "metadata": {
        "id": "L1qZwmn5_PdC"
      },
      "execution_count": null,
      "outputs": []
    },
    {
      "cell_type": "code",
      "source": [
        "model3 = create_model3(sentence_embedding=RNNSentenceEmbedding(embedding_dimension, False, name='sentence_embedding'), \n",
        "                       merging_strategy=ConcatationMerge(name=\"merging_strategy\"))\n",
        "\n",
        "model3 = train_model(model=model3, x_train=[claim_train, claim_parent_train, stance_train, parent_vote_train, n_child_ratio_train], y_train=y_train,\n",
        "                    x_val=[claim_val, claim_parent_val, stance_val, parent_vote_val, n_child_ratio_val], y_val=y_val, training_info=training_info)"
      ],
      "metadata": {
        "colab": {
          "base_uri": "https://localhost:8080/",
          "height": 1000
        },
        "id": "oec8i5M1JGCY",
        "outputId": "6cf9f4d5-fa4c-480e-f7f6-3085a4e3e422"
      },
      "execution_count": null,
      "outputs": [
        {
          "output_type": "stream",
          "name": "stdout",
          "text": [
            "Model: \"model_4\"\n",
            "__________________________________________________________________________________________________\n",
            " Layer (type)                   Output Shape         Param #     Connected to                     \n",
            "==================================================================================================\n",
            " claim_input (InputLayer)       [(None, 76)]         0           []                               \n",
            "                                                                                                  \n",
            " claim_parent_input (InputLayer  [(None, 76)]        0           []                               \n",
            " )                                                                                                \n",
            "                                                                                                  \n",
            " claim_word_embedding (Embeddin  (None, 76, 50)      775300      ['claim_input[0][0]']            \n",
            " g)                                                                                               \n",
            "                                                                                                  \n",
            " claim_parent_word_embedding (E  (None, 76, 50)      775300      ['claim_parent_input[0][0]']     \n",
            " mbedding)                                                                                        \n",
            "                                                                                                  \n",
            " sentence_embedding (RNNSentenc  (None, 100)         40400       ['claim_word_embedding[0][0]',   \n",
            " eEmbedding)                                                      'claim_parent_word_embedding[0][\n",
            "                                                                 0]']                             \n",
            "                                                                                                  \n",
            " merging_strategy (ConcatationM  (None, 201)         0           ['sentence_embedding[0][0]',     \n",
            " erge)                                                            'sentence_embedding[1][0]']     \n",
            "                                                                                                  \n",
            " stance_input (InputLayer)      [(None, 1)]          0           []                               \n",
            "                                                                                                  \n",
            " parent_vote_input (InputLayer)  [(None, 1)]         0           []                               \n",
            "                                                                                                  \n",
            " n_child_ratio_input (InputLaye  [(None, 1)]         0           []                               \n",
            " r)                                                                                               \n",
            "                                                                                                  \n",
            " concatenate_3 (Concatenate)    (None, 204)          0           ['merging_strategy[0][0]',       \n",
            "                                                                  'stance_input[0][0]',           \n",
            "                                                                  'parent_vote_input[0][0]',      \n",
            "                                                                  'n_child_ratio_input[0][0]']    \n",
            "                                                                                                  \n",
            " dense (Dense)                  (None, 50)           10250       ['concatenate_3[0][0]']          \n",
            "                                                                                                  \n",
            " regressor (Dense)              (None, 1)            51          ['dense[0][0]']                  \n",
            "                                                                                                  \n",
            "==================================================================================================\n",
            "Total params: 1,601,301\n",
            "Trainable params: 50,701\n",
            "Non-trainable params: 1,550,600\n",
            "__________________________________________________________________________________________________\n",
            "Start training! \n",
            "Parameters: {'verbose': 1, 'epochs': 100, 'batch_size': 64, 'callbacks': [<keras.callbacks.EarlyStopping object at 0x7fc38f405750>]}\n",
            "Epoch 1/100\n",
            "141/141 [==============================] - 19s 92ms/step - loss: 1.1247 - mae: 1.1247 - val_loss: 0.5166 - val_mae: 0.5166\n",
            "Epoch 2/100\n",
            "141/141 [==============================] - 11s 80ms/step - loss: 0.5504 - mae: 0.5504 - val_loss: 0.5057 - val_mae: 0.5057\n",
            "Epoch 3/100\n",
            "141/141 [==============================] - 11s 79ms/step - loss: 0.5406 - mae: 0.5406 - val_loss: 0.5032 - val_mae: 0.5032\n",
            "Epoch 4/100\n",
            "141/141 [==============================] - 11s 79ms/step - loss: 0.5335 - mae: 0.5335 - val_loss: 0.4943 - val_mae: 0.4943\n",
            "Epoch 5/100\n",
            "141/141 [==============================] - 11s 80ms/step - loss: 0.5290 - mae: 0.5290 - val_loss: 0.4887 - val_mae: 0.4887\n",
            "Epoch 6/100\n",
            "141/141 [==============================] - 11s 80ms/step - loss: 0.5244 - mae: 0.5244 - val_loss: 0.4873 - val_mae: 0.4873\n",
            "Epoch 7/100\n",
            "141/141 [==============================] - 11s 80ms/step - loss: 0.5215 - mae: 0.5215 - val_loss: 0.4823 - val_mae: 0.4823\n",
            "Epoch 8/100\n",
            "141/141 [==============================] - 11s 80ms/step - loss: 0.5183 - mae: 0.5183 - val_loss: 0.4784 - val_mae: 0.4784\n",
            "Epoch 9/100\n",
            "141/141 [==============================] - 11s 81ms/step - loss: 0.5163 - mae: 0.5163 - val_loss: 0.4840 - val_mae: 0.4840\n",
            "Epoch 10/100\n",
            "141/141 [==============================] - 11s 80ms/step - loss: 0.5146 - mae: 0.5146 - val_loss: 0.4739 - val_mae: 0.4739\n",
            "Epoch 11/100\n",
            "141/141 [==============================] - 11s 80ms/step - loss: 0.5125 - mae: 0.5125 - val_loss: 0.4752 - val_mae: 0.4752\n",
            "Epoch 12/100\n",
            "141/141 [==============================] - 11s 80ms/step - loss: 0.5099 - mae: 0.5099 - val_loss: 0.4768 - val_mae: 0.4768\n",
            "Epoch 13/100\n",
            "141/141 [==============================] - 11s 80ms/step - loss: 0.5084 - mae: 0.5084 - val_loss: 0.4768 - val_mae: 0.4768\n",
            "Epoch 14/100\n",
            "141/141 [==============================] - 11s 80ms/step - loss: 0.5062 - mae: 0.5062 - val_loss: 0.4720 - val_mae: 0.4720\n",
            "Epoch 15/100\n",
            "141/141 [==============================] - 11s 80ms/step - loss: 0.5060 - mae: 0.5060 - val_loss: 0.4725 - val_mae: 0.4725\n",
            "Epoch 16/100\n",
            "141/141 [==============================] - 11s 80ms/step - loss: 0.5033 - mae: 0.5033 - val_loss: 0.4736 - val_mae: 0.4736\n",
            "Epoch 17/100\n",
            "141/141 [==============================] - 11s 80ms/step - loss: 0.5018 - mae: 0.5018 - val_loss: 0.4710 - val_mae: 0.4710\n",
            "Epoch 18/100\n",
            "141/141 [==============================] - 11s 80ms/step - loss: 0.4998 - mae: 0.4998 - val_loss: 0.4704 - val_mae: 0.4704\n",
            "Epoch 19/100\n",
            "141/141 [==============================] - 11s 80ms/step - loss: 0.4984 - mae: 0.4984 - val_loss: 0.4719 - val_mae: 0.4719\n",
            "Epoch 20/100\n",
            "141/141 [==============================] - 11s 79ms/step - loss: 0.4960 - mae: 0.4960 - val_loss: 0.4688 - val_mae: 0.4688\n",
            "Epoch 21/100\n",
            "141/141 [==============================] - 11s 80ms/step - loss: 0.4957 - mae: 0.4957 - val_loss: 0.4759 - val_mae: 0.4759\n",
            "Epoch 22/100\n",
            "141/141 [==============================] - 11s 80ms/step - loss: 0.4942 - mae: 0.4942 - val_loss: 0.4678 - val_mae: 0.4678\n",
            "Epoch 23/100\n",
            "141/141 [==============================] - 11s 80ms/step - loss: 0.4922 - mae: 0.4922 - val_loss: 0.4701 - val_mae: 0.4701\n",
            "Epoch 24/100\n",
            "141/141 [==============================] - 11s 80ms/step - loss: 0.4908 - mae: 0.4908 - val_loss: 0.4772 - val_mae: 0.4772\n",
            "Epoch 25/100\n",
            "141/141 [==============================] - 11s 80ms/step - loss: 0.4895 - mae: 0.4895 - val_loss: 0.4664 - val_mae: 0.4664\n",
            "Epoch 26/100\n",
            "141/141 [==============================] - 11s 80ms/step - loss: 0.4890 - mae: 0.4890 - val_loss: 0.4673 - val_mae: 0.4673\n",
            "Epoch 27/100\n",
            "141/141 [==============================] - 11s 80ms/step - loss: 0.4875 - mae: 0.4875 - val_loss: 0.4748 - val_mae: 0.4748\n",
            "Epoch 28/100\n",
            "141/141 [==============================] - 11s 79ms/step - loss: 0.4869 - mae: 0.4869 - val_loss: 0.4711 - val_mae: 0.4711\n",
            "Epoch 29/100\n",
            "141/141 [==============================] - 11s 79ms/step - loss: 0.4874 - mae: 0.4874 - val_loss: 0.4684 - val_mae: 0.4684\n",
            "Epoch 30/100\n",
            "141/141 [==============================] - 11s 80ms/step - loss: 0.4841 - mae: 0.4841 - val_loss: 0.4623 - val_mae: 0.4623\n",
            "Epoch 31/100\n",
            "141/141 [==============================] - 11s 82ms/step - loss: 0.4831 - mae: 0.4831 - val_loss: 0.4697 - val_mae: 0.4697\n",
            "Epoch 32/100\n",
            "141/141 [==============================] - 11s 80ms/step - loss: 0.4811 - mae: 0.4811 - val_loss: 0.4710 - val_mae: 0.4710\n",
            "Epoch 33/100\n",
            "141/141 [==============================] - 12s 84ms/step - loss: 0.4801 - mae: 0.4801 - val_loss: 0.4635 - val_mae: 0.4635\n",
            "Epoch 34/100\n",
            "141/141 [==============================] - 12s 83ms/step - loss: 0.4795 - mae: 0.4795 - val_loss: 0.4675 - val_mae: 0.4675\n",
            "Epoch 35/100\n",
            "141/141 [==============================] - 12s 84ms/step - loss: 0.4776 - mae: 0.4776 - val_loss: 0.4619 - val_mae: 0.4619\n",
            "Epoch 36/100\n",
            "141/141 [==============================] - 12s 83ms/step - loss: 0.4767 - mae: 0.4767 - val_loss: 0.4624 - val_mae: 0.4624\n",
            "Epoch 37/100\n",
            "141/141 [==============================] - 11s 81ms/step - loss: 0.4747 - mae: 0.4747 - val_loss: 0.4710 - val_mae: 0.4710\n",
            "Epoch 38/100\n",
            "141/141 [==============================] - 12s 83ms/step - loss: 0.4755 - mae: 0.4755 - val_loss: 0.4615 - val_mae: 0.4615\n",
            "Epoch 39/100\n",
            "141/141 [==============================] - 12s 83ms/step - loss: 0.4735 - mae: 0.4735 - val_loss: 0.4615 - val_mae: 0.4615\n",
            "Epoch 40/100\n",
            "141/141 [==============================] - 12s 87ms/step - loss: 0.4716 - mae: 0.4716 - val_loss: 0.4595 - val_mae: 0.4595\n",
            "Epoch 41/100\n",
            "141/141 [==============================] - 12s 83ms/step - loss: 0.4717 - mae: 0.4717 - val_loss: 0.4549 - val_mae: 0.4549\n",
            "Epoch 42/100\n",
            "141/141 [==============================] - 12s 82ms/step - loss: 0.4697 - mae: 0.4697 - val_loss: 0.4646 - val_mae: 0.4646\n",
            "Epoch 43/100\n",
            "141/141 [==============================] - 11s 81ms/step - loss: 0.4682 - mae: 0.4682 - val_loss: 0.4590 - val_mae: 0.4590\n",
            "Epoch 44/100\n",
            "141/141 [==============================] - 12s 83ms/step - loss: 0.4675 - mae: 0.4675 - val_loss: 0.4605 - val_mae: 0.4605\n",
            "Epoch 45/100\n",
            "141/141 [==============================] - 11s 79ms/step - loss: 0.4666 - mae: 0.4666 - val_loss: 0.4595 - val_mae: 0.4595\n",
            "Epoch 46/100\n",
            "141/141 [==============================] - 11s 80ms/step - loss: 0.4669 - mae: 0.4669 - val_loss: 0.4587 - val_mae: 0.4587\n",
            "Training completed! Showing history...\n",
            "Displaying the following history keys:  dict_keys(['loss', 'mae', 'val_loss', 'val_mae'])\n"
          ]
        },
        {
          "output_type": "display_data",
          "data": {
            "image/png": "[encoded data removed]",
            "text/plain": [
              "<Figure size 720x360 with 1 Axes>"
            ]
          },
          "metadata": {
            "needs_background": "light"
          }
        },
        {
          "output_type": "display_data",
          "data": {
            "image/png": "[encoded data removed]",
            "text/plain": [
              "<Figure size 720x360 with 1 Axes>"
            ]
          },
          "metadata": {
            "needs_background": "light"
          }
        }
      ]
    },
    {
      "cell_type": "markdown",
      "source": [
        "## Evaluation"
      ],
      "metadata": {
        "id": "4kQ045igQmAs"
      }
    },
    {
      "cell_type": "code",
      "source": [
        "def predict_data(model: keras.Model,\n",
        "                 x: np.ndarray,\n",
        "                 prediction_info: Dict) -> np.ndarray:\n",
        "    \"\"\"\n",
        "    Inference routine of a given input set of examples\n",
        "\n",
        "    :param model: Keras built and possibly trained model\n",
        "    :param x: input set of examples in np.ndarray format\n",
        "    :param prediction_info: dictionary storing model predict() argument information\n",
        "\n",
        "    :return\n",
        "        predictions: predicted labels in np.ndarray format\n",
        "    \"\"\"\n",
        "\n",
        "    #print('Starting prediction: \\n{}'.format(prediction_info))\n",
        "    #print('Predicting on {} samples'.format(x.shape[0]))\n",
        "\n",
        "    predictions = model.predict(x, **prediction_info)\n",
        "    return predictions\n",
        "\n",
        "\n",
        "def evaluate_predictions(predictions: np.ndarray,\n",
        "                         y: np.ndarray,\n",
        "                         metrics: List[Callable],\n",
        "                         metric_names: List[str]):\n",
        "    \"\"\"\n",
        "    Evaluates given model predictions on a list of metric functions\n",
        "\n",
        "    :param predictions: model predictions in np.ndarray format\n",
        "    :param y: ground-truth labels in np.ndarray format\n",
        "    :param metrics: list of metric functions\n",
        "    :param metric_names: list of metric names\n",
        "\n",
        "    :return\n",
        "        metric_info: dictionary containing metric values for each input metric\n",
        "    \"\"\"\n",
        "\n",
        "    assert len(metrics) == len(metric_names)\n",
        "\n",
        "    print(\"Evaluating predictions! Total samples: \", y.shape[0])\n",
        "\n",
        "    metric_info = {}\n",
        "    for metric, metric_name in zip(metrics, metric_names):\n",
        "        all_metric_values = metric\n",
        "        metric_value = np.mean([ metric(y_true, [y_pred]) for y_true, y_pred in zip(y, predictions) ])\n",
        "        metric_info[metric_name] = metric_value\n",
        "\n",
        "    return metric_info"
      ],
      "metadata": {
        "id": "AAxOR59KQlDn"
      },
      "execution_count": null,
      "outputs": []
    },
    {
      "cell_type": "markdown",
      "source": [
        "### Model 0"
      ],
      "metadata": {
        "id": "00gDeGp48KDP"
      }
    },
    {
      "cell_type": "code",
      "source": [
        "# Inference\n",
        "prediction_info = {\n",
        "    'batch_size': 64,\n",
        "    'verbose': 1\n",
        "}\n",
        "test_predictions = predict_data(model=model0, x=[claim_test], prediction_info=prediction_info)\n",
        "\n",
        "eval = evaluate_predictions(test_predictions, y_test, [tf.keras.metrics.MeanAbsoluteError()], ['mae'])\n",
        "print(f\"Mean absolute error: {eval['mae']:.4f}\")"
      ],
      "metadata": {
        "colab": {
          "base_uri": "https://localhost:8080/"
        },
        "outputId": "96d62600-907e-4d3a-aa3d-5234b634aec5",
        "id": "ZrxPd1cQ8KDQ"
      },
      "execution_count": null,
      "outputs": [
        {
          "output_type": "stream",
          "name": "stdout",
          "text": [
            "4/4 [==============================] - 0s 13ms/step\n",
            "Evaluating predictions! Total samples:  237\n",
            "Mean absolute error: 0.4167\n"
          ]
        }
      ]
    },
    {
      "cell_type": "markdown",
      "source": [
        "### Model 1"
      ],
      "metadata": {
        "id": "oFPEK4mF8KO5"
      }
    },
    {
      "cell_type": "code",
      "source": [
        "# Inference\n",
        "prediction_info = {\n",
        "    'batch_size': 64,\n",
        "    'verbose': 1\n",
        "}\n",
        "test_predictions = predict_data(model=model1, x=[claim_test, claim_parent_test], prediction_info=prediction_info)\n",
        "\n",
        "eval = evaluate_predictions(test_predictions, y_test, [tf.keras.metrics.MeanAbsoluteError()], ['mae'])\n",
        "print(f\"Mean absolute error: {eval['mae']:.4f}\")"
      ],
      "metadata": {
        "colab": {
          "base_uri": "https://localhost:8080/"
        },
        "outputId": "371c5257-3669-4519-f699-4b4525ff6122",
        "id": "xKFupCQ38KO6"
      },
      "execution_count": null,
      "outputs": [
        {
          "output_type": "stream",
          "name": "stdout",
          "text": [
            "4/4 [==============================] - 3s 25ms/step\n",
            "Evaluating predictions! Total samples:  237\n",
            "Mean absolute error: 0.4257\n"
          ]
        }
      ]
    },
    {
      "cell_type": "markdown",
      "source": [
        "### Model 2"
      ],
      "metadata": {
        "id": "ox0JiYAE8KbW"
      }
    },
    {
      "cell_type": "code",
      "source": [
        "# Inference\n",
        "prediction_info = {\n",
        "    'batch_size': 64,\n",
        "    'verbose': 1\n",
        "}\n",
        "test_predictions = predict_data(model=model2, x=[claim_test, claim_parent_test, stance_test, parent_vote_test], prediction_info=prediction_info)\n",
        "\n",
        "eval = evaluate_predictions(test_predictions, y_test, [tf.keras.metrics.MeanAbsoluteError()], ['mae'])\n",
        "print(f\"Mean absolute error: {eval['mae']:.4f}\")"
      ],
      "metadata": {
        "colab": {
          "base_uri": "https://localhost:8080/"
        },
        "outputId": "4d03e0ba-97b3-41aa-8027-f66065c9fc5a",
        "id": "74s31en58KbX"
      },
      "execution_count": null,
      "outputs": [
        {
          "output_type": "stream",
          "name": "stdout",
          "text": [
            "4/4 [==============================] - 0s 24ms/step\n",
            "Evaluating predictions! Total samples:  237\n",
            "Mean absolute error: 0.4068\n"
          ]
        }
      ]
    },
    {
      "cell_type": "markdown",
      "source": [
        "### Model 3"
      ],
      "metadata": {
        "id": "yBnnJXL_8Gm7"
      }
    },
    {
      "cell_type": "code",
      "source": [
        "# Inference\n",
        "prediction_info = {\n",
        "    'batch_size': 64,\n",
        "    'verbose': 1\n",
        "}\n",
        "test_predictions = predict_data(model=model3, x=[claim_test, claim_parent_test, stance_test, parent_vote_test, n_child_ratio_test], prediction_info=prediction_info)\n",
        "\n",
        "eval = evaluate_predictions(test_predictions, y_test, [tf.keras.metrics.MeanAbsoluteError()], ['mae'])\n",
        "print(f\"Mean absolute error: {eval['mae']:.4f}\")"
      ],
      "metadata": {
        "colab": {
          "base_uri": "https://localhost:8080/"
        },
        "id": "wEEmNxxgNqUp",
        "outputId": "c74cc700-e703-4ef1-93b5-be27bfb9881e"
      },
      "execution_count": null,
      "outputs": [
        {
          "output_type": "stream",
          "name": "stdout",
          "text": [
            "4/4 [==============================] - 0s 23ms/step\n",
            "Evaluating predictions! Total samples:  237\n",
            "Mean absolute error: 0.4141\n"
          ]
        }
      ]
    },
    {
      "cell_type": "markdown",
      "source": [
        "## Show prediction of best model"
      ],
      "metadata": {
        "id": "_MTxzl8_8xvQ"
      }
    },
    {
      "cell_type": "code",
      "source": [
        "# Inference\n",
        "prediction_info = {\n",
        "    'batch_size': 64,\n",
        "    'verbose': 1\n",
        "}\n",
        "test_predictions =  predict_data(model=model2, x=[claim_test, claim_parent_test, stance_test, parent_vote_test], prediction_info=prediction_info)\n",
        "\n",
        "print(test_predictions.shape)\n",
        "print(y_test.shape)\n",
        "\n",
        "import sys\n",
        "import numpy\n",
        "numpy.set_printoptions(threshold=sys.maxsize)\n",
        "\n",
        "print(\"\\n\".join(f\"Predict: {y_pred[0]:.1f}\\t real {y}\" for y_pred, y in zip(test_predictions, y_test)))"
      ],
      "metadata": {
        "colab": {
          "base_uri": "https://localhost:8080/"
        },
        "id": "VdxplD2lNqr_",
        "outputId": "60c722e1-8758-42e6-d92e-e43e95394d82"
      },
      "execution_count": null,
      "outputs": [
        {
          "output_type": "stream",
          "name": "stdout",
          "text": [
            "4/4 [==============================] - 0s 24ms/step\n",
            "(237, 1)\n",
            "(237,)\n",
            "Predict: 2.2\t real 2.4\n",
            "Predict: 2.3\t real 2.2\n",
            "Predict: 2.1\t real 1.7\n",
            "Predict: 2.6\t real 2.4\n",
            "Predict: 2.6\t real 1.8\n",
            "Predict: 2.6\t real 1.9\n",
            "Predict: 2.4\t real 2.5\n",
            "Predict: 2.2\t real 2.5\n",
            "Predict: 2.1\t real 1.0\n",
            "Predict: 2.6\t real 3.0\n",
            "Predict: 2.8\t real 2.6\n",
            "Predict: 2.5\t real 2.7\n",
            "Predict: 2.6\t real 3.4\n",
            "Predict: 2.7\t real 2.4\n",
            "Predict: 2.6\t real 3.5\n",
            "Predict: 2.4\t real 2.3\n",
            "Predict: 2.4\t real 2.4\n",
            "Predict: 2.2\t real 2.5\n",
            "Predict: 2.4\t real 1.3\n",
            "Predict: 2.4\t real 2.0\n",
            "Predict: 2.6\t real 2.0\n",
            "Predict: 2.1\t real 2.3\n",
            "Predict: 2.1\t real 1.7\n",
            "Predict: 2.2\t real 1.8\n",
            "Predict: 2.1\t real 2.2\n",
            "Predict: 2.3\t real 1.3\n",
            "Predict: 2.2\t real 2.4\n",
            "Predict: 2.4\t real 3.2\n",
            "Predict: 2.7\t real 2.6\n",
            "Predict: 2.6\t real 2.0\n",
            "Predict: 2.3\t real 2.9\n",
            "Predict: 2.1\t real 1.7\n",
            "Predict: 2.4\t real 2.1\n",
            "Predict: 2.4\t real 1.5\n",
            "Predict: 2.5\t real 3.0\n",
            "Predict: 2.1\t real 2.3\n",
            "Predict: 2.1\t real 2.3\n",
            "Predict: 2.3\t real 2.0\n",
            "Predict: 2.2\t real 2.0\n",
            "Predict: 2.2\t real 2.3\n",
            "Predict: 2.4\t real 2.3\n",
            "Predict: 2.2\t real 2.3\n",
            "Predict: 2.2\t real 2.7\n",
            "Predict: 2.1\t real 2.0\n",
            "Predict: 2.2\t real 3.0\n",
            "Predict: 2.0\t real 1.7\n",
            "Predict: 1.7\t real 1.7\n",
            "Predict: 2.1\t real 2.0\n",
            "Predict: 2.3\t real 2.6\n",
            "Predict: 2.1\t real 1.9\n",
            "Predict: 2.1\t real 2.5\n",
            "Predict: 2.4\t real 2.1\n",
            "Predict: 2.2\t real 2.5\n",
            "Predict: 2.3\t real 3.0\n",
            "Predict: 2.4\t real 3.2\n",
            "Predict: 2.2\t real 2.0\n",
            "Predict: 2.4\t real 3.1\n",
            "Predict: 2.4\t real 1.6\n",
            "Predict: 2.4\t real 1.9\n",
            "Predict: 2.3\t real 2.0\n",
            "Predict: 2.1\t real 2.0\n",
            "Predict: 2.7\t real 2.5\n",
            "Predict: 2.3\t real 1.1\n",
            "Predict: 2.6\t real 2.0\n",
            "Predict: 2.2\t real 2.8\n",
            "Predict: 2.3\t real 1.5\n",
            "Predict: 2.2\t real 2.0\n",
            "Predict: 2.1\t real 2.5\n",
            "Predict: 2.2\t real 1.5\n",
            "Predict: 2.2\t real 2.4\n",
            "Predict: 2.6\t real 2.7\n",
            "Predict: 2.2\t real 2.3\n",
            "Predict: 2.0\t real 1.4\n",
            "Predict: 2.1\t real 2.2\n",
            "Predict: 2.4\t real 2.7\n",
            "Predict: 2.4\t real 2.0\n",
            "Predict: 2.1\t real 1.8\n",
            "Predict: 2.3\t real 2.4\n",
            "Predict: 2.2\t real 2.1\n",
            "Predict: 2.0\t real 2.7\n",
            "Predict: 2.4\t real 2.9\n",
            "Predict: 2.4\t real 2.5\n",
            "Predict: 2.2\t real 1.9\n",
            "Predict: 2.2\t real 2.4\n",
            "Predict: 2.1\t real 2.1\n",
            "Predict: 2.2\t real 2.3\n",
            "Predict: 2.4\t real 2.7\n",
            "Predict: 2.1\t real 2.7\n",
            "Predict: 2.1\t real 2.5\n",
            "Predict: 2.5\t real 2.8\n",
            "Predict: 2.5\t real 2.9\n",
            "Predict: 2.6\t real 2.2\n",
            "Predict: 2.4\t real 2.8\n",
            "Predict: 2.6\t real 1.5\n",
            "Predict: 2.5\t real 2.3\n",
            "Predict: 2.5\t real 2.5\n",
            "Predict: 2.7\t real 3.0\n",
            "Predict: 2.5\t real 2.8\n",
            "Predict: 2.4\t real 2.9\n",
            "Predict: 2.2\t real 2.0\n",
            "Predict: 2.3\t real 2.0\n",
            "Predict: 2.1\t real 2.1\n",
            "Predict: 2.4\t real 2.5\n",
            "Predict: 2.5\t real 2.3\n",
            "Predict: 2.5\t real 2.6\n",
            "Predict: 2.3\t real 2.4\n",
            "Predict: 2.3\t real 2.2\n",
            "Predict: 2.5\t real 1.9\n",
            "Predict: 2.6\t real 1.5\n",
            "Predict: 2.5\t real 2.1\n",
            "Predict: 2.3\t real 2.1\n",
            "Predict: 2.3\t real 1.8\n",
            "Predict: 2.4\t real 2.7\n",
            "Predict: 2.6\t real 3.3\n",
            "Predict: 2.3\t real 2.1\n",
            "Predict: 2.2\t real 2.3\n",
            "Predict: 2.4\t real 2.3\n",
            "Predict: 2.2\t real 1.7\n",
            "Predict: 2.3\t real 2.0\n",
            "Predict: 2.3\t real 2.3\n",
            "Predict: 2.2\t real 2.0\n",
            "Predict: 2.1\t real 2.3\n",
            "Predict: 2.2\t real 2.0\n",
            "Predict: 2.1\t real 2.3\n",
            "Predict: 2.2\t real 2.0\n",
            "Predict: 2.2\t real 2.3\n",
            "Predict: 2.2\t real 2.3\n",
            "Predict: 2.2\t real 2.3\n",
            "Predict: 2.3\t real 2.0\n",
            "Predict: 2.3\t real 2.0\n",
            "Predict: 2.2\t real 2.0\n",
            "Predict: 2.1\t real 2.0\n",
            "Predict: 2.2\t real 2.0\n",
            "Predict: 2.0\t real 1.7\n",
            "Predict: 2.1\t real 2.0\n",
            "Predict: 2.0\t real 2.0\n",
            "Predict: 2.3\t real 1.5\n",
            "Predict: 2.2\t real 2.0\n",
            "Predict: 2.2\t real 2.0\n",
            "Predict: 2.5\t real 2.3\n",
            "Predict: 2.3\t real 2.0\n",
            "Predict: 2.2\t real 2.3\n",
            "Predict: 2.3\t real 2.3\n",
            "Predict: 2.1\t real 2.3\n",
            "Predict: 2.2\t real 1.0\n",
            "Predict: 2.2\t real 3.8\n",
            "Predict: 2.5\t real 2.0\n",
            "Predict: 2.7\t real 1.5\n",
            "Predict: 2.2\t real 3.7\n",
            "Predict: 2.3\t real 2.0\n",
            "Predict: 2.7\t real 2.8\n",
            "Predict: 2.5\t real 3.5\n",
            "Predict: 2.5\t real 1.7\n",
            "Predict: 2.9\t real 1.5\n",
            "Predict: 2.7\t real 3.7\n",
            "Predict: 2.6\t real 3.7\n",
            "Predict: 2.2\t real 2.0\n",
            "Predict: 2.6\t real 2.0\n",
            "Predict: 2.6\t real 4.0\n",
            "Predict: 2.4\t real 1.0\n",
            "Predict: 2.3\t real 3.0\n",
            "Predict: 2.3\t real 1.5\n",
            "Predict: 2.0\t real 1.2\n",
            "Predict: 2.3\t real 3.0\n",
            "Predict: 2.4\t real 2.7\n",
            "Predict: 2.3\t real 3.2\n",
            "Predict: 2.4\t real 3.4\n",
            "Predict: 2.4\t real 4.0\n",
            "Predict: 2.5\t real 3.3\n",
            "Predict: 2.5\t real 2.7\n",
            "Predict: 2.2\t real 2.0\n",
            "Predict: 2.2\t real 4.0\n",
            "Predict: 2.1\t real 1.0\n",
            "Predict: 2.5\t real 4.0\n",
            "Predict: 2.2\t real 2.2\n",
            "Predict: 2.2\t real 2.8\n",
            "Predict: 2.6\t real 2.0\n",
            "Predict: 2.2\t real 4.0\n",
            "Predict: 2.3\t real 1.3\n",
            "Predict: 2.1\t real 2.0\n",
            "Predict: 2.0\t real 2.0\n",
            "Predict: 2.1\t real 2.0\n",
            "Predict: 2.0\t real 2.7\n",
            "Predict: 1.9\t real 1.6\n",
            "Predict: 2.2\t real 1.0\n",
            "Predict: 2.5\t real 2.0\n",
            "Predict: 2.0\t real 1.0\n",
            "Predict: 2.3\t real 1.8\n",
            "Predict: 2.0\t real 2.0\n",
            "Predict: 2.0\t real 2.5\n",
            "Predict: 2.3\t real 2.2\n",
            "Predict: 2.2\t real 2.8\n",
            "Predict: 2.0\t real 1.4\n",
            "Predict: 1.7\t real 2.4\n",
            "Predict: 1.8\t real 1.3\n",
            "Predict: 2.1\t real 2.7\n",
            "Predict: 2.4\t real 2.0\n",
            "Predict: 2.6\t real 2.5\n",
            "Predict: 2.2\t real 2.0\n",
            "Predict: 2.4\t real 2.0\n",
            "Predict: 2.1\t real 2.3\n",
            "Predict: 2.3\t real 2.3\n",
            "Predict: 2.6\t real 4.0\n",
            "Predict: 2.4\t real 3.7\n",
            "Predict: 2.1\t real 2.3\n",
            "Predict: 2.2\t real 2.0\n",
            "Predict: 2.2\t real 3.2\n",
            "Predict: 2.3\t real 2.3\n",
            "Predict: 2.4\t real 2.7\n",
            "Predict: 2.2\t real 2.0\n",
            "Predict: 2.3\t real 1.7\n",
            "Predict: 2.2\t real 2.7\n",
            "Predict: 2.5\t real 3.5\n",
            "Predict: 2.1\t real 2.0\n",
            "Predict: 2.6\t real 2.3\n",
            "Predict: 2.4\t real 2.0\n",
            "Predict: 2.7\t real 0.0\n",
            "Predict: 2.7\t real 3.5\n",
            "Predict: 2.3\t real 3.1\n",
            "Predict: 2.2\t real 2.8\n",
            "Predict: 2.8\t real 0.8\n",
            "Predict: 2.4\t real 1.9\n",
            "Predict: 2.3\t real 4.0\n",
            "Predict: 2.7\t real 3.0\n",
            "Predict: 2.4\t real 2.0\n",
            "Predict: 2.7\t real 2.4\n",
            "Predict: 2.4\t real 1.5\n",
            "Predict: 2.5\t real 4.0\n",
            "Predict: 2.3\t real 3.2\n",
            "Predict: 2.2\t real 2.7\n",
            "Predict: 2.4\t real 1.9\n",
            "Predict: 2.8\t real 2.0\n",
            "Predict: 2.3\t real 2.1\n",
            "Predict: 2.8\t real 3.2\n",
            "Predict: 2.5\t real 3.0\n",
            "Predict: 2.5\t real 2.4\n",
            "Predict: 2.5\t real 3.0\n"
          ]
        }
      ]
    },
    {
      "cell_type": "markdown",
      "source": [
        "# Machine Learning techniques"
      ],
      "metadata": {
        "id": "5W2mr4B_8sW4"
      }
    },
    {
      "cell_type": "code",
      "source": [
        "from sklearn.metrics import mean_absolute_error"
      ],
      "metadata": {
        "id": "BTOSROpPbrqY"
      },
      "execution_count": 25,
      "outputs": []
    },
    {
      "cell_type": "markdown",
      "source": [
        "We check that taking the mean value (2), the mean absolute error results higher than all the other models"
      ],
      "metadata": {
        "id": "s0wcFM9Er66t"
      }
    },
    {
      "cell_type": "code",
      "source": [
        "y_baseline = np.full((237,), 2)\n",
        "\n",
        "mae_ml = mean_absolute_error(y_test, y_baseline)\n",
        "print(f\"Mean absolute error: {mae_ml:.4f}\")"
      ],
      "metadata": {
        "id": "bBlhx9IubGxg",
        "outputId": "4cec891e-ed09-4e98-fc5a-66a02b3086cf",
        "colab": {
          "base_uri": "https://localhost:8080/"
        }
      },
      "execution_count": 90,
      "outputs": [
        {
          "output_type": "stream",
          "name": "stdout",
          "text": [
            "Mean absolute error: 0.5291\n"
          ]
        }
      ]
    },
    {
      "cell_type": "code",
      "source": [
        "# Definition of input dataset for train and test as a columnar concatenation of features\n",
        "X_train = np.column_stack((depth_train, stance_train, parent_vote_train, n_child_ratio_train))\n",
        "X_test = np.column_stack((depth_test, stance_test, parent_vote_test, n_child_ratio_test))"
      ],
      "metadata": {
        "id": "n_EkOgzQL329"
      },
      "execution_count": 38,
      "outputs": []
    },
    {
      "cell_type": "markdown",
      "source": [
        "## Linear Regressor"
      ],
      "metadata": {
        "id": "o2hfQgaUSt00"
      }
    },
    {
      "cell_type": "code",
      "source": [
        "from sklearn.linear_model import LinearRegression\n",
        "\n",
        "lin_reg = LinearRegression().fit(X_train, y_train)\n",
        "y_pred = lin_reg.predict(X_test)\n",
        "\n",
        "mae_ml = mean_absolute_error(y_test, y_pred)\n",
        "print(f\"Mean absolute error: {mae_ml:.4f}\")"
      ],
      "metadata": {
        "id": "0bz-Ev2JKqW3",
        "colab": {
          "base_uri": "https://localhost:8080/"
        },
        "outputId": "db7a4229-4b3b-4fb6-87a1-e4eb87fcd380"
      },
      "execution_count": 40,
      "outputs": [
        {
          "output_type": "stream",
          "name": "stdout",
          "text": [
            "Mean absolute error: 0.5025\n"
          ]
        }
      ]
    },
    {
      "cell_type": "markdown",
      "source": [
        "Let's try also to trasform the data by changing the input with a polynomial kernel"
      ],
      "metadata": {
        "id": "qQ6NndM7SkwB"
      }
    },
    {
      "cell_type": "code",
      "source": [
        "from sklearn.preprocessing import PolynomialFeatures\n",
        "\n",
        "poly = PolynomialFeatures(degree=2, include_bias=False)\n",
        "X_poly = poly.fit_transform(X_train)\n",
        "poly.fit(X_poly, y_train)\n",
        "\n",
        "lin_reg = LinearRegression().fit(X_poly, y_train)\n",
        "y_pred = lin_reg.predict(poly.fit_transform(X_test))\n",
        "\n",
        "mae_ml = mean_absolute_error(y_test, y_pred)\n",
        "print(f\"Mean absolute error: {mae_ml:.4f}\")"
      ],
      "metadata": {
        "colab": {
          "base_uri": "https://localhost:8080/"
        },
        "id": "Wkkupah-ugqv",
        "outputId": "99506f96-1c17-426e-e0e3-a2e24507764e"
      },
      "execution_count": null,
      "outputs": [
        {
          "output_type": "stream",
          "name": "stdout",
          "text": [
            "Mean absolute error: 0.4861\n"
          ]
        }
      ]
    },
    {
      "cell_type": "markdown",
      "source": [
        "## Decision Tree Regressor"
      ],
      "metadata": {
        "id": "mZaDZ8wgyt5X"
      }
    },
    {
      "cell_type": "code",
      "source": [
        "from sklearn.tree import DecisionTreeRegressor\n",
        "\n",
        "dt_reg = DecisionTreeRegressor(max_depth=10).fit(X_train, y_train)\n",
        "y_pred = dt_reg.predict(X_test)\n",
        "\n",
        "mae_ml = mean_absolute_error(y_test, y_pred)\n",
        "print(f\"Mean absolute error: {mae_ml:.4f}\")"
      ],
      "metadata": {
        "id": "rp6oCPAiyrnE",
        "colab": {
          "base_uri": "https://localhost:8080/"
        },
        "outputId": "7509f766-35c7-4766-8adc-23ca69b9df0e"
      },
      "execution_count": 39,
      "outputs": [
        {
          "output_type": "stream",
          "name": "stdout",
          "text": [
            "Mean absolute error: 0.4463\n"
          ]
        }
      ]
    },
    {
      "cell_type": "markdown",
      "source": [
        "## Random Forest Regressor"
      ],
      "metadata": {
        "id": "C8zqc5Ux05Ax"
      }
    },
    {
      "cell_type": "code",
      "source": [
        "from sklearn.ensemble import RandomForestRegressor\n",
        "from sklearn.model_selection import GridSearchCV"
      ],
      "metadata": {
        "id": "FzkX-5dggNKE"
      },
      "execution_count": 51,
      "outputs": []
    },
    {
      "cell_type": "code",
      "source": [
        "# Using GridSearch to tune best hyperparameter of the Random Forest Regressor (REQUIRE SOME TIME!)\n",
        "params_rf = {\n",
        "    'max_depth': list(range(10,20)),      # Define the maximum depth of each tree\n",
        "    'n_estimators': list(range(10,20)),   # Define the number of tree\n",
        "    'criterion': ['mse']                  # Criterion to optimize in selecting decisions\n",
        "}\n",
        "\n",
        "clf = GridSearchCV(\n",
        "  RandomForestRegressor(),\n",
        "  params_rf,\n",
        "  n_jobs=-1\n",
        ")\n",
        "\n",
        "clf.fit(claim_train, y_train)\n",
        "best_params = clf.best_params_\n",
        "print(best_params)"
      ],
      "metadata": {
        "id": "XcchCTeYf0sd",
        "outputId": "44ccfe50-c6ba-47cf-c763-1fa78d270160",
        "colab": {
          "base_uri": "https://localhost:8080/"
        }
      },
      "execution_count": null,
      "outputs": [
        {
          "output_type": "stream",
          "name": "stdout",
          "text": [
            "{'criterion': 'mse', 'max_depth': 10, 'n_estimators': 18}\n"
          ]
        }
      ]
    },
    {
      "cell_type": "code",
      "source": [
        "rf_reg = RandomForestRegressor(n_estimators=18, max_depth=10, criterion='mse').fit(X_train, y_train)\n",
        "y_pred = rf_reg.predict(X_test)\n",
        "\n",
        "mae_ml = mean_absolute_error(y_test, y_pred)\n",
        "print(f\"Mean absolute error: {mae_ml:.4f}\")"
      ],
      "metadata": {
        "id": "fVamWNb407x3",
        "colab": {
          "base_uri": "https://localhost:8080/"
        },
        "outputId": "903ad193-ef39-4735-8a8f-fff70384d5d9"
      },
      "execution_count": 56,
      "outputs": [
        {
          "output_type": "stream",
          "name": "stdout",
          "text": [
            "Mean absolute error: 0.4379\n"
          ]
        }
      ]
    },
    {
      "cell_type": "markdown",
      "source": [
        "##Support Vector Regressor"
      ],
      "metadata": {
        "id": "feEw-B_W4lBk"
      }
    },
    {
      "cell_type": "code",
      "source": [
        "from sklearn.svm import SVR\n",
        "from sklearn.model_selection import GridSearchCV"
      ],
      "metadata": {
        "id": "UNnaJz7yhBD3"
      },
      "execution_count": 46,
      "outputs": []
    },
    {
      "cell_type": "code",
      "source": [
        "# Using GridSearch to tune best hyperparameter of the Support Vector Regressor (REQUIRE SOME TIME!)\n",
        "params_svr = {\n",
        "    'kernel': ['linear', 'poly', 'rbf', 'sigmoid'], # Define the kernel type\n",
        "    'epsilon': [0.05, 0.1, 0.15, 0.2]               # Define the threshold used as label smoothing in order to ignore error in case of small approximations\n",
        "}\n",
        "\n",
        "clf = GridSearchCV(\n",
        "    SVR(),\n",
        "    params_svr,\n",
        "    scoring = mean_absolute_error,\n",
        "    n_jobs=-1)\n",
        "\n",
        "clf.fit(X_train, y_train)\n",
        "best_params = clf.best_params_\n",
        "print(best_params)"
      ],
      "metadata": {
        "id": "H1XA9fxfPerw",
        "outputId": "49850d4b-be97-4b86-f76d-94fb82d430af",
        "colab": {
          "base_uri": "https://localhost:8080/"
        }
      },
      "execution_count": null,
      "outputs": [
        {
          "output_type": "stream",
          "name": "stdout",
          "text": [
            "{'epsilon': 0.05, 'kernel': 'linear'}\n"
          ]
        }
      ]
    },
    {
      "cell_type": "code",
      "source": [
        "svr_reg = SVR(epsilon=0.05, kernel='linear').fit(X_train, y_train)\n",
        "y_pred = svr_reg.predict(X_test)\n",
        "\n",
        "mae_ml = mean_absolute_error(y_test, y_pred)\n",
        "print(f\"Mean absolute error: {mae_ml:.4f}\")"
      ],
      "metadata": {
        "colab": {
          "base_uri": "https://localhost:8080/"
        },
        "id": "5rbv8TfT2Qsh",
        "outputId": "0caece38-6925-42c6-d3ca-8ebf59548765"
      },
      "execution_count": 50,
      "outputs": [
        {
          "output_type": "stream",
          "name": "stdout",
          "text": [
            "Mean absolute error: 0.5031\n"
          ]
        }
      ]
    },
    {
      "cell_type": "markdown",
      "source": [
        "## Evaluation of best combination of features\n",
        "In this section we search for the best combinations of features to feed our machine learning models. For simplicity, we try all the combination on the best model, the Random Forest Regressor."
      ],
      "metadata": {
        "id": "LgxgJp73jyzR"
      }
    },
    {
      "cell_type": "code",
      "source": [
        "X_train = claim_train\n",
        "X_test = claim_test"
      ],
      "metadata": {
        "id": "CrNedgZWj6cD"
      },
      "execution_count": 57,
      "outputs": []
    },
    {
      "cell_type": "code",
      "source": [
        "rf_reg = RandomForestRegressor(n_estimators=18, max_depth=10, criterion='mse').fit(X_train, y_train)\n",
        "y_pred = rf_reg.predict(X_test)\n",
        "\n",
        "mae_ml = mean_absolute_error(y_test, y_pred)\n",
        "print(f\"Mean absolute error: {mae_ml:.4f}\")"
      ],
      "metadata": {
        "id": "N_93su2ej4CJ",
        "outputId": "255b6293-e7d9-4d83-fc17-7ad832cb512b",
        "colab": {
          "base_uri": "https://localhost:8080/"
        }
      },
      "execution_count": 58,
      "outputs": [
        {
          "output_type": "stream",
          "name": "stdout",
          "text": [
            "Mean absolute error: 0.5126\n"
          ]
        }
      ]
    },
    {
      "cell_type": "code",
      "source": [
        "X_train = np.column_stack((claim_train, claim_parent_train))\n",
        "X_test = np.column_stack((claim_test, claim_parent_test))"
      ],
      "metadata": {
        "id": "0UKjelRpkCeA"
      },
      "execution_count": 59,
      "outputs": []
    },
    {
      "cell_type": "code",
      "source": [
        "rf_reg = RandomForestRegressor(n_estimators=18, max_depth=10, criterion='mse').fit(X_train, y_train)\n",
        "y_pred = rf_reg.predict(X_test)\n",
        "\n",
        "mae_ml = mean_absolute_error(y_test, y_pred)\n",
        "print(f\"Mean absolute error: {mae_ml:.4f}\")"
      ],
      "metadata": {
        "colab": {
          "base_uri": "https://localhost:8080/"
        },
        "id": "wIG563sgkEFu",
        "outputId": "5e66b57c-4472-43f8-fc07-2a2f897531bf"
      },
      "execution_count": 60,
      "outputs": [
        {
          "output_type": "stream",
          "name": "stdout",
          "text": [
            "Mean absolute error: 0.5072\n"
          ]
        }
      ]
    },
    {
      "cell_type": "code",
      "source": [
        "X_train = np.column_stack((claim_train, claim_parent_train, stance_train, parent_vote_train))\n",
        "X_test = np.column_stack((claim_test, claim_parent_test, stance_test, parent_vote_test))"
      ],
      "metadata": {
        "id": "O8NchVAzkdHL"
      },
      "execution_count": 67,
      "outputs": []
    },
    {
      "cell_type": "code",
      "source": [
        "rf_reg = RandomForestRegressor(n_estimators=18, max_depth=10, criterion='mse').fit(X_train, y_train)\n",
        "y_pred = rf_reg.predict(X_test)\n",
        "\n",
        "mae_ml = mean_absolute_error(y_test, y_pred)\n",
        "print(f\"Mean absolute error: {mae_ml:.4f}\")"
      ],
      "metadata": {
        "outputId": "b266be9c-6b49-491b-c40c-d0f1f7241093",
        "colab": {
          "base_uri": "https://localhost:8080/"
        },
        "id": "Z41KcYgqkdHM"
      },
      "execution_count": 69,
      "outputs": [
        {
          "output_type": "stream",
          "name": "stdout",
          "text": [
            "Mean absolute error: 0.4569\n"
          ]
        }
      ]
    },
    {
      "cell_type": "markdown",
      "source": [
        "Removing the information about the claim and its parent, we find better results "
      ],
      "metadata": {
        "id": "JGdxvwdemFbb"
      }
    },
    {
      "cell_type": "code",
      "source": [
        "X_train = np.column_stack((stance_train, parent_vote_train))\n",
        "X_test = np.column_stack((stance_test, parent_vote_test))"
      ],
      "metadata": {
        "id": "QOWlyajbk3xG"
      },
      "execution_count": 70,
      "outputs": []
    },
    {
      "cell_type": "code",
      "source": [
        "rf_reg = RandomForestRegressor(n_estimators=18, max_depth=10, criterion='mse').fit(X_train, y_train)\n",
        "y_pred = rf_reg.predict(X_test)\n",
        "\n",
        "mae_ml = mean_absolute_error(y_test, y_pred)\n",
        "print(f\"Mean absolute error: {mae_ml:.4f}\")"
      ],
      "metadata": {
        "outputId": "21738db5-ebf6-45d1-bcce-6ab35cdad739",
        "colab": {
          "base_uri": "https://localhost:8080/"
        },
        "id": "MGP-6Jw5k3xH"
      },
      "execution_count": 77,
      "outputs": [
        {
          "output_type": "stream",
          "name": "stdout",
          "text": [
            "Mean absolute error: 0.4532\n"
          ]
        }
      ]
    },
    {
      "cell_type": "code",
      "source": [
        "X_train = np.column_stack((claim_train, claim_parent_train, stance_train, parent_vote_train, n_child_ratio_train))\n",
        "X_test = np.column_stack((claim_test, claim_parent_test, stance_test, parent_vote_test, n_child_ratio_test))"
      ],
      "metadata": {
        "id": "_Zr0rH8HlIDP"
      },
      "execution_count": 78,
      "outputs": []
    },
    {
      "cell_type": "code",
      "source": [
        "rf_reg = RandomForestRegressor(n_estimators=18, max_depth=10, criterion='mse').fit(X_train, y_train)\n",
        "y_pred = rf_reg.predict(X_test)\n",
        "\n",
        "mae_ml = mean_absolute_error(y_test, y_pred)\n",
        "print(f\"Mean absolute error: {mae_ml:.4f}\")"
      ],
      "metadata": {
        "outputId": "85be6b9b-6b32-463f-8d33-426d04a24c6e",
        "colab": {
          "base_uri": "https://localhost:8080/"
        },
        "id": "dpJUpsd3lIDQ"
      },
      "execution_count": 79,
      "outputs": [
        {
          "output_type": "stream",
          "name": "stdout",
          "text": [
            "Mean absolute error: 0.4718\n"
          ]
        }
      ]
    },
    {
      "cell_type": "markdown",
      "source": [
        "Removing the information about the claim and its parent, we find better results "
      ],
      "metadata": {
        "id": "YlFTjel1mmln"
      }
    },
    {
      "cell_type": "code",
      "source": [
        "X_train = np.column_stack((stance_train, parent_vote_train, n_child_ratio_train))\n",
        "X_test = np.column_stack((stance_test, parent_vote_test, n_child_ratio_test))"
      ],
      "metadata": {
        "id": "-mQesaIUlUKs"
      },
      "execution_count": 80,
      "outputs": []
    },
    {
      "cell_type": "code",
      "source": [
        "rf_reg = RandomForestRegressor(n_estimators=18, max_depth=10, criterion='mse').fit(X_train, y_train)\n",
        "y_pred = rf_reg.predict(X_test)\n",
        "\n",
        "mae_ml = mean_absolute_error(y_test, y_pred)\n",
        "print(f\"Mean absolute error: {mae_ml:.4f}\")"
      ],
      "metadata": {
        "outputId": "1187b7dd-d69f-4dfc-c889-035514705843",
        "colab": {
          "base_uri": "https://localhost:8080/"
        },
        "id": "2xScQnTxlUKs"
      },
      "execution_count": 81,
      "outputs": [
        {
          "output_type": "stream",
          "name": "stdout",
          "text": [
            "Mean absolute error: 0.4486\n"
          ]
        }
      ]
    }
  ]
}