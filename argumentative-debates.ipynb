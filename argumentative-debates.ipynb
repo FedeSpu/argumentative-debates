{
  "nbformat": 4,
  "nbformat_minor": 0,
  "metadata": {
    "colab": {
      "name": "colab-github.ipynb",
      "provenance": [],
      "collapsed_sections": []
    },
    "kernelspec": {
      "name": "python3",
      "display_name": "Python 3"
    },
    "language_info": {
      "name": "python"
    },
    "accelerator": "GPU"
  },
  "cells": [
    {
      "cell_type": "markdown",
      "source": [
        "Authors: Andrea Proia, Federico Spurio, Cristian Urbinati"
      ],
      "metadata": {
        "id": "97m2DQob8Y5M"
      }
    },
    {
      "cell_type": "code",
      "source": [
        "from google.colab import drive\n",
        "drive.mount('/content/drive')"
      ],
      "metadata": {
        "colab": {
          "base_uri": "https://localhost:8080/"
        },
        "id": "YWsGDyoXIHGH",
        "outputId": "88aa1d3a-43ae-4a0c-c2d3-4dd981c03ec7"
      },
      "execution_count": null,
      "outputs": [
        {
          "output_type": "stream",
          "name": "stdout",
          "text": [
            "Mounted at /content/drive\n"
          ]
        }
      ]
    },
    {
      "cell_type": "code",
      "source": [
        "%cd 'drive/MyDrive/NLP/project'"
      ],
      "metadata": {
        "colab": {
          "base_uri": "https://localhost:8080/"
        },
        "id": "SVhwapLtJbC9",
        "outputId": "17a79d21-e7dc-4a2c-9ee8-0856baab5cde"
      },
      "execution_count": null,
      "outputs": [
        {
          "output_type": "stream",
          "name": "stdout",
          "text": [
            "/content/drive/.shortcut-targets-by-id/121u2ns7zgxVc05UfWe1-JZYAnrIQ3iH9/NLP/project\n"
          ]
        }
      ]
    },
    {
      "cell_type": "markdown",
      "source": [
        "# Introduction"
      ],
      "metadata": {
        "id": "iCro-LF-OxyD"
      }
    },
    {
      "cell_type": "markdown",
      "source": [
        "1. dataset creation\n",
        "2. dataframe frome dataset adding tone and sentiment extracted from ibm funtion\n",
        "3. split in train/ valid/ test\n",
        "4. sentence embeddig\n",
        "5. model that accept sentence, tone and stance to do regression on impact -> maybe sucks\n",
        "6. add also the father node to the dataset (the post from which the current claim has been generated) and its impact\n",
        "7. try to combine sentece embeddin of the claim and its father with also the cosine similarity and add all new parameters to the model input\n",
        "8. think/ search for other attention mechanisms that can be coherent with the information that can be retrieved also in the test set\n",
        "\n",
        "extension (?):\n",
        "9. try to implement other mechanisms like SVM comparing results\n"
      ],
      "metadata": {
        "id": "83HFivYmx-29"
      }
    },
    {
      "cell_type": "markdown",
      "source": [
        "# Imports"
      ],
      "metadata": {
        "id": "kwjQGk1LOsvW"
      }
    },
    {
      "cell_type": "code",
      "execution_count": null,
      "metadata": {
        "id": "E1AnKVX45Ki3"
      },
      "outputs": [],
      "source": [
        "import numpy as np\n",
        "import pandas as pd\n",
        "from tqdm import tqdm\n",
        "from typing import List, Callable, Dict\n",
        "from collections import OrderedDict\n",
        "from itertools import groupby\n",
        "import datetime\n",
        "\n",
        "import os\n",
        "import re\n",
        "import unicodedata\n",
        "import ast\n",
        "\n",
        "import tensorflow as tf\n",
        "from tensorflow import keras\n",
        "from tensorflow.keras import layers\n",
        "\n",
        "import matplotlib.pyplot as plt\n",
        "from sklearn.metrics import f1_score, accuracy_score\n",
        "from sklearn.preprocessing import MultiLabelBinarizer"
      ]
    },
    {
      "cell_type": "markdown",
      "source": [
        "# Utility functions"
      ],
      "metadata": {
        "id": "65tz82L70qmQ"
      }
    },
    {
      "cell_type": "code",
      "source": [
        "def flat_list(list_to_flatten):\n",
        "  '''\n",
        "  Given a list of lists, returns the simple list flattened\n",
        "  '''\n",
        "  return [item for sublist in list_to_flatten for item in sublist]"
      ],
      "metadata": {
        "id": "6-sUX8Zk4mFa"
      },
      "execution_count": null,
      "outputs": []
    },
    {
      "cell_type": "code",
      "source": [
        "def clean_claim(claim):\n",
        "  '''\n",
        "  Given a claim from the dataset, returns the claim 'cleaned'\n",
        "  '''\n",
        "  # Delete links in format [sentence](link)\n",
        "  claim = re.sub(r'\\[|\\]|\\(http[\\w\\W]*?[^\\\\\\)][\\)]', '', claim).strip().lower()\n",
        "  # Replace all non words terms with a space and delete \\n, \\t, \\r, \\v\n",
        "  claim = re.sub(r'[^\\w\\s]|[\\n\\r\\t\\v]', ' ', claim).strip()\n",
        "  # Replace more spaces with only one\n",
        "  claim = re.sub(r' +', ' ', claim).strip()\n",
        "\n",
        "  return claim"
      ],
      "metadata": {
        "id": "1I6B9G9l0qJZ"
      },
      "execution_count": null,
      "outputs": []
    },
    {
      "cell_type": "markdown",
      "source": [
        "# Dataset creation\n",
        "This section can be skipped if the dataframe is loaded from the outside of this notebook"
      ],
      "metadata": {
        "id": "_KAWI__D8K1Q"
      }
    },
    {
      "cell_type": "code",
      "source": [
        "df = pd.DataFrame()"
      ],
      "metadata": {
        "id": "tTDQaUG4mI6M"
      },
      "execution_count": null,
      "outputs": []
    },
    {
      "cell_type": "markdown",
      "source": [
        "We create a vocabulary `debates`, that has as keys the names of the directories (named as the general topic), and as value all the name of the files (named as the debates on kialo) related to the general topic \n",
        "\n"
      ],
      "metadata": {
        "id": "g4OBVJGs8W44"
      }
    },
    {
      "cell_type": "code",
      "source": [
        "debates = {}\n",
        "for root, dirs, files in os.walk('.'):\n",
        "  if root == '.':\n",
        "    continue\n",
        "   \n",
        "  debate_names = [debate for debate in files if '.CSV' in debate and 'output' not in debate]\n",
        "  if debate_names:\n",
        "    debates[root] = debate_names\n",
        "\n",
        "print(debates)"
      ],
      "metadata": {
        "colab": {
          "base_uri": "https://localhost:8080/"
        },
        "id": "cHh3YTKevY5F",
        "outputId": "ba260831-ed69-438b-f715-957a56b0951b"
      },
      "execution_count": null,
      "outputs": [
        {
          "output_type": "stream",
          "name": "stdout",
          "text": [
            "{'./palestine': ['palestine.CSV'], './vegan': ['vegan.CSV'], './bull-fight': ['bull-fight.CSV'], './gun-control': ['gun-control.CSV'], './cheating-after-one-night': ['cheating.CSV'], './united-states-europe': ['useurope.CSV'], './nipples': ['nipples.CSV'], './monarchies': ['monarchies.CSV'], './harry-potter': ['harry-potter.CSV'], './alien-existence': ['alien.CSV'], './feminism-is-a-force': ['feminism-is-a-force.CSV'], './free-will-or-determinism': ['free-will-or-determinism.CSV'], './religion': ['people-should-not-follow-any-specific-religion.CSV', 'has-religion-been-a-good-thing-for-humanity.CSV', 'the-existence-of-god.CSV', 'god-exists.CSV'], './ubi': ['ubi.CSV']}\n"
          ]
        }
      ]
    },
    {
      "cell_type": "code",
      "source": [
        "debate_dir_list = []\n",
        "for key in debates.keys():\n",
        "  debate_dir_list.append([key + '/' + d for d in debates[key]])\n",
        "\n",
        "debate_dir_list = flat_list(debate_dir_list)\n",
        "print(debate_dir_list)\n",
        "sep = ';'"
      ],
      "metadata": {
        "colab": {
          "base_uri": "https://localhost:8080/"
        },
        "id": "phdXLD_E3h7u",
        "outputId": "c76081b7-e0e9-411e-e5e7-914540614cf6"
      },
      "execution_count": null,
      "outputs": [
        {
          "output_type": "stream",
          "name": "stdout",
          "text": [
            "['./palestine/palestine.CSV', './vegan/vegan.CSV', './bull-fight/bull-fight.CSV', './gun-control/gun-control.CSV', './cheating-after-one-night/cheating.CSV', './united-states-europe/useurope.CSV', './nipples/nipples.CSV', './monarchies/monarchies.CSV', './harry-potter/harry-potter.CSV', './alien-existence/alien.CSV', './feminism-is-a-force/feminism-is-a-force.CSV', './free-will-or-determinism/free-will-or-determinism.CSV', './religion/people-should-not-follow-any-specific-religion.CSV', './religion/has-religion-been-a-good-thing-for-humanity.CSV', './religion/the-existence-of-god.CSV', './religion/god-exists.CSV', './ubi/ubi.CSV']\n"
          ]
        }
      ]
    },
    {
      "cell_type": "markdown",
      "source": [
        "We read all the dataset scraped from Kialo, and merge them. After that, we do some preprocessing on the claims "
      ],
      "metadata": {
        "id": "BnXEhR41Pb7k"
      }
    },
    {
      "cell_type": "code",
      "source": [
        "for debate in debate_dir_list:\n",
        "  # The csv files under the religion folder have as separator ',', while the others have ';'\n",
        "  if 'religion' in debate:\n",
        "    dataset_csv = pd.read_csv(debate, quotechar='\"', sep=',', encoding='cp1252')\n",
        "  else:\n",
        "    dataset_csv = pd.read_csv(debate, quotechar='\"', sep=sep, encoding='cp1252')\n",
        "    \n",
        "  dataset_csv = dataset_csv.drop(columns=['Unnamed: 0'])\n",
        "\n",
        "  dataset_csv['Claim'] = dataset_csv['Claim'].apply(clean_claim)\n",
        "  dataset_csv['Debate_name'] = debate.split('/')[2].split('.')[0]\n",
        "  \n",
        "  df = df.append(dataset_csv, ignore_index=True)"
      ],
      "metadata": {
        "id": "21TIz7qL9EDw"
      },
      "execution_count": null,
      "outputs": []
    },
    {
      "cell_type": "code",
      "source": [
        "df"
      ],
      "metadata": {
        "colab": {
          "base_uri": "https://localhost:8080/",
          "height": 424
        },
        "id": "nKB1iGb29yaw",
        "outputId": "c6e6c1e6-4dc4-47c2-bde6-a1e9d94f707e"
      },
      "execution_count": null,
      "outputs": [
        {
          "output_type": "execute_result",
          "data": {
            "text/html": [
              "\n",
              "  <div id=\"df-26d2bcac-9d8f-4701-acfe-9cbfaab462be\">\n",
              "    <div class=\"colab-df-container\">\n",
              "      <div>\n",
              "<style scoped>\n",
              "    .dataframe tbody tr th:only-of-type {\n",
              "        vertical-align: middle;\n",
              "    }\n",
              "\n",
              "    .dataframe tbody tr th {\n",
              "        vertical-align: top;\n",
              "    }\n",
              "\n",
              "    .dataframe thead th {\n",
              "        text-align: right;\n",
              "    }\n",
              "</style>\n",
              "<table border=\"1\" class=\"dataframe\">\n",
              "  <thead>\n",
              "    <tr style=\"text-align: right;\">\n",
              "      <th></th>\n",
              "      <th>Level</th>\n",
              "      <th>Stance</th>\n",
              "      <th>Claim</th>\n",
              "      <th>Votes</th>\n",
              "      <th>Comments</th>\n",
              "      <th>Depth</th>\n",
              "      <th>Debate_name</th>\n",
              "    </tr>\n",
              "  </thead>\n",
              "  <tbody>\n",
              "    <tr>\n",
              "      <th>0</th>\n",
              "      <td>1</td>\n",
              "      <td>None</td>\n",
              "      <td>the us should recognize palestine as a state</td>\n",
              "      <td>['16', '7', '10', '14', '37']</td>\n",
              "      <td>NaN</td>\n",
              "      <td>0</td>\n",
              "      <td>palestine</td>\n",
              "    </tr>\n",
              "    <tr>\n",
              "      <th>1</th>\n",
              "      <td>1.1</td>\n",
              "      <td>pro</td>\n",
              "      <td>the us has an obligation to recognise palestin...</td>\n",
              "      <td>['1', '0', '0', '0', '0']</td>\n",
              "      <td>5</td>\n",
              "      <td>1</td>\n",
              "      <td>palestine</td>\n",
              "    </tr>\n",
              "    <tr>\n",
              "      <th>2</th>\n",
              "      <td>1.1.1</td>\n",
              "      <td>pro</td>\n",
              "      <td>public opinion in the us supports this step mo...</td>\n",
              "      <td>['0', '0', '0', '0', '0']</td>\n",
              "      <td>3</td>\n",
              "      <td>2</td>\n",
              "      <td>palestine</td>\n",
              "    </tr>\n",
              "    <tr>\n",
              "      <th>3</th>\n",
              "      <td>1.1.1.1</td>\n",
              "      <td>pro</td>\n",
              "      <td>two thirds of all americans and even almost ha...</td>\n",
              "      <td>['1', '1', '4', '10', '1']</td>\n",
              "      <td></td>\n",
              "      <td>3</td>\n",
              "      <td>palestine</td>\n",
              "    </tr>\n",
              "    <tr>\n",
              "      <th>4</th>\n",
              "      <td>1.1.1.1.1</td>\n",
              "      <td>pro</td>\n",
              "      <td>the us historical pattern of vetoing nearly ev...</td>\n",
              "      <td>['0', '1', '6', '7', '0']</td>\n",
              "      <td>1</td>\n",
              "      <td>4</td>\n",
              "      <td>palestine</td>\n",
              "    </tr>\n",
              "    <tr>\n",
              "      <th>...</th>\n",
              "      <td>...</td>\n",
              "      <td>...</td>\n",
              "      <td>...</td>\n",
              "      <td>...</td>\n",
              "      <td>...</td>\n",
              "      <td>...</td>\n",
              "      <td>...</td>\n",
              "    </tr>\n",
              "    <tr>\n",
              "      <th>22543</th>\n",
              "      <td>1.7.5.2.1.1</td>\n",
              "      <td>pro</td>\n",
              "      <td>conservatives aren t in favor of higher taxes ...</td>\n",
              "      <td>['0', '0', '0', '0', '0']</td>\n",
              "      <td></td>\n",
              "      <td>5</td>\n",
              "      <td>ubi</td>\n",
              "    </tr>\n",
              "    <tr>\n",
              "      <th>22544</th>\n",
              "      <td>1.7.5.2.2</td>\n",
              "      <td>pro</td>\n",
              "      <td>a ubi would not necessarily downsize the gover...</td>\n",
              "      <td>['0', '0', '0', '0', '0']</td>\n",
              "      <td></td>\n",
              "      <td>4</td>\n",
              "      <td>ubi</td>\n",
              "    </tr>\n",
              "    <tr>\n",
              "      <th>22545</th>\n",
              "      <td>1.7.5.2.2.1</td>\n",
              "      <td>con</td>\n",
              "      <td>ubi could at least partially replace some gove...</td>\n",
              "      <td>['0', '0', '0', '0', '0']</td>\n",
              "      <td>5</td>\n",
              "      <td>5</td>\n",
              "      <td>ubi</td>\n",
              "    </tr>\n",
              "    <tr>\n",
              "      <th>22546</th>\n",
              "      <td>1.7.5.2.2.1.1</td>\n",
              "      <td>pro</td>\n",
              "      <td>unlike cash transfers assistance programs like...</td>\n",
              "      <td>['0', '0', '0', '0', '0']</td>\n",
              "      <td>1</td>\n",
              "      <td>6</td>\n",
              "      <td>ubi</td>\n",
              "    </tr>\n",
              "    <tr>\n",
              "      <th>22547</th>\n",
              "      <td>1.7.5.2.3</td>\n",
              "      <td>con</td>\n",
              "      <td>conservative goals often reduce safety stabili...</td>\n",
              "      <td>['1', '0', '0', '0', '0']</td>\n",
              "      <td></td>\n",
              "      <td>4</td>\n",
              "      <td>ubi</td>\n",
              "    </tr>\n",
              "  </tbody>\n",
              "</table>\n",
              "<p>22548 rows × 7 columns</p>\n",
              "</div>\n",
              "      <button class=\"colab-df-convert\" onclick=\"convertToInteractive('df-26d2bcac-9d8f-4701-acfe-9cbfaab462be')\"\n",
              "              title=\"Convert this dataframe to an interactive table.\"\n",
              "              style=\"display:none;\">\n",
              "        \n",
              "  <svg xmlns=\"http://www.w3.org/2000/svg\" height=\"24px\"viewBox=\"0 0 24 24\"\n",
              "       width=\"24px\">\n",
              "    <path d=\"M0 0h24v24H0V0z\" fill=\"none\"/>\n",
              "    <path d=\"M18.56 5.44l.94 2.06.94-2.06 2.06-.94-2.06-.94-.94-2.06-.94 2.06-2.06.94zm-11 1L8.5 8.5l.94-2.06 2.06-.94-2.06-.94L8.5 2.5l-.94 2.06-2.06.94zm10 10l.94 2.06.94-2.06 2.06-.94-2.06-.94-.94-2.06-.94 2.06-2.06.94z\"/><path d=\"M17.41 7.96l-1.37-1.37c-.4-.4-.92-.59-1.43-.59-.52 0-1.04.2-1.43.59L10.3 9.45l-7.72 7.72c-.78.78-.78 2.05 0 2.83L4 21.41c.39.39.9.59 1.41.59.51 0 1.02-.2 1.41-.59l7.78-7.78 2.81-2.81c.8-.78.8-2.07 0-2.86zM5.41 20L4 18.59l7.72-7.72 1.47 1.35L5.41 20z\"/>\n",
              "  </svg>\n",
              "      </button>\n",
              "      \n",
              "  <style>\n",
              "    .colab-df-container {\n",
              "      display:flex;\n",
              "      flex-wrap:wrap;\n",
              "      gap: 12px;\n",
              "    }\n",
              "\n",
              "    .colab-df-convert {\n",
              "      background-color: #E8F0FE;\n",
              "      border: none;\n",
              "      border-radius: 50%;\n",
              "      cursor: pointer;\n",
              "      display: none;\n",
              "      fill: #1967D2;\n",
              "      height: 32px;\n",
              "      padding: 0 0 0 0;\n",
              "      width: 32px;\n",
              "    }\n",
              "\n",
              "    .colab-df-convert:hover {\n",
              "      background-color: #E2EBFA;\n",
              "      box-shadow: 0px 1px 2px rgba(60, 64, 67, 0.3), 0px 1px 3px 1px rgba(60, 64, 67, 0.15);\n",
              "      fill: #174EA6;\n",
              "    }\n",
              "\n",
              "    [theme=dark] .colab-df-convert {\n",
              "      background-color: #3B4455;\n",
              "      fill: #D2E3FC;\n",
              "    }\n",
              "\n",
              "    [theme=dark] .colab-df-convert:hover {\n",
              "      background-color: #434B5C;\n",
              "      box-shadow: 0px 1px 3px 1px rgba(0, 0, 0, 0.15);\n",
              "      filter: drop-shadow(0px 1px 2px rgba(0, 0, 0, 0.3));\n",
              "      fill: #FFFFFF;\n",
              "    }\n",
              "  </style>\n",
              "\n",
              "      <script>\n",
              "        const buttonEl =\n",
              "          document.querySelector('#df-26d2bcac-9d8f-4701-acfe-9cbfaab462be button.colab-df-convert');\n",
              "        buttonEl.style.display =\n",
              "          google.colab.kernel.accessAllowed ? 'block' : 'none';\n",
              "\n",
              "        async function convertToInteractive(key) {\n",
              "          const element = document.querySelector('#df-26d2bcac-9d8f-4701-acfe-9cbfaab462be');\n",
              "          const dataTable =\n",
              "            await google.colab.kernel.invokeFunction('convertToInteractive',\n",
              "                                                     [key], {});\n",
              "          if (!dataTable) return;\n",
              "\n",
              "          const docLinkHtml = 'Like what you see? Visit the ' +\n",
              "            '<a target=\"_blank\" href=https://colab.research.google.com/notebooks/data_table.ipynb>data table notebook</a>'\n",
              "            + ' to learn more about interactive tables.';\n",
              "          element.innerHTML = '';\n",
              "          dataTable['output_type'] = 'display_data';\n",
              "          await google.colab.output.renderOutput(dataTable, element);\n",
              "          const docLink = document.createElement('div');\n",
              "          docLink.innerHTML = docLinkHtml;\n",
              "          element.appendChild(docLink);\n",
              "        }\n",
              "      </script>\n",
              "    </div>\n",
              "  </div>\n",
              "  "
            ],
            "text/plain": [
              "               Level Stance  ... Depth Debate_name\n",
              "0                  1   None  ...     0   palestine\n",
              "1                1.1    pro  ...     1   palestine\n",
              "2              1.1.1    pro  ...     2   palestine\n",
              "3            1.1.1.1    pro  ...     3   palestine\n",
              "4          1.1.1.1.1    pro  ...     4   palestine\n",
              "...              ...    ...  ...   ...         ...\n",
              "22543    1.7.5.2.1.1    pro  ...     5         ubi\n",
              "22544      1.7.5.2.2    pro  ...     4         ubi\n",
              "22545    1.7.5.2.2.1    con  ...     5         ubi\n",
              "22546  1.7.5.2.2.1.1    pro  ...     6         ubi\n",
              "22547      1.7.5.2.3    con  ...     4         ubi\n",
              "\n",
              "[22548 rows x 7 columns]"
            ]
          },
          "metadata": {},
          "execution_count": 37
        }
      ]
    },
    {
      "cell_type": "markdown",
      "source": [
        "## Complete dataset\n",
        "We manipulate the above dataset, adding columns useful for further processing"
      ],
      "metadata": {
        "id": "3Isw5mV-MPF0"
      }
    },
    {
      "cell_type": "code",
      "source": [
        "# The list of votes of the csv file is a string; \n",
        "# this line of code convert the string into a list of integer\n",
        "df['Votes'] = df['Votes'].apply(lambda x: [int(elem) for elem in ast.literal_eval(x)])\n",
        "df['Tot_votes'] = df['Votes'].apply(lambda x: sum(x))\n",
        "\n",
        "# np.average does not deal with all weights be zeros. So we add a small quantity \n",
        "# and later remove entries with zero votes\n",
        "df['Mean_vote'] = df['Votes'].apply(lambda x: np.average([0,1,2,3,4], weights=[(a + 1e-8) for a in x], axis=0))\n",
        "df['Mean_vote'] = df['Mean_vote'].apply(lambda x: np.around(x, 1))\n",
        "\n",
        "# If the number of total votes are zero, we put zero as mean \n",
        "# (also because we don't deal with them in the computational part)\n",
        "df.loc[df['Tot_votes'] == 0, 'Mean_vote'] = 0"
      ],
      "metadata": {
        "id": "YOWt3S2vG_no"
      },
      "execution_count": null,
      "outputs": []
    },
    {
      "cell_type": "code",
      "source": [
        "# For each claim, we add columns for the claim, the mean vote and the stance of the parent node\n",
        "def retrieve_parent_info(level, debate, column_info: str):\n",
        "  parentLevel = level.rsplit('.', 1)[0]\n",
        "  return df.loc[(df['Level']  == parentLevel) & (df['Debate_name']  == debate)][column_info].values[0] if (len(parentLevel) > 0) else \"None\""
      ],
      "metadata": {
        "id": "7td6buxg_QMS"
      },
      "execution_count": null,
      "outputs": []
    },
    {
      "cell_type": "code",
      "source": [
        "df[\"Parent_claim\"] = df.apply(lambda row: retrieve_parent_info(row['Level'], row['Debate_name'], 'Claim'), axis=1)\n",
        "df[\"Parent_vote\"] = df.apply(lambda row: retrieve_parent_info(row['Level'], row['Debate_name'], 'Mean_vote'), axis=1)\n",
        "df[\"Parent_stance\"] = df.apply(lambda row: retrieve_parent_info(row['Level'], row['Debate_name'], 'Stance'), axis=1)"
      ],
      "metadata": {
        "id": "jrSx0qM4YcEl"
      },
      "execution_count": null,
      "outputs": []
    },
    {
      "cell_type": "code",
      "source": [
        "# Drop the main claim; it has no stance\n",
        "df = df.drop(df[df['Stance'] == 'None'].index) \n",
        "# Drop claims with less than 2 votes\n",
        "df = df.drop(df[df['Tot_votes'] < 2].index) \n",
        "df = df.reset_index()"
      ],
      "metadata": {
        "id": "CqCOjbbLj3x_"
      },
      "execution_count": null,
      "outputs": []
    },
    {
      "cell_type": "code",
      "source": [
        "df"
      ],
      "metadata": {
        "colab": {
          "base_uri": "https://localhost:8080/",
          "height": 641
        },
        "id": "ePyks2l8JxUn",
        "outputId": "4f5b6030-61e2-426e-9d31-2193b9f162fe"
      },
      "execution_count": null,
      "outputs": [
        {
          "output_type": "execute_result",
          "data": {
            "text/html": [
              "\n",
              "  <div id=\"df-c38eb0de-62d0-4986-b8f5-ccd2dbf7ab13\">\n",
              "    <div class=\"colab-df-container\">\n",
              "      <div>\n",
              "<style scoped>\n",
              "    .dataframe tbody tr th:only-of-type {\n",
              "        vertical-align: middle;\n",
              "    }\n",
              "\n",
              "    .dataframe tbody tr th {\n",
              "        vertical-align: top;\n",
              "    }\n",
              "\n",
              "    .dataframe thead th {\n",
              "        text-align: right;\n",
              "    }\n",
              "</style>\n",
              "<table border=\"1\" class=\"dataframe\">\n",
              "  <thead>\n",
              "    <tr style=\"text-align: right;\">\n",
              "      <th></th>\n",
              "      <th>index</th>\n",
              "      <th>Level</th>\n",
              "      <th>Stance</th>\n",
              "      <th>Claim</th>\n",
              "      <th>Votes</th>\n",
              "      <th>Comments</th>\n",
              "      <th>Depth</th>\n",
              "      <th>Debate_name</th>\n",
              "      <th>Tot_votes</th>\n",
              "      <th>Mean_vote</th>\n",
              "      <th>Parent_claim</th>\n",
              "      <th>Parent_vote</th>\n",
              "      <th>Parent_stance</th>\n",
              "    </tr>\n",
              "  </thead>\n",
              "  <tbody>\n",
              "    <tr>\n",
              "      <th>0</th>\n",
              "      <td>3</td>\n",
              "      <td>1.1.1.1</td>\n",
              "      <td>pro</td>\n",
              "      <td>two thirds of all americans and even almost ha...</td>\n",
              "      <td>[1, 1, 4, 10, 1]</td>\n",
              "      <td></td>\n",
              "      <td>3</td>\n",
              "      <td>palestine</td>\n",
              "      <td>17</td>\n",
              "      <td>2.5</td>\n",
              "      <td>public opinion in the us supports this step mo...</td>\n",
              "      <td>0.0</td>\n",
              "      <td>pro</td>\n",
              "    </tr>\n",
              "    <tr>\n",
              "      <th>1</th>\n",
              "      <td>4</td>\n",
              "      <td>1.1.1.1.1</td>\n",
              "      <td>pro</td>\n",
              "      <td>the us historical pattern of vetoing nearly ev...</td>\n",
              "      <td>[0, 1, 6, 7, 0]</td>\n",
              "      <td>1</td>\n",
              "      <td>4</td>\n",
              "      <td>palestine</td>\n",
              "      <td>14</td>\n",
              "      <td>2.4</td>\n",
              "      <td>two thirds of all americans and even almost ha...</td>\n",
              "      <td>2.5</td>\n",
              "      <td>pro</td>\n",
              "    </tr>\n",
              "    <tr>\n",
              "      <th>2</th>\n",
              "      <td>22</td>\n",
              "      <td>1.1.1.3.1</td>\n",
              "      <td>pro</td>\n",
              "      <td>by being the first major western country to re...</td>\n",
              "      <td>[0, 1, 5, 9, 0]</td>\n",
              "      <td>10</td>\n",
              "      <td>4</td>\n",
              "      <td>palestine</td>\n",
              "      <td>15</td>\n",
              "      <td>2.5</td>\n",
              "      <td>the us is one of the world s most influential ...</td>\n",
              "      <td>0.0</td>\n",
              "      <td>pro</td>\n",
              "    </tr>\n",
              "    <tr>\n",
              "      <th>3</th>\n",
              "      <td>25</td>\n",
              "      <td>1.1.1.3.3</td>\n",
              "      <td>con</td>\n",
              "      <td>the united states is too late to serve as an i...</td>\n",
              "      <td>[1, 2, 10, 3, 0]</td>\n",
              "      <td>16</td>\n",
              "      <td>4</td>\n",
              "      <td>palestine</td>\n",
              "      <td>16</td>\n",
              "      <td>1.9</td>\n",
              "      <td>the us is one of the world s most influential ...</td>\n",
              "      <td>0.0</td>\n",
              "      <td>pro</td>\n",
              "    </tr>\n",
              "    <tr>\n",
              "      <th>4</th>\n",
              "      <td>26</td>\n",
              "      <td>1.1.1.4</td>\n",
              "      <td>con</td>\n",
              "      <td>the ignorance of the american people could cau...</td>\n",
              "      <td>[1, 3, 2, 2, 1]</td>\n",
              "      <td>32</td>\n",
              "      <td>3</td>\n",
              "      <td>palestine</td>\n",
              "      <td>9</td>\n",
              "      <td>1.9</td>\n",
              "      <td>public opinion in the us supports this step mo...</td>\n",
              "      <td>0.0</td>\n",
              "      <td>pro</td>\n",
              "    </tr>\n",
              "    <tr>\n",
              "      <th>...</th>\n",
              "      <td>...</td>\n",
              "      <td>...</td>\n",
              "      <td>...</td>\n",
              "      <td>...</td>\n",
              "      <td>...</td>\n",
              "      <td>...</td>\n",
              "      <td>...</td>\n",
              "      <td>...</td>\n",
              "      <td>...</td>\n",
              "      <td>...</td>\n",
              "      <td>...</td>\n",
              "      <td>...</td>\n",
              "      <td>...</td>\n",
              "    </tr>\n",
              "    <tr>\n",
              "      <th>9494</th>\n",
              "      <td>22529</td>\n",
              "      <td>1.7.4.8.2.3</td>\n",
              "      <td>con</td>\n",
              "      <td>by financing ubi through this system it would ...</td>\n",
              "      <td>[0, 0, 2, 0, 0]</td>\n",
              "      <td></td>\n",
              "      <td>5</td>\n",
              "      <td>ubi</td>\n",
              "      <td>2</td>\n",
              "      <td>2.0</td>\n",
              "      <td>a ubi will empower the politically marginalize...</td>\n",
              "      <td>0.0</td>\n",
              "      <td>pro</td>\n",
              "    </tr>\n",
              "    <tr>\n",
              "      <th>9495</th>\n",
              "      <td>22533</td>\n",
              "      <td>1.7.4.8.3.2.1</td>\n",
              "      <td>con</td>\n",
              "      <td>this same logic could also be applied to all o...</td>\n",
              "      <td>[0, 0, 10, 5, 0]</td>\n",
              "      <td></td>\n",
              "      <td>6</td>\n",
              "      <td>ubi</td>\n",
              "      <td>15</td>\n",
              "      <td>2.3</td>\n",
              "      <td>if wealthy people already feel as though they ...</td>\n",
              "      <td>0.0</td>\n",
              "      <td>pro</td>\n",
              "    </tr>\n",
              "    <tr>\n",
              "      <th>9496</th>\n",
              "      <td>22534</td>\n",
              "      <td>1.7.4.8.3.2.2</td>\n",
              "      <td>con</td>\n",
              "      <td>what the wealthy want and desire becomes less ...</td>\n",
              "      <td>[0, 6, 7, 2, 0]</td>\n",
              "      <td></td>\n",
              "      <td>6</td>\n",
              "      <td>ubi</td>\n",
              "      <td>15</td>\n",
              "      <td>1.7</td>\n",
              "      <td>if wealthy people already feel as though they ...</td>\n",
              "      <td>0.0</td>\n",
              "      <td>pro</td>\n",
              "    </tr>\n",
              "    <tr>\n",
              "      <th>9497</th>\n",
              "      <td>22537</td>\n",
              "      <td>1.7.4.8.3.6</td>\n",
              "      <td>con</td>\n",
              "      <td>those high tax payers already control the stat...</td>\n",
              "      <td>[0, 0, 1, 1, 0]</td>\n",
              "      <td></td>\n",
              "      <td>5</td>\n",
              "      <td>ubi</td>\n",
              "      <td>2</td>\n",
              "      <td>2.5</td>\n",
              "      <td>a ubi together with automation will strengthen...</td>\n",
              "      <td>0.0</td>\n",
              "      <td>con</td>\n",
              "    </tr>\n",
              "    <tr>\n",
              "      <th>9498</th>\n",
              "      <td>22540</td>\n",
              "      <td>1.7.5.1</td>\n",
              "      <td>pro</td>\n",
              "      <td>andrew yang is gaining support for his 2020 pr...</td>\n",
              "      <td>[0, 0, 0, 0, 2]</td>\n",
              "      <td>5</td>\n",
              "      <td>3</td>\n",
              "      <td>ubi</td>\n",
              "      <td>2</td>\n",
              "      <td>4.0</td>\n",
              "      <td>a ubi achieves both the progressive goal of pr...</td>\n",
              "      <td>0.0</td>\n",
              "      <td>con</td>\n",
              "    </tr>\n",
              "  </tbody>\n",
              "</table>\n",
              "<p>9499 rows × 13 columns</p>\n",
              "</div>\n",
              "      <button class=\"colab-df-convert\" onclick=\"convertToInteractive('df-c38eb0de-62d0-4986-b8f5-ccd2dbf7ab13')\"\n",
              "              title=\"Convert this dataframe to an interactive table.\"\n",
              "              style=\"display:none;\">\n",
              "        \n",
              "  <svg xmlns=\"http://www.w3.org/2000/svg\" height=\"24px\"viewBox=\"0 0 24 24\"\n",
              "       width=\"24px\">\n",
              "    <path d=\"M0 0h24v24H0V0z\" fill=\"none\"/>\n",
              "    <path d=\"M18.56 5.44l.94 2.06.94-2.06 2.06-.94-2.06-.94-.94-2.06-.94 2.06-2.06.94zm-11 1L8.5 8.5l.94-2.06 2.06-.94-2.06-.94L8.5 2.5l-.94 2.06-2.06.94zm10 10l.94 2.06.94-2.06 2.06-.94-2.06-.94-.94-2.06-.94 2.06-2.06.94z\"/><path d=\"M17.41 7.96l-1.37-1.37c-.4-.4-.92-.59-1.43-.59-.52 0-1.04.2-1.43.59L10.3 9.45l-7.72 7.72c-.78.78-.78 2.05 0 2.83L4 21.41c.39.39.9.59 1.41.59.51 0 1.02-.2 1.41-.59l7.78-7.78 2.81-2.81c.8-.78.8-2.07 0-2.86zM5.41 20L4 18.59l7.72-7.72 1.47 1.35L5.41 20z\"/>\n",
              "  </svg>\n",
              "      </button>\n",
              "      \n",
              "  <style>\n",
              "    .colab-df-container {\n",
              "      display:flex;\n",
              "      flex-wrap:wrap;\n",
              "      gap: 12px;\n",
              "    }\n",
              "\n",
              "    .colab-df-convert {\n",
              "      background-color: #E8F0FE;\n",
              "      border: none;\n",
              "      border-radius: 50%;\n",
              "      cursor: pointer;\n",
              "      display: none;\n",
              "      fill: #1967D2;\n",
              "      height: 32px;\n",
              "      padding: 0 0 0 0;\n",
              "      width: 32px;\n",
              "    }\n",
              "\n",
              "    .colab-df-convert:hover {\n",
              "      background-color: #E2EBFA;\n",
              "      box-shadow: 0px 1px 2px rgba(60, 64, 67, 0.3), 0px 1px 3px 1px rgba(60, 64, 67, 0.15);\n",
              "      fill: #174EA6;\n",
              "    }\n",
              "\n",
              "    [theme=dark] .colab-df-convert {\n",
              "      background-color: #3B4455;\n",
              "      fill: #D2E3FC;\n",
              "    }\n",
              "\n",
              "    [theme=dark] .colab-df-convert:hover {\n",
              "      background-color: #434B5C;\n",
              "      box-shadow: 0px 1px 3px 1px rgba(0, 0, 0, 0.15);\n",
              "      filter: drop-shadow(0px 1px 2px rgba(0, 0, 0, 0.3));\n",
              "      fill: #FFFFFF;\n",
              "    }\n",
              "  </style>\n",
              "\n",
              "      <script>\n",
              "        const buttonEl =\n",
              "          document.querySelector('#df-c38eb0de-62d0-4986-b8f5-ccd2dbf7ab13 button.colab-df-convert');\n",
              "        buttonEl.style.display =\n",
              "          google.colab.kernel.accessAllowed ? 'block' : 'none';\n",
              "\n",
              "        async function convertToInteractive(key) {\n",
              "          const element = document.querySelector('#df-c38eb0de-62d0-4986-b8f5-ccd2dbf7ab13');\n",
              "          const dataTable =\n",
              "            await google.colab.kernel.invokeFunction('convertToInteractive',\n",
              "                                                     [key], {});\n",
              "          if (!dataTable) return;\n",
              "\n",
              "          const docLinkHtml = 'Like what you see? Visit the ' +\n",
              "            '<a target=\"_blank\" href=https://colab.research.google.com/notebooks/data_table.ipynb>data table notebook</a>'\n",
              "            + ' to learn more about interactive tables.';\n",
              "          element.innerHTML = '';\n",
              "          dataTable['output_type'] = 'display_data';\n",
              "          await google.colab.output.renderOutput(dataTable, element);\n",
              "          const docLink = document.createElement('div');\n",
              "          docLink.innerHTML = docLinkHtml;\n",
              "          element.appendChild(docLink);\n",
              "        }\n",
              "      </script>\n",
              "    </div>\n",
              "  </div>\n",
              "  "
            ],
            "text/plain": [
              "      index          Level  ... Parent_vote Parent_stance\n",
              "0         3        1.1.1.1  ...         0.0           pro\n",
              "1         4      1.1.1.1.1  ...         2.5           pro\n",
              "2        22      1.1.1.3.1  ...         0.0           pro\n",
              "3        25      1.1.1.3.3  ...         0.0           pro\n",
              "4        26        1.1.1.4  ...         0.0           pro\n",
              "...     ...            ...  ...         ...           ...\n",
              "9494  22529    1.7.4.8.2.3  ...         0.0           pro\n",
              "9495  22533  1.7.4.8.3.2.1  ...         0.0           pro\n",
              "9496  22534  1.7.4.8.3.2.2  ...         0.0           pro\n",
              "9497  22537    1.7.4.8.3.6  ...         0.0           con\n",
              "9498  22540        1.7.5.1  ...         0.0           con\n",
              "\n",
              "[9499 rows x 13 columns]"
            ]
          },
          "metadata": {},
          "execution_count": 42
        }
      ]
    },
    {
      "cell_type": "markdown",
      "source": [
        "# Graphs and Histograms"
      ],
      "metadata": {
        "id": "F98U6Be1DQfL"
      }
    },
    {
      "cell_type": "markdown",
      "source": [
        "- La profondità è legata al numero di voti ma non al voto medio\n",
        "- Utilizzare il numero di voti per pesare il train in modo che dia più importanza alle predizioni sbagliate se nei primi livelli (normalizzati)"
      ],
      "metadata": {
        "id": "Uo3aY_e-rKxw"
      }
    },
    {
      "cell_type": "code",
      "source": [
        "import matplotlib as mpl\n",
        "import matplotlib.pyplot as plt\n",
        "plt.rcParams[\"figure.figsize\"] = (10,5)"
      ],
      "metadata": {
        "id": "_iC9_YNA6Lwm"
      },
      "execution_count": null,
      "outputs": []
    },
    {
      "cell_type": "code",
      "source": [
        "def show_histogram_tot_votes(df):\n",
        "  '''\n",
        "  Plot the histogram of total singular votes (that are integer between 0 and 4), \n",
        "  given a dataframe with column 'Votes'\n",
        "  '''\n",
        "  votes = np.zeros(5)\n",
        "  for v in df['Votes'].values:\n",
        "    votes += v\n",
        "    \n",
        "  votes = [int(v) for v in list(votes)]\n",
        "  plt.bar(range(0,5), votes)\n",
        "  plt.show()\n",
        "\n",
        "show_histogram_tot_votes(df)"
      ],
      "metadata": {
        "colab": {
          "base_uri": "https://localhost:8080/",
          "height": 320
        },
        "id": "tdYleDd36Kk6",
        "outputId": "6d32c4ab-79ec-441f-ca9b-c9b65bce3cc6"
      },
      "execution_count": null,
      "outputs": [
        {
          "output_type": "display_data",
          "data": {
            "image/png": "[encoded data removed]",
            "text/plain": [
              "<Figure size 720x360 with 1 Axes>"
            ]
          },
          "metadata": {
            "needs_background": "light"
          }
        }
      ]
    },
    {
      "cell_type": "code",
      "source": [
        "def show_histogram_mean_votes(df):\n",
        "  '''\n",
        "  Plot the histogram of the sum of mean vote of each claim\n",
        "  '''\n",
        "  d = df['Mean_vote'].round().values\n",
        "  plt.bar(*np.unique(d, return_counts=True))\n",
        "  plt.show()\n",
        "\n",
        "\n",
        "  d = df['Mean_vote'].values\n",
        "  plt.bar(*np.unique(d, return_counts=True), width=0.1)\n",
        "  plt.show()\n",
        "\n",
        "show_histogram_mean_votes(df)"
      ],
      "metadata": {
        "colab": {
          "base_uri": "https://localhost:8080/",
          "height": 623
        },
        "id": "J_9S1Q8M6i6b",
        "outputId": "3ddd8807-0c32-4520-8857-2feeb719923c"
      },
      "execution_count": null,
      "outputs": [
        {
          "output_type": "display_data",
          "data": {
            "image/png": "[encoded data removed]",
            "text/plain": [
              "<Figure size 720x360 with 1 Axes>"
            ]
          },
          "metadata": {
            "needs_background": "light"
          }
        },
        {
          "output_type": "display_data",
          "data": {
            "image/png": "[encoded data removed]",
            "text/plain": [
              "<Figure size 720x360 with 1 Axes>"
            ]
          },
          "metadata": {
            "needs_background": "light"
          }
        }
      ]
    },
    {
      "cell_type": "code",
      "source": [
        "dabate_vs_totVotes = df[['Debate_name', 'Depth','Tot_votes']].groupby(['Debate_name', 'Depth'], as_index=False).sum()\n",
        "dabate_vs_meanVote = df[['Debate_name', 'Depth','Mean_vote']].groupby(['Debate_name', 'Depth'], as_index=False).mean()\n",
        "\n",
        "for debate in dabate_vs_totVotes['Debate_name'].unique():\n",
        "  depths = dabate_vs_totVotes[dabate_vs_totVotes['Debate_name'] == debate]['Depth'].values\n",
        "  tot_votes = dabate_vs_totVotes[dabate_vs_totVotes['Debate_name'] == debate]['Tot_votes'].values\n",
        "  mean_vote = dabate_vs_meanVote[dabate_vs_meanVote['Debate_name'] == debate]['Mean_vote'].values\n",
        "\n",
        "  cmap = mpl.cm.viridis_r\n",
        "  norm = mpl.colors.Normalize(vmin=0, vmax=4)\n",
        "\n",
        "  plt.title(f'Debate: {debate}')\n",
        "  plt.xlabel('Depth')\n",
        "  plt.ylabel('Tot votes (%)')\n",
        "  plt.xticks(range(max(depths) + 1))\n",
        "  plt.colorbar(mpl.cm.ScalarMappable(norm=norm, cmap=cmap), label='Mean vote')\n",
        "  plt.bar(depths, tot_votes/sum(tot_votes) * 100, color=cmap(norm(mean_vote)))\n",
        "  plt.show()"
      ],
      "metadata": {
        "colab": {
          "base_uri": "https://localhost:8080/",
          "height": 1000
        },
        "id": "iw8MDL_F7vdF",
        "outputId": "fa81e8f2-e820-4523-9812-6f7a9aed69a6"
      },
      "execution_count": null,
      "outputs": [
        {
          "output_type": "display_data",
          "data": {
            "image/png": "[encoded data removed]",
            "text/plain": [
              "<Figure size 720x360 with 2 Axes>"
            ]
          },
          "metadata": {
            "needs_background": "light"
          }
        },
        {
          "output_type": "display_data",
          "data": {
            "image/png": "[encoded data removed]",
            "text/plain": [
              "<Figure size 720x360 with 2 Axes>"
            ]
          },
          "metadata": {
            "needs_background": "light"
          }
        },
        {
          "output_type": "display_data",
          "data": {
            "image/png": "[encoded data removed]",
            "text/plain": [
              "<Figure size 720x360 with 2 Axes>"
            ]
          },
          "metadata": {
            "needs_background": "light"
          }
        },
        {
          "output_type": "display_data",
          "data": {
            "image/png": "[encoded data removed]",
            "text/plain": [
              "<Figure size 720x360 with 2 Axes>"
            ]
          },
          "metadata": {
            "needs_background": "light"
          }
        },
        {
          "output_type": "display_data",
          "data": {
            "image/png": "[encoded data removed]",
            "text/plain": [
              "<Figure size 720x360 with 2 Axes>"
            ]
          },
          "metadata": {
            "needs_background": "light"
          }
        },
        {
          "output_type": "display_data",
          "data": {
            "image/png": "[encoded data removed]",
            "text/plain": [
              "<Figure size 720x360 with 2 Axes>"
            ]
          },
          "metadata": {
            "needs_background": "light"
          }
        },
        {
          "output_type": "display_data",
          "data": {
            "image/png": "[encoded data removed]",
            "text/plain": [
              "<Figure size 720x360 with 2 Axes>"
            ]
          },
          "metadata": {
            "needs_background": "light"
          }
        },
        {
          "output_type": "display_data",
          "data": {
            "image/png": "[encoded data removed]",
            "text/plain": [
              "<Figure size 720x360 with 2 Axes>"
            ]
          },
          "metadata": {
            "needs_background": "light"
          }
        },
        {
          "output_type": "display_data",
          "data": {
            "image/png": "[encoded data removed]",
            "text/plain": [
              "<Figure size 720x360 with 2 Axes>"
            ]
          },
          "metadata": {
            "needs_background": "light"
          }
        },
        {
          "output_type": "display_data",
          "data": {
            "image/png": "[encoded data removed]",
            "text/plain": [
              "<Figure size 720x360 with 2 Axes>"
            ]
          },
          "metadata": {
            "needs_background": "light"
          }
        },
        {
          "output_type": "display_data",
          "data": {
            "image/png": "[encoded data removed]",
            "text/plain": [
              "<Figure size 720x360 with 2 Axes>"
            ]
          },
          "metadata": {
            "needs_background": "light"
          }
        },
        {
          "output_type": "display_data",
          "data": {
            "image/png": "[encoded data removed]",
            "text/plain": [
              "<Figure size 720x360 with 2 Axes>"
            ]
          },
          "metadata": {
            "needs_background": "light"
          }
        },
        {
          "output_type": "display_data",
          "data": {
            "image/png": "[encoded data removed]",
            "text/plain": [
              "<Figure size 720x360 with 2 Axes>"
            ]
          },
          "metadata": {
            "needs_background": "light"
          }
        },
        {
          "output_type": "display_data",
          "data": {
            "image/png": "[encoded data removed]",
            "text/plain": [
              "<Figure size 720x360 with 2 Axes>"
            ]
          },
          "metadata": {
            "needs_background": "light"
          }
        },
        {
          "output_type": "display_data",
          "data": {
            "image/png": "[encoded data removed]",
            "text/plain": [
              "<Figure size 720x360 with 2 Axes>"
            ]
          },
          "metadata": {
            "needs_background": "light"
          }
        },
        {
          "output_type": "display_data",
          "data": {
            "image/png": "[encoded data removed]",
            "text/plain": [
              "<Figure size 720x360 with 2 Axes>"
            ]
          },
          "metadata": {
            "needs_background": "light"
          }
        },
        {
          "output_type": "display_data",
          "data": {
            "image/png": "[encoded data removed]",
            "text/plain": [
              "<Figure size 720x360 with 2 Axes>"
            ]
          },
          "metadata": {
            "needs_background": "light"
          }
        }
      ]
    },
    {
      "cell_type": "code",
      "source": [
        "def normalize_by_group(df, by):\n",
        "    groups = df.groupby(by)\n",
        "    max = groups.transform(\"max\")\n",
        "    normalized = df[max.columns] / max * 100\n",
        "    return normalized.astype(int)\n",
        "\n",
        "norm_depth = normalize_by_group(df[['Debate_name', 'Depth']], ['Debate_name'])['Depth']\n",
        "dabate_vs_totVotes = pd.concat([df[['Debate_name','Tot_votes']], norm_depth], axis=1).groupby(['Debate_name', 'Depth'], as_index=False).sum()\n",
        "dabate_vs_meanVote = pd.concat([df[['Debate_name','Mean_vote']], norm_depth], axis=1).groupby(['Debate_name', 'Depth'], as_index=False).mean()\n",
        "\n",
        "cmap = mpl.cm.viridis_r\n",
        "norm = mpl.colors.Normalize(vmin=0, vmax=4)\n",
        "\n",
        "depths = dabate_vs_totVotes[dabate_vs_totVotes['Debate_name'] == debate]['Depth'].values\n",
        "tot_votes = dabate_vs_totVotes[dabate_vs_totVotes['Debate_name'] == debate]['Tot_votes'].values\n",
        "mean_vote = dabate_vs_meanVote[dabate_vs_meanVote['Debate_name'] == debate]['Mean_vote'].values\n",
        "\n",
        "plt.title(f'All Debate')\n",
        "plt.xlabel('Depth (%)')\n",
        "plt.ylabel('Tot votes (%)')\n",
        "plt.colorbar(mpl.cm.ScalarMappable(norm=norm, cmap=cmap), label='Mean vote')\n",
        "plt.bar(depths, tot_votes/sum(tot_votes) * 100, color=cmap(norm(mean_vote)))\n",
        "plt.show()"
      ],
      "metadata": {
        "colab": {
          "base_uri": "https://localhost:8080/",
          "height": 350
        },
        "id": "JxJPmvU1_LUj",
        "outputId": "35a70cbd-3fa2-4d36-f946-21a35c63eb45"
      },
      "execution_count": null,
      "outputs": [
        {
          "output_type": "display_data",
          "data": {
            "image/png": "[encoded data removed]",
            "text/plain": [
              "<Figure size 720x360 with 2 Axes>"
            ]
          },
          "metadata": {
            "needs_background": "light"
          }
        }
      ]
    },
    {
      "cell_type": "code",
      "source": [
        "import warnings\n",
        "warnings.filterwarnings('ignore')\n",
        "\n",
        "def retrieve_child(level, debate, statement):\n",
        "  child_level = f'^({level}\\.\\d+)$'\n",
        "  children = df.loc[(df['Level'].str.match(child_level)) & (df['Debate_name']  == debate)]\n",
        "  return children[children['Stance'] == statement]['Stance'].count() if len(children) > 0 else 0\n",
        "\n",
        "df_pro_con = df[['Debate_name', 'Level']]\n",
        "df_pro_con['Pro'] = df_pro_con.apply(lambda row: retrieve_child(row['Level'], row['Debate_name'], 'pro'), axis=1)\n",
        "df_pro_con['Con'] = df_pro_con.apply(lambda row: retrieve_child(row['Level'], row['Debate_name'], 'con'), axis=1)\n",
        "\n",
        "df_pro_con"
      ],
      "metadata": {
        "colab": {
          "base_uri": "https://localhost:8080/",
          "height": 424
        },
        "id": "5-m8q2SUsHU0",
        "outputId": "1a73bb1b-e743-437f-f868-28c7ffeac3de"
      },
      "execution_count": null,
      "outputs": [
        {
          "output_type": "execute_result",
          "data": {
            "text/html": [
              "\n",
              "  <div id=\"df-771f7c2e-0f3d-469e-8c03-99238f3743eb\">\n",
              "    <div class=\"colab-df-container\">\n",
              "      <div>\n",
              "<style scoped>\n",
              "    .dataframe tbody tr th:only-of-type {\n",
              "        vertical-align: middle;\n",
              "    }\n",
              "\n",
              "    .dataframe tbody tr th {\n",
              "        vertical-align: top;\n",
              "    }\n",
              "\n",
              "    .dataframe thead th {\n",
              "        text-align: right;\n",
              "    }\n",
              "</style>\n",
              "<table border=\"1\" class=\"dataframe\">\n",
              "  <thead>\n",
              "    <tr style=\"text-align: right;\">\n",
              "      <th></th>\n",
              "      <th>Debate_name</th>\n",
              "      <th>Level</th>\n",
              "      <th>Pro</th>\n",
              "      <th>Con</th>\n",
              "    </tr>\n",
              "  </thead>\n",
              "  <tbody>\n",
              "    <tr>\n",
              "      <th>0</th>\n",
              "      <td>palestine</td>\n",
              "      <td>1.1.1.1</td>\n",
              "      <td>1</td>\n",
              "      <td>0</td>\n",
              "    </tr>\n",
              "    <tr>\n",
              "      <th>1</th>\n",
              "      <td>palestine</td>\n",
              "      <td>1.1.1.1.1</td>\n",
              "      <td>0</td>\n",
              "      <td>0</td>\n",
              "    </tr>\n",
              "    <tr>\n",
              "      <th>2</th>\n",
              "      <td>palestine</td>\n",
              "      <td>1.1.1.3.1</td>\n",
              "      <td>0</td>\n",
              "      <td>0</td>\n",
              "    </tr>\n",
              "    <tr>\n",
              "      <th>3</th>\n",
              "      <td>palestine</td>\n",
              "      <td>1.1.1.3.3</td>\n",
              "      <td>0</td>\n",
              "      <td>0</td>\n",
              "    </tr>\n",
              "    <tr>\n",
              "      <th>4</th>\n",
              "      <td>palestine</td>\n",
              "      <td>1.1.1.4</td>\n",
              "      <td>1</td>\n",
              "      <td>0</td>\n",
              "    </tr>\n",
              "    <tr>\n",
              "      <th>...</th>\n",
              "      <td>...</td>\n",
              "      <td>...</td>\n",
              "      <td>...</td>\n",
              "      <td>...</td>\n",
              "    </tr>\n",
              "    <tr>\n",
              "      <th>9494</th>\n",
              "      <td>ubi</td>\n",
              "      <td>1.7.4.8.2.3</td>\n",
              "      <td>0</td>\n",
              "      <td>0</td>\n",
              "    </tr>\n",
              "    <tr>\n",
              "      <th>9495</th>\n",
              "      <td>ubi</td>\n",
              "      <td>1.7.4.8.3.2.1</td>\n",
              "      <td>0</td>\n",
              "      <td>0</td>\n",
              "    </tr>\n",
              "    <tr>\n",
              "      <th>9496</th>\n",
              "      <td>ubi</td>\n",
              "      <td>1.7.4.8.3.2.2</td>\n",
              "      <td>0</td>\n",
              "      <td>0</td>\n",
              "    </tr>\n",
              "    <tr>\n",
              "      <th>9497</th>\n",
              "      <td>ubi</td>\n",
              "      <td>1.7.4.8.3.6</td>\n",
              "      <td>0</td>\n",
              "      <td>0</td>\n",
              "    </tr>\n",
              "    <tr>\n",
              "      <th>9498</th>\n",
              "      <td>ubi</td>\n",
              "      <td>1.7.5.1</td>\n",
              "      <td>0</td>\n",
              "      <td>0</td>\n",
              "    </tr>\n",
              "  </tbody>\n",
              "</table>\n",
              "<p>9499 rows × 4 columns</p>\n",
              "</div>\n",
              "      <button class=\"colab-df-convert\" onclick=\"convertToInteractive('df-771f7c2e-0f3d-469e-8c03-99238f3743eb')\"\n",
              "              title=\"Convert this dataframe to an interactive table.\"\n",
              "              style=\"display:none;\">\n",
              "        \n",
              "  <svg xmlns=\"http://www.w3.org/2000/svg\" height=\"24px\"viewBox=\"0 0 24 24\"\n",
              "       width=\"24px\">\n",
              "    <path d=\"M0 0h24v24H0V0z\" fill=\"none\"/>\n",
              "    <path d=\"M18.56 5.44l.94 2.06.94-2.06 2.06-.94-2.06-.94-.94-2.06-.94 2.06-2.06.94zm-11 1L8.5 8.5l.94-2.06 2.06-.94-2.06-.94L8.5 2.5l-.94 2.06-2.06.94zm10 10l.94 2.06.94-2.06 2.06-.94-2.06-.94-.94-2.06-.94 2.06-2.06.94z\"/><path d=\"M17.41 7.96l-1.37-1.37c-.4-.4-.92-.59-1.43-.59-.52 0-1.04.2-1.43.59L10.3 9.45l-7.72 7.72c-.78.78-.78 2.05 0 2.83L4 21.41c.39.39.9.59 1.41.59.51 0 1.02-.2 1.41-.59l7.78-7.78 2.81-2.81c.8-.78.8-2.07 0-2.86zM5.41 20L4 18.59l7.72-7.72 1.47 1.35L5.41 20z\"/>\n",
              "  </svg>\n",
              "      </button>\n",
              "      \n",
              "  <style>\n",
              "    .colab-df-container {\n",
              "      display:flex;\n",
              "      flex-wrap:wrap;\n",
              "      gap: 12px;\n",
              "    }\n",
              "\n",
              "    .colab-df-convert {\n",
              "      background-color: #E8F0FE;\n",
              "      border: none;\n",
              "      border-radius: 50%;\n",
              "      cursor: pointer;\n",
              "      display: none;\n",
              "      fill: #1967D2;\n",
              "      height: 32px;\n",
              "      padding: 0 0 0 0;\n",
              "      width: 32px;\n",
              "    }\n",
              "\n",
              "    .colab-df-convert:hover {\n",
              "      background-color: #E2EBFA;\n",
              "      box-shadow: 0px 1px 2px rgba(60, 64, 67, 0.3), 0px 1px 3px 1px rgba(60, 64, 67, 0.15);\n",
              "      fill: #174EA6;\n",
              "    }\n",
              "\n",
              "    [theme=dark] .colab-df-convert {\n",
              "      background-color: #3B4455;\n",
              "      fill: #D2E3FC;\n",
              "    }\n",
              "\n",
              "    [theme=dark] .colab-df-convert:hover {\n",
              "      background-color: #434B5C;\n",
              "      box-shadow: 0px 1px 3px 1px rgba(0, 0, 0, 0.15);\n",
              "      filter: drop-shadow(0px 1px 2px rgba(0, 0, 0, 0.3));\n",
              "      fill: #FFFFFF;\n",
              "    }\n",
              "  </style>\n",
              "\n",
              "      <script>\n",
              "        const buttonEl =\n",
              "          document.querySelector('#df-771f7c2e-0f3d-469e-8c03-99238f3743eb button.colab-df-convert');\n",
              "        buttonEl.style.display =\n",
              "          google.colab.kernel.accessAllowed ? 'block' : 'none';\n",
              "\n",
              "        async function convertToInteractive(key) {\n",
              "          const element = document.querySelector('#df-771f7c2e-0f3d-469e-8c03-99238f3743eb');\n",
              "          const dataTable =\n",
              "            await google.colab.kernel.invokeFunction('convertToInteractive',\n",
              "                                                     [key], {});\n",
              "          if (!dataTable) return;\n",
              "\n",
              "          const docLinkHtml = 'Like what you see? Visit the ' +\n",
              "            '<a target=\"_blank\" href=https://colab.research.google.com/notebooks/data_table.ipynb>data table notebook</a>'\n",
              "            + ' to learn more about interactive tables.';\n",
              "          element.innerHTML = '';\n",
              "          dataTable['output_type'] = 'display_data';\n",
              "          await google.colab.output.renderOutput(dataTable, element);\n",
              "          const docLink = document.createElement('div');\n",
              "          docLink.innerHTML = docLinkHtml;\n",
              "          element.appendChild(docLink);\n",
              "        }\n",
              "      </script>\n",
              "    </div>\n",
              "  </div>\n",
              "  "
            ],
            "text/plain": [
              "     Debate_name          Level  Pro  Con\n",
              "0      palestine        1.1.1.1    1    0\n",
              "1      palestine      1.1.1.1.1    0    0\n",
              "2      palestine      1.1.1.3.1    0    0\n",
              "3      palestine      1.1.1.3.3    0    0\n",
              "4      palestine        1.1.1.4    1    0\n",
              "...          ...            ...  ...  ...\n",
              "9494         ubi    1.7.4.8.2.3    0    0\n",
              "9495         ubi  1.7.4.8.3.2.1    0    0\n",
              "9496         ubi  1.7.4.8.3.2.2    0    0\n",
              "9497         ubi    1.7.4.8.3.6    0    0\n",
              "9498         ubi        1.7.5.1    0    0\n",
              "\n",
              "[9499 rows x 4 columns]"
            ]
          },
          "metadata": {},
          "execution_count": 123
        }
      ]
    },
    {
      "cell_type": "code",
      "source": [
        "df_mean_pro_con_total = pd.concat([df_pro_con[['Pro', 'Con']], pd.DataFrame(df['Mean_vote'].values.astype(int), columns=['Mean_vote'])], axis=1) \n",
        "df_mean_pro_con_total = df_mean_pro_con_total.groupby(['Mean_vote'], as_index=False).sum()\n",
        "\n",
        "x = df_mean_pro_con_total['Mean_vote'].values\n",
        "pro = df_mean_pro_con_total['Pro'].values\n",
        "con = df_mean_pro_con_total['Con'].values\n",
        "\n",
        "ax = plt.subplot(111)\n",
        "ax.bar(x-0.1, pro, width=0.2, color='g', align='center', label='Pro')\n",
        "ax.bar(x+0.1, con, width=0.2, color='r', align='center', label='Con')\n",
        "\n",
        "ax.legend()\n",
        "\n",
        "plt.title(f'Pro / Con child wrt mean vote')\n",
        "plt.xlabel('Mean vote')\n",
        "\n",
        "plt.show()"
      ],
      "metadata": {
        "colab": {
          "base_uri": "https://localhost:8080/",
          "height": 350
        },
        "id": "XFXP16Y_8-4l",
        "outputId": "02e56a5c-14ee-4fbe-cceb-2614ae038f97"
      },
      "execution_count": null,
      "outputs": [
        {
          "output_type": "display_data",
          "data": {
            "image/png": "[encoded data removed]",
            "text/plain": [
              "<Figure size 720x360 with 1 Axes>"
            ]
          },
          "metadata": {
            "needs_background": "light"
          }
        }
      ]
    },
    {
      "cell_type": "code",
      "source": [
        "df_mean_pro_con = pd.concat([df_pro_con[['Debate_name', 'Pro', 'Con']], pd.DataFrame(df['Mean_vote'].values.astype(int), columns=['Mean_vote'])], axis=1) \n",
        "df_mean_pro_con = df_mean_pro_con.groupby(['Debate_name', 'Mean_vote'], as_index=False).sum()\n",
        "\n",
        "for debate in df_mean_pro_con['Debate_name'].unique():\n",
        "  x = df_mean_pro_con[df_mean_pro_con['Debate_name'] == debate]['Mean_vote'].values\n",
        "  pro = df_mean_pro_con[df_mean_pro_con['Debate_name'] == debate]['Pro'].values\n",
        "  con = df_mean_pro_con[df_mean_pro_con['Debate_name'] == debate]['Con'].values\n",
        "\n",
        "  ax = plt.subplot(111)\n",
        "  ax.bar(x-0.1, pro, width=0.2, color='g', align='center', label='Pro')\n",
        "  ax.bar(x+0.1, con, width=0.2, color='r', align='center', label='Con')\n",
        "\n",
        "  ax.legend()\n",
        "\n",
        "  plt.title(f'Debate: {debate}')\n",
        "  plt.xlabel('Mean vote')\n",
        "\n",
        "  plt.show()"
      ],
      "metadata": {
        "id": "rAVShAMwRT5d",
        "outputId": "eaea61f0-f280-4861-e14e-29128d9bdd26",
        "colab": {
          "base_uri": "https://localhost:8080/",
          "height": 1000
        }
      },
      "execution_count": null,
      "outputs": [
        {
          "output_type": "display_data",
          "data": {
            "image/png": "[encoded data removed]",
            "text/plain": [
              "<Figure size 720x360 with 1 Axes>"
            ]
          },
          "metadata": {
            "needs_background": "light"
          }
        },
        {
          "output_type": "display_data",
          "data": {
            "image/png": "[encoded data removed]",
            "text/plain": [
              "<Figure size 720x360 with 1 Axes>"
            ]
          },
          "metadata": {
            "needs_background": "light"
          }
        },
        {
          "output_type": "display_data",
          "data": {
            "image/png": "[encoded data removed]",
            "text/plain": [
              "<Figure size 720x360 with 1 Axes>"
            ]
          },
          "metadata": {
            "needs_background": "light"
          }
        },
        {
          "output_type": "display_data",
          "data": {
            "image/png": "[encoded data removed]",
            "text/plain": [
              "<Figure size 720x360 with 1 Axes>"
            ]
          },
          "metadata": {
            "needs_background": "light"
          }
        },
        {
          "output_type": "display_data",
          "data": {
            "image/png": "[encoded data removed]",
            "text/plain": [
              "<Figure size 720x360 with 1 Axes>"
            ]
          },
          "metadata": {
            "needs_background": "light"
          }
        },
        {
          "output_type": "display_data",
          "data": {
            "image/png": "[encoded data removed]",
            "text/plain": [
              "<Figure size 720x360 with 1 Axes>"
            ]
          },
          "metadata": {
            "needs_background": "light"
          }
        },
        {
          "output_type": "display_data",
          "data": {
            "image/png": "[encoded data removed]",
            "text/plain": [
              "<Figure size 720x360 with 1 Axes>"
            ]
          },
          "metadata": {
            "needs_background": "light"
          }
        },
        {
          "output_type": "display_data",
          "data": {
            "image/png": "[encoded data removed]",
            "text/plain": [
              "<Figure size 720x360 with 1 Axes>"
            ]
          },
          "metadata": {
            "needs_background": "light"
          }
        },
        {
          "output_type": "display_data",
          "data": {
            "image/png": "[encoded data removed]",
            "text/plain": [
              "<Figure size 720x360 with 1 Axes>"
            ]
          },
          "metadata": {
            "needs_background": "light"
          }
        },
        {
          "output_type": "display_data",
          "data": {
            "image/png": "[encoded data removed]",
            "text/plain": [
              "<Figure size 720x360 with 1 Axes>"
            ]
          },
          "metadata": {
            "needs_background": "light"
          }
        },
        {
          "output_type": "display_data",
          "data": {
            "image/png": "[encoded data removed]",
            "text/plain": [
              "<Figure size 720x360 with 1 Axes>"
            ]
          },
          "metadata": {
            "needs_background": "light"
          }
        },
        {
          "output_type": "display_data",
          "data": {
            "image/png": "[encoded data removed]",
            "text/plain": [
              "<Figure size 720x360 with 1 Axes>"
            ]
          },
          "metadata": {
            "needs_background": "light"
          }
        },
        {
          "output_type": "display_data",
          "data": {
            "image/png": "[encoded data removed]",
            "text/plain": [
              "<Figure size 720x360 with 1 Axes>"
            ]
          },
          "metadata": {
            "needs_background": "light"
          }
        },
        {
          "output_type": "display_data",
          "data": {
            "image/png": "[encoded data removed]",
            "text/plain": [
              "<Figure size 720x360 with 1 Axes>"
            ]
          },
          "metadata": {
            "needs_background": "light"
          }
        },
        {
          "output_type": "display_data",
          "data": {
            "image/png": "[encoded data removed]",
            "text/plain": [
              "<Figure size 720x360 with 1 Axes>"
            ]
          },
          "metadata": {
            "needs_background": "light"
          }
        },
        {
          "output_type": "display_data",
          "data": {
            "image/png": "[encoded data removed]",
            "text/plain": [
              "<Figure size 720x360 with 1 Axes>"
            ]
          },
          "metadata": {
            "needs_background": "light"
          }
        },
        {
          "output_type": "display_data",
          "data": {
            "image/png": "[encoded data removed]",
            "text/plain": [
              "<Figure size 720x360 with 1 Axes>"
            ]
          },
          "metadata": {
            "needs_background": "light"
          }
        }
      ]
    },
    {
      "cell_type": "code",
      "source": [
        "df = pd.merge(df, df_pro_con, on=['Debate_name', 'Level'])"
      ],
      "metadata": {
        "id": "6iwaNwXiz_a8"
      },
      "execution_count": null,
      "outputs": []
    },
    {
      "cell_type": "code",
      "source": [
        "df.to_csv('dataframe.csv')\n",
        "# !cp dataframe.csv 'project'"
      ],
      "metadata": {
        "id": "SFvg9rv57Rga"
      },
      "execution_count": null,
      "outputs": []
    },
    {
      "cell_type": "markdown",
      "source": [
        "# Load existing dataframe"
      ],
      "metadata": {
        "id": "eg3QC6G7Ucld"
      }
    },
    {
      "cell_type": "code",
      "source": [
        "df = pd.read_csv('dataframe.csv')"
      ],
      "metadata": {
        "id": "t49pXx3B9zaN"
      },
      "execution_count": null,
      "outputs": []
    },
    {
      "cell_type": "code",
      "source": [
        "df"
      ],
      "metadata": {
        "colab": {
          "base_uri": "https://localhost:8080/",
          "height": 641
        },
        "id": "lQsF0CeV-Jdt",
        "outputId": "7fc63d1f-44b6-45d5-85b4-76dc4e46a7d4"
      },
      "execution_count": null,
      "outputs": [
        {
          "output_type": "execute_result",
          "data": {
            "text/html": [
              "\n",
              "  <div id=\"df-30708160-0e7a-4515-8dba-637b6a3ba1eb\">\n",
              "    <div class=\"colab-df-container\">\n",
              "      <div>\n",
              "<style scoped>\n",
              "    .dataframe tbody tr th:only-of-type {\n",
              "        vertical-align: middle;\n",
              "    }\n",
              "\n",
              "    .dataframe tbody tr th {\n",
              "        vertical-align: top;\n",
              "    }\n",
              "\n",
              "    .dataframe thead th {\n",
              "        text-align: right;\n",
              "    }\n",
              "</style>\n",
              "<table border=\"1\" class=\"dataframe\">\n",
              "  <thead>\n",
              "    <tr style=\"text-align: right;\">\n",
              "      <th></th>\n",
              "      <th>index</th>\n",
              "      <th>Level</th>\n",
              "      <th>Stance</th>\n",
              "      <th>Claim</th>\n",
              "      <th>Votes</th>\n",
              "      <th>Comments</th>\n",
              "      <th>Depth</th>\n",
              "      <th>Debate_name</th>\n",
              "      <th>Tot_votes</th>\n",
              "      <th>Mean_vote</th>\n",
              "      <th>Parent_claim</th>\n",
              "      <th>Parent_vote</th>\n",
              "      <th>Parent_stance</th>\n",
              "      <th>Pro</th>\n",
              "      <th>Con</th>\n",
              "    </tr>\n",
              "  </thead>\n",
              "  <tbody>\n",
              "    <tr>\n",
              "      <th>0</th>\n",
              "      <td>3</td>\n",
              "      <td>1.1.1.1</td>\n",
              "      <td>pro</td>\n",
              "      <td>two thirds of all americans and even almost ha...</td>\n",
              "      <td>[1, 1, 4, 10, 1]</td>\n",
              "      <td></td>\n",
              "      <td>3</td>\n",
              "      <td>palestine</td>\n",
              "      <td>17</td>\n",
              "      <td>2.5</td>\n",
              "      <td>public opinion in the us supports this step mo...</td>\n",
              "      <td>0.0</td>\n",
              "      <td>pro</td>\n",
              "      <td>1</td>\n",
              "      <td>0</td>\n",
              "    </tr>\n",
              "    <tr>\n",
              "      <th>1</th>\n",
              "      <td>4</td>\n",
              "      <td>1.1.1.1.1</td>\n",
              "      <td>pro</td>\n",
              "      <td>the us historical pattern of vetoing nearly ev...</td>\n",
              "      <td>[0, 1, 6, 7, 0]</td>\n",
              "      <td>1</td>\n",
              "      <td>4</td>\n",
              "      <td>palestine</td>\n",
              "      <td>14</td>\n",
              "      <td>2.4</td>\n",
              "      <td>two thirds of all americans and even almost ha...</td>\n",
              "      <td>2.5</td>\n",
              "      <td>pro</td>\n",
              "      <td>0</td>\n",
              "      <td>0</td>\n",
              "    </tr>\n",
              "    <tr>\n",
              "      <th>2</th>\n",
              "      <td>22</td>\n",
              "      <td>1.1.1.3.1</td>\n",
              "      <td>pro</td>\n",
              "      <td>by being the first major western country to re...</td>\n",
              "      <td>[0, 1, 5, 9, 0]</td>\n",
              "      <td>10</td>\n",
              "      <td>4</td>\n",
              "      <td>palestine</td>\n",
              "      <td>15</td>\n",
              "      <td>2.5</td>\n",
              "      <td>the us is one of the world s most influential ...</td>\n",
              "      <td>0.0</td>\n",
              "      <td>pro</td>\n",
              "      <td>0</td>\n",
              "      <td>0</td>\n",
              "    </tr>\n",
              "    <tr>\n",
              "      <th>3</th>\n",
              "      <td>25</td>\n",
              "      <td>1.1.1.3.3</td>\n",
              "      <td>con</td>\n",
              "      <td>the united states is too late to serve as an i...</td>\n",
              "      <td>[1, 2, 10, 3, 0]</td>\n",
              "      <td>16</td>\n",
              "      <td>4</td>\n",
              "      <td>palestine</td>\n",
              "      <td>16</td>\n",
              "      <td>1.9</td>\n",
              "      <td>the us is one of the world s most influential ...</td>\n",
              "      <td>0.0</td>\n",
              "      <td>pro</td>\n",
              "      <td>0</td>\n",
              "      <td>0</td>\n",
              "    </tr>\n",
              "    <tr>\n",
              "      <th>4</th>\n",
              "      <td>26</td>\n",
              "      <td>1.1.1.4</td>\n",
              "      <td>con</td>\n",
              "      <td>the ignorance of the american people could cau...</td>\n",
              "      <td>[1, 3, 2, 2, 1]</td>\n",
              "      <td>32</td>\n",
              "      <td>3</td>\n",
              "      <td>palestine</td>\n",
              "      <td>9</td>\n",
              "      <td>1.9</td>\n",
              "      <td>public opinion in the us supports this step mo...</td>\n",
              "      <td>0.0</td>\n",
              "      <td>pro</td>\n",
              "      <td>1</td>\n",
              "      <td>0</td>\n",
              "    </tr>\n",
              "    <tr>\n",
              "      <th>...</th>\n",
              "      <td>...</td>\n",
              "      <td>...</td>\n",
              "      <td>...</td>\n",
              "      <td>...</td>\n",
              "      <td>...</td>\n",
              "      <td>...</td>\n",
              "      <td>...</td>\n",
              "      <td>...</td>\n",
              "      <td>...</td>\n",
              "      <td>...</td>\n",
              "      <td>...</td>\n",
              "      <td>...</td>\n",
              "      <td>...</td>\n",
              "      <td>...</td>\n",
              "      <td>...</td>\n",
              "    </tr>\n",
              "    <tr>\n",
              "      <th>9494</th>\n",
              "      <td>22529</td>\n",
              "      <td>1.7.4.8.2.3</td>\n",
              "      <td>con</td>\n",
              "      <td>by financing ubi through this system it would ...</td>\n",
              "      <td>[0, 0, 2, 0, 0]</td>\n",
              "      <td></td>\n",
              "      <td>5</td>\n",
              "      <td>ubi</td>\n",
              "      <td>2</td>\n",
              "      <td>2.0</td>\n",
              "      <td>a ubi will empower the politically marginalize...</td>\n",
              "      <td>0.0</td>\n",
              "      <td>pro</td>\n",
              "      <td>0</td>\n",
              "      <td>0</td>\n",
              "    </tr>\n",
              "    <tr>\n",
              "      <th>9495</th>\n",
              "      <td>22533</td>\n",
              "      <td>1.7.4.8.3.2.1</td>\n",
              "      <td>con</td>\n",
              "      <td>this same logic could also be applied to all o...</td>\n",
              "      <td>[0, 0, 10, 5, 0]</td>\n",
              "      <td></td>\n",
              "      <td>6</td>\n",
              "      <td>ubi</td>\n",
              "      <td>15</td>\n",
              "      <td>2.3</td>\n",
              "      <td>if wealthy people already feel as though they ...</td>\n",
              "      <td>0.0</td>\n",
              "      <td>pro</td>\n",
              "      <td>0</td>\n",
              "      <td>0</td>\n",
              "    </tr>\n",
              "    <tr>\n",
              "      <th>9496</th>\n",
              "      <td>22534</td>\n",
              "      <td>1.7.4.8.3.2.2</td>\n",
              "      <td>con</td>\n",
              "      <td>what the wealthy want and desire becomes less ...</td>\n",
              "      <td>[0, 6, 7, 2, 0]</td>\n",
              "      <td></td>\n",
              "      <td>6</td>\n",
              "      <td>ubi</td>\n",
              "      <td>15</td>\n",
              "      <td>1.7</td>\n",
              "      <td>if wealthy people already feel as though they ...</td>\n",
              "      <td>0.0</td>\n",
              "      <td>pro</td>\n",
              "      <td>0</td>\n",
              "      <td>0</td>\n",
              "    </tr>\n",
              "    <tr>\n",
              "      <th>9497</th>\n",
              "      <td>22537</td>\n",
              "      <td>1.7.4.8.3.6</td>\n",
              "      <td>con</td>\n",
              "      <td>those high tax payers already control the stat...</td>\n",
              "      <td>[0, 0, 1, 1, 0]</td>\n",
              "      <td></td>\n",
              "      <td>5</td>\n",
              "      <td>ubi</td>\n",
              "      <td>2</td>\n",
              "      <td>2.5</td>\n",
              "      <td>a ubi together with automation will strengthen...</td>\n",
              "      <td>0.0</td>\n",
              "      <td>con</td>\n",
              "      <td>0</td>\n",
              "      <td>0</td>\n",
              "    </tr>\n",
              "    <tr>\n",
              "      <th>9498</th>\n",
              "      <td>22540</td>\n",
              "      <td>1.7.5.1</td>\n",
              "      <td>pro</td>\n",
              "      <td>andrew yang is gaining support for his 2020 pr...</td>\n",
              "      <td>[0, 0, 0, 0, 2]</td>\n",
              "      <td>5</td>\n",
              "      <td>3</td>\n",
              "      <td>ubi</td>\n",
              "      <td>2</td>\n",
              "      <td>4.0</td>\n",
              "      <td>a ubi achieves both the progressive goal of pr...</td>\n",
              "      <td>0.0</td>\n",
              "      <td>con</td>\n",
              "      <td>0</td>\n",
              "      <td>0</td>\n",
              "    </tr>\n",
              "  </tbody>\n",
              "</table>\n",
              "<p>9499 rows × 15 columns</p>\n",
              "</div>\n",
              "      <button class=\"colab-df-convert\" onclick=\"convertToInteractive('df-30708160-0e7a-4515-8dba-637b6a3ba1eb')\"\n",
              "              title=\"Convert this dataframe to an interactive table.\"\n",
              "              style=\"display:none;\">\n",
              "        \n",
              "  <svg xmlns=\"http://www.w3.org/2000/svg\" height=\"24px\"viewBox=\"0 0 24 24\"\n",
              "       width=\"24px\">\n",
              "    <path d=\"M0 0h24v24H0V0z\" fill=\"none\"/>\n",
              "    <path d=\"M18.56 5.44l.94 2.06.94-2.06 2.06-.94-2.06-.94-.94-2.06-.94 2.06-2.06.94zm-11 1L8.5 8.5l.94-2.06 2.06-.94-2.06-.94L8.5 2.5l-.94 2.06-2.06.94zm10 10l.94 2.06.94-2.06 2.06-.94-2.06-.94-.94-2.06-.94 2.06-2.06.94z\"/><path d=\"M17.41 7.96l-1.37-1.37c-.4-.4-.92-.59-1.43-.59-.52 0-1.04.2-1.43.59L10.3 9.45l-7.72 7.72c-.78.78-.78 2.05 0 2.83L4 21.41c.39.39.9.59 1.41.59.51 0 1.02-.2 1.41-.59l7.78-7.78 2.81-2.81c.8-.78.8-2.07 0-2.86zM5.41 20L4 18.59l7.72-7.72 1.47 1.35L5.41 20z\"/>\n",
              "  </svg>\n",
              "      </button>\n",
              "      \n",
              "  <style>\n",
              "    .colab-df-container {\n",
              "      display:flex;\n",
              "      flex-wrap:wrap;\n",
              "      gap: 12px;\n",
              "    }\n",
              "\n",
              "    .colab-df-convert {\n",
              "      background-color: #E8F0FE;\n",
              "      border: none;\n",
              "      border-radius: 50%;\n",
              "      cursor: pointer;\n",
              "      display: none;\n",
              "      fill: #1967D2;\n",
              "      height: 32px;\n",
              "      padding: 0 0 0 0;\n",
              "      width: 32px;\n",
              "    }\n",
              "\n",
              "    .colab-df-convert:hover {\n",
              "      background-color: #E2EBFA;\n",
              "      box-shadow: 0px 1px 2px rgba(60, 64, 67, 0.3), 0px 1px 3px 1px rgba(60, 64, 67, 0.15);\n",
              "      fill: #174EA6;\n",
              "    }\n",
              "\n",
              "    [theme=dark] .colab-df-convert {\n",
              "      background-color: #3B4455;\n",
              "      fill: #D2E3FC;\n",
              "    }\n",
              "\n",
              "    [theme=dark] .colab-df-convert:hover {\n",
              "      background-color: #434B5C;\n",
              "      box-shadow: 0px 1px 3px 1px rgba(0, 0, 0, 0.15);\n",
              "      filter: drop-shadow(0px 1px 2px rgba(0, 0, 0, 0.3));\n",
              "      fill: #FFFFFF;\n",
              "    }\n",
              "  </style>\n",
              "\n",
              "      <script>\n",
              "        const buttonEl =\n",
              "          document.querySelector('#df-30708160-0e7a-4515-8dba-637b6a3ba1eb button.colab-df-convert');\n",
              "        buttonEl.style.display =\n",
              "          google.colab.kernel.accessAllowed ? 'block' : 'none';\n",
              "\n",
              "        async function convertToInteractive(key) {\n",
              "          const element = document.querySelector('#df-30708160-0e7a-4515-8dba-637b6a3ba1eb');\n",
              "          const dataTable =\n",
              "            await google.colab.kernel.invokeFunction('convertToInteractive',\n",
              "                                                     [key], {});\n",
              "          if (!dataTable) return;\n",
              "\n",
              "          const docLinkHtml = 'Like what you see? Visit the ' +\n",
              "            '<a target=\"_blank\" href=https://colab.research.google.com/notebooks/data_table.ipynb>data table notebook</a>'\n",
              "            + ' to learn more about interactive tables.';\n",
              "          element.innerHTML = '';\n",
              "          dataTable['output_type'] = 'display_data';\n",
              "          await google.colab.output.renderOutput(dataTable, element);\n",
              "          const docLink = document.createElement('div');\n",
              "          docLink.innerHTML = docLinkHtml;\n",
              "          element.appendChild(docLink);\n",
              "        }\n",
              "      </script>\n",
              "    </div>\n",
              "  </div>\n",
              "  "
            ],
            "text/plain": [
              "      index          Level Stance  ... Parent_stance Pro Con\n",
              "0         3        1.1.1.1    pro  ...           pro   1   0\n",
              "1         4      1.1.1.1.1    pro  ...           pro   0   0\n",
              "2        22      1.1.1.3.1    pro  ...           pro   0   0\n",
              "3        25      1.1.1.3.3    con  ...           pro   0   0\n",
              "4        26        1.1.1.4    con  ...           pro   1   0\n",
              "...     ...            ...    ...  ...           ...  ..  ..\n",
              "9494  22529    1.7.4.8.2.3    con  ...           pro   0   0\n",
              "9495  22533  1.7.4.8.3.2.1    con  ...           pro   0   0\n",
              "9496  22534  1.7.4.8.3.2.2    con  ...           pro   0   0\n",
              "9497  22537    1.7.4.8.3.6    con  ...           con   0   0\n",
              "9498  22540        1.7.5.1    pro  ...           con   0   0\n",
              "\n",
              "[9499 rows x 15 columns]"
            ]
          },
          "metadata": {},
          "execution_count": 54
        }
      ]
    },
    {
      "cell_type": "markdown",
      "source": [
        "# Split"
      ],
      "metadata": {
        "id": "1F7S1dIOBAK6"
      }
    },
    {
      "cell_type": "code",
      "source": [
        "train = df.sample(frac=0.95, random_state=42)\n",
        "tmp = df.drop(train.index)\n",
        "valid = tmp.sample(frac=0.5, random_state=42)\n",
        "test = tmp.drop(valid.index)"
      ],
      "metadata": {
        "id": "Ns32IfZXBt_y"
      },
      "execution_count": null,
      "outputs": []
    },
    {
      "cell_type": "code",
      "source": [
        "print(train.shape)\n",
        "print(valid.shape)\n",
        "print(test.shape)"
      ],
      "metadata": {
        "colab": {
          "base_uri": "https://localhost:8080/"
        },
        "id": "EFljWt03C4lE",
        "outputId": "b634273a-4adf-4607-eb62-d41bafa6bed5"
      },
      "execution_count": null,
      "outputs": [
        {
          "output_type": "stream",
          "name": "stdout",
          "text": [
            "(9024, 15)\n",
            "(238, 15)\n",
            "(237, 15)\n"
          ]
        }
      ]
    },
    {
      "cell_type": "markdown",
      "metadata": {
        "id": "zaJfpsnGhk5J"
      },
      "source": [
        "#Dataset Conversion\n",
        "In this section we define the functions that build the vocabulary of terms contained in Claims and Evidences. In particular the function creates two dictionaries: one to retrieve the index given a word and one to obatain the word given an index.\n",
        "\n",
        "The function is incremental, so, if it is called without the previously mentioned two dictionaries, it creates new ones while if we already have a vocabulary it enriches it with new unseen words.\n",
        "\n",
        "We encode at the initialization of the vocabulary the reserved string `-PAD-` with index `0` that will be used, as the name suggest, for the padding.\n",
        "\n",
        "This vocabulary will be used by the tokenizers in order to translate strings into numerical format so that the NN can accept them as input. \n",
        "\n"
      ]
    },
    {
      "cell_type": "code",
      "source": [
        "def build_word_vocabulary(df: pd.DataFrame, word_to_idx=None, idx_to_word=None):\n",
        "    \"\"\"\n",
        "    Given a dataset, builds the corresponding word vocabulary.\n",
        "\n",
        "    :param df: dataset from which we want to build the word vocabulary (pandas.DataFrame)\n",
        "    :param idx_to_word: existing vocabulary from index to word\n",
        "    :param word_to_idx: existing vocabulary from word to index\n",
        "    \n",
        "    :return:\n",
        "      - idx_to_word: updated vocabulary from index to word\n",
        "      - word_to_idx: updated vocabulary from word to index\n",
        "      - word listing: set of unique terms that build up the vocabulary\n",
        "      - max_claim_len: max length among all the claims\n",
        "      - max_evidence_len: max length among all the evidences\n",
        "    \"\"\"\n",
        "\n",
        "    curr_idx = 1\n",
        "    # vocabularies must be both evaluated or None\n",
        "    assert (word_to_idx is None and idx_to_word is None) or (word_to_idx is not None and idx_to_word is not None)\n",
        "\n",
        "    # If no vocabulary passed, then build one\n",
        "    if word_to_idx is None and idx_to_word is None:\n",
        "      idx_to_word = OrderedDict()\n",
        "      word_to_idx = OrderedDict()\n",
        "      # Reserved word in the dictionary for padding\n",
        "      word_to_idx[\"-PAD-\"] = 0\n",
        "      idx_to_word[0] = \"-PAD-\"\n",
        "    else:\n",
        "      curr_idx = max(idx_to_word.keys()) + 1\n",
        "\n",
        "\n",
        "    # claim\n",
        "    max_claim_len = 0\n",
        "    for sentence in tqdm(df['Claim'].values):\n",
        "      splitted_sentece = sentence.split(\" \")\n",
        "      max_claim_len = max(len(splitted_sentece), max_claim_len)\n",
        "      for word in splitted_sentece:\n",
        "        if word not in word_to_idx:\n",
        "            word_to_idx[word] = curr_idx\n",
        "            idx_to_word[curr_idx] = word\n",
        "            curr_idx += 1\n",
        "\n",
        "    # parentClaim\n",
        "    for sentence in tqdm(df['Parent_claim'].values):\n",
        "      splitted_sentece = sentence.split(\" \")\n",
        "      max_claim_len = max(len(splitted_sentece), max_claim_len)\n",
        "      for word in splitted_sentece:\n",
        "        if word not in word_to_idx:\n",
        "            word_to_idx[word] = curr_idx\n",
        "            idx_to_word[curr_idx] = word\n",
        "            curr_idx += 1\n",
        "\n",
        "    word_listing = list(idx_to_word.values())\n",
        "\n",
        "    return idx_to_word, word_to_idx, word_listing, max_claim_len\n",
        " \n",
        "# Testing: incremental vocabulary\n",
        "idx_to_word, word_to_idx, word_listing, max_claim_len = build_word_vocabulary(train)\n",
        "idx_to_word, word_to_idx, word_listing, max_claim_len = build_word_vocabulary(valid, word_to_idx, idx_to_word)\n",
        "idx_to_word, word_to_idx, word_listing, max_claim_len = build_word_vocabulary(test, word_to_idx, idx_to_word)\n",
        "\n",
        "print(\"\\n\")\n",
        "print('[Debug] Index -> Word vocabulary size: {}'.format(len(idx_to_word)))\n",
        "print('[Debug] Word -> Index vocabulary size: {}'.format(len(word_to_idx)))\n",
        "print('[Debug] Some words: {}'.format([(idx_to_word[idx], idx) for idx in np.arange(10)]))"
      ],
      "metadata": {
        "colab": {
          "base_uri": "https://localhost:8080/"
        },
        "id": "EVOqwvn0Dh7o",
        "outputId": "aee3dcfd-3def-4f1f-ffd5-d618ee3d1165"
      },
      "execution_count": null,
      "outputs": [
        {
          "output_type": "stream",
          "name": "stderr",
          "text": [
            "100%|██████████| 9024/9024 [00:00<00:00, 129736.75it/s]\n",
            "100%|██████████| 9024/9024 [00:00<00:00, 185096.21it/s]\n",
            "100%|██████████| 238/238 [00:00<00:00, 69370.70it/s]\n",
            "100%|██████████| 238/238 [00:00<00:00, 188028.70it/s]\n",
            "100%|██████████| 237/237 [00:00<00:00, 126389.07it/s]\n",
            "100%|██████████| 237/237 [00:00<00:00, 136171.24it/s]"
          ]
        },
        {
          "output_type": "stream",
          "name": "stdout",
          "text": [
            "\n",
            "\n",
            "[Debug] Index -> Word vocabulary size: 15506\n",
            "[Debug] Word -> Index vocabulary size: 15506\n",
            "[Debug] Some words: [('-PAD-', 0), ('there', 1), ('is', 2), ('no', 3), ('reasonable', 4), ('and', 5), ('consistent', 6), ('standard', 7), ('of', 8), ('evidence', 9)]\n"
          ]
        },
        {
          "output_type": "stream",
          "name": "stderr",
          "text": [
            "\n"
          ]
        }
      ]
    },
    {
      "cell_type": "code",
      "source": [
        "# Download the glove encoder\n",
        "import gensim\n",
        "import gensim.downloader as gloader\n",
        "embedding_model = gloader.load(\"glove-wiki-gigaword-50\")\n",
        "embedding_dimension = 50"
      ],
      "metadata": {
        "id": "a4PAMFOTKhpG",
        "colab": {
          "base_uri": "https://localhost:8080/"
        },
        "outputId": "80e1151d-8078-43ae-934e-f2566fb1cead"
      },
      "execution_count": null,
      "outputs": [
        {
          "output_type": "stream",
          "name": "stdout",
          "text": [
            "[==================================================] 100.0% 66.0/66.0MB downloaded\n"
          ]
        }
      ]
    },
    {
      "cell_type": "code",
      "source": [
        "def check_OOV_terms(embedding_model: gensim.models.keyedvectors.KeyedVectors,\n",
        "                    word_listing: List[str]):\n",
        "    \"\"\"\n",
        "    Checks differences between pre-trained embedding model vocabulary\n",
        "    and dataset specific vocabulary in order to highlight out-of-vocabulary terms.\n",
        "\n",
        "    :param embedding_model: pre-trained word embedding model (gensim wrapper)\n",
        "    :param word_listing: dataset specific vocabulary (list)\n",
        "\n",
        "    :return\n",
        "        - list of OOV terms\n",
        "    \"\"\"\n",
        "\n",
        "    embedding_vocabulary = set(embedding_model.vocab.keys())\n",
        "    oov = set(word_listing).difference(embedding_vocabulary)\n",
        "    return list(oov)\n",
        "\n",
        "# Testing\n",
        "oov_terms = check_OOV_terms(embedding_model, word_listing)"
      ],
      "metadata": {
        "id": "3Zj5kauRKLOU"
      },
      "execution_count": null,
      "outputs": []
    },
    {
      "cell_type": "markdown",
      "metadata": {
        "id": "I5B-iQQothUl"
      },
      "source": [
        "Print some statistics:"
      ]
    },
    {
      "cell_type": "code",
      "source": [
        "tot_words = len(word_listing)\n",
        "tot_OOV = len(oov_terms)\n",
        "print('Total number of words is:\\t{}'.format(tot_words))\n",
        "print('Total number of OOV words is:\\t{}'.format(tot_OOV))\n",
        "print('Percentage of OOV words w.r.t the whole vocabulary: {:.1f}%'.format(tot_OOV / tot_words * 100))\n",
        "print('Some oov terms: {}'.format(oov_terms[:5]))"
      ],
      "metadata": {
        "colab": {
          "base_uri": "https://localhost:8080/"
        },
        "id": "JeDvAXIWK0U8",
        "outputId": "b0aae328-bc0a-4173-ee5a-4ba1e062ae5c"
      },
      "execution_count": null,
      "outputs": [
        {
          "output_type": "stream",
          "name": "stdout",
          "text": [
            "Total number of words is:\t15506\n",
            "Total number of OOV words is:\t591\n",
            "Percentage of OOV words w.r.t the whole vocabulary: 3.8%\n",
            "Some oov terms: ['lumos', 'omnipotency', 'speaketh', 'brexit', 'terf']\n"
          ]
        }
      ]
    },
    {
      "cell_type": "markdown",
      "source": [
        "As we expected, there are some oov terms linked to the specificity of the debate, like made-up words related to the Harry Potter world."
      ],
      "metadata": {
        "id": "8Pa6FKCZBmbI"
      }
    },
    {
      "cell_type": "markdown",
      "metadata": {
        "id": "rgoStd2KvFQN"
      },
      "source": [
        "We then define the function that builds the embedding matrix.\n",
        "\n",
        "The embedding matrix is stored inside a parameter of the tokenizer and will be passed later to the embedding layer in order to retrieve the embedding vectors.\n",
        "\n",
        "The function is called on the entire vocabulary each time it is updated with new words. In particular it checks if, in the pre-trained embedding model, a given word is present or not. If not so, the function generates a random vector with values in the bound [-0.05, 0.05] and same size of the choosen model. In the end the embedding vector is inserted into the matrix in the line corresponding to the index of that word in the vocabulary in order to match with the numeric input of the NN."
      ]
    },
    {
      "cell_type": "code",
      "source": [
        "def build_embedding_matrix(embedding_model: gensim.models.keyedvectors.KeyedVectors,\n",
        "                           embedding_dimension: int,\n",
        "                           word_to_idx: Dict[str, int],\n",
        "                           vocab_size: int,\n",
        "                           oov_terms: List[str]) -> np.ndarray:\n",
        "    \"\"\"\n",
        "    Builds the embedding matrix of a specific dataset given a pre-trained word embedding model\n",
        "\n",
        "    :param embedding_model: pre-trained word embedding model (gensim wrapper)\n",
        "    :param embedding dimension: fixed integer embedding dimension \n",
        "    :param word_to_idx: vocabulary map (word -> index) (dict)\n",
        "    :param vocab_size: size of the vocabulary\n",
        "    :param oov_terms: list of OOV terms (list)\n",
        "\n",
        "    :return\n",
        "        - embedding matrix that assigns a high dimensional vector to each word in the dataset specific vocabulary (shape |V| x d)\n",
        "    \"\"\"\n",
        "\n",
        "    embedding_matrix = np.zeros((vocab_size, embedding_dimension), dtype=np.float32)\n",
        "\n",
        "    for word, idx in tqdm(word_to_idx.items()):\n",
        "        # If the word is not in the vocabulary, associate a random embedding vector, and save it in the embedding matrix\n",
        "        try:\n",
        "            embedding_vector = embedding_model[word]\n",
        "        except (KeyError, TypeError):\n",
        "            embedding_vector = np.random.uniform(low=-0.05, high=0.05, size=embedding_dimension)\n",
        "\n",
        "        embedding_matrix[idx] = embedding_vector\n",
        "\n",
        "    return embedding_matrix\n",
        "\n",
        "# Testing\n",
        "embedding_matrix = build_embedding_matrix(embedding_model, embedding_dimension, word_to_idx, len(word_to_idx), oov_terms)\n",
        "# print(\"\\nEmbedding matrix shape: {}\".format(embedding_matrix.shape))"
      ],
      "metadata": {
        "colab": {
          "base_uri": "https://localhost:8080/"
        },
        "id": "xVZK-_gBK9HM",
        "outputId": "5bafe841-b446-4b71-e9f7-3678ce4a7405"
      },
      "execution_count": null,
      "outputs": [
        {
          "output_type": "stream",
          "name": "stderr",
          "text": [
            "100%|██████████| 15506/15506 [00:00<00:00, 212862.28it/s]\n"
          ]
        }
      ]
    },
    {
      "cell_type": "code",
      "source": [
        "class Tokenizer(object):\n",
        "    \"\"\" \n",
        "      A simple tokenizer that uses the functions: \n",
        "      - build_word_vocabulary\n",
        "      - check_OOV_terms\n",
        "      - build_embedding_matrix\n",
        "    \"\"\"\n",
        "\n",
        "    def __init__(self, build_embedding_matrix=False, embedding_dimension=None, embedding_model=None):\n",
        "        if build_embedding_matrix:\n",
        "            assert embedding_dimension is not None and type(embedding_dimension) == int\n",
        "\n",
        "        self.build_embedding_matrix = build_embedding_matrix\n",
        "        self.embedding_dimension = embedding_dimension\n",
        "        self.embedding_model = embedding_model\n",
        "\n",
        "        self.embedding_matrix = None\n",
        "        self.word_to_idx = None\n",
        "        self.idx_to_word = None\n",
        "\n",
        "    def build_vocab(self, data, **kwargs):\n",
        "        #first time with None -> create, otherwise update vocabulary\n",
        "        self.idx_to_word, self.word_to_idx, word_listing, _ = build_word_vocabulary(data, self.word_to_idx, self.idx_to_word)\n",
        "\n",
        "        if self.build_embedding_matrix:\n",
        "            \n",
        "            print('Checking OOV terms...')\n",
        "            self.oov_terms = check_OOV_terms(embedding_model=self.embedding_model,\n",
        "                                             word_listing=word_listing)\n",
        "\n",
        "            print('Building the embedding matrix...')\n",
        "            self.embedding_matrix = build_embedding_matrix(embedding_model=self.embedding_model,\n",
        "                                                           word_to_idx=self.word_to_idx,\n",
        "                                                           vocab_size=len(self.word_to_idx),        \n",
        "                                                           embedding_dimension=self.embedding_dimension,\n",
        "                                                           oov_terms=self.oov_terms)\n",
        "\n",
        "\n",
        "    def get_info(self):\n",
        "        return {\n",
        "            'build_embedding_matrix': self.build_embedding_matrix,\n",
        "            'embedding_dimension': self.embedding_dimension,\n",
        "            'embedding_matrix': self.embedding_matrix.shape if self.embedding_matrix is not None else self.embedding_matrix,\n",
        "            'embedding_model': self.embedding_model,\n",
        "            'vocab_size': len(self.word_to_idx),\n",
        "        }\n",
        "\n",
        "\n",
        "    def convert_words_to_ids(self, words):\n",
        "      return [self.word_to_idx[word] for word in words]\n",
        "\n",
        "    def convert_ids_to_words(self, ids):\n",
        "      return [self.idx_to_word[id] for id in ids] "
      ],
      "metadata": {
        "id": "BZYFVLAyLAhG"
      },
      "execution_count": null,
      "outputs": []
    },
    {
      "cell_type": "markdown",
      "metadata": {
        "id": "Bca-yxLlv11O"
      },
      "source": [
        "Using the tokenizer we build incrementally the vocabulary and update the embedding matrix:"
      ]
    },
    {
      "cell_type": "code",
      "source": [
        "# Instantiate the tokenizer (V1)\n",
        "tokenizer = Tokenizer(build_embedding_matrix=True,\n",
        "                      embedding_dimension=embedding_dimension,\n",
        "                      embedding_model=embedding_model)\n",
        "\n",
        "# BUILDING V2 = V1 + train OOV\n",
        "tokenizer.build_vocab(train)\n",
        "print(f'Vocabulary size: {tokenizer.get_info()[\"vocab_size\"]}\\n')\n",
        "\n",
        "# BUILDING V3 = V2 + valid OOV\n",
        "tokenizer.build_vocab(valid)\n",
        "print(f'Vocabulary size: {tokenizer.get_info()[\"vocab_size\"]}\\n')\n",
        "\n",
        "# BUILDING V4 = V3 + test OOV\n",
        "tokenizer.build_vocab(test)\n",
        "print(f'\\nVocabulary size: {tokenizer.get_info()[\"vocab_size\"]}\\n')"
      ],
      "metadata": {
        "colab": {
          "base_uri": "https://localhost:8080/"
        },
        "id": "kBEVxBO8LCV8",
        "outputId": "82521e12-c7d6-4a3b-c17c-e99566381f76"
      },
      "execution_count": null,
      "outputs": [
        {
          "output_type": "stream",
          "name": "stderr",
          "text": [
            "100%|██████████| 9024/9024 [00:00<00:00, 153371.18it/s]\n",
            "100%|██████████| 9024/9024 [00:00<00:00, 195309.40it/s]\n"
          ]
        },
        {
          "output_type": "stream",
          "name": "stdout",
          "text": [
            "Checking OOV terms...\n",
            "Building the embedding matrix...\n"
          ]
        },
        {
          "output_type": "stream",
          "name": "stderr",
          "text": [
            "100%|██████████| 15257/15257 [00:00<00:00, 227367.19it/s]\n"
          ]
        },
        {
          "output_type": "stream",
          "name": "stdout",
          "text": [
            "Vocabulary size: 15257\n",
            "\n"
          ]
        },
        {
          "output_type": "stream",
          "name": "stderr",
          "text": [
            "100%|██████████| 238/238 [00:00<00:00, 137083.82it/s]\n",
            "100%|██████████| 238/238 [00:00<00:00, 189204.77it/s]\n"
          ]
        },
        {
          "output_type": "stream",
          "name": "stdout",
          "text": [
            "Checking OOV terms...\n",
            "Building the embedding matrix...\n"
          ]
        },
        {
          "output_type": "stream",
          "name": "stderr",
          "text": [
            "100%|██████████| 15377/15377 [00:00<00:00, 229037.49it/s]\n"
          ]
        },
        {
          "output_type": "stream",
          "name": "stdout",
          "text": [
            "Vocabulary size: 15377\n",
            "\n"
          ]
        },
        {
          "output_type": "stream",
          "name": "stderr",
          "text": [
            "100%|██████████| 237/237 [00:00<00:00, 67365.82it/s]\n",
            "100%|██████████| 237/237 [00:00<00:00, 110034.32it/s]\n"
          ]
        },
        {
          "output_type": "stream",
          "name": "stdout",
          "text": [
            "Checking OOV terms...\n",
            "Building the embedding matrix...\n"
          ]
        },
        {
          "output_type": "stream",
          "name": "stderr",
          "text": [
            "100%|██████████| 15506/15506 [00:00<00:00, 203474.24it/s]"
          ]
        },
        {
          "output_type": "stream",
          "name": "stdout",
          "text": [
            "\n",
            "Vocabulary size: 15506\n",
            "\n"
          ]
        },
        {
          "output_type": "stream",
          "name": "stderr",
          "text": [
            "\n"
          ]
        }
      ]
    },
    {
      "cell_type": "markdown",
      "metadata": {
        "id": "y1m8HYJRwiqJ"
      },
      "source": [
        "We also define two function to encode the labels into numbers (binary) and vice versa"
      ]
    },
    {
      "cell_type": "code",
      "source": [
        "def label2idx(label):\n",
        "  return {\n",
        "        'pro': 1,\n",
        "        'con': 0,\n",
        "        'None': 1 # We arbitrary decided that the stance of the main claim is pro\n",
        "  }[label]\n",
        "\n",
        "def idx2label(idx):\n",
        "  return {\n",
        "        1: 'pro',\n",
        "        0: 'con',\n",
        "  }[idx]"
      ],
      "metadata": {
        "id": "yqevIlu7qh_I"
      },
      "execution_count": null,
      "outputs": []
    },
    {
      "cell_type": "markdown",
      "metadata": {
        "id": "JOEG_4L-w105"
      },
      "source": [
        "And we split the dataset into claims set, evidences set and label set for train/valid/test "
      ]
    },
    {
      "cell_type": "code",
      "source": [
        "# train\n",
        "claim_train = [sentence.split(\" \") for sentence in train['Claim'].values]\n",
        "claim_parent_train = [sentence.split(\" \") for sentence in train['Parent_claim'].values]\n",
        "parent_vote_train = train['Parent_vote'].values\n",
        "n_child_pro_train = train['Pro'].values\n",
        "n_child_con_train = train['Con'].values\n",
        "stance_train = train['Stance']\n",
        "y_train = train['Mean_vote']\n",
        "\n",
        "# valid\n",
        "claim_val = [sentence.split(\" \") for sentence in valid['Claim'].values]\n",
        "claim_parent_val = [sentence.split(\" \") for sentence in valid['Parent_claim'].values]\n",
        "parent_vote_val = valid['Parent_vote'].values\n",
        "n_child_pro_val = valid['Pro'].values\n",
        "n_child_con_val = valid['Con'].values\n",
        "stance_val = valid['Stance']\n",
        "y_val = valid['Mean_vote']\n",
        "\n",
        "# test\n",
        "claim_test = [sentence.split(\" \") for sentence in test['Claim'].values]\n",
        "claim_parent_test = [sentence.split(\" \") for sentence in test['Parent_claim'].values]\n",
        "parent_vote_test = test['Parent_vote'].values\n",
        "n_child_pro_test = test['Pro'].values\n",
        "n_child_con_test = test['Con'].values\n",
        "stance_test = test['Stance']\n",
        "y_test = test['Mean_vote']"
      ],
      "metadata": {
        "id": "QbjUqyjbLLE0"
      },
      "execution_count": null,
      "outputs": []
    },
    {
      "cell_type": "code",
      "source": [
        "idx_to_show =  7138 #@param {type:\"slider\", min:0, max:9023, step:1}\n",
        "print('Choosen claim of the training set:')\n",
        "print(claim_train[idx_to_show])\n",
        "print('Choosen parent claim of the training set:')\n",
        "print(claim_parent_train[idx_to_show])\n",
        "print('\\nChoosen stance of the training set:')\n",
        "print(stance_train[idx_to_show])\n",
        "print('\\nChoosen number of pro children of the training set:')\n",
        "print(n_child_pro_train[idx_to_show])\n",
        "print('\\nChoosen number of con children of the training set:')\n",
        "print(n_child_con_train[idx_to_show])\n",
        "print('\\nChoosen label of the training set:')\n",
        "print(y_train[idx_to_show])"
      ],
      "metadata": {
        "colab": {
          "base_uri": "https://localhost:8080/"
        },
        "id": "P7_uRdokLjcJ",
        "outputId": "f481a630-d729-4d8d-d5e2-6c33ee7a07c4"
      },
      "execution_count": null,
      "outputs": [
        {
          "output_type": "stream",
          "name": "stdout",
          "text": [
            "Choosen claim of the training set:\n",
            "['the', 'capacity', 'for', 'harm', 'is', 'greater', 'when', 'magic', 'is', 'involved']\n",
            "Choosen parent claim of the training set:\n",
            "['would', 'we', 'like', 'to', 'live', 'in', 'the', 'world', 'of', 'harry', 'potter']\n",
            "\n",
            "Choosen stance of the training set:\n",
            "pro\n",
            "\n",
            "Choosen number of pro children of the training set:\n",
            "3\n",
            "\n",
            "Choosen number of con children of the training set:\n",
            "4\n",
            "\n",
            "Choosen label of the training set:\n",
            "1.5\n"
          ]
        }
      ]
    },
    {
      "cell_type": "markdown",
      "metadata": {
        "id": "hgFDZ6oCxe4u"
      },
      "source": [
        "Finally we encode the inputs of our model and the output label to do the evaluation steps.\n",
        "\n",
        "We accomplish this task using two functions that convert claims, evidences and labels into a numerical format using the previously defined tokenizer and functions.\n",
        "\n",
        "The function also pads claims and evidences using zeroes (the encoding of the `-PAD-` string defined in the initialization of the vocabularies) so that they all have the same size.\n",
        "\n",
        "The maximum length of the sequences is determined by the training set in order to emulate a real scenario where the test set can also have longer sequences than the ones used to train the network. In case a claim or an evidence exceeds that dimension, it is truncated."
      ]
    },
    {
      "cell_type": "code",
      "source": [
        "def convert_text(texts, tokenizer, is_training=False, max_seq_length=None):\n",
        "    \"\"\"\n",
        "    Converts input text sequences using a given tokenizer\n",
        "\n",
        "    :param texts: either a list or numpy ndarray of strings\n",
        "    :param tokenizer: an instantiated tokenizer\n",
        "    :param is_training: whether input texts are from the training split or not\n",
        "    :param max_seq_length: the max token sequence previously computed with\n",
        "    training texts.\n",
        "\n",
        "    :return\n",
        "        text_ids: a nested list on token indices\n",
        "        max_seq_length: the max token sequence previously computed with\n",
        "        training texts.\n",
        "    \"\"\"\n",
        "\n",
        "    text_ids = [tokenizer.convert_words_to_ids(sentence) for sentence in texts]\n",
        "\n",
        "    # Padding\n",
        "    if is_training:\n",
        "        max_seq_length = int(np.quantile([len(seq) for seq in text_ids], 0.99))\n",
        "    else:\n",
        "        assert max_seq_length is not None\n",
        "\n",
        "    text_ids = [seq + [0] * (max_seq_length - len(seq)) for seq in text_ids]\n",
        "    text_ids = np.array([seq[:max_seq_length] for seq in text_ids])\n",
        "\n",
        "    if is_training:\n",
        "        return text_ids, max_seq_length\n",
        "    else:\n",
        "        return text_ids"
      ],
      "metadata": {
        "id": "9J5MPmYFL9mF"
      },
      "execution_count": null,
      "outputs": []
    },
    {
      "cell_type": "markdown",
      "metadata": {
        "id": "YyIOZu3oBKOF"
      },
      "source": [
        "Convert claim"
      ]
    },
    {
      "cell_type": "code",
      "source": [
        "# Train\n",
        "claim_train, max_tokens = convert_text(claim_train, tokenizer, True)\n",
        "print(\"Max sequence length: {}\\n\".format(max_tokens))\n",
        "print('X train shape: ', claim_train.shape)\n",
        "\n",
        "# Val\n",
        "claim_val = convert_text(claim_val, tokenizer, False, max_tokens)\n",
        "print('X val shape: ', claim_val.shape)\n",
        "\n",
        "# Test\n",
        "claim_test = convert_text(claim_test, tokenizer, False, max_tokens)\n",
        "print('X test shape: ', claim_test.shape)"
      ],
      "metadata": {
        "id": "aWVzyQW2L_JO",
        "outputId": "f9fc22ce-3c39-4c86-cdb5-d63f7ec26b2b",
        "colab": {
          "base_uri": "https://localhost:8080/"
        }
      },
      "execution_count": null,
      "outputs": [
        {
          "output_type": "stream",
          "name": "stdout",
          "text": [
            "Max sequence length: 76\n",
            "\n",
            "X train shape:  (9024, 76)\n",
            "X val shape:  (238, 76)\n",
            "X test shape:  (237, 76)\n"
          ]
        }
      ]
    },
    {
      "cell_type": "markdown",
      "source": [
        "Convert parent claim"
      ],
      "metadata": {
        "id": "gQat-_apGeuH"
      }
    },
    {
      "cell_type": "code",
      "source": [
        "# Train\n",
        "claim_parent_train = convert_text(claim_parent_train, tokenizer, False, max_tokens)\n",
        "print(\"Max sequence length: {}\\n\".format(max_tokens))\n",
        "print('X train shape: ', claim_parent_train.shape)\n",
        "\n",
        "# Val\n",
        "claim_parent_val = convert_text(claim_parent_val, tokenizer, False, max_tokens)\n",
        "print('X val shape: ', claim_parent_val.shape)\n",
        "\n",
        "# Test\n",
        "claim_parent_test = convert_text(claim_parent_test, tokenizer, False, max_tokens)\n",
        "print('X test shape: ', claim_parent_test.shape)"
      ],
      "metadata": {
        "colab": {
          "base_uri": "https://localhost:8080/"
        },
        "id": "k5EYVOL7zRAx",
        "outputId": "18dc7cca-9135-4be1-a557-49aa628e5679"
      },
      "execution_count": null,
      "outputs": [
        {
          "output_type": "stream",
          "name": "stdout",
          "text": [
            "Max sequence length: 76\n",
            "\n",
            "X train shape:  (9024, 76)\n",
            "X val shape:  (238, 76)\n",
            "X test shape:  (237, 76)\n"
          ]
        }
      ]
    },
    {
      "cell_type": "markdown",
      "source": [
        "Convert stance"
      ],
      "metadata": {
        "id": "UHlp21ZfFowt"
      }
    },
    {
      "cell_type": "code",
      "source": [
        "# Train\n",
        "stance_train = stance_train.apply(label2idx).values\n",
        "print('Y train shape: ', stance_train.shape)\n",
        "\n",
        "# Val\n",
        "stance_val = stance_val.apply(label2idx).values\n",
        "print('Y valid shape: ', stance_val.shape)\n",
        "\n",
        "# Test\n",
        "stance_test = stance_test.apply(label2idx).values\n",
        "print('Y test shape: ', stance_test.shape)"
      ],
      "metadata": {
        "colab": {
          "base_uri": "https://localhost:8080/"
        },
        "id": "edQzJQR5Fs42",
        "outputId": "bddac722-77c6-4d3b-d503-f39bdc0b5538"
      },
      "execution_count": null,
      "outputs": [
        {
          "output_type": "stream",
          "name": "stdout",
          "text": [
            "Y train shape:  (9024,)\n",
            "Y valid shape:  (238,)\n",
            "Y test shape:  (237,)\n"
          ]
        }
      ]
    },
    {
      "cell_type": "code",
      "source": [
        "idx_to_show =  1043 #@param {type:\"slider\", min:0, max:9023, step:1}\n",
        "print('Choosen claim of the training set:')\n",
        "print(claim_train[idx_to_show])\n",
        "print('Choosen parent claim of the training set:')\n",
        "print(claim_parent_train[idx_to_show])\n",
        "print('\\nChoosen stance of the training set:')\n",
        "print(stance_train[idx_to_show])\n",
        "print('\\nChoosen number of pro children of the training set:')\n",
        "print(n_child_pro_train[idx_to_show])\n",
        "print('\\nChoosen number of con children of the training set:')\n",
        "print(n_child_con_train[idx_to_show])\n",
        "print('\\nChoosen label of the training set:')\n",
        "print(y_train[idx_to_show])"
      ],
      "metadata": {
        "colab": {
          "base_uri": "https://localhost:8080/"
        },
        "id": "FecYMJp5OKux",
        "outputId": "60c49c10-e8d5-4fb4-9827-81e4b3c3ff89"
      },
      "execution_count": null,
      "outputs": [
        {
          "output_type": "stream",
          "name": "stdout",
          "text": [
            "Choosen claim of the training set:\n",
            "[2823  139 5343   10  182  637    5 4159 4160   55  863 4365   19 3265\n",
            " 3515  182 2842    0    0    0    0    0    0    0    0    0    0    0\n",
            "    0    0    0    0    0    0    0    0    0    0    0    0    0    0\n",
            "    0    0    0    0    0    0    0    0    0    0    0    0    0    0\n",
            "    0    0    0    0    0    0    0    0    0    0    0    0    0    0\n",
            "    0    0    0    0    0    0]\n",
            "Choosen parent claim of the training set:\n",
            "[ 182  133  607   32 1961  433   15  657 1977    0    0    0    0    0\n",
            "    0    0    0    0    0    0    0    0    0    0    0    0    0    0\n",
            "    0    0    0    0    0    0    0    0    0    0    0    0    0    0\n",
            "    0    0    0    0    0    0    0    0    0    0    0    0    0    0\n",
            "    0    0    0    0    0    0    0    0    0    0    0    0    0    0\n",
            "    0    0    0    0    0    0]\n",
            "\n",
            "Choosen stance of the training set:\n",
            "0\n",
            "\n",
            "Choosen number of pro children of the training set:\n",
            "1\n",
            "\n",
            "Choosen number of con children of the training set:\n",
            "0\n",
            "\n",
            "Choosen label of the training set:\n",
            "2.0\n"
          ]
        }
      ]
    },
    {
      "cell_type": "markdown",
      "source": [
        "# Model"
      ],
      "metadata": {
        "id": "_8paF7IyO4n4"
      }
    },
    {
      "cell_type": "markdown",
      "source": [
        "## Embedding strategies"
      ],
      "metadata": {
        "id": "uisSMlGG8xxr"
      }
    },
    {
      "cell_type": "code",
      "source": [
        "# Model 1 and 2\n",
        "class RNNSentenceEmbedding(tf.keras.layers.Layer):\n",
        "    \"\"\"\n",
        "    Create a recurrent sentence embedding layer that using a bidirectional LSTM\n",
        "\n",
        "    :param embedding_dim: the dimension of the embedding vector\n",
        "    :param average_all_outputs: if True the entire sequence of the bidirectional\n",
        "      LSTM is returned and then all the output vectors are averaged, otherwise\n",
        "      only the last output is returned\n",
        "\n",
        "    :return\n",
        "      the sentence embedding vector\n",
        "    \"\"\"\n",
        "    def __init__(self, embedding_dim, average_all_outputs=False, **kwargs):\n",
        "        super(RNNSentenceEmbedding, self).__init__(**kwargs)\n",
        "        self.average_all_outputs = average_all_outputs\n",
        "        self.lstm = Bidirectional(LSTM(embedding_dim, return_sequences=self.average_all_outputs))\n",
        "        \n",
        "    def call(self, inputs, average=False): \n",
        "        if self.average_all_outputs:\n",
        "            return tf.reduce_mean(self.lstm(inputs), axis=1)\n",
        "        else:\n",
        "            return self.lstm(inputs)\n",
        "\n",
        "\n",
        "# Model 3\n",
        "class MLPSentenceEmbedding(tf.keras.layers.Layer):\n",
        "    \"\"\"\n",
        "    Create a MLP sentence embedding layer using a dense layer. At first the input\n",
        "    with shape [batch_size, max_tokens, embedding_dim] is flattened to \n",
        "    [batch_size, max_tokens * embedding_dim] and then it is passed to the dense layer\n",
        "    that encodes the embedding vector so that the shape of the output matrix is\n",
        "    [batch_size, embedding_dim]\n",
        "\n",
        "    :param embedding_dim: the dimension of the embedding vector\n",
        "\n",
        "    :return\n",
        "      the sentence embedding vector\n",
        "    \"\"\"\n",
        "    def __init__(self, embedding_dim, **kwargs):\n",
        "        super(MLPSentenceEmbedding, self).__init__(**kwargs)\n",
        "        self.flatten = Flatten()\n",
        "        self.dense = Dense(embedding_dim)\n",
        "\n",
        "    def call(self, inputs):\n",
        "        flattened = self.flatten(inputs)\n",
        "        return self.dense(flattened)\n",
        "\n",
        "\n",
        "# Model 4\n",
        "class AvgSentenceEmbedding(tf.keras.layers.Layer):\n",
        "    \"\"\"\n",
        "    Create a sentence embedding layer that simply average the embedding of each word in the sentece\n",
        "\n",
        "    :return the sentence embedding vector:\n",
        "    \"\"\"\n",
        "    def __init__(self, **kwargs):\n",
        "        super(AvgSentenceEmbedding, self).__init__(**kwargs)\n",
        "\n",
        "    def call(self, inputs, **kwargs):\n",
        "        return tf.reduce_mean(inputs, axis=1)"
      ],
      "metadata": {
        "id": "l6hyG-H9TTio"
      },
      "execution_count": null,
      "outputs": []
    },
    {
      "cell_type": "markdown",
      "source": [
        "## Concatenation strategies"
      ],
      "metadata": {
        "id": "W8-ruvU880a1"
      }
    },
    {
      "cell_type": "code",
      "source": [
        "class ConcatationMerge(tf.keras.layers.Layer):\n",
        "  def call(self, claim_sentence_embedding, evidence_sentence_embedding, **kwargs):\n",
        "      cosine_similarity = Dot(axes=1, normalize=True)([claim_sentence_embedding, evidence_sentence_embedding])\n",
        "      merged = Concatenate()([claim_sentence_embedding, evidence_sentence_embedding])\n",
        "      return Concatenate()([merged, cosine_similarity])\n",
        "\n",
        "class SumMerge(tf.keras.layers.Layer):\n",
        "  def call(self, claim_sentence_embedding, evidence_sentence_embedding, **kwargs):\n",
        "    cosine_similarity = Dot(axes=1, normalize=True)([claim_sentence_embedding, evidence_sentence_embedding])\n",
        "    merged = Add()([claim_sentence_embedding, evidence_sentence_embedding])\n",
        "    return Concatenate()([merged, cosine_similarity])\n",
        "\n",
        "class MeanMerge(tf.keras.layers.Layer):\n",
        "  def call(self, claim_sentence_embedding, evidence_sentence_embedding, **kwargs):\n",
        "    cosine_similarity = Dot(axes=1, normalize=True)([claim_sentence_embedding, evidence_sentence_embedding])\n",
        "    merged = Average()([claim_sentence_embedding, evidence_sentence_embedding])\n",
        "    return Concatenate()([merged, cosine_similarity])"
      ],
      "metadata": {
        "id": "GQ8cZlDM2brI"
      },
      "execution_count": null,
      "outputs": []
    },
    {
      "cell_type": "markdown",
      "source": [
        "## Training"
      ],
      "metadata": {
        "id": "Yk7M8VHi83xz"
      }
    },
    {
      "cell_type": "code",
      "source": [
        "word_embedding_info = {\n",
        "      \"output_dim\": embedding_dimension,\n",
        "      \"input_dim\": tokenizer.get_info()['vocab_size'],\n",
        "      \"input_length\": max_tokens,\n",
        "      \"weights\": tokenizer.embedding_matrix if tokenizer.embedding_matrix is None else [tokenizer.embedding_matrix],\n",
        "      \"mask_zero\": False,\n",
        "      \"trainable\": False\n",
        "    }"
      ],
      "metadata": {
        "id": "lslDmAmIOzsk"
      },
      "execution_count": null,
      "outputs": []
    },
    {
      "cell_type": "code",
      "source": [
        "training_info = {\n",
        "    'verbose': 1,\n",
        "    'epochs': 100,\n",
        "    'batch_size': 64,\n",
        "    'callbacks': [\n",
        "      keras.callbacks.EarlyStopping(monitor='val_loss',\n",
        "                                    mode='min',\n",
        "                                    patience=5, \n",
        "                                    restore_best_weights=True)]\n",
        "}"
      ],
      "metadata": {
        "id": "mkIi-VGVPBYu"
      },
      "execution_count": null,
      "outputs": []
    },
    {
      "cell_type": "code",
      "source": [
        "#Plots some graphs on training history\n",
        "def show_history(history: keras.callbacks.History):\n",
        "    \"\"\"\n",
        "    Shows training history data stored by the History Keras callback\n",
        "\n",
        "    :param history: History Keras callback\n",
        "    \"\"\"\n",
        "\n",
        "    history_data = history.history\n",
        "    print(\"Displaying the following history keys: \", history_data.keys())\n",
        "\n",
        "    for key, value in history_data.items():\n",
        "        if not key.startswith('val'):\n",
        "            fig, ax = plt.subplots(1, 1)\n",
        "            ax.set_title(key)\n",
        "            ax.plot(value)\n",
        "            if 'val_{}'.format(key) in history_data:\n",
        "                ax.plot(history_data['val_{}'.format(key)])\n",
        "            else:\n",
        "                print(\"Couldn't find validation values for metric: \", key)\n",
        "\n",
        "            ax.set_ylabel(key)\n",
        "            ax.set_xlabel('epoch')\n",
        "            ax.legend(['train', 'val'], loc='best')\n",
        "\n",
        "    plt.show()\n",
        "\n",
        "#Train the model\n",
        "def train_model(model: keras.Model,\n",
        "                x_train: np.ndarray,\n",
        "                y_train: np.ndarray,\n",
        "                x_val: np.ndarray,\n",
        "                y_val: np.ndarray,\n",
        "                training_info: Dict):\n",
        "    \"\"\"\n",
        "    Training routine for the Keras model.\n",
        "    At the end of the training, retrieved History data is shown.\n",
        "\n",
        "    :param model: Keras built model\n",
        "    :param x_train: training data in np.ndarray format\n",
        "    :param y_train: training labels in np.ndarray format\n",
        "    :param x_val: validation data in np.ndarray format\n",
        "    :param y_val: validation labels in np.ndarray format\n",
        "    :param training_info: dictionary storing model fit() argument information\n",
        "\n",
        "    :return\n",
        "        model: trained Keras model\n",
        "    \"\"\"\n",
        "    print(\"Start training! \\nParameters: {}\".format(training_info))\n",
        "    history = model.fit(x=x_train, y=y_train,\n",
        "                        validation_data=(x_val, y_val),\n",
        "                        **training_info)\n",
        "    print(\"Training completed! Showing history...\")\n",
        "\n",
        "    show_history(history)\n",
        "\n",
        "    return model"
      ],
      "metadata": {
        "id": "ELMDlOMoQGSf"
      },
      "execution_count": null,
      "outputs": []
    },
    {
      "cell_type": "markdown",
      "source": [
        "## Model implementation"
      ],
      "metadata": {
        "id": "S04SMoEr86Nh"
      }
    },
    {
      "cell_type": "code",
      "source": [
        "from tensorflow.keras.layers import Input, Embedding, Bidirectional, LSTM, Dot, Concatenate, Add, Average, Dense, Dropout, Flatten"
      ],
      "metadata": {
        "id": "Ca5_ojgtT0Pl"
      },
      "execution_count": null,
      "outputs": []
    },
    {
      "cell_type": "markdown",
      "source": [
        "### Model 0\n",
        "In this model use only the claim to predict its impact"
      ],
      "metadata": {
        "id": "3kULa01DDP1g"
      }
    },
    {
      "cell_type": "code",
      "source": [
        "def create_model0(sentence_embedding, merging_strategy):\n",
        "    \n",
        "    # Claim input embedding\n",
        "    claim_input = Input(shape=(max_tokens,), name=\"claim_input\")\n",
        "    claim_word_embedding = Embedding(**word_embedding_info, name=\"claim_word_embedding\")(claim_input)\n",
        "    claim_sentence_embedding = sentence_embedding(claim_word_embedding)\n",
        "\n",
        "    # Regressor\n",
        "    dense_layer = Dense(50, activation=\"relu\", name=\"dense\")(claim_sentence_embedding)\n",
        "    output_class = Dense(1, activation=\"relu\", name=\"regressor\")(dense_layer)\n",
        "\n",
        "    model = keras.Model(inputs=claim_input, outputs=output_class)\n",
        "\n",
        "    model.summary()\n",
        "\n",
        "    # Compile\n",
        "    model.compile(loss='mae', metrics=['mae'],\n",
        "                  optimizer=keras.optimizers.Adam(1e-4))\n",
        "\n",
        "    return model"
      ],
      "metadata": {
        "id": "5Qh_phALEJfF"
      },
      "execution_count": null,
      "outputs": []
    },
    {
      "cell_type": "code",
      "source": [
        "model0 = create_model0(sentence_embedding=RNNSentenceEmbedding(embedding_dimension, False, name='sentence_embedding'), \n",
        "                       merging_strategy=ConcatationMerge(name=\"merging_strategy\"))\n",
        "\n",
        "model0 = train_model(model=model0, x_train=claim_train, y_train=y_train,\n",
        "                    x_val=claim_val, y_val=y_val, training_info=training_info)"
      ],
      "metadata": {
        "colab": {
          "base_uri": "https://localhost:8080/",
          "height": 1000
        },
        "id": "WiAmQoQCEVq1",
        "outputId": "fd23b2e2-ffb6-4ed5-cbed-f81e982aa202"
      },
      "execution_count": null,
      "outputs": [
        {
          "output_type": "stream",
          "name": "stdout",
          "text": [
            "Model: \"model_1\"\n",
            "_________________________________________________________________\n",
            " Layer (type)                Output Shape              Param #   \n",
            "=================================================================\n",
            " claim_input (InputLayer)    [(None, 76)]              0         \n",
            "                                                                 \n",
            " claim_word_embedding (Embed  (None, 76, 50)           775300    \n",
            " ding)                                                           \n",
            "                                                                 \n",
            " sentence_embedding (RNNSent  (None, 100)              40400     \n",
            " enceEmbedding)                                                  \n",
            "                                                                 \n",
            " dense (Dense)               (None, 50)                5050      \n",
            "                                                                 \n",
            " dropout (Dropout)           (None, 50)                0         \n",
            "                                                                 \n",
            " regressor (Dense)           (None, 1)                 51        \n",
            "                                                                 \n",
            "=================================================================\n",
            "Total params: 820,801\n",
            "Trainable params: 45,501\n",
            "Non-trainable params: 775,300\n",
            "_________________________________________________________________\n",
            "Start training! \n",
            "Parameters: {'verbose': 1, 'epochs': 100, 'batch_size': 64, 'callbacks': [<keras.callbacks.EarlyStopping object at 0x7f1a3e4f1110>]}\n",
            "Epoch 1/100\n",
            "141/141 [==============================] - 10s 46ms/step - loss: 1.3117 - mae: 1.3117 - val_loss: 0.5363 - val_mae: 0.5363\n",
            "Epoch 2/100\n",
            "141/141 [==============================] - 6s 39ms/step - loss: 0.5585 - mae: 0.5585 - val_loss: 0.5242 - val_mae: 0.5242\n",
            "Epoch 3/100\n",
            "141/141 [==============================] - 5s 39ms/step - loss: 0.5478 - mae: 0.5478 - val_loss: 0.5091 - val_mae: 0.5091\n",
            "Epoch 4/100\n",
            "141/141 [==============================] - 5s 39ms/step - loss: 0.5420 - mae: 0.5420 - val_loss: 0.5035 - val_mae: 0.5035\n",
            "Epoch 5/100\n",
            "141/141 [==============================] - 6s 39ms/step - loss: 0.5391 - mae: 0.5391 - val_loss: 0.4962 - val_mae: 0.4962\n",
            "Epoch 6/100\n",
            "141/141 [==============================] - 5s 39ms/step - loss: 0.5357 - mae: 0.5357 - val_loss: 0.4947 - val_mae: 0.4947\n",
            "Epoch 7/100\n",
            "141/141 [==============================] - 5s 39ms/step - loss: 0.5344 - mae: 0.5344 - val_loss: 0.4915 - val_mae: 0.4915\n",
            "Epoch 8/100\n",
            "141/141 [==============================] - 5s 39ms/step - loss: 0.5335 - mae: 0.5335 - val_loss: 0.4910 - val_mae: 0.4910\n",
            "Epoch 9/100\n",
            "141/141 [==============================] - 5s 39ms/step - loss: 0.5320 - mae: 0.5320 - val_loss: 0.4873 - val_mae: 0.4873\n",
            "Epoch 10/100\n",
            "141/141 [==============================] - 5s 39ms/step - loss: 0.5313 - mae: 0.5313 - val_loss: 0.4863 - val_mae: 0.4863\n",
            "Epoch 11/100\n",
            "141/141 [==============================] - 5s 39ms/step - loss: 0.5300 - mae: 0.5300 - val_loss: 0.4894 - val_mae: 0.4894\n",
            "Epoch 12/100\n",
            "141/141 [==============================] - 5s 38ms/step - loss: 0.5304 - mae: 0.5304 - val_loss: 0.4894 - val_mae: 0.4894\n",
            "Epoch 13/100\n",
            "141/141 [==============================] - 5s 39ms/step - loss: 0.5291 - mae: 0.5291 - val_loss: 0.4830 - val_mae: 0.4830\n",
            "Epoch 14/100\n",
            "141/141 [==============================] - 6s 45ms/step - loss: 0.5279 - mae: 0.5279 - val_loss: 0.4838 - val_mae: 0.4838\n",
            "Epoch 15/100\n",
            "141/141 [==============================] - 6s 44ms/step - loss: 0.5274 - mae: 0.5274 - val_loss: 0.4831 - val_mae: 0.4831\n",
            "Epoch 16/100\n",
            "141/141 [==============================] - 6s 45ms/step - loss: 0.5265 - mae: 0.5265 - val_loss: 0.4830 - val_mae: 0.4830\n",
            "Epoch 17/100\n",
            "141/141 [==============================] - 6s 43ms/step - loss: 0.5256 - mae: 0.5256 - val_loss: 0.4826 - val_mae: 0.4826\n",
            "Epoch 18/100\n",
            "141/141 [==============================] - 6s 40ms/step - loss: 0.5258 - mae: 0.5258 - val_loss: 0.4813 - val_mae: 0.4813\n",
            "Epoch 19/100\n",
            "141/141 [==============================] - 6s 40ms/step - loss: 0.5239 - mae: 0.5239 - val_loss: 0.4805 - val_mae: 0.4805\n",
            "Epoch 20/100\n",
            "141/141 [==============================] - 5s 39ms/step - loss: 0.5226 - mae: 0.5226 - val_loss: 0.4794 - val_mae: 0.4794\n",
            "Epoch 21/100\n",
            "141/141 [==============================] - 5s 39ms/step - loss: 0.5223 - mae: 0.5223 - val_loss: 0.4772 - val_mae: 0.4772\n",
            "Epoch 22/100\n",
            "141/141 [==============================] - 6s 39ms/step - loss: 0.5215 - mae: 0.5215 - val_loss: 0.4783 - val_mae: 0.4783\n",
            "Epoch 23/100\n",
            "141/141 [==============================] - 5s 39ms/step - loss: 0.5206 - mae: 0.5206 - val_loss: 0.4851 - val_mae: 0.4851\n",
            "Epoch 24/100\n",
            "141/141 [==============================] - 5s 39ms/step - loss: 0.5204 - mae: 0.5204 - val_loss: 0.4800 - val_mae: 0.4800\n",
            "Epoch 25/100\n",
            "141/141 [==============================] - 5s 39ms/step - loss: 0.5197 - mae: 0.5197 - val_loss: 0.4852 - val_mae: 0.4852\n",
            "Epoch 26/100\n",
            "141/141 [==============================] - 5s 39ms/step - loss: 0.5188 - mae: 0.5188 - val_loss: 0.4789 - val_mae: 0.4789\n",
            "Training completed! Showing history...\n",
            "Displaying the following history keys:  dict_keys(['loss', 'mae', 'val_loss', 'val_mae'])\n"
          ]
        },
        {
          "output_type": "display_data",
          "data": {
            "image/png": "[encoded data removed]",
            "text/plain": [
              "<Figure size 720x360 with 1 Axes>"
            ]
          },
          "metadata": {
            "needs_background": "light"
          }
        },
        {
          "output_type": "display_data",
          "data": {
            "image/png": "[encoded data removed]",
            "text/plain": [
              "<Figure size 720x360 with 1 Axes>"
            ]
          },
          "metadata": {
            "needs_background": "light"
          }
        }
      ]
    },
    {
      "cell_type": "markdown",
      "source": [
        "### Model 1\n",
        "In this model we merge the embedding of the selected **claim** with the embedding of the **parent claim**"
      ],
      "metadata": {
        "id": "9e-y5zGIHBhw"
      }
    },
    {
      "cell_type": "code",
      "source": [
        "def create_model1(sentence_embedding, merging_strategy):\n",
        "    \n",
        "    # Claim input embedding\n",
        "    claim_input = Input(shape=(max_tokens,), name=\"claim_input\")\n",
        "    claim_word_embedding = Embedding(**word_embedding_info, name=\"claim_word_embedding\")(claim_input)\n",
        "    claim_sentence_embedding = sentence_embedding(claim_word_embedding)\n",
        "\n",
        "    claim_parent_input = Input(shape=(max_tokens,), name='claim_parent_input')\n",
        "    claim_parent_word_embedding = Embedding(**word_embedding_info, name=\"claim_parent_word_embedding\")(claim_parent_input)\n",
        "    claim_parent_sentence_embedding = sentence_embedding(claim_parent_word_embedding)\n",
        "\n",
        "    # Merging\n",
        "    merge_layer = merging_strategy(claim_sentence_embedding, claim_parent_sentence_embedding)\n",
        "\n",
        "    # Regressor\n",
        "    dense_layer = Dense(50, activation=\"relu\", name=\"dense\")(merge_layer)\n",
        "    output_class = Dense(1, activation=\"relu\", name=\"regressor\")(dense_layer)\n",
        "\n",
        "    model = keras.Model(inputs=[claim_input, claim_parent_input], outputs=output_class)\n",
        "\n",
        "    model.summary()\n",
        "\n",
        "    # Compile\n",
        "    model.compile(loss='mae', metrics=['mae'],\n",
        "                  optimizer=keras.optimizers.Adam(1e-4))\n",
        "\n",
        "    return model"
      ],
      "metadata": {
        "id": "roHVSASm9Dag"
      },
      "execution_count": null,
      "outputs": []
    },
    {
      "cell_type": "code",
      "source": [
        "model1 = create_model1(sentence_embedding=RNNSentenceEmbedding(embedding_dimension, False, name='sentence_embedding'), \n",
        "                       merging_strategy=ConcatationMerge(name=\"merging_strategy\"))\n",
        "\n",
        "model1 = train_model(model=model1, x_train=[claim_train, claim_parent_train], y_train=y_train,\n",
        "                    x_val=[claim_val, claim_parent_val], y_val=y_val, training_info=training_info)"
      ],
      "metadata": {
        "colab": {
          "base_uri": "https://localhost:8080/",
          "height": 1000
        },
        "id": "QBntej4rDla1",
        "outputId": "48bd5240-ab70-420c-a496-00fad662c5b9"
      },
      "execution_count": null,
      "outputs": [
        {
          "output_type": "stream",
          "name": "stdout",
          "text": [
            "Model: \"model\"\n",
            "__________________________________________________________________________________________________\n",
            " Layer (type)                   Output Shape         Param #     Connected to                     \n",
            "==================================================================================================\n",
            " claim_input (InputLayer)       [(None, 76)]         0           []                               \n",
            "                                                                                                  \n",
            " claim_parent_input (InputLayer  [(None, 76)]        0           []                               \n",
            " )                                                                                                \n",
            "                                                                                                  \n",
            " claim_word_embedding (Embeddin  (None, 76, 50)      775300      ['claim_input[0][0]']            \n",
            " g)                                                                                               \n",
            "                                                                                                  \n",
            " claim_parent_word_embedding (E  (None, 76, 50)      775300      ['claim_parent_input[0][0]']     \n",
            " mbedding)                                                                                        \n",
            "                                                                                                  \n",
            " sentence_embedding (RNNSentenc  (None, 100)         40400       ['claim_word_embedding[0][0]',   \n",
            " eEmbedding)                                                      'claim_parent_word_embedding[0][\n",
            "                                                                 0]']                             \n",
            "                                                                                                  \n",
            " merging_strategy (ConcatationM  (None, 201)         0           ['sentence_embedding[0][0]',     \n",
            " erge)                                                            'sentence_embedding[1][0]']     \n",
            "                                                                                                  \n",
            " stance_input (InputLayer)      [(None, 1)]          0           []                               \n",
            "                                                                                                  \n",
            " concatenate (Concatenate)      (None, 202)          0           ['merging_strategy[0][0]',       \n",
            "                                                                  'stance_input[0][0]']           \n",
            "                                                                                                  \n",
            " dense (Dense)                  (None, 50)           10150       ['concatenate[0][0]']            \n",
            "                                                                                                  \n",
            " dropout (Dropout)              (None, 50)           0           ['dense[0][0]']                  \n",
            "                                                                                                  \n",
            " regressor (Dense)              (None, 1)            51          ['dropout[0][0]']                \n",
            "                                                                                                  \n",
            "==================================================================================================\n",
            "Total params: 1,601,201\n",
            "Trainable params: 50,601\n",
            "Non-trainable params: 1,550,600\n",
            "__________________________________________________________________________________________________\n",
            "Start training! \n",
            "Parameters: {'verbose': 1, 'epochs': 100, 'batch_size': 64, 'callbacks': [<keras.callbacks.EarlyStopping object at 0x7f1a3e4f1110>]}\n",
            "Epoch 1/100\n",
            "141/141 [==============================] - 29s 94ms/step - loss: 1.6714 - mae: 1.6714 - val_loss: 0.5331 - val_mae: 0.5331\n",
            "Epoch 2/100\n",
            "141/141 [==============================] - 11s 81ms/step - loss: 0.5546 - mae: 0.5546 - val_loss: 0.5180 - val_mae: 0.5180\n",
            "Epoch 3/100\n",
            "141/141 [==============================] - 11s 81ms/step - loss: 0.5446 - mae: 0.5446 - val_loss: 0.5049 - val_mae: 0.5049\n",
            "Epoch 4/100\n",
            "141/141 [==============================] - 11s 81ms/step - loss: 0.5389 - mae: 0.5389 - val_loss: 0.4991 - val_mae: 0.4991\n",
            "Epoch 5/100\n",
            "141/141 [==============================] - 11s 81ms/step - loss: 0.5351 - mae: 0.5351 - val_loss: 0.4999 - val_mae: 0.4999\n",
            "Epoch 6/100\n",
            "141/141 [==============================] - 11s 81ms/step - loss: 0.5317 - mae: 0.5317 - val_loss: 0.4946 - val_mae: 0.4946\n",
            "Epoch 7/100\n",
            "141/141 [==============================] - 11s 81ms/step - loss: 0.5301 - mae: 0.5301 - val_loss: 0.4934 - val_mae: 0.4934\n",
            "Epoch 8/100\n",
            "141/141 [==============================] - 12s 82ms/step - loss: 0.5274 - mae: 0.5274 - val_loss: 0.4940 - val_mae: 0.4940\n",
            "Epoch 9/100\n",
            "141/141 [==============================] - 11s 80ms/step - loss: 0.5262 - mae: 0.5262 - val_loss: 0.4891 - val_mae: 0.4891\n",
            "Epoch 10/100\n",
            "141/141 [==============================] - 12s 84ms/step - loss: 0.5253 - mae: 0.5253 - val_loss: 0.4887 - val_mae: 0.4887\n",
            "Epoch 11/100\n",
            "141/141 [==============================] - 12s 83ms/step - loss: 0.5232 - mae: 0.5232 - val_loss: 0.4901 - val_mae: 0.4901\n",
            "Epoch 12/100\n",
            "141/141 [==============================] - 12s 85ms/step - loss: 0.5213 - mae: 0.5213 - val_loss: 0.4898 - val_mae: 0.4898\n",
            "Epoch 13/100\n",
            "141/141 [==============================] - 12s 85ms/step - loss: 0.5195 - mae: 0.5195 - val_loss: 0.4864 - val_mae: 0.4864\n",
            "Epoch 14/100\n",
            "141/141 [==============================] - 12s 82ms/step - loss: 0.5179 - mae: 0.5179 - val_loss: 0.4887 - val_mae: 0.4887\n",
            "Epoch 15/100\n",
            "141/141 [==============================] - 12s 84ms/step - loss: 0.5180 - mae: 0.5180 - val_loss: 0.4878 - val_mae: 0.4878\n",
            "Epoch 16/100\n",
            "141/141 [==============================] - 12s 84ms/step - loss: 0.5157 - mae: 0.5157 - val_loss: 0.4862 - val_mae: 0.4862\n",
            "Epoch 17/100\n",
            "141/141 [==============================] - 12s 84ms/step - loss: 0.5139 - mae: 0.5139 - val_loss: 0.4867 - val_mae: 0.4867\n",
            "Epoch 18/100\n",
            "141/141 [==============================] - 11s 81ms/step - loss: 0.5136 - mae: 0.5136 - val_loss: 0.4839 - val_mae: 0.4839\n",
            "Epoch 19/100\n",
            "141/141 [==============================] - 11s 81ms/step - loss: 0.5119 - mae: 0.5119 - val_loss: 0.4834 - val_mae: 0.4834\n",
            "Epoch 20/100\n",
            "141/141 [==============================] - 11s 81ms/step - loss: 0.5106 - mae: 0.5106 - val_loss: 0.4827 - val_mae: 0.4827\n",
            "Epoch 21/100\n",
            "141/141 [==============================] - 11s 81ms/step - loss: 0.5111 - mae: 0.5111 - val_loss: 0.4826 - val_mae: 0.4826\n",
            "Epoch 22/100\n",
            "141/141 [==============================] - 11s 81ms/step - loss: 0.5094 - mae: 0.5094 - val_loss: 0.4921 - val_mae: 0.4921\n",
            "Epoch 23/100\n",
            "141/141 [==============================] - 11s 81ms/step - loss: 0.5095 - mae: 0.5095 - val_loss: 0.4830 - val_mae: 0.4830\n",
            "Epoch 24/100\n",
            "141/141 [==============================] - 11s 80ms/step - loss: 0.5070 - mae: 0.5070 - val_loss: 0.4802 - val_mae: 0.4802\n",
            "Epoch 25/100\n",
            "141/141 [==============================] - 11s 80ms/step - loss: 0.5072 - mae: 0.5072 - val_loss: 0.4839 - val_mae: 0.4839\n",
            "Epoch 26/100\n",
            "141/141 [==============================] - 11s 81ms/step - loss: 0.5062 - mae: 0.5062 - val_loss: 0.4828 - val_mae: 0.4828\n",
            "Epoch 27/100\n",
            "141/141 [==============================] - 11s 80ms/step - loss: 0.5049 - mae: 0.5049 - val_loss: 0.4819 - val_mae: 0.4819\n",
            "Epoch 28/100\n",
            "141/141 [==============================] - 12s 82ms/step - loss: 0.5048 - mae: 0.5048 - val_loss: 0.4821 - val_mae: 0.4821\n",
            "Epoch 29/100\n",
            "141/141 [==============================] - 12s 83ms/step - loss: 0.5033 - mae: 0.5033 - val_loss: 0.4801 - val_mae: 0.4801\n",
            "Epoch 30/100\n",
            "141/141 [==============================] - 11s 80ms/step - loss: 0.5024 - mae: 0.5024 - val_loss: 0.4818 - val_mae: 0.4818\n",
            "Epoch 31/100\n",
            "141/141 [==============================] - 11s 80ms/step - loss: 0.5010 - mae: 0.5010 - val_loss: 0.4824 - val_mae: 0.4824\n",
            "Epoch 32/100\n",
            "141/141 [==============================] - 11s 81ms/step - loss: 0.5004 - mae: 0.5004 - val_loss: 0.4821 - val_mae: 0.4821\n",
            "Epoch 33/100\n",
            "141/141 [==============================] - 11s 81ms/step - loss: 0.4989 - mae: 0.4989 - val_loss: 0.4881 - val_mae: 0.4881\n",
            "Epoch 34/100\n",
            "141/141 [==============================] - 11s 80ms/step - loss: 0.4986 - mae: 0.4986 - val_loss: 0.4881 - val_mae: 0.4881\n",
            "Training completed! Showing history...\n",
            "Displaying the following history keys:  dict_keys(['loss', 'mae', 'val_loss', 'val_mae'])\n"
          ]
        },
        {
          "output_type": "display_data",
          "data": {
            "image/png": "[encoded data removed]",
            "text/plain": [
              "<Figure size 720x360 with 1 Axes>"
            ]
          },
          "metadata": {
            "needs_background": "light"
          }
        },
        {
          "output_type": "display_data",
          "data": {
            "image/png": "[encoded data removed]",
            "text/plain": [
              "<Figure size 720x360 with 1 Axes>"
            ]
          },
          "metadata": {
            "needs_background": "light"
          }
        }
      ]
    },
    {
      "cell_type": "markdown",
      "source": [
        "### Model 2\n",
        "In this model we merge the embedding of the selected **claim** with the embedding of the **parent claim** and then concatenate the claim stance and the impact of the parent."
      ],
      "metadata": {
        "id": "9Vc1FS7bE8Pv"
      }
    },
    {
      "cell_type": "code",
      "source": [
        "def create_model2(sentence_embedding, merging_strategy):\n",
        "    \n",
        "    # Claim input embedding\n",
        "    claim_input = Input(shape=(max_tokens,), name=\"claim_input\")\n",
        "    claim_word_embedding = Embedding(**word_embedding_info, name=\"claim_word_embedding\")(claim_input)\n",
        "    claim_sentence_embedding = sentence_embedding(claim_word_embedding)\n",
        "\n",
        "    claim_parent_input = Input(shape=(max_tokens,), name='claim_parent_input')\n",
        "    claim_parent_word_embedding = Embedding(**word_embedding_info, name=\"claim_parent_word_embedding\")(claim_parent_input)\n",
        "    claim_parent_sentence_embedding = sentence_embedding(claim_parent_word_embedding)\n",
        "\n",
        "    # Merging\n",
        "    merge_layer = merging_strategy(claim_sentence_embedding, claim_parent_sentence_embedding)\n",
        "\n",
        "    # Claim stance input\n",
        "    stance_input = Input(shape=(1,), name='stance_input')\n",
        "\n",
        "    # Parent vote input\n",
        "    parent_vote_input = Input(shape=(1,), name='parent_vote_input')\n",
        "\n",
        "    # Concatenation\n",
        "    concatenation_layer = Concatenate()([merge_layer, stance_input, parent_vote_input])\n",
        "\n",
        "    # Regressor\n",
        "    dense_layer = Dense(50, activation=\"relu\", name=\"dense\")(concatenation_layer)\n",
        "    output_class = Dense(1, activation=\"relu\", name=\"regressor\")(dense_layer)\n",
        "\n",
        "    model = keras.Model(inputs=[claim_input, claim_parent_input, stance_input, parent_vote_input], outputs=output_class)\n",
        "\n",
        "    model.summary()\n",
        "\n",
        "    # Compile\n",
        "    model.compile(loss='mae', metrics=['mae'],\n",
        "                  optimizer=keras.optimizers.Adam(1e-4))\n",
        "\n",
        "    return model\n"
      ],
      "metadata": {
        "id": "IAmcXAA8PHqT"
      },
      "execution_count": null,
      "outputs": []
    },
    {
      "cell_type": "code",
      "source": [
        "model2 = create_model2(sentence_embedding=RNNSentenceEmbedding(embedding_dimension, False, name='sentence_embedding'), \n",
        "                       merging_strategy=ConcatationMerge(name=\"merging_strategy\"))\n",
        "\n",
        "model2 = train_model(model=model2, x_train=[claim_train, claim_parent_train, stance_train, parent_vote_train], y_train=y_train,\n",
        "                    x_val=[claim_val, claim_parent_val, stance_val, parent_vote_val], y_val=y_val, training_info=training_info)"
      ],
      "metadata": {
        "colab": {
          "base_uri": "https://localhost:8080/",
          "height": 1000
        },
        "id": "G5dffm2iGDli",
        "outputId": "12b93257-96a4-4920-e3b5-9084f7308a36"
      },
      "execution_count": null,
      "outputs": [
        {
          "output_type": "stream",
          "name": "stdout",
          "text": [
            "Model: \"model_2\"\n",
            "__________________________________________________________________________________________________\n",
            " Layer (type)                   Output Shape         Param #     Connected to                     \n",
            "==================================================================================================\n",
            " claim_parent_input (InputLayer  [(None, 76)]        0           []                               \n",
            " )                                                                                                \n",
            "                                                                                                  \n",
            " claim_input (InputLayer)       [(None, 76)]         0           []                               \n",
            "                                                                                                  \n",
            " claim_parent_word_embedding (E  (None, 76, 50)      775300      ['claim_parent_input[0][0]']     \n",
            " mbedding)                                                                                        \n",
            "                                                                                                  \n",
            " claim_word_embedding (Embeddin  (None, 76, 50)      775300      ['claim_input[0][0]']            \n",
            " g)                                                                                               \n",
            "                                                                                                  \n",
            " sentence_embedding (RNNSentenc  (None, 100)         40400       ['claim_word_embedding[0][0]',   \n",
            " eEmbedding)                                                      'claim_parent_word_embedding[0][\n",
            "                                                                 0]']                             \n",
            "                                                                                                  \n",
            " parent_vote_input (InputLayer)  [(None, 1)]         0           []                               \n",
            "                                                                                                  \n",
            " stance_input (InputLayer)      [(None, 1)]          0           []                               \n",
            "                                                                                                  \n",
            " concatenate_1 (Concatenate)    (None, 101)          0           ['sentence_embedding[1][0]',     \n",
            "                                                                  'parent_vote_input[0][0]']      \n",
            "                                                                                                  \n",
            " concatenate_2 (Concatenate)    (None, 101)          0           ['sentence_embedding[0][0]',     \n",
            "                                                                  'stance_input[0][0]']           \n",
            "                                                                                                  \n",
            " merging_strategy (ConcatationM  (None, 203)         0           ['concatenate_1[0][0]',          \n",
            " erge)                                                            'concatenate_2[0][0]']          \n",
            "                                                                                                  \n",
            " dense (Dense)                  (None, 50)           10200       ['merging_strategy[0][0]']       \n",
            "                                                                                                  \n",
            " dropout (Dropout)              (None, 50)           0           ['dense[0][0]']                  \n",
            "                                                                                                  \n",
            " regressor (Dense)              (None, 1)            51          ['dropout[0][0]']                \n",
            "                                                                                                  \n",
            "==================================================================================================\n",
            "Total params: 1,601,251\n",
            "Trainable params: 50,651\n",
            "Non-trainable params: 1,550,600\n",
            "__________________________________________________________________________________________________\n",
            "Start training! \n",
            "Parameters: {'verbose': 1, 'epochs': 100, 'batch_size': 64, 'callbacks': [<keras.callbacks.EarlyStopping object at 0x7f1a3e4f1110>]}\n",
            "Epoch 1/100\n",
            "141/141 [==============================] - 20s 94ms/step - loss: 1.0162 - mae: 1.0162 - val_loss: 0.5254 - val_mae: 0.5254\n",
            "Epoch 2/100\n",
            "141/141 [==============================] - 11s 81ms/step - loss: 0.5574 - mae: 0.5574 - val_loss: 0.5116 - val_mae: 0.5116\n",
            "Epoch 3/100\n",
            "141/141 [==============================] - 11s 80ms/step - loss: 0.5466 - mae: 0.5466 - val_loss: 0.5045 - val_mae: 0.5045\n",
            "Epoch 4/100\n",
            "141/141 [==============================] - 11s 81ms/step - loss: 0.5398 - mae: 0.5398 - val_loss: 0.5022 - val_mae: 0.5022\n",
            "Epoch 5/100\n",
            "141/141 [==============================] - 11s 81ms/step - loss: 0.5349 - mae: 0.5349 - val_loss: 0.4935 - val_mae: 0.4935\n",
            "Epoch 6/100\n",
            "141/141 [==============================] - 11s 81ms/step - loss: 0.5295 - mae: 0.5295 - val_loss: 0.4887 - val_mae: 0.4887\n",
            "Epoch 7/100\n",
            "141/141 [==============================] - 11s 81ms/step - loss: 0.5253 - mae: 0.5253 - val_loss: 0.5137 - val_mae: 0.5137\n",
            "Epoch 8/100\n",
            "141/141 [==============================] - 11s 80ms/step - loss: 0.5239 - mae: 0.5239 - val_loss: 0.4830 - val_mae: 0.4830\n",
            "Epoch 9/100\n",
            "141/141 [==============================] - 11s 80ms/step - loss: 0.5207 - mae: 0.5207 - val_loss: 0.5139 - val_mae: 0.5139\n",
            "Epoch 10/100\n",
            "141/141 [==============================] - 11s 80ms/step - loss: 0.5197 - mae: 0.5197 - val_loss: 0.4807 - val_mae: 0.4807\n",
            "Epoch 11/100\n",
            "141/141 [==============================] - 11s 80ms/step - loss: 0.5169 - mae: 0.5169 - val_loss: 0.4833 - val_mae: 0.4833\n",
            "Epoch 12/100\n",
            "141/141 [==============================] - 11s 80ms/step - loss: 0.5146 - mae: 0.5146 - val_loss: 0.4925 - val_mae: 0.4925\n",
            "Epoch 13/100\n",
            "141/141 [==============================] - 11s 80ms/step - loss: 0.5140 - mae: 0.5140 - val_loss: 0.4794 - val_mae: 0.4794\n",
            "Epoch 14/100\n",
            "141/141 [==============================] - 11s 80ms/step - loss: 0.5105 - mae: 0.5105 - val_loss: 0.4775 - val_mae: 0.4775\n",
            "Epoch 15/100\n",
            "141/141 [==============================] - 11s 80ms/step - loss: 0.5087 - mae: 0.5087 - val_loss: 0.4775 - val_mae: 0.4775\n",
            "Epoch 16/100\n",
            "141/141 [==============================] - 11s 80ms/step - loss: 0.5075 - mae: 0.5075 - val_loss: 0.4832 - val_mae: 0.4832\n",
            "Epoch 17/100\n",
            "141/141 [==============================] - 11s 80ms/step - loss: 0.5065 - mae: 0.5065 - val_loss: 0.4773 - val_mae: 0.4773\n",
            "Epoch 18/100\n",
            "141/141 [==============================] - 11s 80ms/step - loss: 0.5041 - mae: 0.5041 - val_loss: 0.4753 - val_mae: 0.4753\n",
            "Epoch 19/100\n",
            "141/141 [==============================] - 11s 79ms/step - loss: 0.5022 - mae: 0.5022 - val_loss: 0.4820 - val_mae: 0.4820\n",
            "Epoch 20/100\n",
            "141/141 [==============================] - 11s 80ms/step - loss: 0.5018 - mae: 0.5018 - val_loss: 0.4752 - val_mae: 0.4752\n",
            "Epoch 21/100\n",
            "141/141 [==============================] - 11s 80ms/step - loss: 0.4998 - mae: 0.4998 - val_loss: 0.4816 - val_mae: 0.4816\n",
            "Epoch 22/100\n",
            "141/141 [==============================] - 11s 80ms/step - loss: 0.4975 - mae: 0.4975 - val_loss: 0.4754 - val_mae: 0.4754\n",
            "Epoch 23/100\n",
            "141/141 [==============================] - 11s 80ms/step - loss: 0.4960 - mae: 0.4960 - val_loss: 0.4834 - val_mae: 0.4834\n",
            "Epoch 24/100\n",
            "141/141 [==============================] - 11s 81ms/step - loss: 0.4951 - mae: 0.4951 - val_loss: 0.4771 - val_mae: 0.4771\n",
            "Epoch 25/100\n",
            "141/141 [==============================] - 11s 80ms/step - loss: 0.4934 - mae: 0.4934 - val_loss: 0.4737 - val_mae: 0.4737\n",
            "Epoch 26/100\n",
            "141/141 [==============================] - 11s 80ms/step - loss: 0.4937 - mae: 0.4937 - val_loss: 0.4727 - val_mae: 0.4727\n",
            "Epoch 27/100\n",
            "141/141 [==============================] - 11s 80ms/step - loss: 0.4923 - mae: 0.4923 - val_loss: 0.4707 - val_mae: 0.4707\n",
            "Epoch 28/100\n",
            "141/141 [==============================] - 11s 80ms/step - loss: 0.4896 - mae: 0.4896 - val_loss: 0.4695 - val_mae: 0.4695\n",
            "Epoch 29/100\n",
            "141/141 [==============================] - 11s 80ms/step - loss: 0.4881 - mae: 0.4881 - val_loss: 0.4686 - val_mae: 0.4686\n",
            "Epoch 30/100\n",
            "141/141 [==============================] - 11s 80ms/step - loss: 0.4873 - mae: 0.4873 - val_loss: 0.4660 - val_mae: 0.4660\n",
            "Epoch 31/100\n",
            "141/141 [==============================] - 11s 79ms/step - loss: 0.4860 - mae: 0.4860 - val_loss: 0.4665 - val_mae: 0.4665\n",
            "Epoch 32/100\n",
            "141/141 [==============================] - 11s 80ms/step - loss: 0.4846 - mae: 0.4846 - val_loss: 0.4647 - val_mae: 0.4647\n",
            "Epoch 33/100\n",
            "141/141 [==============================] - 11s 80ms/step - loss: 0.4843 - mae: 0.4843 - val_loss: 0.4650 - val_mae: 0.4650\n",
            "Epoch 34/100\n",
            "141/141 [==============================] - 11s 80ms/step - loss: 0.4832 - mae: 0.4832 - val_loss: 0.4643 - val_mae: 0.4643\n",
            "Epoch 35/100\n",
            "141/141 [==============================] - 11s 81ms/step - loss: 0.4817 - mae: 0.4817 - val_loss: 0.4636 - val_mae: 0.4636\n",
            "Epoch 36/100\n",
            "141/141 [==============================] - 11s 81ms/step - loss: 0.4802 - mae: 0.4802 - val_loss: 0.4627 - val_mae: 0.4627\n",
            "Epoch 37/100\n",
            "141/141 [==============================] - 11s 80ms/step - loss: 0.4789 - mae: 0.4789 - val_loss: 0.4631 - val_mae: 0.4631\n",
            "Epoch 38/100\n",
            "141/141 [==============================] - 11s 80ms/step - loss: 0.4777 - mae: 0.4777 - val_loss: 0.4652 - val_mae: 0.4652\n",
            "Epoch 39/100\n",
            "141/141 [==============================] - 11s 80ms/step - loss: 0.4762 - mae: 0.4762 - val_loss: 0.4630 - val_mae: 0.4630\n",
            "Epoch 40/100\n",
            "141/141 [==============================] - 11s 81ms/step - loss: 0.4754 - mae: 0.4754 - val_loss: 0.4699 - val_mae: 0.4699\n",
            "Epoch 41/100\n",
            "141/141 [==============================] - 11s 81ms/step - loss: 0.4742 - mae: 0.4742 - val_loss: 0.4614 - val_mae: 0.4614\n",
            "Epoch 42/100\n",
            "141/141 [==============================] - 11s 80ms/step - loss: 0.4745 - mae: 0.4745 - val_loss: 0.4589 - val_mae: 0.4589\n",
            "Epoch 43/100\n",
            "141/141 [==============================] - 12s 83ms/step - loss: 0.4720 - mae: 0.4720 - val_loss: 0.4594 - val_mae: 0.4594\n",
            "Epoch 44/100\n",
            "141/141 [==============================] - 12s 83ms/step - loss: 0.4710 - mae: 0.4710 - val_loss: 0.4577 - val_mae: 0.4577\n",
            "Epoch 45/100\n",
            "141/141 [==============================] - 12s 83ms/step - loss: 0.4715 - mae: 0.4715 - val_loss: 0.4596 - val_mae: 0.4596\n",
            "Epoch 46/100\n",
            "141/141 [==============================] - 12s 84ms/step - loss: 0.4699 - mae: 0.4699 - val_loss: 0.4585 - val_mae: 0.4585\n",
            "Epoch 47/100\n",
            "141/141 [==============================] - 12s 82ms/step - loss: 0.4672 - mae: 0.4672 - val_loss: 0.4577 - val_mae: 0.4577\n",
            "Epoch 48/100\n",
            "141/141 [==============================] - 11s 80ms/step - loss: 0.4668 - mae: 0.4668 - val_loss: 0.4560 - val_mae: 0.4560\n",
            "Epoch 49/100\n",
            "141/141 [==============================] - 11s 80ms/step - loss: 0.4658 - mae: 0.4658 - val_loss: 0.4573 - val_mae: 0.4573\n",
            "Epoch 50/100\n",
            "141/141 [==============================] - 11s 80ms/step - loss: 0.4651 - mae: 0.4651 - val_loss: 0.4563 - val_mae: 0.4563\n",
            "Epoch 51/100\n",
            "141/141 [==============================] - 11s 81ms/step - loss: 0.4633 - mae: 0.4633 - val_loss: 0.4559 - val_mae: 0.4559\n",
            "Epoch 52/100\n",
            "141/141 [==============================] - 11s 80ms/step - loss: 0.4620 - mae: 0.4620 - val_loss: 0.4570 - val_mae: 0.4570\n",
            "Epoch 53/100\n",
            "141/141 [==============================] - 11s 80ms/step - loss: 0.4628 - mae: 0.4628 - val_loss: 0.4577 - val_mae: 0.4577\n",
            "Epoch 54/100\n",
            "141/141 [==============================] - 11s 81ms/step - loss: 0.4601 - mae: 0.4601 - val_loss: 0.4545 - val_mae: 0.4545\n",
            "Epoch 55/100\n",
            "141/141 [==============================] - 11s 80ms/step - loss: 0.4593 - mae: 0.4593 - val_loss: 0.4624 - val_mae: 0.4624\n",
            "Epoch 56/100\n",
            "141/141 [==============================] - 11s 81ms/step - loss: 0.4582 - mae: 0.4582 - val_loss: 0.4594 - val_mae: 0.4594\n",
            "Epoch 57/100\n",
            "141/141 [==============================] - 11s 80ms/step - loss: 0.4571 - mae: 0.4571 - val_loss: 0.4628 - val_mae: 0.4628\n",
            "Epoch 58/100\n",
            "141/141 [==============================] - 11s 80ms/step - loss: 0.4558 - mae: 0.4558 - val_loss: 0.4647 - val_mae: 0.4647\n",
            "Epoch 59/100\n",
            "141/141 [==============================] - 11s 81ms/step - loss: 0.4544 - mae: 0.4544 - val_loss: 0.4551 - val_mae: 0.4551\n",
            "Training completed! Showing history...\n",
            "Displaying the following history keys:  dict_keys(['loss', 'mae', 'val_loss', 'val_mae'])\n"
          ]
        },
        {
          "output_type": "display_data",
          "data": {
            "image/png": "[encoded data removed]",
            "text/plain": [
              "<Figure size 720x360 with 1 Axes>"
            ]
          },
          "metadata": {
            "needs_background": "light"
          }
        },
        {
          "output_type": "display_data",
          "data": {
            "image/png": "[encoded data removed]",
            "text/plain": [
              "<Figure size 720x360 with 1 Axes>"
            ]
          },
          "metadata": {
            "needs_background": "light"
          }
        }
      ]
    },
    {
      "cell_type": "markdown",
      "source": [
        "### Model 3\n",
        "In this model we merge the embedding of the selected **claim** with the embedding of the **parent claim** and then concatenate the claim stance, the impact of the parent and the ratio of pro/con childs"
      ],
      "metadata": {
        "id": "fJgV-BkpGF6a"
      }
    },
    {
      "cell_type": "code",
      "source": [
        "def create_model3(sentence_embedding, merging_strategy):\n",
        "    \n",
        "    # Claim input embedding\n",
        "    claim_input = Input(shape=(max_tokens,), name=\"claim_input\")\n",
        "    claim_word_embedding = Embedding(**word_embedding_info, name=\"claim_word_embedding\")(claim_input)\n",
        "    claim_sentence_embedding = sentence_embedding(claim_word_embedding)\n",
        "\n",
        "    claim_parent_input = Input(shape=(max_tokens,), name='claim_parent_input')\n",
        "    claim_parent_word_embedding = Embedding(**word_embedding_info, name=\"claim_parent_word_embedding\")(claim_parent_input)\n",
        "    claim_parent_sentence_embedding = sentence_embedding(claim_parent_word_embedding)\n",
        "\n",
        "    # Merging\n",
        "    merge_layer = merging_strategy(claim_sentence_embedding, claim_parent_sentence_embedding)\n",
        "\n",
        "    # Claim stance input\n",
        "    stance_input = Input(shape=(1,), name='stance_input')\n",
        "\n",
        "    # Parent vote input\n",
        "    parent_vote_input = Input(shape=(1,), name='parent_vote_input')\n",
        "\n",
        "    # Childs ratio input\n",
        "    n_child_ratio_input = Input(shape=(1,), name='n_child_ratio_input')\n",
        "\n",
        "    # Concatenation\n",
        "    concatenation_layer = Concatenate()([merge_layer, stance_input, parent_vote_input, n_child_ratio_input])\n",
        "\n",
        "    # Regressor\n",
        "    dense_layer = Dense(50, activation=\"relu\", name=\"dense\")(concatenation_layer)\n",
        "    output_class = Dense(1, activation=\"relu\", name=\"regressor\")(dropout_layer)\n",
        "\n",
        "    model = keras.Model(inputs=[claim_input, claim_parent_input, stance_input, parent_vote_input, n_child_ratio_input], outputs=output_class)\n",
        "\n",
        "    model.summary()\n",
        "\n",
        "    # Compile\n",
        "    model.compile(loss='mae', metrics=['mae'],\n",
        "                  optimizer=keras.optimizers.Adam(1e-4))\n",
        "\n",
        "    return model"
      ],
      "metadata": {
        "id": "L1qZwmn5_PdC"
      },
      "execution_count": null,
      "outputs": []
    },
    {
      "cell_type": "code",
      "source": [
        "n_child_ratio_train = (n_child_pro_train + 1.0) / (n_child_con_train + 1.0)\n",
        "n_child_ratio_val = (n_child_pro_val + 1.0) / (n_child_con_val + 1.0)\n",
        "n_child_ratio_test = (n_child_pro_test + 1.0) / (n_child_con_test + 1.0)"
      ],
      "metadata": {
        "id": "KVDKun5JJIza"
      },
      "execution_count": null,
      "outputs": []
    },
    {
      "cell_type": "code",
      "source": [
        "n_child_ratio_train = n_child_pro_train - n_child_con_train\n",
        "n_child_ratio_val = n_child_pro_val - n_child_con_val\n",
        "n_child_ratio_test = n_child_pro_test - n_child_con_test"
      ],
      "metadata": {
        "id": "rQFzj_lPL4RY"
      },
      "execution_count": null,
      "outputs": []
    },
    {
      "cell_type": "code",
      "source": [
        "model3 = create_model3(sentence_embedding=RNNSentenceEmbedding(embedding_dimension, False, name='sentence_embedding'), \n",
        "                       merging_strategy=ConcatationMerge(name=\"merging_strategy\"))\n",
        "\n",
        "model3 = train_model(model=model3, x_train=[claim_train, claim_parent_train, stance_train, parent_vote_train, n_child_ratio_train], y_train=y_train,\n",
        "                    x_val=[claim_val, claim_parent_val, stance_val, parent_vote_val, n_child_ratio_val], y_val=y_val, training_info=training_info)"
      ],
      "metadata": {
        "colab": {
          "base_uri": "https://localhost:8080/",
          "height": 1000
        },
        "id": "oec8i5M1JGCY",
        "outputId": "ffbe573e-d9b1-4112-ffc7-288d8e40a40e"
      },
      "execution_count": null,
      "outputs": [
        {
          "output_type": "stream",
          "name": "stdout",
          "text": [
            "Model: \"model_3\"\n",
            "__________________________________________________________________________________________________\n",
            " Layer (type)                   Output Shape         Param #     Connected to                     \n",
            "==================================================================================================\n",
            " claim_parent_input (InputLayer  [(None, 76)]        0           []                               \n",
            " )                                                                                                \n",
            "                                                                                                  \n",
            " claim_input (InputLayer)       [(None, 76)]         0           []                               \n",
            "                                                                                                  \n",
            " claim_parent_word_embedding (E  (None, 76, 50)      775300      ['claim_parent_input[0][0]']     \n",
            " mbedding)                                                                                        \n",
            "                                                                                                  \n",
            " claim_word_embedding (Embeddin  (None, 76, 50)      775300      ['claim_input[0][0]']            \n",
            " g)                                                                                               \n",
            "                                                                                                  \n",
            " sentence_embedding (RNNSentenc  (None, 100)         40400       ['claim_word_embedding[0][0]',   \n",
            " eEmbedding)                                                      'claim_parent_word_embedding[0][\n",
            "                                                                 0]']                             \n",
            "                                                                                                  \n",
            " parent_vote_input (InputLayer)  [(None, 1)]         0           []                               \n",
            "                                                                                                  \n",
            " stance_input (InputLayer)      [(None, 1)]          0           []                               \n",
            "                                                                                                  \n",
            " n_child_ratio_input (InputLaye  [(None, 1)]         0           []                               \n",
            " r)                                                                                               \n",
            "                                                                                                  \n",
            " concatenate_3 (Concatenate)    (None, 203)          0           ['sentence_embedding[1][0]',     \n",
            "                                                                  'parent_vote_input[0][0]',      \n",
            "                                                                  'sentence_embedding[0][0]',     \n",
            "                                                                  'stance_input[0][0]',           \n",
            "                                                                  'n_child_ratio_input[0][0]']    \n",
            "                                                                                                  \n",
            " dense (Dense)                  (None, 50)           10200       ['concatenate_3[0][0]']          \n",
            "                                                                                                  \n",
            " dropout (Dropout)              (None, 50)           0           ['dense[0][0]']                  \n",
            "                                                                                                  \n",
            " regressor (Dense)              (None, 1)            51          ['dropout[0][0]']                \n",
            "                                                                                                  \n",
            "==================================================================================================\n",
            "Total params: 1,601,251\n",
            "Trainable params: 50,651\n",
            "Non-trainable params: 1,550,600\n",
            "__________________________________________________________________________________________________\n",
            "Start training! \n",
            "Parameters: {'verbose': 1, 'epochs': 100, 'batch_size': 64, 'callbacks': [<keras.callbacks.EarlyStopping object at 0x7f1a3e4f1110>]}\n",
            "Epoch 1/100\n",
            "141/141 [==============================] - 19s 92ms/step - loss: 0.8118 - mae: 0.8118 - val_loss: 0.5341 - val_mae: 0.5341\n",
            "Epoch 2/100\n",
            "141/141 [==============================] - 11s 79ms/step - loss: 0.5597 - mae: 0.5597 - val_loss: 0.5129 - val_mae: 0.5129\n",
            "Epoch 3/100\n",
            "141/141 [==============================] - 11s 79ms/step - loss: 0.5418 - mae: 0.5418 - val_loss: 0.5046 - val_mae: 0.5046\n",
            "Epoch 4/100\n",
            "141/141 [==============================] - 11s 79ms/step - loss: 0.5319 - mae: 0.5319 - val_loss: 0.4928 - val_mae: 0.4928\n",
            "Epoch 5/100\n",
            "141/141 [==============================] - 11s 78ms/step - loss: 0.5251 - mae: 0.5251 - val_loss: 0.4879 - val_mae: 0.4879\n",
            "Epoch 6/100\n",
            "141/141 [==============================] - 11s 78ms/step - loss: 0.5200 - mae: 0.5200 - val_loss: 0.4807 - val_mae: 0.4807\n",
            "Epoch 7/100\n",
            "141/141 [==============================] - 11s 79ms/step - loss: 0.5165 - mae: 0.5165 - val_loss: 0.4852 - val_mae: 0.4852\n",
            "Epoch 8/100\n",
            "141/141 [==============================] - 11s 79ms/step - loss: 0.5131 - mae: 0.5131 - val_loss: 0.4780 - val_mae: 0.4780\n",
            "Epoch 9/100\n",
            "141/141 [==============================] - 11s 78ms/step - loss: 0.5094 - mae: 0.5094 - val_loss: 0.4760 - val_mae: 0.4760\n",
            "Epoch 10/100\n",
            "141/141 [==============================] - 11s 80ms/step - loss: 0.5076 - mae: 0.5076 - val_loss: 0.4782 - val_mae: 0.4782\n",
            "Epoch 11/100\n",
            "141/141 [==============================] - 11s 79ms/step - loss: 0.5042 - mae: 0.5042 - val_loss: 0.4716 - val_mae: 0.4716\n",
            "Epoch 12/100\n",
            "141/141 [==============================] - 11s 78ms/step - loss: 0.5029 - mae: 0.5029 - val_loss: 0.4800 - val_mae: 0.4800\n",
            "Epoch 13/100\n",
            "141/141 [==============================] - 11s 78ms/step - loss: 0.5010 - mae: 0.5010 - val_loss: 0.4814 - val_mae: 0.4814\n",
            "Epoch 14/100\n",
            "141/141 [==============================] - 11s 78ms/step - loss: 0.4990 - mae: 0.4990 - val_loss: 0.4749 - val_mae: 0.4749\n",
            "Epoch 15/100\n",
            "141/141 [==============================] - 11s 79ms/step - loss: 0.4959 - mae: 0.4959 - val_loss: 0.4752 - val_mae: 0.4752\n",
            "Epoch 16/100\n",
            "141/141 [==============================] - 11s 79ms/step - loss: 0.4944 - mae: 0.4944 - val_loss: 0.4689 - val_mae: 0.4689\n",
            "Epoch 17/100\n",
            "141/141 [==============================] - 11s 81ms/step - loss: 0.4929 - mae: 0.4929 - val_loss: 0.4707 - val_mae: 0.4707\n",
            "Epoch 18/100\n",
            "141/141 [==============================] - 11s 80ms/step - loss: 0.4911 - mae: 0.4911 - val_loss: 0.4726 - val_mae: 0.4726\n",
            "Epoch 19/100\n",
            "141/141 [==============================] - 11s 79ms/step - loss: 0.4901 - mae: 0.4901 - val_loss: 0.4715 - val_mae: 0.4715\n",
            "Epoch 20/100\n",
            "141/141 [==============================] - 11s 78ms/step - loss: 0.4893 - mae: 0.4893 - val_loss: 0.4718 - val_mae: 0.4718\n",
            "Epoch 21/100\n",
            "141/141 [==============================] - 11s 79ms/step - loss: 0.4876 - mae: 0.4876 - val_loss: 0.4852 - val_mae: 0.4852\n",
            "Training completed! Showing history...\n",
            "Displaying the following history keys:  dict_keys(['loss', 'mae', 'val_loss', 'val_mae'])\n"
          ]
        },
        {
          "output_type": "display_data",
          "data": {
            "image/png": "[encoded data removed]",
            "text/plain": [
              "<Figure size 720x360 with 1 Axes>"
            ]
          },
          "metadata": {
            "needs_background": "light"
          }
        },
        {
          "output_type": "display_data",
          "data": {
            "image/png": "[encoded data removed]",
            "text/plain": [
              "<Figure size 720x360 with 1 Axes>"
            ]
          },
          "metadata": {
            "needs_background": "light"
          }
        }
      ]
    },
    {
      "cell_type": "markdown",
      "source": [
        "# Evaluation"
      ],
      "metadata": {
        "id": "4kQ045igQmAs"
      }
    },
    {
      "cell_type": "code",
      "source": [
        "def predict_data(model: keras.Model,\n",
        "                 x: np.ndarray,\n",
        "                 prediction_info: Dict) -> np.ndarray:\n",
        "    \"\"\"\n",
        "    Inference routine of a given input set of examples\n",
        "\n",
        "    :param model: Keras built and possibly trained model\n",
        "    :param x: input set of examples in np.ndarray format\n",
        "    :param prediction_info: dictionary storing model predict() argument information\n",
        "\n",
        "    :return\n",
        "        predictions: predicted labels in np.ndarray format\n",
        "    \"\"\"\n",
        "\n",
        "    #print('Starting prediction: \\n{}'.format(prediction_info))\n",
        "    #print('Predicting on {} samples'.format(x.shape[0]))\n",
        "\n",
        "    predictions = model.predict(x, **prediction_info)\n",
        "    return predictions\n",
        "\n",
        "\n",
        "def evaluate_predictions(predictions: np.ndarray,\n",
        "                         y: np.ndarray,\n",
        "                         metrics: List[Callable],\n",
        "                         metric_names: List[str]):\n",
        "    \"\"\"\n",
        "    Evaluates given model predictions on a list of metric functions\n",
        "\n",
        "    :param predictions: model predictions in np.ndarray format\n",
        "    :param y: ground-truth labels in np.ndarray format\n",
        "    :param metrics: list of metric functions\n",
        "    :param metric_names: list of metric names\n",
        "\n",
        "    :return\n",
        "        metric_info: dictionary containing metric values for each input metric\n",
        "    \"\"\"\n",
        "\n",
        "    assert len(metrics) == len(metric_names)\n",
        "\n",
        "    print(\"Evaluating predictions! Total samples: \", y.shape[0])\n",
        "\n",
        "    metric_info = {}\n",
        "    for metric, metric_name in zip(metrics, metric_names):\n",
        "        all_metric_values = metric\n",
        "        metric_value = np.mean([ metric(y_true, y_pred) for y_true, y_pred in zip(y, predictions) ])\n",
        "        metric_info[metric_name] = metric_value\n",
        "\n",
        "    return metric_info"
      ],
      "metadata": {
        "id": "AAxOR59KQlDn"
      },
      "execution_count": null,
      "outputs": []
    },
    {
      "cell_type": "code",
      "source": [
        "# Inference\n",
        "prediction_info = {\n",
        "    'batch_size': 64,\n",
        "    'verbose': 1\n",
        "}\n",
        "test_predictions = predict_data(model=model0, x=claim_test, prediction_info=prediction_info)\n",
        "\n",
        "print(test_predictions.shape)\n",
        "print(y_test.shape)\n",
        "\n",
        "import sys\n",
        "import numpy\n",
        "numpy.set_printoptions(threshold=sys.maxsize)\n",
        "\n",
        "print(\"\\n\".join(\"{} {}\".format(x, y) for x, y in zip(test_predictions, y_test)))"
      ],
      "metadata": {
        "colab": {
          "base_uri": "https://localhost:8080/"
        },
        "id": "wEEmNxxgNqUp",
        "outputId": "24697dc3-663e-417b-cd54-686271d3d0f3"
      },
      "execution_count": null,
      "outputs": [
        {
          "output_type": "stream",
          "name": "stdout",
          "text": [
            "4/4 [==============================] - 2s 15ms/step\n",
            "(237, 1)\n",
            "(237,)\n",
            "[2.3416605] 2.4\n",
            "[2.416052] 2.2\n",
            "[2.4131274] 1.7\n",
            "[2.4364572] 2.4\n",
            "[2.338688] 1.8\n",
            "[2.4277446] 1.9\n",
            "[2.5173724] 2.5\n",
            "[2.5675468] 2.5\n",
            "[2.3254158] 1.0\n",
            "[2.3146348] 3.0\n",
            "[2.465299] 2.6\n",
            "[2.4092917] 2.7\n",
            "[2.5141768] 3.4\n",
            "[2.6031766] 2.4\n",
            "[2.45839] 3.5\n",
            "[2.349643] 2.3\n",
            "[2.4420455] 2.4\n",
            "[2.5437026] 2.5\n",
            "[2.4080756] 1.3\n",
            "[2.5309575] 2.0\n",
            "[2.3231127] 2.0\n",
            "[2.3205876] 2.3\n",
            "[2.306528] 1.7\n",
            "[1.90115] 1.8\n",
            "[2.3154507] 2.2\n",
            "[2.3932447] 1.3\n",
            "[2.2622435] 2.4\n",
            "[2.4350462] 3.2\n",
            "[2.3460104] 2.6\n",
            "[2.502901] 2.0\n",
            "[2.2843993] 2.9\n",
            "[2.0594654] 1.7\n",
            "[2.22068] 2.1\n",
            "[2.272389] 1.5\n",
            "[2.3577232] 3.0\n",
            "[2.098458] 2.3\n",
            "[2.3414786] 2.3\n",
            "[2.4264874] 2.0\n",
            "[2.342441] 2.0\n",
            "[2.382921] 2.3\n",
            "[2.4828026] 2.3\n",
            "[2.3197849] 2.3\n",
            "[2.106082] 2.7\n",
            "[2.3540034] 2.0\n",
            "[2.1051722] 3.0\n",
            "[2.4360876] 1.7\n",
            "[2.2883637] 1.7\n",
            "[2.339097] 2.0\n",
            "[2.3501987] 2.6\n",
            "[2.166367] 1.9\n",
            "[2.1317923] 2.5\n",
            "[2.1977074] 2.1\n",
            "[2.4291062] 2.5\n",
            "[2.378749] 3.0\n",
            "[2.3161168] 3.2\n",
            "[2.4499345] 2.0\n",
            "[2.4608328] 3.1\n",
            "[2.353511] 1.6\n",
            "[2.221286] 1.9\n",
            "[2.3289342] 2.0\n",
            "[2.272007] 2.0\n",
            "[2.6010516] 2.5\n",
            "[2.566473] 1.1\n",
            "[2.4610112] 2.0\n",
            "[2.3056543] 2.8\n",
            "[2.3769894] 1.5\n",
            "[2.3049836] 2.0\n",
            "[2.386523] 2.5\n",
            "[2.3675542] 1.5\n",
            "[2.4604332] 2.4\n",
            "[2.3963723] 2.7\n",
            "[2.319317] 2.3\n",
            "[2.289358] 1.4\n",
            "[2.375764] 2.2\n",
            "[2.442324] 2.7\n",
            "[2.3507469] 2.0\n",
            "[2.3019187] 1.8\n",
            "[2.3146417] 2.4\n",
            "[2.1800559] 2.1\n",
            "[2.240996] 2.7\n",
            "[2.322663] 2.9\n",
            "[2.3439326] 2.5\n",
            "[2.426141] 1.9\n",
            "[2.271979] 2.4\n",
            "[2.4576674] 2.1\n",
            "[2.4023526] 2.3\n",
            "[2.4182727] 2.7\n",
            "[2.4332252] 2.7\n",
            "[2.2117376] 2.5\n",
            "[2.4983866] 2.8\n",
            "[2.5441618] 2.9\n",
            "[2.4227767] 2.2\n",
            "[2.453559] 2.8\n",
            "[2.570908] 1.5\n",
            "[2.4075723] 2.3\n",
            "[2.6369143] 2.5\n",
            "[2.5534074] 3.0\n",
            "[2.385977] 2.8\n",
            "[2.340644] 2.9\n",
            "[2.3706973] 2.0\n",
            "[2.3400831] 2.0\n",
            "[2.3734355] 2.1\n",
            "[2.3275003] 2.5\n",
            "[2.5552862] 2.3\n",
            "[2.5701818] 2.6\n",
            "[2.5396767] 2.4\n",
            "[2.3514197] 2.2\n",
            "[2.6712236] 1.9\n",
            "[2.652277] 1.5\n",
            "[2.5185764] 2.1\n",
            "[2.420559] 2.1\n",
            "[2.3848279] 1.8\n",
            "[2.5019808] 2.7\n",
            "[2.3982139] 3.3\n",
            "[2.3552961] 2.1\n",
            "[2.2316241] 2.3\n",
            "[2.183525] 2.3\n",
            "[2.2803357] 1.7\n",
            "[2.3829195] 2.0\n",
            "[2.2236238] 2.3\n",
            "[2.3201303] 2.0\n",
            "[2.3285022] 2.3\n",
            "[2.3442929] 2.0\n",
            "[2.189658] 2.3\n",
            "[2.3766918] 2.0\n",
            "[2.4219992] 2.3\n",
            "[2.333368] 2.3\n",
            "[2.3286676] 2.3\n",
            "[2.3037477] 2.0\n",
            "[2.4115558] 2.0\n",
            "[2.222258] 2.0\n",
            "[2.3592863] 2.0\n",
            "[2.412374] 2.0\n",
            "[2.4805293] 1.7\n",
            "[2.4184794] 2.0\n",
            "[2.3633647] 2.0\n",
            "[2.4729707] 1.5\n",
            "[2.2370846] 2.0\n",
            "[2.4418378] 2.0\n",
            "[2.263977] 2.3\n",
            "[2.3164492] 2.0\n",
            "[2.3591168] 2.3\n",
            "[2.4430084] 2.3\n",
            "[2.289118] 2.3\n",
            "[2.2804499] 1.0\n",
            "[2.0079756] 3.8\n",
            "[2.2502742] 2.0\n",
            "[2.4107192] 1.5\n",
            "[2.1040967] 3.7\n",
            "[2.295528] 2.0\n",
            "[2.4879405] 2.8\n",
            "[2.3989282] 3.5\n",
            "[2.27121] 1.7\n",
            "[2.4241753] 1.5\n",
            "[2.2264853] 3.7\n",
            "[2.1959717] 3.7\n",
            "[2.3118212] 2.0\n",
            "[2.3846385] 2.0\n",
            "[2.4720461] 4.0\n",
            "[2.6424835] 1.0\n",
            "[2.361224] 3.0\n",
            "[2.1591628] 1.5\n",
            "[2.1381712] 1.2\n",
            "[2.3912907] 3.0\n",
            "[2.4488254] 2.7\n",
            "[2.163196] 3.2\n",
            "[2.409213] 3.4\n",
            "[2.187452] 4.0\n",
            "[2.321313] 3.3\n",
            "[2.400639] 2.7\n",
            "[2.1471825] 2.0\n",
            "[2.122706] 4.0\n",
            "[2.337431] 1.0\n",
            "[2.303627] 4.0\n",
            "[2.4087424] 2.2\n",
            "[2.3616128] 2.8\n",
            "[2.7746735] 2.0\n",
            "[2.3149695] 4.0\n",
            "[2.386016] 1.3\n",
            "[2.300936] 2.0\n",
            "[2.3626475] 2.0\n",
            "[2.297945] 2.0\n",
            "[2.3326063] 2.7\n",
            "[2.4064593] 1.6\n",
            "[2.2260242] 1.0\n",
            "[2.2587981] 2.0\n",
            "[2.063392] 1.0\n",
            "[2.2943418] 1.8\n",
            "[2.0711648] 2.0\n",
            "[2.1414459] 2.5\n",
            "[2.3972058] 2.2\n",
            "[2.1259258] 2.8\n",
            "[2.212504] 1.4\n",
            "[1.7123849] 2.4\n",
            "[1.966532] 1.3\n",
            "[2.0773163] 2.7\n",
            "[2.3257651] 2.0\n",
            "[2.3127153] 2.5\n",
            "[2.1287386] 2.0\n",
            "[2.2313864] 2.0\n",
            "[2.1533186] 2.3\n",
            "[2.3603477] 2.3\n",
            "[2.378561] 4.0\n",
            "[2.2746382] 3.7\n",
            "[2.36893] 2.3\n",
            "[2.2562943] 2.0\n",
            "[2.1712687] 3.2\n",
            "[2.3158295] 2.3\n",
            "[2.2787783] 2.7\n",
            "[2.1685061] 2.0\n",
            "[2.403515] 1.7\n",
            "[2.2160053] 2.7\n",
            "[2.36253] 3.5\n",
            "[2.2241452] 2.0\n",
            "[2.4716063] 2.3\n",
            "[2.3272595] 2.0\n",
            "[2.2740119] 0.0\n",
            "[2.3452697] 3.5\n",
            "[2.466481] 3.1\n",
            "[2.3371735] 2.8\n",
            "[2.5100832] 0.8\n",
            "[2.3586922] 1.9\n",
            "[2.3642702] 4.0\n",
            "[2.6566331] 3.0\n",
            "[2.4713235] 2.0\n",
            "[2.3500867] 2.4\n",
            "[2.5177822] 1.5\n",
            "[2.3884783] 4.0\n",
            "[2.4062278] 3.2\n",
            "[2.3767772] 2.7\n",
            "[2.297773] 1.9\n",
            "[2.4738867] 2.0\n",
            "[2.3058639] 2.1\n",
            "[2.2512984] 3.2\n",
            "[2.300858] 3.0\n",
            "[2.4654317] 2.4\n",
            "[2.3466196] 3.0\n"
          ]
        }
      ]
    },
    {
      "cell_type": "code",
      "source": [
        "# Inference\n",
        "prediction_info = {\n",
        "    'batch_size': 64,\n",
        "    'verbose': 1\n",
        "}\n",
        "test_predictions = predict_data(model=model1, x=[claim_test, claim_parent_test, stance_test], prediction_info=prediction_info)\n",
        "\n",
        "print(test_predictions.shape)\n",
        "print(y_test.shape)\n",
        "\n",
        "import sys\n",
        "import numpy\n",
        "numpy.set_printoptions(threshold=sys.maxsize)\n",
        "\n",
        "print(\"\\n\".join(\"{} {}\".format(x, y) for x, y in zip(test_predictions, y_test)))"
      ],
      "metadata": {
        "colab": {
          "base_uri": "https://localhost:8080/"
        },
        "id": "VdxplD2lNqr_",
        "outputId": "0e66e9d9-610e-449a-d8a7-13c8ba7975d3"
      },
      "execution_count": null,
      "outputs": [
        {
          "output_type": "stream",
          "name": "stdout",
          "text": [
            "4/4 [==============================] - 2s 21ms/step\n",
            "(237, 1)\n",
            "(237,)\n",
            "[2.2661507] 2.4\n",
            "[2.1148124] 2.2\n",
            "[2.019823] 1.7\n",
            "[2.5558245] 2.4\n",
            "[2.3171144] 1.8\n",
            "[2.3096347] 1.9\n",
            "[2.19233] 2.5\n",
            "[2.5611286] 2.5\n",
            "[2.2342372] 1.0\n",
            "[2.4508936] 3.0\n",
            "[2.544065] 2.6\n",
            "[2.3046904] 2.7\n",
            "[2.4206662] 3.4\n",
            "[2.5992298] 2.4\n",
            "[2.4303007] 3.5\n",
            "[2.4074056] 2.3\n",
            "[2.3787515] 2.4\n",
            "[2.452902] 2.5\n",
            "[2.5396783] 1.3\n",
            "[2.7262156] 2.0\n",
            "[2.54606] 2.0\n",
            "[2.202235] 2.3\n",
            "[2.194531] 1.7\n",
            "[2.0226831] 1.8\n",
            "[2.1076562] 2.2\n",
            "[2.0664093] 1.3\n",
            "[2.221041] 2.4\n",
            "[2.5573277] 3.2\n",
            "[2.3765614] 2.6\n",
            "[2.5324318] 2.0\n",
            "[2.3630779] 2.9\n",
            "[2.237501] 1.7\n",
            "[2.2588503] 2.1\n",
            "[2.4091794] 1.5\n",
            "[2.158673] 3.0\n",
            "[1.9886357] 2.3\n",
            "[2.2415032] 2.3\n",
            "[2.329105] 2.0\n",
            "[2.189115] 2.0\n",
            "[2.189084] 2.3\n",
            "[2.2302423] 2.3\n",
            "[2.103512] 2.3\n",
            "[2.073136] 2.7\n",
            "[2.186446] 2.0\n",
            "[2.0835497] 3.0\n",
            "[1.9810513] 1.7\n",
            "[1.8863732] 1.7\n",
            "[2.1542425] 2.0\n",
            "[2.268236] 2.6\n",
            "[2.4205747] 1.9\n",
            "[2.2694206] 2.5\n",
            "[2.217648] 2.1\n",
            "[2.2517326] 2.5\n",
            "[2.2895582] 3.0\n",
            "[2.2919219] 3.2\n",
            "[2.2502544] 2.0\n",
            "[2.2835953] 3.1\n",
            "[2.2353399] 1.6\n",
            "[2.1841831] 1.9\n",
            "[2.220034] 2.0\n",
            "[1.9876474] 2.0\n",
            "[2.5127635] 2.5\n",
            "[2.379213] 1.1\n",
            "[2.3933115] 2.0\n",
            "[2.163901] 2.8\n",
            "[2.452053] 1.5\n",
            "[2.223257] 2.0\n",
            "[2.1936805] 2.5\n",
            "[2.092084] 1.5\n",
            "[2.2626266] 2.4\n",
            "[2.3779356] 2.7\n",
            "[1.8818288] 2.3\n",
            "[1.9984181] 1.4\n",
            "[2.233565] 2.2\n",
            "[2.40147] 2.7\n",
            "[2.3781564] 2.0\n",
            "[1.9267223] 1.8\n",
            "[2.430685] 2.4\n",
            "[2.0977144] 2.1\n",
            "[2.1651244] 2.7\n",
            "[2.2814577] 2.9\n",
            "[2.295098] 2.5\n",
            "[2.3255053] 1.9\n",
            "[2.1906786] 2.4\n",
            "[2.3532434] 2.1\n",
            "[2.2756567] 2.3\n",
            "[2.3439655] 2.7\n",
            "[2.2140298] 2.7\n",
            "[2.1071405] 2.5\n",
            "[2.2589862] 2.8\n",
            "[2.4112463] 2.9\n",
            "[2.550018] 2.2\n",
            "[2.422733] 2.8\n",
            "[2.4295704] 1.5\n",
            "[2.2724497] 2.3\n",
            "[2.3372598] 2.5\n",
            "[2.714273] 3.0\n",
            "[2.3439746] 2.8\n",
            "[2.3337216] 2.9\n",
            "[2.049897] 2.0\n",
            "[2.183271] 2.0\n",
            "[2.1136386] 2.1\n",
            "[2.398298] 2.5\n",
            "[2.3365698] 2.3\n",
            "[2.4359365] 2.6\n",
            "[2.244501] 2.4\n",
            "[2.3538816] 2.2\n",
            "[2.480255] 1.9\n",
            "[2.618932] 1.5\n",
            "[2.5231338] 2.1\n",
            "[2.537664] 2.1\n",
            "[2.261165] 1.8\n",
            "[2.4614158] 2.7\n",
            "[2.3627827] 3.3\n",
            "[2.3627381] 2.1\n",
            "[1.9552016] 2.3\n",
            "[2.3335915] 2.3\n",
            "[2.2347794] 1.7\n",
            "[2.3043263] 2.0\n",
            "[2.2315364] 2.3\n",
            "[2.109405] 2.0\n",
            "[2.1735086] 2.3\n",
            "[2.2062078] 2.0\n",
            "[2.0840707] 2.3\n",
            "[2.2605383] 2.0\n",
            "[2.0719633] 2.3\n",
            "[2.2337387] 2.3\n",
            "[2.0349126] 2.3\n",
            "[2.2168207] 2.0\n",
            "[2.204304] 2.0\n",
            "[2.2180574] 2.0\n",
            "[2.2457054] 2.0\n",
            "[2.2411702] 2.0\n",
            "[2.1744742] 1.7\n",
            "[2.0323715] 2.0\n",
            "[2.0286994] 2.0\n",
            "[2.281007] 1.5\n",
            "[2.1283126] 2.0\n",
            "[2.1862442] 2.0\n",
            "[2.3533072] 2.3\n",
            "[2.256295] 2.0\n",
            "[2.3113682] 2.3\n",
            "[2.3418021] 2.3\n",
            "[2.3808148] 2.3\n",
            "[2.2385426] 1.0\n",
            "[2.116653] 3.8\n",
            "[2.1819785] 2.0\n",
            "[2.26496] 1.5\n",
            "[2.1262708] 3.7\n",
            "[2.124309] 2.0\n",
            "[2.358663] 2.8\n",
            "[2.2982264] 3.5\n",
            "[2.2186112] 1.7\n",
            "[2.4307902] 1.5\n",
            "[2.24782] 3.7\n",
            "[2.3358185] 3.7\n",
            "[2.2401469] 2.0\n",
            "[2.696482] 2.0\n",
            "[2.350645] 4.0\n",
            "[2.3306363] 1.0\n",
            "[2.2060204] 3.0\n",
            "[2.0140703] 1.5\n",
            "[2.212181] 1.2\n",
            "[2.3363106] 3.0\n",
            "[2.3076923] 2.7\n",
            "[2.1735318] 3.2\n",
            "[2.4341092] 3.4\n",
            "[1.937232] 4.0\n",
            "[2.398163] 3.3\n",
            "[2.2780948] 2.7\n",
            "[2.2582953] 2.0\n",
            "[2.1800947] 4.0\n",
            "[2.0572367] 1.0\n",
            "[2.2675812] 4.0\n",
            "[2.2970345] 2.2\n",
            "[2.411635] 2.8\n",
            "[2.4335048] 2.0\n",
            "[2.3467066] 4.0\n",
            "[2.2655945] 1.3\n",
            "[2.44361] 2.0\n",
            "[2.43272] 2.0\n",
            "[2.21418] 2.0\n",
            "[2.1995943] 2.7\n",
            "[2.047448] 1.6\n",
            "[2.062882] 1.0\n",
            "[2.1852052] 2.0\n",
            "[1.983296] 1.0\n",
            "[2.0646918] 1.8\n",
            "[1.9284998] 2.0\n",
            "[2.0599446] 2.5\n",
            "[2.3697798] 2.2\n",
            "[2.0166485] 2.8\n",
            "[2.0610962] 1.4\n",
            "[1.5942605] 2.4\n",
            "[1.9384067] 1.3\n",
            "[1.9960352] 2.7\n",
            "[2.551006] 2.0\n",
            "[2.403193] 2.5\n",
            "[1.937426] 2.0\n",
            "[2.0574598] 2.0\n",
            "[2.1330872] 2.3\n",
            "[2.118837] 2.3\n",
            "[2.3212392] 4.0\n",
            "[2.107222] 3.7\n",
            "[2.3215923] 2.3\n",
            "[2.2963717] 2.0\n",
            "[1.9550474] 3.2\n",
            "[1.9019773] 2.3\n",
            "[2.1814857] 2.7\n",
            "[2.1176825] 2.0\n",
            "[2.3337433] 1.7\n",
            "[2.1628182] 2.7\n",
            "[2.4223003] 3.5\n",
            "[2.4868805] 2.0\n",
            "[2.4830918] 2.3\n",
            "[2.4544988] 2.0\n",
            "[2.0401506] 0.0\n",
            "[2.453003] 3.5\n",
            "[2.3335419] 3.1\n",
            "[2.273122] 2.8\n",
            "[2.7107732] 0.8\n",
            "[2.407327] 1.9\n",
            "[2.38195] 4.0\n",
            "[2.6187086] 3.0\n",
            "[2.5453012] 2.0\n",
            "[2.6461475] 2.4\n",
            "[2.387721] 1.5\n",
            "[2.2613692] 4.0\n",
            "[2.4271784] 3.2\n",
            "[2.258564] 2.7\n",
            "[2.4167364] 1.9\n",
            "[2.5043077] 2.0\n",
            "[2.3211267] 2.1\n",
            "[2.4552896] 3.2\n",
            "[2.412062] 3.0\n",
            "[2.5343463] 2.4\n",
            "[2.4201875] 3.0\n"
          ]
        }
      ]
    },
    {
      "cell_type": "code",
      "source": [
        "# Inference\n",
        "prediction_info = {\n",
        "    'batch_size': 64,\n",
        "    'verbose': 1\n",
        "}\n",
        "test_predictions = predict_data(model=model2, x=[claim_test, claim_parent_test, stance_test, parent_vote_test], prediction_info=prediction_info)\n",
        "\n",
        "print(test_predictions.shape)\n",
        "print(y_test.shape)\n",
        "\n",
        "import sys\n",
        "import numpy\n",
        "numpy.set_printoptions(threshold=sys.maxsize)\n",
        "\n",
        "print(\"\\n\".join(\"{} {}\".format(x, y) for x, y in zip(test_predictions, y_test)))"
      ],
      "metadata": {
        "colab": {
          "base_uri": "https://localhost:8080/"
        },
        "id": "234CVgpHNrMz",
        "outputId": "032ec32e-aad8-49ad-88bf-0469070395e5"
      },
      "execution_count": null,
      "outputs": [
        {
          "output_type": "stream",
          "name": "stdout",
          "text": [
            "4/4 [==============================] - 2s 25ms/step\n",
            "(237, 1)\n",
            "(237,)\n",
            "[2.3966408] 2.4\n",
            "[2.4188054] 2.2\n",
            "[2.0412023] 1.7\n",
            "[2.7157443] 2.4\n",
            "[2.6833858] 1.8\n",
            "[2.5551147] 1.9\n",
            "[2.5222685] 2.5\n",
            "[2.2368453] 2.5\n",
            "[2.0285678] 1.0\n",
            "[2.466488] 3.0\n",
            "[2.487123] 2.6\n",
            "[2.4241815] 2.7\n",
            "[2.4725301] 3.4\n",
            "[2.566268] 2.4\n",
            "[2.3564699] 3.5\n",
            "[2.5157843] 2.3\n",
            "[2.5004985] 2.4\n",
            "[2.4871783] 2.5\n",
            "[2.5483932] 1.3\n",
            "[2.4769585] 2.0\n",
            "[2.8063715] 2.0\n",
            "[2.1008146] 2.3\n",
            "[2.0482857] 1.7\n",
            "[1.7511972] 1.8\n",
            "[2.1174457] 2.2\n",
            "[2.0449066] 1.3\n",
            "[2.1737387] 2.4\n",
            "[2.642782] 3.2\n",
            "[2.6326756] 2.6\n",
            "[2.7891595] 2.0\n",
            "[2.2578313] 2.9\n",
            "[1.9790214] 1.7\n",
            "[2.2808447] 2.1\n",
            "[2.2778835] 1.5\n",
            "[2.5530834] 3.0\n",
            "[2.0151625] 2.3\n",
            "[2.01274] 2.3\n",
            "[2.2637372] 2.0\n",
            "[2.165245] 2.0\n",
            "[2.2810562] 2.3\n",
            "[2.394558] 2.3\n",
            "[2.133741] 2.3\n",
            "[2.047475] 2.7\n",
            "[2.1324399] 2.0\n",
            "[1.9474428] 3.0\n",
            "[1.7833384] 1.7\n",
            "[1.7202307] 1.7\n",
            "[2.1266398] 2.0\n",
            "[2.5766473] 2.6\n",
            "[2.2039237] 1.9\n",
            "[1.9748135] 2.5\n",
            "[2.4822354] 2.1\n",
            "[2.2878654] 2.5\n",
            "[2.395438] 3.0\n",
            "[2.4242566] 3.2\n",
            "[2.2850354] 2.0\n",
            "[2.3093963] 3.1\n",
            "[2.5287666] 1.6\n",
            "[2.523048] 1.9\n",
            "[2.3169794] 2.0\n",
            "[1.9334288] 2.0\n",
            "[2.665098] 2.5\n",
            "[2.4143353] 1.1\n",
            "[2.507093] 2.0\n",
            "[2.499515] 2.8\n",
            "[2.1201856] 1.5\n",
            "[2.141065] 2.0\n",
            "[2.171576] 2.5\n",
            "[1.870786] 1.5\n",
            "[2.2023218] 2.4\n",
            "[2.5259612] 2.7\n",
            "[1.9893861] 2.3\n",
            "[2.0629725] 1.4\n",
            "[2.2357068] 2.2\n",
            "[2.448476] 2.7\n",
            "[2.5342484] 2.0\n",
            "[2.1036756] 1.8\n",
            "[2.3388066] 2.4\n",
            "[2.3515558] 2.1\n",
            "[2.0957403] 2.7\n",
            "[2.3607218] 2.9\n",
            "[2.3701835] 2.5\n",
            "[2.3527055] 1.9\n",
            "[2.3337517] 2.4\n",
            "[2.3561692] 2.1\n",
            "[2.4284618] 2.3\n",
            "[2.5130327] 2.7\n",
            "[2.227066] 2.7\n",
            "[2.1903458] 2.5\n",
            "[2.6406004] 2.8\n",
            "[2.6257195] 2.9\n",
            "[2.7810924] 2.2\n",
            "[2.5616639] 2.8\n",
            "[2.3709817] 1.5\n",
            "[2.5223227] 2.3\n",
            "[2.3053105] 2.5\n",
            "[2.8580453] 3.0\n",
            "[2.6259553] 2.8\n",
            "[2.3737822] 2.9\n",
            "[2.1928375] 2.0\n",
            "[2.220072] 2.0\n",
            "[2.1149094] 2.1\n",
            "[2.2198308] 2.5\n",
            "[2.1551008] 2.3\n",
            "[2.6221282] 2.6\n",
            "[2.1772451] 2.4\n",
            "[2.3710268] 2.2\n",
            "[2.4005036] 1.9\n",
            "[2.5314012] 1.5\n",
            "[2.7382202] 2.1\n",
            "[2.32979] 2.1\n",
            "[2.2613404] 1.8\n",
            "[2.2933717] 2.7\n",
            "[2.5289223] 3.3\n",
            "[2.411835] 2.1\n",
            "[2.0587976] 2.3\n",
            "[2.3839908] 2.3\n",
            "[2.0740862] 1.7\n",
            "[2.2977805] 2.0\n",
            "[2.3172941] 2.3\n",
            "[2.2249277] 2.0\n",
            "[2.2487276] 2.3\n",
            "[2.340342] 2.0\n",
            "[2.1860476] 2.3\n",
            "[2.1715455] 2.0\n",
            "[2.0230997] 2.3\n",
            "[2.2104874] 2.3\n",
            "[2.2814462] 2.3\n",
            "[2.3194695] 2.0\n",
            "[2.2836416] 2.0\n",
            "[2.3320808] 2.0\n",
            "[2.2337308] 2.0\n",
            "[2.2214396] 2.0\n",
            "[2.4241924] 1.7\n",
            "[1.9800997] 2.0\n",
            "[1.9573648] 2.0\n",
            "[2.3005385] 1.5\n",
            "[2.0768137] 2.0\n",
            "[2.3287752] 2.0\n",
            "[2.3288667] 2.3\n",
            "[2.2559068] 2.0\n",
            "[2.366464] 2.3\n",
            "[2.1744695] 2.3\n",
            "[2.2821558] 2.3\n",
            "[2.1289883] 1.0\n",
            "[2.2888756] 3.8\n",
            "[2.6314843] 2.0\n",
            "[2.8417988] 1.5\n",
            "[2.1764565] 3.7\n",
            "[2.5023131] 2.0\n",
            "[2.5598636] 2.8\n",
            "[2.3797245] 3.5\n",
            "[2.6660025] 1.7\n",
            "[3.017646] 1.5\n",
            "[2.705733] 3.7\n",
            "[2.8020077] 3.7\n",
            "[2.3894527] 2.0\n",
            "[2.465555] 2.0\n",
            "[2.4942203] 4.0\n",
            "[2.2482636] 1.0\n",
            "[2.4870665] 3.0\n",
            "[2.2617579] 1.5\n",
            "[2.1318104] 1.2\n",
            "[2.2980502] 3.0\n",
            "[2.4838703] 2.7\n",
            "[2.1994724] 3.2\n",
            "[2.2431107] 3.4\n",
            "[2.583279] 4.0\n",
            "[2.6604123] 3.3\n",
            "[2.5913703] 2.7\n",
            "[2.4405792] 2.0\n",
            "[2.221416] 4.0\n",
            "[1.9747049] 1.0\n",
            "[2.5677657] 4.0\n",
            "[2.1537054] 2.2\n",
            "[2.2887251] 2.8\n",
            "[2.7572758] 2.0\n",
            "[1.9555922] 4.0\n",
            "[1.9899952] 1.3\n",
            "[2.1406322] 2.0\n",
            "[2.1915474] 2.0\n",
            "[2.1405678] 2.0\n",
            "[2.2177567] 2.7\n",
            "[2.0533237] 1.6\n",
            "[2.1589534] 1.0\n",
            "[2.8288233] 2.0\n",
            "[1.9710422] 1.0\n",
            "[2.458347] 1.8\n",
            "[1.9746796] 2.0\n",
            "[2.1593] 2.5\n",
            "[2.012102] 2.2\n",
            "[2.158832] 2.8\n",
            "[1.7984014] 1.4\n",
            "[1.4672947] 2.4\n",
            "[1.6248282] 1.3\n",
            "[2.126661] 2.7\n",
            "[2.4521313] 2.0\n",
            "[2.7075543] 2.5\n",
            "[2.1967854] 2.0\n",
            "[2.6098619] 2.0\n",
            "[2.3955076] 2.3\n",
            "[2.0112803] 2.3\n",
            "[2.5940318] 4.0\n",
            "[2.4066994] 3.7\n",
            "[2.075291] 2.3\n",
            "[2.362749] 2.0\n",
            "[2.1094646] 3.2\n",
            "[2.221302] 2.3\n",
            "[2.3207428] 2.7\n",
            "[2.213867] 2.0\n",
            "[2.2526412] 1.7\n",
            "[2.0950606] 2.7\n",
            "[2.637267] 3.5\n",
            "[2.0386267] 2.0\n",
            "[2.452764] 2.3\n",
            "[2.2527795] 2.0\n",
            "[2.6298025] 0.0\n",
            "[2.5954678] 3.5\n",
            "[2.2837932] 3.1\n",
            "[2.183539] 2.8\n",
            "[2.783427] 0.8\n",
            "[2.235337] 1.9\n",
            "[2.3927019] 4.0\n",
            "[2.829297] 3.0\n",
            "[2.304308] 2.0\n",
            "[2.5757978] 2.4\n",
            "[2.1284823] 1.5\n",
            "[2.486786] 4.0\n",
            "[2.5093489] 3.2\n",
            "[2.1253188] 2.7\n",
            "[2.3907206] 1.9\n",
            "[2.8867426] 2.0\n",
            "[2.364745] 2.1\n",
            "[2.8777544] 3.2\n",
            "[2.5333714] 3.0\n",
            "[2.4084492] 2.4\n",
            "[2.4062722] 3.0\n"
          ]
        }
      ]
    },
    {
      "cell_type": "code",
      "source": [
        "# Inference\n",
        "prediction_info = {\n",
        "    'batch_size': 64,\n",
        "    'verbose': 1\n",
        "}\n",
        "test_predictions = predict_data(model=model3, x=[claim_test, claim_parent_test, stance_test, parent_vote_test, n_child_ratio_test], prediction_info=prediction_info)\n",
        "\n",
        "print(test_predictions.shape)\n",
        "print(y_test.shape)\n",
        "\n",
        "import sys\n",
        "import numpy\n",
        "numpy.set_printoptions(threshold=sys.maxsize)\n",
        "\n",
        "print(\"\\n\".join(\"{} {}\".format(x, y) for x, y in zip(test_predictions, y_test)))"
      ],
      "metadata": {
        "id": "ssnyMWkIQqAW",
        "colab": {
          "base_uri": "https://localhost:8080/"
        },
        "outputId": "4fe6741f-e8e5-41ed-e9e9-2421a931f610"
      },
      "execution_count": null,
      "outputs": [
        {
          "output_type": "stream",
          "name": "stdout",
          "text": [
            "4/4 [==============================] - 3s 22ms/step\n",
            "(237, 1)\n",
            "(237,)\n",
            "[2.2089822] 2.4\n",
            "[2.3717983] 2.2\n",
            "[2.3927546] 1.7\n",
            "[2.4348817] 2.4\n",
            "[2.4803126] 1.8\n",
            "[2.370816] 1.9\n",
            "[2.6276743] 2.5\n",
            "[2.4737551] 2.5\n",
            "[2.216849] 1.0\n",
            "[2.353001] 3.0\n",
            "[2.7171257] 2.6\n",
            "[2.4021733] 2.7\n",
            "[2.6129136] 3.4\n",
            "[2.6824093] 2.4\n",
            "[2.3229434] 3.5\n",
            "[2.5236068] 2.3\n",
            "[2.6151142] 2.4\n",
            "[2.0305989] 2.5\n",
            "[2.4519072] 1.3\n",
            "[2.5313087] 2.0\n",
            "[2.57585] 2.0\n",
            "[2.2679436] 2.3\n",
            "[2.1532981] 1.7\n",
            "[2.073628] 1.8\n",
            "[2.3362644] 2.2\n",
            "[2.0328588] 1.3\n",
            "[2.4191864] 2.4\n",
            "[2.465033] 3.2\n",
            "[2.5918875] 2.6\n",
            "[2.691617] 2.0\n",
            "[2.3572283] 2.9\n",
            "[2.1305993] 1.7\n",
            "[2.2962933] 2.1\n",
            "[1.8421327] 1.5\n",
            "[2.3111763] 3.0\n",
            "[2.1073334] 2.3\n",
            "[2.2800071] 2.3\n",
            "[2.3739953] 2.0\n",
            "[2.161152] 2.0\n",
            "[2.1250534] 2.3\n",
            "[2.5143383] 2.3\n",
            "[2.1990604] 2.3\n",
            "[2.1097074] 2.7\n",
            "[2.134903] 2.0\n",
            "[2.1318307] 3.0\n",
            "[2.162456] 1.7\n",
            "[2.1098669] 1.7\n",
            "[2.3005047] 2.0\n",
            "[2.4716961] 2.6\n",
            "[2.0355356] 1.9\n",
            "[2.1856282] 2.5\n",
            "[2.2985063] 2.1\n",
            "[2.5681226] 2.5\n",
            "[2.3682623] 3.0\n",
            "[2.4527595] 3.2\n",
            "[2.3112228] 2.0\n",
            "[2.4971511] 3.1\n",
            "[2.3781002] 1.6\n",
            "[2.2845678] 1.9\n",
            "[1.9013324] 2.0\n",
            "[2.2378798] 2.0\n",
            "[2.5321698] 2.5\n",
            "[2.173711] 1.1\n",
            "[2.464649] 2.0\n",
            "[2.4214652] 2.8\n",
            "[2.3548508] 1.5\n",
            "[2.1740189] 2.0\n",
            "[2.1422427] 2.5\n",
            "[2.355171] 1.5\n",
            "[2.404461] 2.4\n",
            "[2.5505264] 2.7\n",
            "[2.1470768] 2.3\n",
            "[1.7481173] 1.4\n",
            "[1.9118301] 2.2\n",
            "[2.5036445] 2.7\n",
            "[2.4859827] 2.0\n",
            "[2.1042364] 1.8\n",
            "[2.422588] 2.4\n",
            "[2.2308705] 2.1\n",
            "[2.0694559] 2.7\n",
            "[2.3009374] 2.9\n",
            "[2.3028283] 2.5\n",
            "[2.6505523] 1.9\n",
            "[2.3136942] 2.4\n",
            "[2.2898126] 2.1\n",
            "[2.2118983] 2.3\n",
            "[2.376927] 2.7\n",
            "[2.282478] 2.7\n",
            "[2.1594787] 2.5\n",
            "[2.414998] 2.8\n",
            "[2.4026396] 2.9\n",
            "[2.2557738] 2.2\n",
            "[2.5557659] 2.8\n",
            "[2.5695076] 1.5\n",
            "[2.4786541] 2.3\n",
            "[2.3956053] 2.5\n",
            "[2.6405225] 3.0\n",
            "[2.5324159] 2.8\n",
            "[2.421941] 2.9\n",
            "[2.1658533] 2.0\n",
            "[2.1875715] 2.0\n",
            "[2.0863364] 2.1\n",
            "[2.3609726] 2.5\n",
            "[2.448303] 2.3\n",
            "[2.380754] 2.6\n",
            "[2.407869] 2.4\n",
            "[2.3976638] 2.2\n",
            "[2.393357] 1.9\n",
            "[2.515085] 1.5\n",
            "[2.4014015] 2.1\n",
            "[2.7117414] 2.1\n",
            "[2.3468068] 1.8\n",
            "[2.5454345] 2.7\n",
            "[2.4499466] 3.3\n",
            "[2.2531595] 2.1\n",
            "[2.1173103] 2.3\n",
            "[2.223131] 2.3\n",
            "[2.226791] 1.7\n",
            "[2.304174] 2.0\n",
            "[2.1980128] 2.3\n",
            "[2.330763] 2.0\n",
            "[2.086401] 2.3\n",
            "[2.1878037] 2.0\n",
            "[2.1309361] 2.3\n",
            "[2.122752] 2.0\n",
            "[2.253172] 2.3\n",
            "[2.271248] 2.3\n",
            "[2.1128697] 2.3\n",
            "[2.3085196] 2.0\n",
            "[2.3972845] 2.0\n",
            "[2.318129] 2.0\n",
            "[2.245466] 2.0\n",
            "[2.4248211] 2.0\n",
            "[2.1472335] 1.7\n",
            "[2.1764567] 2.0\n",
            "[1.9789352] 2.0\n",
            "[2.2175343] 1.5\n",
            "[2.2216141] 2.0\n",
            "[2.3339877] 2.0\n",
            "[2.3935876] 2.3\n",
            "[2.0262954] 2.0\n",
            "[2.2523432] 2.3\n",
            "[2.195439] 2.3\n",
            "[2.1577764] 2.3\n",
            "[2.1342373] 1.0\n",
            "[2.2191677] 3.8\n",
            "[2.4936244] 2.0\n",
            "[2.5553484] 1.5\n",
            "[2.077498] 3.7\n",
            "[2.1670876] 2.0\n",
            "[2.5441263] 2.8\n",
            "[2.3918962] 3.5\n",
            "[2.3410792] 1.7\n",
            "[2.3218849] 1.5\n",
            "[2.6084402] 3.7\n",
            "[2.3764951] 3.7\n",
            "[2.2108994] 2.0\n",
            "[2.449027] 2.0\n",
            "[2.5290134] 4.0\n",
            "[2.4878764] 1.0\n",
            "[2.300691] 3.0\n",
            "[2.1179643] 1.5\n",
            "[1.8595469] 1.2\n",
            "[2.37486] 3.0\n",
            "[2.4645777] 2.7\n",
            "[2.2595148] 3.2\n",
            "[2.2410378] 3.4\n",
            "[2.525316] 4.0\n",
            "[2.3445127] 3.3\n",
            "[2.3003457] 2.7\n",
            "[2.2295303] 2.0\n",
            "[2.332663] 4.0\n",
            "[2.0111575] 1.0\n",
            "[2.4390767] 4.0\n",
            "[2.2723074] 2.2\n",
            "[2.174761] 2.8\n",
            "[2.3898964] 2.0\n",
            "[1.9609483] 4.0\n",
            "[2.4278743] 1.3\n",
            "[2.171388] 2.0\n",
            "[2.2772744] 2.0\n",
            "[2.3212502] 2.0\n",
            "[2.1430361] 2.7\n",
            "[2.1695378] 1.6\n",
            "[2.2181375] 1.0\n",
            "[2.6475534] 2.0\n",
            "[2.0887098] 1.0\n",
            "[2.471757] 1.8\n",
            "[2.000096] 2.0\n",
            "[2.0008912] 2.5\n",
            "[2.2693975] 2.2\n",
            "[2.2761912] 2.8\n",
            "[2.071428] 1.4\n",
            "[1.7457978] 2.4\n",
            "[1.9956224] 1.3\n",
            "[2.095949] 2.7\n",
            "[2.1693602] 2.0\n",
            "[2.450408] 2.5\n",
            "[2.2363703] 2.0\n",
            "[2.4894772] 2.0\n",
            "[2.1024241] 2.3\n",
            "[2.0262065] 2.3\n",
            "[2.4671254] 4.0\n",
            "[2.3340826] 3.7\n",
            "[2.147101] 2.3\n",
            "[2.4124796] 2.0\n",
            "[1.7751279] 3.2\n",
            "[2.2228594] 2.3\n",
            "[2.2768655] 2.7\n",
            "[2.2017012] 2.0\n",
            "[2.2746897] 1.7\n",
            "[2.5565639] 2.7\n",
            "[2.2291834] 3.5\n",
            "[2.3755918] 2.0\n",
            "[2.5721014] 2.3\n",
            "[2.2694042] 2.0\n",
            "[2.3879197] 0.0\n",
            "[2.46588] 3.5\n",
            "[2.3554418] 3.1\n",
            "[2.3380904] 2.8\n",
            "[2.6391845] 0.8\n",
            "[2.3223958] 1.9\n",
            "[2.4803874] 4.0\n",
            "[2.455196] 3.0\n",
            "[2.405953] 2.0\n",
            "[2.3094568] 2.4\n",
            "[2.1750572] 1.5\n",
            "[2.4724908] 4.0\n",
            "[2.368803] 3.2\n",
            "[2.3177698] 2.7\n",
            "[2.3523185] 1.9\n",
            "[2.6814659] 2.0\n",
            "[2.3154085] 2.1\n",
            "[2.6439714] 3.2\n",
            "[2.3172944] 3.0\n",
            "[2.442404] 2.4\n",
            "[2.499022] 3.0\n"
          ]
        }
      ]
    },
    {
      "cell_type": "markdown",
      "source": [
        "# Machine Learning Techniques"
      ],
      "metadata": {
        "id": "5W2mr4B_8sW4"
      }
    },
    {
      "cell_type": "markdown",
      "source": [
        "####Linear Regression"
      ],
      "metadata": {
        "id": "o2hfQgaUSt00"
      }
    },
    {
      "cell_type": "code",
      "source": [
        "import numpy as np\n",
        "from sklearn.linear_model import LinearRegression\n",
        "\n",
        "base_model = LinearRegression().fit(claim_train, y_train)\n",
        "r_sq = base_model.score(claim_train, y_train)\n",
        "print('coefficient of determination:', r_sq)\n",
        "print('intercept:', base_model.intercept_)\n",
        "#print('slope:', base_model.coef_)\n",
        "\n",
        "y_pred = base_model.predict(claim_test)\n",
        "#print('predicted response:', y_pred, sep='\\n')\n",
        "\n",
        "print(\"\\n\".join(\"{} {}\".format(x, y) for x, y in zip(y_pred, y_test)))"
      ],
      "metadata": {
        "id": "0bz-Ev2JKqW3"
      },
      "execution_count": null,
      "outputs": []
    },
    {
      "cell_type": "markdown",
      "source": [
        "####Polynomial Regression (to fix)"
      ],
      "metadata": {
        "id": "qQ6NndM7SkwB"
      }
    },
    {
      "cell_type": "code",
      "source": [
        "from sklearn.preprocessing import PolynomialFeatures\n",
        "\n",
        "# define the pipeline and train model\n",
        "input = PolynomialFeatures(degree=2, include_bias=False).fit_transform(claim_train)\n",
        "                  \n",
        "base_model = LinearRegression().fit(input, y_train)\n",
        "\n",
        "#print('predicted response:', y_pred, sep='\\n')\n",
        "\n",
        "print(\"\\n\".join(\"{} {}\".format(x, y) for x, y in zip(y_pred, y_test)))"
      ],
      "metadata": {
        "id": "rNRg-75iSjgL"
      },
      "execution_count": null,
      "outputs": []
    },
    {
      "cell_type": "markdown",
      "source": [
        "####Robust Regression - RANSAC"
      ],
      "metadata": {
        "id": "2KZvf-yCxzi5"
      }
    },
    {
      "cell_type": "code",
      "source": [
        "from sklearn.linear_model import RANSACRegressor\n",
        "\n",
        "# Set RANSAC hyperparameters\n",
        "ransac = RANSACRegressor(LinearRegression(),\n",
        "\t\tmax_trials=4, \t\t# Number of Iterations\n",
        "\t\tmin_samples=2, \t\t# Minimum size of the sample\n",
        "\t\tloss='absolute_loss', \t# Metrics for loss\n",
        "\t\tresidual_threshold=10 \t# Threshold\n",
        "\t\t)\n",
        "\n",
        "# Train model\n",
        "ransac.fit(claim_train, y_train)\n",
        "\n",
        "y_pred = ransac.predict(claim_test)\n",
        "#print('predicted response:', y_pred, sep='\\n')\n",
        "\n",
        "print(\"\\n\".join(\"{} {}\".format(x, y) for x, y in zip(y_pred, y_test)))"
      ],
      "metadata": {
        "id": "iL99Jqzzx6wh"
      },
      "execution_count": null,
      "outputs": []
    },
    {
      "cell_type": "markdown",
      "source": [
        "####Decision Tree Regressor"
      ],
      "metadata": {
        "id": "mZaDZ8wgyt5X"
      }
    },
    {
      "cell_type": "code",
      "source": [
        "from sklearn.tree import DecisionTreeRegressor\n",
        "import graphviz \n",
        "from sklearn.tree import export_graphviz\n",
        "from IPython.display import Image\n",
        "\n",
        "# Build decision tree\n",
        "tree=DecisionTreeRegressor(max_depth=1)\n",
        "tree.fit(claim_train,y_train)\n",
        "\n",
        "y_pred = tree.predict(claim_test)\n",
        "#print('predicted response:', y_pred, sep='\\n')\n",
        "\n",
        "print(\"\\n\".join(\"{} {}\".format(x, y) for x, y in zip(y_pred, y_test)))\n",
        "\n",
        "dot_data = export_graphviz(tree, out_file=\"tree.dot\") \n",
        "graph = graphviz.Source(dot_data)\n",
        "! dot -Tpng tree.dot -o tree.png\n",
        "Image(filename='tree.png')"
      ],
      "metadata": {
        "id": "rp6oCPAiyrnE"
      },
      "execution_count": null,
      "outputs": []
    },
    {
      "cell_type": "markdown",
      "source": [
        "####Random Forest Regression"
      ],
      "metadata": {
        "id": "C8zqc5Ux05Ax"
      }
    },
    {
      "cell_type": "code",
      "source": [
        "from sklearn.ensemble import RandomForestRegressor\n",
        "\n",
        "# define used regressor\n",
        "forest=RandomForestRegressor(n_estimators=20,\n",
        "                             max_depth=10,\n",
        "                             criterion='mse',\n",
        "                            )\n",
        "\n",
        "# train model\n",
        "forest.fit(claim_train,y_train)\n",
        "\n",
        "y_pred = tree.predict(claim_test)\n",
        "#print('predicted response:', y_pred, sep='\\n')\n",
        "\n",
        "print(\"\\n\".join(\"{} {}\".format(x, y) for x, y in zip(y_pred, y_test)))"
      ],
      "metadata": {
        "id": "fVamWNb407x3"
      },
      "execution_count": null,
      "outputs": []
    },
    {
      "cell_type": "markdown",
      "source": [
        "####Gaussian Process Regression - Squared Exponential Kernel (to fix)"
      ],
      "metadata": {
        "id": "f8vPJyDJ1nfd"
      }
    },
    {
      "cell_type": "code",
      "source": [
        "from sklearn.gaussian_process.kernels import RBF\n",
        "from sklearn.gaussian_process import GaussianProcessClassifier\n",
        "\n",
        "# Definition of the Radial Basis Function (RBF) as kernel\n",
        "kernel = 1.0 * RBF( length_scale=1.0 , length_scale_bounds=(1e-1, 10.0))\n",
        "\n",
        "# Train Gaussian Process\n",
        "gpc = GaussianProcessClassifier(kernel=kernel, random_state=0)\n",
        "print(type(claim_train))\n",
        "gpc.fit(claim_train.to, y_train)\n",
        "\n",
        "y_pred = gpc.predict(claim_test)\n",
        "#print('predicted response:', y_pred, sep='\\n')\n",
        "\n",
        "print(\"\\n\".join(\"{} {}\".format(x, y) for x, y in zip(y_pred, y_test)))"
      ],
      "metadata": {
        "id": "rpDVwyAo1xBD"
      },
      "execution_count": null,
      "outputs": []
    },
    {
      "cell_type": "markdown",
      "source": [
        "####SVM Regression"
      ],
      "metadata": {
        "id": "feEw-B_W4lBk"
      }
    },
    {
      "cell_type": "code",
      "source": [
        "from sklearn.svm import SVR\n",
        "\n",
        "# Choose regression method and set hyperparameter\n",
        "svr_rbf=SVR(C=1.0, epsilon=0.2, kernel='rbf')\n",
        "\n",
        "# Training of the regression model\n",
        "svr_rbf.fit(train[['Pro', 'Con']].to_numpy(), y_train)\n",
        "y_pred = svr_rbf.predict(test[['Pro', 'Con']].to_numpy())\n",
        "#print('predicted response:', y_pred, sep='\\n')\n",
        "\n",
        "print(\"\\n\".join(\"{} {}\".format(x, y) for x, y in zip(y_pred, y_test)))"
      ],
      "metadata": {
        "id": "fQeUqb3C4oIk",
        "colab": {
          "base_uri": "https://localhost:8080/"
        },
        "outputId": "dc4103c3-ca7e-4081-bc99-76aee6b96cf3"
      },
      "execution_count": null,
      "outputs": [
        {
          "output_type": "stream",
          "name": "stdout",
          "text": [
            "2.2998231679346937 2.4\n",
            "2.2998231679346937 2.2\n",
            "2.499984436923942 1.7\n",
            "2.2998231679346937 2.4\n",
            "2.1002251091422455 1.8\n",
            "2.2998231679346937 1.9\n",
            "2.2998231679346937 2.5\n",
            "2.2998231679346937 2.5\n",
            "2.2998231679346937 1.0\n",
            "2.1996696086264342 3.0\n",
            "2.2998231679346937 2.6\n",
            "2.2998231679346937 2.7\n",
            "2.1002251091422455 3.4\n",
            "2.1002251091422455 2.4\n",
            "2.2998231679346937 3.5\n",
            "2.2998231679346937 2.3\n",
            "2.2998231679346937 2.4\n",
            "1.7998925907689336 2.5\n",
            "2.2998231679346937 1.3\n",
            "2.2998231679346937 2.0\n",
            "2.2998231679346937 2.0\n",
            "2.2998231679346937 2.3\n",
            "2.2998231679346937 1.7\n",
            "2.2998231679346937 1.8\n",
            "2.2998231679346937 2.2\n",
            "2.1002251091422455 1.3\n",
            "2.2998231679346937 2.4\n",
            "2.2998231679346937 3.2\n",
            "2.2998231679346937 2.6\n",
            "2.2998231679346937 2.0\n",
            "2.2998231679346937 2.9\n",
            "2.2998231679346937 1.7\n",
            "2.2998231679346937 2.1\n",
            "1.9775320894370385 1.5\n",
            "2.2998231679346937 3.0\n",
            "2.2998231679346937 2.3\n",
            "2.2001591524493946 2.3\n",
            "2.2998231679346937 2.0\n",
            "2.2998231679346937 2.0\n",
            "2.2998231679346937 2.3\n",
            "2.2998231679346937 2.3\n",
            "2.2998231679346937 2.3\n",
            "2.2998231679346937 2.7\n",
            "2.2998231679346937 2.0\n",
            "2.1996696086264342 3.0\n",
            "2.2001591524493946 1.7\n",
            "2.200333670892504 1.7\n",
            "2.2998231679346937 2.0\n",
            "2.400090661281008 2.6\n",
            "2.1002251091422455 1.9\n",
            "2.2998231679346937 2.5\n",
            "2.2998231679346937 2.1\n",
            "2.499984436923942 2.5\n",
            "2.2998231679346937 3.0\n",
            "2.499984436923942 3.2\n",
            "2.2998231679346937 2.0\n",
            "2.2998231679346937 3.1\n",
            "2.1996696086264342 1.6\n",
            "2.2998231679346937 1.9\n",
            "2.1002251091422455 2.0\n",
            "2.200333670892504 2.0\n",
            "2.2998231679346937 2.5\n",
            "2.0003558894448177 1.1\n",
            "2.399588280871189 2.0\n",
            "2.399588280871189 2.8\n",
            "2.2998231679346937 1.5\n",
            "2.2998231679346937 2.0\n",
            "2.2998231679346937 2.5\n",
            "2.200333670892504 1.5\n",
            "2.2998231679346937 2.4\n",
            "2.2998231679346937 2.7\n",
            "2.1002251091422455 2.3\n",
            "1.7998925907689336 1.4\n",
            "2.1002251091422455 2.2\n",
            "2.400090661281008 2.7\n",
            "2.2998231679346937 2.0\n",
            "2.2998231679346937 1.8\n",
            "2.399588280871189 2.4\n",
            "2.2998231679346937 2.1\n",
            "2.1002251091422455 2.7\n",
            "2.200333670892504 2.9\n",
            "2.2998231679346937 2.5\n",
            "2.200333670892504 1.9\n",
            "2.2998231679346937 2.4\n",
            "2.2998231679346937 2.1\n",
            "2.1002251091422455 2.3\n",
            "2.2998231679346937 2.7\n",
            "2.2998231679346937 2.7\n",
            "2.2998231679346937 2.5\n",
            "2.2998231679346937 2.8\n",
            "2.2998231679346937 2.9\n",
            "2.1002251091422455 2.2\n",
            "2.400090661281008 2.8\n",
            "2.2998231679346937 1.5\n",
            "2.2998231679346937 2.3\n",
            "2.2998231679346937 2.5\n",
            "2.2998231679346937 3.0\n",
            "2.2998231679346937 2.8\n",
            "2.2998231679346937 2.9\n",
            "2.1002251091422455 2.0\n",
            "2.1002251091422455 2.0\n",
            "2.1002251091422455 2.1\n",
            "2.2998231679346937 2.5\n",
            "2.2998231679346937 2.3\n",
            "2.1002251091422455 2.6\n",
            "2.2998231679346937 2.4\n",
            "2.2998231679346937 2.2\n",
            "2.2001591524493946 1.9\n",
            "2.1996696086264342 1.5\n",
            "2.1290324057325534 2.1\n",
            "2.400090661281008 2.1\n",
            "2.499984436923942 1.8\n",
            "2.400090661281008 2.7\n",
            "2.2998231679346937 3.3\n",
            "2.2998231679346937 2.1\n",
            "2.2998231679346937 2.3\n",
            "2.2998231679346937 2.3\n",
            "2.400090661281008 1.7\n",
            "2.1996696086264342 2.0\n",
            "2.2998231679346937 2.3\n",
            "2.200333670892504 2.0\n",
            "2.1996696086264342 2.3\n",
            "2.2998231679346937 2.0\n",
            "2.399588280871189 2.3\n",
            "2.2998231679346937 2.0\n",
            "2.2998231679346937 2.3\n",
            "2.2998231679346937 2.3\n",
            "2.2998231679346937 2.3\n",
            "2.200333670892504 2.0\n",
            "2.2998231679346937 2.0\n",
            "2.200333670892504 2.0\n",
            "2.2998231679346937 2.0\n",
            "2.2998231679346937 2.0\n",
            "2.2998231679346937 1.7\n",
            "2.2998231679346937 2.0\n",
            "2.2998231679346937 2.0\n",
            "2.200333670892504 1.5\n",
            "2.2998231679346937 2.0\n",
            "2.200333670892504 2.0\n",
            "2.2001591524493946 2.3\n",
            "2.0003558894448177 2.0\n",
            "2.2998231679346937 2.3\n",
            "2.1996696086264342 2.3\n",
            "2.2998231679346937 2.3\n",
            "2.1002251091422455 1.0\n",
            "2.2998231679346937 3.8\n",
            "2.2998231679346937 2.0\n",
            "2.2998231679346937 1.5\n",
            "2.0003558894448177 3.7\n",
            "2.1002251091422455 2.0\n",
            "2.2998231679346937 2.8\n",
            "2.2998231679346937 3.5\n",
            "2.1002251091422455 1.7\n",
            "1.8997380387859724 1.5\n",
            "2.400090661281008 3.7\n",
            "2.2998231679346937 3.7\n",
            "2.2998231679346937 2.0\n",
            "2.2998231679346937 2.0\n",
            "2.2998231679346937 4.0\n",
            "2.2998231679346937 1.0\n",
            "2.2998231679346937 3.0\n",
            "2.2998231679346937 1.5\n",
            "1.7998925907689336 1.2\n",
            "2.2998231679346937 3.0\n",
            "2.2998231679346937 2.7\n",
            "2.2998231679346937 3.2\n",
            "2.2998231679346937 3.4\n",
            "2.2998231679346937 4.0\n",
            "2.2998231679346937 3.3\n",
            "2.2998231679346937 2.7\n",
            "2.2998231679346937 2.0\n",
            "2.2998231679346937 4.0\n",
            "2.2998231679346937 1.0\n",
            "2.2998231679346937 4.0\n",
            "2.2998231679346937 2.2\n",
            "2.2998231679346937 2.8\n",
            "2.2998231679346937 2.0\n",
            "1.8997380387859724 4.0\n",
            "2.2998231679346937 1.3\n",
            "2.1996696086264342 2.0\n",
            "2.2998231679346937 2.0\n",
            "2.2998231679346937 2.0\n",
            "2.1002251091422455 2.7\n",
            "2.1996696086264342 1.6\n",
            "2.2998231679346937 1.0\n",
            "2.2998231679346937 2.0\n",
            "2.499984436923942 1.0\n",
            "2.400090661281008 1.8\n",
            "2.2998231679346937 2.0\n",
            "2.2998231679346937 2.5\n",
            "2.2998231679346937 2.2\n",
            "2.2998231679346937 2.8\n",
            "2.2998231679346937 1.4\n",
            "2.2998231679346937 2.4\n",
            "2.2998231679346937 1.3\n",
            "2.2998231679346937 2.7\n",
            "2.1002251091422455 2.0\n",
            "2.2998231679346937 2.5\n",
            "2.2998231679346937 2.0\n",
            "2.2998231679346937 2.0\n",
            "2.2998231679346937 2.3\n",
            "2.2998231679346937 2.3\n",
            "2.2998231679346937 4.0\n",
            "2.2998231679346937 3.7\n",
            "2.2998231679346937 2.3\n",
            "2.2998231679346937 2.0\n",
            "2.1002251091422455 3.2\n",
            "2.2998231679346937 2.3\n",
            "2.1002251091422455 2.7\n",
            "2.2998231679346937 2.0\n",
            "2.1002251091422455 1.7\n",
            "2.200333670892504 2.7\n",
            "2.2998231679346937 3.5\n",
            "2.2998231679346937 2.0\n",
            "2.2998231679346937 2.3\n",
            "2.2998231679346937 2.0\n",
            "2.1002251091422455 0.0\n",
            "2.2998231679346937 3.5\n",
            "2.2998231679346937 3.1\n",
            "2.2998231679346937 2.8\n",
            "2.2998231679346937 0.8\n",
            "2.2998231679346937 1.9\n",
            "2.2998231679346937 4.0\n",
            "2.2998231679346937 3.0\n",
            "2.2998231679346937 2.0\n",
            "2.1002251091422455 2.4\n",
            "2.1002251091422455 1.5\n",
            "2.2998231679346937 4.0\n",
            "2.2998231679346937 3.2\n",
            "2.2998231679346937 2.7\n",
            "2.499984436923942 1.9\n",
            "2.2998231679346937 2.0\n",
            "2.2998231679346937 2.1\n",
            "2.2998231679346937 3.2\n",
            "2.1996696086264342 3.0\n",
            "2.2998231679346937 2.4\n",
            "2.2998231679346937 3.0\n"
          ]
        }
      ]
    }
  ]
}