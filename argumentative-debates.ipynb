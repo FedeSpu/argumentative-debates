{
  "nbformat": 4,
  "nbformat_minor": 0,
  "metadata": {
    "colab": {
      "name": "colab-github.ipynb",
      "provenance": [],
      "collapsed_sections": []
    },
    "kernelspec": {
      "name": "python3",
      "display_name": "Python 3"
    },
    "language_info": {
      "name": "python"
    },
    "accelerator": "GPU"
  },
  "cells": [
    {
      "cell_type": "markdown",
      "source": [
        "Authors: Andrea Proia, Federico Spurio, Cristian Urbinati"
      ],
      "metadata": {
        "id": "97m2DQob8Y5M"
      }
    },
    {
      "cell_type": "code",
      "source": [
        "from google.colab import drive\n",
        "drive.mount('/content/drive')"
      ],
      "metadata": {
        "colab": {
          "base_uri": "https://localhost:8080/"
        },
        "id": "YWsGDyoXIHGH",
        "outputId": "d74bddff-b2a5-4d6a-877f-c28198ee5f8b"
      },
      "execution_count": 1,
      "outputs": [
        {
          "output_type": "stream",
          "name": "stdout",
          "text": [
            "Mounted at /content/drive\n"
          ]
        }
      ]
    },
    {
      "cell_type": "code",
      "source": [
        "%cd 'drive/MyDrive/NLP/project'"
      ],
      "metadata": {
        "colab": {
          "base_uri": "https://localhost:8080/"
        },
        "id": "SVhwapLtJbC9",
        "outputId": "1fc8c8e4-779d-4cf9-e44b-8fddb36759cb"
      },
      "execution_count": 2,
      "outputs": [
        {
          "output_type": "stream",
          "name": "stdout",
          "text": [
            "/content/drive/.shortcut-targets-by-id/121u2ns7zgxVc05UfWe1-JZYAnrIQ3iH9/NLP/project\n"
          ]
        }
      ]
    },
    {
      "cell_type": "code",
      "execution_count": 3,
      "metadata": {
        "id": "E1AnKVX45Ki3"
      },
      "outputs": [],
      "source": [
        "import numpy as np\n",
        "import pandas as pd\n",
        "from tqdm import tqdm\n",
        "from typing import List, Callable, Dict\n",
        "from collections import OrderedDict\n",
        "from itertools import groupby\n",
        "import datetime\n",
        "\n",
        "import os\n",
        "import re\n",
        "import unicodedata\n",
        "import ast\n",
        "\n",
        "import tensorflow as tf\n",
        "from tensorflow import keras\n",
        "from tensorflow.keras import layers\n",
        "\n",
        "import matplotlib.pyplot as plt\n",
        "from sklearn.metrics import f1_score, accuracy_score\n",
        "from sklearn.preprocessing import MultiLabelBinarizer"
      ]
    },
    {
      "cell_type": "markdown",
      "source": [
        "1. dataset creation\n",
        "2. dataframe frome dataset adding tone and sentiment extracted from ibm funtion\n",
        "3. split in train/ valid/ test\n",
        "4. sentence embeddig\n",
        "5. model that accept sentence, tone and stance to do regression on impact -> maybe sucks\n",
        "6. add also the father node to the dataset (the post from which the current claim has been generated) and its impact\n",
        "7. try to combine sentece embeddin of the claim and its father with also the cosine similarity and add all new parameters to the model input\n",
        "8. think/ search for other attention mechanisms that can be coherent with the information that can be retrieved also in the test set\n",
        "\n",
        "extension (?):\n",
        "9. try to implement other mechanisms like SVM comparing results\n"
      ],
      "metadata": {
        "id": "83HFivYmx-29"
      }
    },
    {
      "cell_type": "markdown",
      "source": [
        "# Utility functions"
      ],
      "metadata": {
        "id": "65tz82L70qmQ"
      }
    },
    {
      "cell_type": "code",
      "source": [
        "def clean_claim(claim):\n",
        "  re.sub(r'\\[|\\]|\\(http[\\w\\W]*?[^\\\\\\)][\\)]', '', claim).strip().lower()\n",
        "  re.sub(r'[^\\w\\s]', ' ', claim).strip()\n",
        "  re.sub(r' +', ' ', claim).strip()\n",
        "\n",
        "  return claim"
      ],
      "metadata": {
        "id": "1I6B9G9l0qJZ"
      },
      "execution_count": 9,
      "outputs": []
    },
    {
      "cell_type": "markdown",
      "source": [
        "# Dataset creation"
      ],
      "metadata": {
        "id": "_KAWI__D8K1Q"
      }
    },
    {
      "cell_type": "code",
      "source": [
        "df = pd.DataFrame()"
      ],
      "metadata": {
        "id": "tTDQaUG4mI6M"
      },
      "execution_count": 24,
      "outputs": []
    },
    {
      "cell_type": "code",
      "source": [
        "# print(os.listdir())\n",
        "debates = {}\n",
        "for root, dirs, files in os.walk('.'):\n",
        "  if root == '.':\n",
        "    continue\n",
        "   \n",
        "  debate_names = [debate for debate in files if '.CSV' in debate and 'output' not in debate]\n",
        "  if debate_names:\n",
        "    debates[root] = debate_names\n",
        "\n",
        "print(debates)"
      ],
      "metadata": {
        "colab": {
          "base_uri": "https://localhost:8080/"
        },
        "id": "cHh3YTKevY5F",
        "outputId": "e957ae5f-76f4-4a05-ae07-e5765cfdba54"
      },
      "execution_count": 8,
      "outputs": [
        {
          "output_type": "stream",
          "name": "stdout",
          "text": [
            "{'./palestine': ['palestine.CSV'], './religion': ['people-should-not-follow-any-specific-religion.CSV', 'the-existence-of-god.CSV', 'has-religion-been-a-good-thing-for-humanity.CSV', 'god-exists.CSV'], './vegan': ['vegan.CSV'], './bull-fight': ['bull-fight.CSV'], './gun-control': ['gun-control.CSV'], './cheating-after-one-night': ['cheating.CSV'], './united-states-europe': ['useurope.CSV'], './nipples': ['nipples.CSV'], './monarchies': ['monarchies.CSV'], './harry-potter': ['harry-potter.CSV'], './alien-existence': ['alien.CSV'], './feminism-is-a-force': ['feminism-is-a-force.CSV'], './free-will-or-determinism': ['free-will-or-determinism.CSV']}\n"
          ]
        }
      ]
    },
    {
      "cell_type": "code",
      "source": [
        "dir = './religion'\n",
        "# TODO: Non so perché, ma i file in religion hanno il separatore ',' mentre gli altri ';'\n",
        "sep = ','"
      ],
      "metadata": {
        "id": "T6rQ0jCpwCoe"
      },
      "execution_count": 20,
      "outputs": []
    },
    {
      "cell_type": "code",
      "source": [
        "dir = './harry-potter'\n",
        "sep = ';'"
      ],
      "metadata": {
        "id": "3lYkJ5IIxaW6"
      },
      "execution_count": 25,
      "outputs": []
    },
    {
      "cell_type": "code",
      "source": [
        "debate_list = debates[dir]"
      ],
      "metadata": {
        "id": "qYMGDgTtwy8j"
      },
      "execution_count": 26,
      "outputs": []
    },
    {
      "cell_type": "code",
      "source": [
        "for debate in debate_list:\n",
        "  dataset_csv = pd.read_csv(os.path.join(dir, debate), quotechar='\"', sep=sep, encoding='cp1252')\n",
        "  dataset_csv = dataset_csv.drop(columns=['Unnamed: 0'])\n",
        "\n",
        "  dataset_csv['Claim'] = dataset_csv['Claim'].apply(clean_claim)\n",
        "  dataset_csv['Debate_name'] = debate.split('.')[0]\n",
        "  \n",
        "  df = df.append(dataset_csv, ignore_index=True)"
      ],
      "metadata": {
        "id": "21TIz7qL9EDw"
      },
      "execution_count": 27,
      "outputs": []
    },
    {
      "cell_type": "code",
      "source": [
        "df"
      ],
      "metadata": {
        "colab": {
          "base_uri": "https://localhost:8080/",
          "height": 424
        },
        "id": "nKB1iGb29yaw",
        "outputId": "b9e4a28d-0dbc-49a8-bc52-3e6cfaf43d4b"
      },
      "execution_count": 28,
      "outputs": [
        {
          "output_type": "execute_result",
          "data": {
            "text/html": [
              "\n",
              "  <div id=\"df-a768be2c-68f1-444c-b206-b1c212fdc020\">\n",
              "    <div class=\"colab-df-container\">\n",
              "      <div>\n",
              "<style scoped>\n",
              "    .dataframe tbody tr th:only-of-type {\n",
              "        vertical-align: middle;\n",
              "    }\n",
              "\n",
              "    .dataframe tbody tr th {\n",
              "        vertical-align: top;\n",
              "    }\n",
              "\n",
              "    .dataframe thead th {\n",
              "        text-align: right;\n",
              "    }\n",
              "</style>\n",
              "<table border=\"1\" class=\"dataframe\">\n",
              "  <thead>\n",
              "    <tr style=\"text-align: right;\">\n",
              "      <th></th>\n",
              "      <th>Level</th>\n",
              "      <th>Stance</th>\n",
              "      <th>Claim</th>\n",
              "      <th>Votes</th>\n",
              "      <th>Comments</th>\n",
              "      <th>Depth</th>\n",
              "      <th>Debate_name</th>\n",
              "    </tr>\n",
              "  </thead>\n",
              "  <tbody>\n",
              "    <tr>\n",
              "      <th>0</th>\n",
              "      <td>1</td>\n",
              "      <td>None</td>\n",
              "      <td>Would we like to live in the world of Harry Po...</td>\n",
              "      <td>['0', '3', '8', '3', '0']</td>\n",
              "      <td>NaN</td>\n",
              "      <td>0</td>\n",
              "      <td>harry-potter</td>\n",
              "    </tr>\n",
              "    <tr>\n",
              "      <th>1</th>\n",
              "      <td>1.1</td>\n",
              "      <td>pro</td>\n",
              "      <td>The wizarding world is safer than the Muggle w...</td>\n",
              "      <td>['1', '1', '8', '3', '0']</td>\n",
              "      <td></td>\n",
              "      <td>1</td>\n",
              "      <td>harry-potter</td>\n",
              "    </tr>\n",
              "    <tr>\n",
              "      <th>2</th>\n",
              "      <td>1.1.1</td>\n",
              "      <td>pro</td>\n",
              "      <td>The wizarding world has access to magical heal...</td>\n",
              "      <td>['0', '0', '3', '8', '0']</td>\n",
              "      <td>7</td>\n",
              "      <td>2</td>\n",
              "      <td>harry-potter</td>\n",
              "    </tr>\n",
              "    <tr>\n",
              "      <th>3</th>\n",
              "      <td>1.1.1.1</td>\n",
              "      <td>pro</td>\n",
              "      <td>There are many healing spells that can be used...</td>\n",
              "      <td>['0', '0', '2', '9', '0']</td>\n",
              "      <td></td>\n",
              "      <td>3</td>\n",
              "      <td>harry-potter</td>\n",
              "    </tr>\n",
              "    <tr>\n",
              "      <th>4</th>\n",
              "      <td>1.1.1.1.1</td>\n",
              "      <td>pro</td>\n",
              "      <td>Episkey is a spell that heals relatively minor...</td>\n",
              "      <td>['0', '1', '1', '9', '0']</td>\n",
              "      <td></td>\n",
              "      <td>4</td>\n",
              "      <td>harry-potter</td>\n",
              "    </tr>\n",
              "    <tr>\n",
              "      <th>...</th>\n",
              "      <td>...</td>\n",
              "      <td>...</td>\n",
              "      <td>...</td>\n",
              "      <td>...</td>\n",
              "      <td>...</td>\n",
              "      <td>...</td>\n",
              "      <td>...</td>\n",
              "    </tr>\n",
              "    <tr>\n",
              "      <th>1264</th>\n",
              "      <td>1.9.11.1</td>\n",
              "      <td>con</td>\n",
              "      <td>If the lack of diversity in the wizarding worl...</td>\n",
              "      <td>['0', '1', '7', '3', '0']</td>\n",
              "      <td></td>\n",
              "      <td>3</td>\n",
              "      <td>harry-potter</td>\n",
              "    </tr>\n",
              "    <tr>\n",
              "      <th>1265</th>\n",
              "      <td>1.9.12</td>\n",
              "      <td>con</td>\n",
              "      <td>The wizarding community is drawn from essentia...</td>\n",
              "      <td>['0', '0', '3', '8', '0']</td>\n",
              "      <td></td>\n",
              "      <td>2</td>\n",
              "      <td>harry-potter</td>\n",
              "    </tr>\n",
              "    <tr>\n",
              "      <th>1266</th>\n",
              "      <td>1.9.12.1</td>\n",
              "      <td>con</td>\n",
              "      <td>It does not seem to be the case that the wizar...</td>\n",
              "      <td>['0', '2', '6', '3', '0']</td>\n",
              "      <td></td>\n",
              "      <td>3</td>\n",
              "      <td>harry-potter</td>\n",
              "    </tr>\n",
              "    <tr>\n",
              "      <th>1267</th>\n",
              "      <td>1.9.12.1.1</td>\n",
              "      <td>con</td>\n",
              "      <td>The UK is 87% white, which explains the heavil...</td>\n",
              "      <td>['0', '0', '2', '9', '0']</td>\n",
              "      <td></td>\n",
              "      <td>4</td>\n",
              "      <td>harry-potter</td>\n",
              "    </tr>\n",
              "    <tr>\n",
              "      <th>1268</th>\n",
              "      <td>1.9.12.1.1.1</td>\n",
              "      <td>pro</td>\n",
              "      <td>Two out of the eight known Gryffindor students...</td>\n",
              "      <td>['0', '2', '7', '2', '0']</td>\n",
              "      <td>9</td>\n",
              "      <td>5</td>\n",
              "      <td>harry-potter</td>\n",
              "    </tr>\n",
              "  </tbody>\n",
              "</table>\n",
              "<p>1269 rows × 7 columns</p>\n",
              "</div>\n",
              "      <button class=\"colab-df-convert\" onclick=\"convertToInteractive('df-a768be2c-68f1-444c-b206-b1c212fdc020')\"\n",
              "              title=\"Convert this dataframe to an interactive table.\"\n",
              "              style=\"display:none;\">\n",
              "        \n",
              "  <svg xmlns=\"http://www.w3.org/2000/svg\" height=\"24px\"viewBox=\"0 0 24 24\"\n",
              "       width=\"24px\">\n",
              "    <path d=\"M0 0h24v24H0V0z\" fill=\"none\"/>\n",
              "    <path d=\"M18.56 5.44l.94 2.06.94-2.06 2.06-.94-2.06-.94-.94-2.06-.94 2.06-2.06.94zm-11 1L8.5 8.5l.94-2.06 2.06-.94-2.06-.94L8.5 2.5l-.94 2.06-2.06.94zm10 10l.94 2.06.94-2.06 2.06-.94-2.06-.94-.94-2.06-.94 2.06-2.06.94z\"/><path d=\"M17.41 7.96l-1.37-1.37c-.4-.4-.92-.59-1.43-.59-.52 0-1.04.2-1.43.59L10.3 9.45l-7.72 7.72c-.78.78-.78 2.05 0 2.83L4 21.41c.39.39.9.59 1.41.59.51 0 1.02-.2 1.41-.59l7.78-7.78 2.81-2.81c.8-.78.8-2.07 0-2.86zM5.41 20L4 18.59l7.72-7.72 1.47 1.35L5.41 20z\"/>\n",
              "  </svg>\n",
              "      </button>\n",
              "      \n",
              "  <style>\n",
              "    .colab-df-container {\n",
              "      display:flex;\n",
              "      flex-wrap:wrap;\n",
              "      gap: 12px;\n",
              "    }\n",
              "\n",
              "    .colab-df-convert {\n",
              "      background-color: #E8F0FE;\n",
              "      border: none;\n",
              "      border-radius: 50%;\n",
              "      cursor: pointer;\n",
              "      display: none;\n",
              "      fill: #1967D2;\n",
              "      height: 32px;\n",
              "      padding: 0 0 0 0;\n",
              "      width: 32px;\n",
              "    }\n",
              "\n",
              "    .colab-df-convert:hover {\n",
              "      background-color: #E2EBFA;\n",
              "      box-shadow: 0px 1px 2px rgba(60, 64, 67, 0.3), 0px 1px 3px 1px rgba(60, 64, 67, 0.15);\n",
              "      fill: #174EA6;\n",
              "    }\n",
              "\n",
              "    [theme=dark] .colab-df-convert {\n",
              "      background-color: #3B4455;\n",
              "      fill: #D2E3FC;\n",
              "    }\n",
              "\n",
              "    [theme=dark] .colab-df-convert:hover {\n",
              "      background-color: #434B5C;\n",
              "      box-shadow: 0px 1px 3px 1px rgba(0, 0, 0, 0.15);\n",
              "      filter: drop-shadow(0px 1px 2px rgba(0, 0, 0, 0.3));\n",
              "      fill: #FFFFFF;\n",
              "    }\n",
              "  </style>\n",
              "\n",
              "      <script>\n",
              "        const buttonEl =\n",
              "          document.querySelector('#df-a768be2c-68f1-444c-b206-b1c212fdc020 button.colab-df-convert');\n",
              "        buttonEl.style.display =\n",
              "          google.colab.kernel.accessAllowed ? 'block' : 'none';\n",
              "\n",
              "        async function convertToInteractive(key) {\n",
              "          const element = document.querySelector('#df-a768be2c-68f1-444c-b206-b1c212fdc020');\n",
              "          const dataTable =\n",
              "            await google.colab.kernel.invokeFunction('convertToInteractive',\n",
              "                                                     [key], {});\n",
              "          if (!dataTable) return;\n",
              "\n",
              "          const docLinkHtml = 'Like what you see? Visit the ' +\n",
              "            '<a target=\"_blank\" href=https://colab.research.google.com/notebooks/data_table.ipynb>data table notebook</a>'\n",
              "            + ' to learn more about interactive tables.';\n",
              "          element.innerHTML = '';\n",
              "          dataTable['output_type'] = 'display_data';\n",
              "          await google.colab.output.renderOutput(dataTable, element);\n",
              "          const docLink = document.createElement('div');\n",
              "          docLink.innerHTML = docLinkHtml;\n",
              "          element.appendChild(docLink);\n",
              "        }\n",
              "      </script>\n",
              "    </div>\n",
              "  </div>\n",
              "  "
            ],
            "text/plain": [
              "             Level Stance  ... Depth   Debate_name\n",
              "0                1   None  ...     0  harry-potter\n",
              "1              1.1    pro  ...     1  harry-potter\n",
              "2            1.1.1    pro  ...     2  harry-potter\n",
              "3          1.1.1.1    pro  ...     3  harry-potter\n",
              "4        1.1.1.1.1    pro  ...     4  harry-potter\n",
              "...            ...    ...  ...   ...           ...\n",
              "1264      1.9.11.1    con  ...     3  harry-potter\n",
              "1265        1.9.12    con  ...     2  harry-potter\n",
              "1266      1.9.12.1    con  ...     3  harry-potter\n",
              "1267    1.9.12.1.1    con  ...     4  harry-potter\n",
              "1268  1.9.12.1.1.1    pro  ...     5  harry-potter\n",
              "\n",
              "[1269 rows x 7 columns]"
            ]
          },
          "metadata": {},
          "execution_count": 28
        }
      ]
    },
    {
      "cell_type": "markdown",
      "source": [
        "## Complete dataset"
      ],
      "metadata": {
        "id": "3Isw5mV-MPF0"
      }
    },
    {
      "cell_type": "code",
      "source": [
        "df['Votes'] = df['Votes'].apply(lambda x: [int(elem) for elem in ast.literal_eval(x)])\n",
        "# df['Votes'] = df['Votes'].apply(lambda x: [int(a) for a in x])\n",
        "df['Tot_votes'] = df['Votes'].apply(lambda x: sum(x))\n",
        "# TODO: mean vote has problem when weigths are zeros\n",
        "df['Mean_vote'] = df['Votes'].apply(lambda x: np.average([0,1,2,3,4], weights=[(a + 1e-8) for a in x], axis=0))\n",
        "df['Mean_vote'] = df['Mean_vote'].apply(lambda x: np.around(x, 1))\n",
        "df.loc[df['Tot_votes'] == 0, 'Mean_vote'] = 0"
      ],
      "metadata": {
        "id": "YOWt3S2vG_no"
      },
      "execution_count": 29,
      "outputs": []
    },
    {
      "cell_type": "code",
      "source": [
        "def retrieve_parent_info(level, debate, column_info: str):\n",
        "  parentLevel = level.rsplit('.', 1)[0]\n",
        "  return df.loc[(df['Level']  == parentLevel) & (df['Debate_name']  == debate)][column_info].values[0] if (len(parentLevel) > 0) else \"None\""
      ],
      "metadata": {
        "id": "7td6buxg_QMS"
      },
      "execution_count": 30,
      "outputs": []
    },
    {
      "cell_type": "code",
      "source": [
        "df[\"Parent_claim\"] = df.apply(lambda row: retrieve_parent_info(row['Level'], row['Debate_name'], 'Claim'), axis=1)\n",
        "df[\"Parent_vote\"] = df.apply(lambda row: retrieve_parent_info(row['Level'], row['Debate_name'], 'Mean_vote'), axis=1)\n",
        "df[\"Parent_stance\"] = df.apply(lambda row: retrieve_parent_info(row['Level'], row['Debate_name'], 'Stance'), axis=1)"
      ],
      "metadata": {
        "id": "jrSx0qM4YcEl"
      },
      "execution_count": 31,
      "outputs": []
    },
    {
      "cell_type": "code",
      "source": [
        "df = df.drop(df[df['Stance'] == 'None'].index) # Drop the main claim; it has no stance\n",
        "df = df.drop(df[df['Tot_votes'] < 2].index) # Drop claims with less than 2 votes\n",
        "df = df.reset_index()"
      ],
      "metadata": {
        "id": "CqCOjbbLj3x_"
      },
      "execution_count": 32,
      "outputs": []
    },
    {
      "cell_type": "code",
      "source": [
        "df"
      ],
      "metadata": {
        "colab": {
          "base_uri": "https://localhost:8080/",
          "height": 641
        },
        "id": "ePyks2l8JxUn",
        "outputId": "c0223b9f-b121-40ea-efa1-5b5b3cf989f9"
      },
      "execution_count": 33,
      "outputs": [
        {
          "output_type": "execute_result",
          "data": {
            "text/html": [
              "\n",
              "  <div id=\"df-9b2494d7-76d7-4abc-8afb-be5420dd8a7c\">\n",
              "    <div class=\"colab-df-container\">\n",
              "      <div>\n",
              "<style scoped>\n",
              "    .dataframe tbody tr th:only-of-type {\n",
              "        vertical-align: middle;\n",
              "    }\n",
              "\n",
              "    .dataframe tbody tr th {\n",
              "        vertical-align: top;\n",
              "    }\n",
              "\n",
              "    .dataframe thead th {\n",
              "        text-align: right;\n",
              "    }\n",
              "</style>\n",
              "<table border=\"1\" class=\"dataframe\">\n",
              "  <thead>\n",
              "    <tr style=\"text-align: right;\">\n",
              "      <th></th>\n",
              "      <th>index</th>\n",
              "      <th>Level</th>\n",
              "      <th>Stance</th>\n",
              "      <th>Claim</th>\n",
              "      <th>Votes</th>\n",
              "      <th>Comments</th>\n",
              "      <th>Depth</th>\n",
              "      <th>Debate_name</th>\n",
              "      <th>Tot_votes</th>\n",
              "      <th>Mean_vote</th>\n",
              "      <th>Parent_claim</th>\n",
              "      <th>Parent_vote</th>\n",
              "      <th>Parent_stance</th>\n",
              "    </tr>\n",
              "  </thead>\n",
              "  <tbody>\n",
              "    <tr>\n",
              "      <th>0</th>\n",
              "      <td>1</td>\n",
              "      <td>1.1</td>\n",
              "      <td>pro</td>\n",
              "      <td>The wizarding world is safer than the Muggle w...</td>\n",
              "      <td>[1, 1, 8, 3, 0]</td>\n",
              "      <td></td>\n",
              "      <td>1</td>\n",
              "      <td>harry-potter</td>\n",
              "      <td>13</td>\n",
              "      <td>2.0</td>\n",
              "      <td>Would we like to live in the world of Harry Po...</td>\n",
              "      <td>2.0</td>\n",
              "      <td>None</td>\n",
              "    </tr>\n",
              "    <tr>\n",
              "      <th>1</th>\n",
              "      <td>2</td>\n",
              "      <td>1.1.1</td>\n",
              "      <td>pro</td>\n",
              "      <td>The wizarding world has access to magical heal...</td>\n",
              "      <td>[0, 0, 3, 8, 0]</td>\n",
              "      <td>7</td>\n",
              "      <td>2</td>\n",
              "      <td>harry-potter</td>\n",
              "      <td>11</td>\n",
              "      <td>2.7</td>\n",
              "      <td>The wizarding world is safer than the Muggle w...</td>\n",
              "      <td>2.0</td>\n",
              "      <td>pro</td>\n",
              "    </tr>\n",
              "    <tr>\n",
              "      <th>2</th>\n",
              "      <td>3</td>\n",
              "      <td>1.1.1.1</td>\n",
              "      <td>pro</td>\n",
              "      <td>There are many healing spells that can be used...</td>\n",
              "      <td>[0, 0, 2, 9, 0]</td>\n",
              "      <td></td>\n",
              "      <td>3</td>\n",
              "      <td>harry-potter</td>\n",
              "      <td>11</td>\n",
              "      <td>2.8</td>\n",
              "      <td>The wizarding world has access to magical heal...</td>\n",
              "      <td>2.7</td>\n",
              "      <td>pro</td>\n",
              "    </tr>\n",
              "    <tr>\n",
              "      <th>3</th>\n",
              "      <td>4</td>\n",
              "      <td>1.1.1.1.1</td>\n",
              "      <td>pro</td>\n",
              "      <td>Episkey is a spell that heals relatively minor...</td>\n",
              "      <td>[0, 1, 1, 9, 0]</td>\n",
              "      <td></td>\n",
              "      <td>4</td>\n",
              "      <td>harry-potter</td>\n",
              "      <td>11</td>\n",
              "      <td>2.7</td>\n",
              "      <td>There are many healing spells that can be used...</td>\n",
              "      <td>2.8</td>\n",
              "      <td>pro</td>\n",
              "    </tr>\n",
              "    <tr>\n",
              "      <th>4</th>\n",
              "      <td>5</td>\n",
              "      <td>1.1.1.1.2</td>\n",
              "      <td>pro</td>\n",
              "      <td>Anapneo is a spell that clears a victim's airw...</td>\n",
              "      <td>[0, 0, 2, 9, 0]</td>\n",
              "      <td></td>\n",
              "      <td>4</td>\n",
              "      <td>harry-potter</td>\n",
              "      <td>11</td>\n",
              "      <td>2.8</td>\n",
              "      <td>There are many healing spells that can be used...</td>\n",
              "      <td>2.8</td>\n",
              "      <td>pro</td>\n",
              "    </tr>\n",
              "    <tr>\n",
              "      <th>...</th>\n",
              "      <td>...</td>\n",
              "      <td>...</td>\n",
              "      <td>...</td>\n",
              "      <td>...</td>\n",
              "      <td>...</td>\n",
              "      <td>...</td>\n",
              "      <td>...</td>\n",
              "      <td>...</td>\n",
              "      <td>...</td>\n",
              "      <td>...</td>\n",
              "      <td>...</td>\n",
              "      <td>...</td>\n",
              "      <td>...</td>\n",
              "    </tr>\n",
              "    <tr>\n",
              "      <th>1199</th>\n",
              "      <td>1264</td>\n",
              "      <td>1.9.11.1</td>\n",
              "      <td>con</td>\n",
              "      <td>If the lack of diversity in the wizarding worl...</td>\n",
              "      <td>[0, 1, 7, 3, 0]</td>\n",
              "      <td></td>\n",
              "      <td>3</td>\n",
              "      <td>harry-potter</td>\n",
              "      <td>11</td>\n",
              "      <td>2.2</td>\n",
              "      <td>The diversity of the wizarding community is un...</td>\n",
              "      <td>1.7</td>\n",
              "      <td>con</td>\n",
              "    </tr>\n",
              "    <tr>\n",
              "      <th>1200</th>\n",
              "      <td>1265</td>\n",
              "      <td>1.9.12</td>\n",
              "      <td>con</td>\n",
              "      <td>The wizarding community is drawn from essentia...</td>\n",
              "      <td>[0, 0, 3, 8, 0]</td>\n",
              "      <td></td>\n",
              "      <td>2</td>\n",
              "      <td>harry-potter</td>\n",
              "      <td>11</td>\n",
              "      <td>2.7</td>\n",
              "      <td>The wizarding community is less diverse.</td>\n",
              "      <td>1.8</td>\n",
              "      <td>con</td>\n",
              "    </tr>\n",
              "    <tr>\n",
              "      <th>1201</th>\n",
              "      <td>1266</td>\n",
              "      <td>1.9.12.1</td>\n",
              "      <td>con</td>\n",
              "      <td>It does not seem to be the case that the wizar...</td>\n",
              "      <td>[0, 2, 6, 3, 0]</td>\n",
              "      <td></td>\n",
              "      <td>3</td>\n",
              "      <td>harry-potter</td>\n",
              "      <td>11</td>\n",
              "      <td>2.1</td>\n",
              "      <td>The wizarding community is drawn from essentia...</td>\n",
              "      <td>2.7</td>\n",
              "      <td>con</td>\n",
              "    </tr>\n",
              "    <tr>\n",
              "      <th>1202</th>\n",
              "      <td>1267</td>\n",
              "      <td>1.9.12.1.1</td>\n",
              "      <td>con</td>\n",
              "      <td>The UK is 87% white, which explains the heavil...</td>\n",
              "      <td>[0, 0, 2, 9, 0]</td>\n",
              "      <td></td>\n",
              "      <td>4</td>\n",
              "      <td>harry-potter</td>\n",
              "      <td>11</td>\n",
              "      <td>2.8</td>\n",
              "      <td>It does not seem to be the case that the wizar...</td>\n",
              "      <td>2.1</td>\n",
              "      <td>con</td>\n",
              "    </tr>\n",
              "    <tr>\n",
              "      <th>1203</th>\n",
              "      <td>1268</td>\n",
              "      <td>1.9.12.1.1.1</td>\n",
              "      <td>pro</td>\n",
              "      <td>Two out of the eight known Gryffindor students...</td>\n",
              "      <td>[0, 2, 7, 2, 0]</td>\n",
              "      <td>9</td>\n",
              "      <td>5</td>\n",
              "      <td>harry-potter</td>\n",
              "      <td>11</td>\n",
              "      <td>2.0</td>\n",
              "      <td>The UK is 87% white, which explains the heavil...</td>\n",
              "      <td>2.8</td>\n",
              "      <td>con</td>\n",
              "    </tr>\n",
              "  </tbody>\n",
              "</table>\n",
              "<p>1204 rows × 13 columns</p>\n",
              "</div>\n",
              "      <button class=\"colab-df-convert\" onclick=\"convertToInteractive('df-9b2494d7-76d7-4abc-8afb-be5420dd8a7c')\"\n",
              "              title=\"Convert this dataframe to an interactive table.\"\n",
              "              style=\"display:none;\">\n",
              "        \n",
              "  <svg xmlns=\"http://www.w3.org/2000/svg\" height=\"24px\"viewBox=\"0 0 24 24\"\n",
              "       width=\"24px\">\n",
              "    <path d=\"M0 0h24v24H0V0z\" fill=\"none\"/>\n",
              "    <path d=\"M18.56 5.44l.94 2.06.94-2.06 2.06-.94-2.06-.94-.94-2.06-.94 2.06-2.06.94zm-11 1L8.5 8.5l.94-2.06 2.06-.94-2.06-.94L8.5 2.5l-.94 2.06-2.06.94zm10 10l.94 2.06.94-2.06 2.06-.94-2.06-.94-.94-2.06-.94 2.06-2.06.94z\"/><path d=\"M17.41 7.96l-1.37-1.37c-.4-.4-.92-.59-1.43-.59-.52 0-1.04.2-1.43.59L10.3 9.45l-7.72 7.72c-.78.78-.78 2.05 0 2.83L4 21.41c.39.39.9.59 1.41.59.51 0 1.02-.2 1.41-.59l7.78-7.78 2.81-2.81c.8-.78.8-2.07 0-2.86zM5.41 20L4 18.59l7.72-7.72 1.47 1.35L5.41 20z\"/>\n",
              "  </svg>\n",
              "      </button>\n",
              "      \n",
              "  <style>\n",
              "    .colab-df-container {\n",
              "      display:flex;\n",
              "      flex-wrap:wrap;\n",
              "      gap: 12px;\n",
              "    }\n",
              "\n",
              "    .colab-df-convert {\n",
              "      background-color: #E8F0FE;\n",
              "      border: none;\n",
              "      border-radius: 50%;\n",
              "      cursor: pointer;\n",
              "      display: none;\n",
              "      fill: #1967D2;\n",
              "      height: 32px;\n",
              "      padding: 0 0 0 0;\n",
              "      width: 32px;\n",
              "    }\n",
              "\n",
              "    .colab-df-convert:hover {\n",
              "      background-color: #E2EBFA;\n",
              "      box-shadow: 0px 1px 2px rgba(60, 64, 67, 0.3), 0px 1px 3px 1px rgba(60, 64, 67, 0.15);\n",
              "      fill: #174EA6;\n",
              "    }\n",
              "\n",
              "    [theme=dark] .colab-df-convert {\n",
              "      background-color: #3B4455;\n",
              "      fill: #D2E3FC;\n",
              "    }\n",
              "\n",
              "    [theme=dark] .colab-df-convert:hover {\n",
              "      background-color: #434B5C;\n",
              "      box-shadow: 0px 1px 3px 1px rgba(0, 0, 0, 0.15);\n",
              "      filter: drop-shadow(0px 1px 2px rgba(0, 0, 0, 0.3));\n",
              "      fill: #FFFFFF;\n",
              "    }\n",
              "  </style>\n",
              "\n",
              "      <script>\n",
              "        const buttonEl =\n",
              "          document.querySelector('#df-9b2494d7-76d7-4abc-8afb-be5420dd8a7c button.colab-df-convert');\n",
              "        buttonEl.style.display =\n",
              "          google.colab.kernel.accessAllowed ? 'block' : 'none';\n",
              "\n",
              "        async function convertToInteractive(key) {\n",
              "          const element = document.querySelector('#df-9b2494d7-76d7-4abc-8afb-be5420dd8a7c');\n",
              "          const dataTable =\n",
              "            await google.colab.kernel.invokeFunction('convertToInteractive',\n",
              "                                                     [key], {});\n",
              "          if (!dataTable) return;\n",
              "\n",
              "          const docLinkHtml = 'Like what you see? Visit the ' +\n",
              "            '<a target=\"_blank\" href=https://colab.research.google.com/notebooks/data_table.ipynb>data table notebook</a>'\n",
              "            + ' to learn more about interactive tables.';\n",
              "          element.innerHTML = '';\n",
              "          dataTable['output_type'] = 'display_data';\n",
              "          await google.colab.output.renderOutput(dataTable, element);\n",
              "          const docLink = document.createElement('div');\n",
              "          docLink.innerHTML = docLinkHtml;\n",
              "          element.appendChild(docLink);\n",
              "        }\n",
              "      </script>\n",
              "    </div>\n",
              "  </div>\n",
              "  "
            ],
            "text/plain": [
              "      index         Level  ... Parent_vote Parent_stance\n",
              "0         1           1.1  ...         2.0          None\n",
              "1         2         1.1.1  ...         2.0           pro\n",
              "2         3       1.1.1.1  ...         2.7           pro\n",
              "3         4     1.1.1.1.1  ...         2.8           pro\n",
              "4         5     1.1.1.1.2  ...         2.8           pro\n",
              "...     ...           ...  ...         ...           ...\n",
              "1199   1264      1.9.11.1  ...         1.7           con\n",
              "1200   1265        1.9.12  ...         1.8           con\n",
              "1201   1266      1.9.12.1  ...         2.7           con\n",
              "1202   1267    1.9.12.1.1  ...         2.1           con\n",
              "1203   1268  1.9.12.1.1.1  ...         2.8           con\n",
              "\n",
              "[1204 rows x 13 columns]"
            ]
          },
          "metadata": {},
          "execution_count": 33
        }
      ]
    },
    {
      "cell_type": "markdown",
      "source": [
        "Plot some statistics"
      ],
      "metadata": {
        "id": "8XXNX7YV6IS-"
      }
    },
    {
      "cell_type": "markdown",
      "source": [
        "- La profondità è legata al numero di voti ma non al voto medio\n",
        "- Utilizzare il numero di voti per pesare il train in modo che dia più importanza alle predizioni sbagliate se nei primi livelli (normalizzati)"
      ],
      "metadata": {
        "id": "Uo3aY_e-rKxw"
      }
    },
    {
      "cell_type": "code",
      "source": [
        "import matplotlib as mpl\n",
        "import matplotlib.pyplot as plt\n",
        "plt.rcParams[\"figure.figsize\"] = (10,5)"
      ],
      "metadata": {
        "id": "_iC9_YNA6Lwm"
      },
      "execution_count": 34,
      "outputs": []
    },
    {
      "cell_type": "code",
      "source": [
        "def show_histogram_tot_votes(df):\n",
        "  '''\n",
        "  Plot the histogram of votes (in the bins: 0 to 4), given a dataframe with column 'Votes'\n",
        "  '''\n",
        "  votes = np.zeros(5)\n",
        "  for v in df['Votes'].values:\n",
        "    votes += v\n",
        "    \n",
        "  votes = [int(v) for v in list(votes)]\n",
        "  plt.bar(range(0,5), votes)\n",
        "  plt.show()\n",
        "\n",
        "show_histogram_tot_votes(df)"
      ],
      "metadata": {
        "colab": {
          "base_uri": "https://localhost:8080/",
          "height": 320
        },
        "id": "tdYleDd36Kk6",
        "outputId": "17fe6aa1-1d42-4058-ac7b-ec27d3503c65"
      },
      "execution_count": 41,
      "outputs": [
        {
          "output_type": "display_data",
          "data": {
            "image/png": "[encoded data removed]",
            "text/plain": [
              "<Figure size 720x360 with 1 Axes>"
            ]
          },
          "metadata": {
            "needs_background": "light"
          }
        }
      ]
    },
    {
      "cell_type": "code",
      "source": [
        "def show_histogram_mean_votes(df):\n",
        "  d = df['Mean_vote'].values.astype(int)\n",
        "  plt.bar(*np.unique(d, return_counts=True))\n",
        "  plt.show()\n",
        "\n",
        "\n",
        "  d = df['Mean_vote'].values\n",
        "  plt.bar(*np.unique(d, return_counts=True), width=0.1)\n",
        "  plt.show()\n",
        "\n",
        "show_histogram_mean_votes(df)"
      ],
      "metadata": {
        "colab": {
          "base_uri": "https://localhost:8080/",
          "height": 626
        },
        "id": "J_9S1Q8M6i6b",
        "outputId": "bd1305ef-9fee-41fc-a648-52d86e4fdeb6"
      },
      "execution_count": 36,
      "outputs": [
        {
          "output_type": "display_data",
          "data": {
            "image/png": "[encoded data removed]",
            "text/plain": [
              "<Figure size 720x360 with 1 Axes>"
            ]
          },
          "metadata": {
            "needs_background": "light"
          }
        },
        {
          "output_type": "display_data",
          "data": {
            "image/png": "[encoded data removed]",
            "text/plain": [
              "<Figure size 720x360 with 1 Axes>"
            ]
          },
          "metadata": {
            "needs_background": "light"
          }
        }
      ]
    },
    {
      "cell_type": "code",
      "source": [
        "dabate_vs_totVotes = df[['Debate_name', 'Depth','Tot_votes']].groupby(['Debate_name', 'Depth'], as_index=False).sum()\n",
        "dabate_vs_meanVote = df[['Debate_name', 'Depth','Mean_vote']].groupby(['Debate_name', 'Depth'], as_index=False).mean()\n",
        "\n",
        "for debate in dabate_vs_totVotes['Debate_name'].unique():\n",
        "  depths = dabate_vs_totVotes[dabate_vs_totVotes['Debate_name'] == debate]['Depth'].values\n",
        "  tot_votes = dabate_vs_totVotes[dabate_vs_totVotes['Debate_name'] == debate]['Tot_votes'].values\n",
        "  mean_vote = dabate_vs_meanVote[dabate_vs_meanVote['Debate_name'] == debate]['Mean_vote'].values\n",
        "\n",
        "  cmap = mpl.cm.viridis_r\n",
        "  norm = mpl.colors.Normalize(vmin=0, vmax=4)\n",
        "\n",
        "  plt.title(f'Debate: {debate}')\n",
        "  plt.xlabel('Depth')\n",
        "  plt.ylabel('Tot votes (%)')\n",
        "  plt.xticks(range(max(depths) + 1))\n",
        "  plt.colorbar(mpl.cm.ScalarMappable(norm=norm, cmap=cmap), label='Mean vote')\n",
        "  plt.bar(depths, tot_votes/sum(tot_votes) * 100, color=cmap(norm(mean_vote)))\n",
        "  plt.show()"
      ],
      "metadata": {
        "colab": {
          "base_uri": "https://localhost:8080/",
          "height": 350
        },
        "id": "iw8MDL_F7vdF",
        "outputId": "4726992c-9669-4967-dde8-3b283399faa4"
      },
      "execution_count": 37,
      "outputs": [
        {
          "output_type": "display_data",
          "data": {
            "image/png": "[encoded data removed]",
            "text/plain": [
              "<Figure size 720x360 with 2 Axes>"
            ]
          },
          "metadata": {
            "needs_background": "light"
          }
        }
      ]
    },
    {
      "cell_type": "code",
      "source": [
        "def normalize_by_group(df, by):\n",
        "    groups = df.groupby(by)\n",
        "    max = groups.transform(\"max\")\n",
        "    normalized = df[max.columns] / max * 100\n",
        "    return normalized.astype(int)\n",
        "\n",
        "norm_depth = normalize_by_group(df[['Debate_name', 'Depth']], ['Debate_name'])['Depth']\n",
        "dabate_vs_totVotes = pd.concat([df[['Debate_name','Tot_votes']], norm_depth], axis=1).groupby(['Debate_name', 'Depth'], as_index=False).sum()\n",
        "dabate_vs_meanVote = pd.concat([df[['Debate_name','Mean_vote']], norm_depth], axis=1).groupby(['Debate_name', 'Depth'], as_index=False).mean()\n",
        "\n",
        "cmap = mpl.cm.viridis_r\n",
        "norm = mpl.colors.Normalize(vmin=0, vmax=4)\n",
        "\n",
        "depths = dabate_vs_totVotes[dabate_vs_totVotes['Debate_name'] == debate]['Depth'].values\n",
        "tot_votes = dabate_vs_totVotes[dabate_vs_totVotes['Debate_name'] == debate]['Tot_votes'].values\n",
        "mean_vote = dabate_vs_meanVote[dabate_vs_meanVote['Debate_name'] == debate]['Mean_vote'].values\n",
        "\n",
        "plt.title(f'All Debate')\n",
        "plt.xlabel('Depth (%)')\n",
        "plt.ylabel('Tot votes (%)')\n",
        "plt.colorbar(mpl.cm.ScalarMappable(norm=norm, cmap=cmap), label='Mean vote')\n",
        "plt.bar(depths, tot_votes/sum(tot_votes) * 100, color=cmap(norm(mean_vote)))\n",
        "plt.show()"
      ],
      "metadata": {
        "colab": {
          "base_uri": "https://localhost:8080/",
          "height": 350
        },
        "id": "JxJPmvU1_LUj",
        "outputId": "74ebe1a6-93a0-44fb-b5d5-cb891549e738"
      },
      "execution_count": 38,
      "outputs": [
        {
          "output_type": "display_data",
          "data": {
            "image/png": "[encoded data removed]",
            "text/plain": [
              "<Figure size 720x360 with 2 Axes>"
            ]
          },
          "metadata": {
            "needs_background": "light"
          }
        }
      ]
    },
    {
      "cell_type": "code",
      "source": [
        "import warnings\n",
        "warnings.filterwarnings('ignore')\n",
        "\n",
        "def retrieve_child(level, debate, statement):\n",
        "  child_level = f'^({level}\\.\\d+)$'\n",
        "  children = df.loc[(df['Level'].str.match(child_level)) & (df['Debate_name']  == debate)]\n",
        "  return children[children['Stance'] == statement]['Stance'].count() if len(children) > 0 else 0\n",
        "\n",
        "df1 = df[['Debate_name', 'Level']]\n",
        "df1['Pro'] = df1.apply(lambda row: retrieve_child(row['Level'], row['Debate_name'], 'pro'), axis=1)\n",
        "df1['Con'] = df1.apply(lambda row: retrieve_child(row['Level'], row['Debate_name'], 'con'), axis=1)\n",
        "\n",
        "df1"
      ],
      "metadata": {
        "colab": {
          "base_uri": "https://localhost:8080/",
          "height": 424
        },
        "id": "5-m8q2SUsHU0",
        "outputId": "b2446da8-8160-4f49-8574-cd0536f3590b"
      },
      "execution_count": 39,
      "outputs": [
        {
          "output_type": "execute_result",
          "data": {
            "text/html": [
              "\n",
              "  <div id=\"df-4ee5313e-7a0c-483e-8914-de08f4649719\">\n",
              "    <div class=\"colab-df-container\">\n",
              "      <div>\n",
              "<style scoped>\n",
              "    .dataframe tbody tr th:only-of-type {\n",
              "        vertical-align: middle;\n",
              "    }\n",
              "\n",
              "    .dataframe tbody tr th {\n",
              "        vertical-align: top;\n",
              "    }\n",
              "\n",
              "    .dataframe thead th {\n",
              "        text-align: right;\n",
              "    }\n",
              "</style>\n",
              "<table border=\"1\" class=\"dataframe\">\n",
              "  <thead>\n",
              "    <tr style=\"text-align: right;\">\n",
              "      <th></th>\n",
              "      <th>Debate_name</th>\n",
              "      <th>Level</th>\n",
              "      <th>Pro</th>\n",
              "      <th>Con</th>\n",
              "    </tr>\n",
              "  </thead>\n",
              "  <tbody>\n",
              "    <tr>\n",
              "      <th>0</th>\n",
              "      <td>harry-potter</td>\n",
              "      <td>1.1</td>\n",
              "      <td>4</td>\n",
              "      <td>4</td>\n",
              "    </tr>\n",
              "    <tr>\n",
              "      <th>1</th>\n",
              "      <td>harry-potter</td>\n",
              "      <td>1.1.1</td>\n",
              "      <td>5</td>\n",
              "      <td>2</td>\n",
              "    </tr>\n",
              "    <tr>\n",
              "      <th>2</th>\n",
              "      <td>harry-potter</td>\n",
              "      <td>1.1.1.1</td>\n",
              "      <td>3</td>\n",
              "      <td>1</td>\n",
              "    </tr>\n",
              "    <tr>\n",
              "      <th>3</th>\n",
              "      <td>harry-potter</td>\n",
              "      <td>1.1.1.1.1</td>\n",
              "      <td>0</td>\n",
              "      <td>0</td>\n",
              "    </tr>\n",
              "    <tr>\n",
              "      <th>4</th>\n",
              "      <td>harry-potter</td>\n",
              "      <td>1.1.1.1.2</td>\n",
              "      <td>0</td>\n",
              "      <td>0</td>\n",
              "    </tr>\n",
              "    <tr>\n",
              "      <th>...</th>\n",
              "      <td>...</td>\n",
              "      <td>...</td>\n",
              "      <td>...</td>\n",
              "      <td>...</td>\n",
              "    </tr>\n",
              "    <tr>\n",
              "      <th>1199</th>\n",
              "      <td>harry-potter</td>\n",
              "      <td>1.9.11.1</td>\n",
              "      <td>0</td>\n",
              "      <td>0</td>\n",
              "    </tr>\n",
              "    <tr>\n",
              "      <th>1200</th>\n",
              "      <td>harry-potter</td>\n",
              "      <td>1.9.12</td>\n",
              "      <td>0</td>\n",
              "      <td>1</td>\n",
              "    </tr>\n",
              "    <tr>\n",
              "      <th>1201</th>\n",
              "      <td>harry-potter</td>\n",
              "      <td>1.9.12.1</td>\n",
              "      <td>0</td>\n",
              "      <td>1</td>\n",
              "    </tr>\n",
              "    <tr>\n",
              "      <th>1202</th>\n",
              "      <td>harry-potter</td>\n",
              "      <td>1.9.12.1.1</td>\n",
              "      <td>1</td>\n",
              "      <td>0</td>\n",
              "    </tr>\n",
              "    <tr>\n",
              "      <th>1203</th>\n",
              "      <td>harry-potter</td>\n",
              "      <td>1.9.12.1.1.1</td>\n",
              "      <td>0</td>\n",
              "      <td>0</td>\n",
              "    </tr>\n",
              "  </tbody>\n",
              "</table>\n",
              "<p>1204 rows × 4 columns</p>\n",
              "</div>\n",
              "      <button class=\"colab-df-convert\" onclick=\"convertToInteractive('df-4ee5313e-7a0c-483e-8914-de08f4649719')\"\n",
              "              title=\"Convert this dataframe to an interactive table.\"\n",
              "              style=\"display:none;\">\n",
              "        \n",
              "  <svg xmlns=\"http://www.w3.org/2000/svg\" height=\"24px\"viewBox=\"0 0 24 24\"\n",
              "       width=\"24px\">\n",
              "    <path d=\"M0 0h24v24H0V0z\" fill=\"none\"/>\n",
              "    <path d=\"M18.56 5.44l.94 2.06.94-2.06 2.06-.94-2.06-.94-.94-2.06-.94 2.06-2.06.94zm-11 1L8.5 8.5l.94-2.06 2.06-.94-2.06-.94L8.5 2.5l-.94 2.06-2.06.94zm10 10l.94 2.06.94-2.06 2.06-.94-2.06-.94-.94-2.06-.94 2.06-2.06.94z\"/><path d=\"M17.41 7.96l-1.37-1.37c-.4-.4-.92-.59-1.43-.59-.52 0-1.04.2-1.43.59L10.3 9.45l-7.72 7.72c-.78.78-.78 2.05 0 2.83L4 21.41c.39.39.9.59 1.41.59.51 0 1.02-.2 1.41-.59l7.78-7.78 2.81-2.81c.8-.78.8-2.07 0-2.86zM5.41 20L4 18.59l7.72-7.72 1.47 1.35L5.41 20z\"/>\n",
              "  </svg>\n",
              "      </button>\n",
              "      \n",
              "  <style>\n",
              "    .colab-df-container {\n",
              "      display:flex;\n",
              "      flex-wrap:wrap;\n",
              "      gap: 12px;\n",
              "    }\n",
              "\n",
              "    .colab-df-convert {\n",
              "      background-color: #E8F0FE;\n",
              "      border: none;\n",
              "      border-radius: 50%;\n",
              "      cursor: pointer;\n",
              "      display: none;\n",
              "      fill: #1967D2;\n",
              "      height: 32px;\n",
              "      padding: 0 0 0 0;\n",
              "      width: 32px;\n",
              "    }\n",
              "\n",
              "    .colab-df-convert:hover {\n",
              "      background-color: #E2EBFA;\n",
              "      box-shadow: 0px 1px 2px rgba(60, 64, 67, 0.3), 0px 1px 3px 1px rgba(60, 64, 67, 0.15);\n",
              "      fill: #174EA6;\n",
              "    }\n",
              "\n",
              "    [theme=dark] .colab-df-convert {\n",
              "      background-color: #3B4455;\n",
              "      fill: #D2E3FC;\n",
              "    }\n",
              "\n",
              "    [theme=dark] .colab-df-convert:hover {\n",
              "      background-color: #434B5C;\n",
              "      box-shadow: 0px 1px 3px 1px rgba(0, 0, 0, 0.15);\n",
              "      filter: drop-shadow(0px 1px 2px rgba(0, 0, 0, 0.3));\n",
              "      fill: #FFFFFF;\n",
              "    }\n",
              "  </style>\n",
              "\n",
              "      <script>\n",
              "        const buttonEl =\n",
              "          document.querySelector('#df-4ee5313e-7a0c-483e-8914-de08f4649719 button.colab-df-convert');\n",
              "        buttonEl.style.display =\n",
              "          google.colab.kernel.accessAllowed ? 'block' : 'none';\n",
              "\n",
              "        async function convertToInteractive(key) {\n",
              "          const element = document.querySelector('#df-4ee5313e-7a0c-483e-8914-de08f4649719');\n",
              "          const dataTable =\n",
              "            await google.colab.kernel.invokeFunction('convertToInteractive',\n",
              "                                                     [key], {});\n",
              "          if (!dataTable) return;\n",
              "\n",
              "          const docLinkHtml = 'Like what you see? Visit the ' +\n",
              "            '<a target=\"_blank\" href=https://colab.research.google.com/notebooks/data_table.ipynb>data table notebook</a>'\n",
              "            + ' to learn more about interactive tables.';\n",
              "          element.innerHTML = '';\n",
              "          dataTable['output_type'] = 'display_data';\n",
              "          await google.colab.output.renderOutput(dataTable, element);\n",
              "          const docLink = document.createElement('div');\n",
              "          docLink.innerHTML = docLinkHtml;\n",
              "          element.appendChild(docLink);\n",
              "        }\n",
              "      </script>\n",
              "    </div>\n",
              "  </div>\n",
              "  "
            ],
            "text/plain": [
              "       Debate_name         Level  Pro  Con\n",
              "0     harry-potter           1.1    4    4\n",
              "1     harry-potter         1.1.1    5    2\n",
              "2     harry-potter       1.1.1.1    3    1\n",
              "3     harry-potter     1.1.1.1.1    0    0\n",
              "4     harry-potter     1.1.1.1.2    0    0\n",
              "...            ...           ...  ...  ...\n",
              "1199  harry-potter      1.9.11.1    0    0\n",
              "1200  harry-potter        1.9.12    0    1\n",
              "1201  harry-potter      1.9.12.1    0    1\n",
              "1202  harry-potter    1.9.12.1.1    1    0\n",
              "1203  harry-potter  1.9.12.1.1.1    0    0\n",
              "\n",
              "[1204 rows x 4 columns]"
            ]
          },
          "metadata": {},
          "execution_count": 39
        }
      ]
    },
    {
      "cell_type": "code",
      "source": [
        "df2 = pd.concat([df1[['Pro', 'Con']], pd.DataFrame(df['Mean_vote'].values.astype(int), columns=['Mean_vote'])], axis=1) \n",
        "df2 = df2.groupby(['Mean_vote'], as_index=False).sum()\n",
        "\n",
        "x = df2['Mean_vote'].values\n",
        "pro = df2['Pro'].values\n",
        "con = df2['Con'].values\n",
        "\n",
        "ax = plt.subplot(111)\n",
        "ax.bar(x-0.1, pro, width=0.2, color='g', align='center', label='Pro')\n",
        "ax.bar(x+0.1, con, width=0.2, color='r', align='center', label='Con')\n",
        "\n",
        "ax.legend()\n",
        "\n",
        "plt.title(f'Pro / Con child wrt mean vote')\n",
        "plt.xlabel('Mean vote')\n",
        "\n",
        "plt.show()"
      ],
      "metadata": {
        "colab": {
          "base_uri": "https://localhost:8080/",
          "height": 350
        },
        "id": "XFXP16Y_8-4l",
        "outputId": "332a8638-dc4d-41d1-d6ce-5ffcf144a3ba"
      },
      "execution_count": 40,
      "outputs": [
        {
          "output_type": "display_data",
          "data": {
            "image/png": "[encoded data removed]",
            "text/plain": [
              "<Figure size 720x360 with 1 Axes>"
            ]
          },
          "metadata": {
            "needs_background": "light"
          }
        }
      ]
    },
    {
      "cell_type": "markdown",
      "source": [
        "# Split"
      ],
      "metadata": {
        "id": "1F7S1dIOBAK6"
      }
    },
    {
      "cell_type": "code",
      "source": [
        "train = df.sample(frac=0.9, random_state=42)\n",
        "tmp = df.drop(train.index)\n",
        "valid = tmp.sample(frac=0.5, random_state=42)\n",
        "test = tmp.drop(valid.index)"
      ],
      "metadata": {
        "id": "Ns32IfZXBt_y"
      },
      "execution_count": null,
      "outputs": []
    },
    {
      "cell_type": "code",
      "source": [
        "print(train.shape)\n",
        "print(valid.shape)\n",
        "print(test.shape)"
      ],
      "metadata": {
        "colab": {
          "base_uri": "https://localhost:8080/"
        },
        "id": "EFljWt03C4lE",
        "outputId": "c25a1572-45c0-4da3-8807-761d8d5388ed"
      },
      "execution_count": null,
      "outputs": [
        {
          "output_type": "stream",
          "name": "stdout",
          "text": [
            "(2244, 13)\n",
            "(124, 13)\n",
            "(125, 13)\n"
          ]
        }
      ]
    },
    {
      "cell_type": "markdown",
      "metadata": {
        "id": "zaJfpsnGhk5J"
      },
      "source": [
        "#Dataset Conversion\n",
        "In this section we define the functions that build the vocabulary of terms contained in Claims and Evidences. In particular the function creates two dictionaries: one to retrieve the index given a word and one to obatain the word given an index.\n",
        "\n",
        "The function is incremental, so, if it is called without the previously mentioned two dictionaries, it creates new ones while if we already have a vocabulary it enriches it with new unseen words.\n",
        "\n",
        "We encode at the initialization of the vocabulary the reserved string `-PAD-` with index `0` that will be used, as the name suggest, for the padding.\n",
        "\n",
        "This vocabulary will be used by the tokenizers in order to translate strings into numerical format so that the NN can accept them as input. \n",
        "\n"
      ]
    },
    {
      "cell_type": "code",
      "source": [
        "def build_word_vocabulary(df: pd.DataFrame, word_to_idx=None, idx_to_word=None):\n",
        "    \"\"\"\n",
        "    Given a dataset, builds the corresponding word vocabulary.\n",
        "\n",
        "    :param df: dataset from which we want to build the word vocabulary (pandas.DataFrame)\n",
        "    :param idx_to_word: existing vocabulary from index to word\n",
        "    :param word_to_idx: existing vocabulary from word to index\n",
        "    \n",
        "    :return:\n",
        "      - idx_to_word: updated vocabulary from index to word\n",
        "      - word_to_idx: updated vocabulary from word to index\n",
        "      - word listing: set of unique terms that build up the vocabulary\n",
        "      - max_claim_len: max length among all the claims\n",
        "      - max_evidence_len: max length among all the evidences\n",
        "    \"\"\"\n",
        "\n",
        "    curr_idx = 1\n",
        "    # vocabularies must be both evaluated or None\n",
        "    assert (word_to_idx is None and idx_to_word is None) or (word_to_idx is not None and idx_to_word is not None)\n",
        "\n",
        "    # If no vocabulary passed, then build one\n",
        "    if word_to_idx is None and idx_to_word is None:\n",
        "      idx_to_word = OrderedDict()\n",
        "      word_to_idx = OrderedDict()\n",
        "      # Reserved word in the dictionary for padding\n",
        "      word_to_idx[\"-PAD-\"] = 0\n",
        "      idx_to_word[0] = \"-PAD-\"\n",
        "    else:\n",
        "      curr_idx = max(idx_to_word.keys()) + 1\n",
        "\n",
        "\n",
        "    # claim\n",
        "    max_claim_len = 0\n",
        "    for sentence in tqdm(df['Claim'].values):\n",
        "      splitted_sentece = sentence.split(\" \")\n",
        "      max_claim_len = max(len(splitted_sentece), max_claim_len)\n",
        "      for word in splitted_sentece:\n",
        "        if word not in word_to_idx:\n",
        "            word_to_idx[word] = curr_idx\n",
        "            idx_to_word[curr_idx] = word\n",
        "            curr_idx += 1\n",
        "\n",
        "    # parentClaim\n",
        "    for sentence in tqdm(df['Parent_claim'].values):\n",
        "      splitted_sentece = sentence.split(\" \")\n",
        "      max_claim_len = max(len(splitted_sentece), max_claim_len)\n",
        "      for word in splitted_sentece:\n",
        "        if word not in word_to_idx:\n",
        "            word_to_idx[word] = curr_idx\n",
        "            idx_to_word[curr_idx] = word\n",
        "            curr_idx += 1\n",
        "\n",
        "    word_listing = list(idx_to_word.values())\n",
        "\n",
        "    return idx_to_word, word_to_idx, word_listing, max_claim_len\n",
        " \n",
        "# Testing: incremental vocabulary\n",
        "idx_to_word, word_to_idx, word_listing, max_claim_len = build_word_vocabulary(train)\n",
        "idx_to_word, word_to_idx, word_listing, max_claim_len = build_word_vocabulary(valid, word_to_idx, idx_to_word)\n",
        "idx_to_word, word_to_idx, word_listing, max_claim_len = build_word_vocabulary(test, word_to_idx, idx_to_word)\n",
        "\n",
        "print(\"\\n\")\n",
        "print('[Debug] Index -> Word vocabulary size: {}'.format(len(idx_to_word)))\n",
        "print('[Debug] Word -> Index vocabulary size: {}'.format(len(word_to_idx)))\n",
        "print('[Debug] Some words: {}'.format([(idx_to_word[idx], idx) for idx in np.arange(10)]))"
      ],
      "metadata": {
        "colab": {
          "base_uri": "https://localhost:8080/"
        },
        "id": "EVOqwvn0Dh7o",
        "outputId": "859a9f90-5942-4d4f-8a8b-35daf481ae50"
      },
      "execution_count": null,
      "outputs": [
        {
          "output_type": "stream",
          "name": "stderr",
          "text": [
            "100%|██████████| 2244/2244 [00:00<00:00, 32072.36it/s]\n",
            "100%|██████████| 2244/2244 [00:00<00:00, 42067.89it/s]\n",
            "100%|██████████| 124/124 [00:00<00:00, 69848.74it/s]\n",
            "100%|██████████| 124/124 [00:00<00:00, 22313.00it/s]\n",
            "100%|██████████| 125/125 [00:00<00:00, 94773.68it/s]\n",
            "100%|██████████| 125/125 [00:00<00:00, 97469.42it/s]"
          ]
        },
        {
          "output_type": "stream",
          "name": "stdout",
          "text": [
            "\n",
            "\n",
            "[Debug] Index -> Word vocabulary size: 6976\n",
            "[Debug] Word -> Index vocabulary size: 6976\n",
            "[Debug] Some words: [('-PAD-', 0), ('out', 1), ('of', 2), ('a', 3), ('myriad', 4), ('possible', 5), ('scenarios', 6), ('contradictory', 7), ('with', 8), ('god', 9)]\n"
          ]
        },
        {
          "output_type": "stream",
          "name": "stderr",
          "text": [
            "\n"
          ]
        }
      ]
    },
    {
      "cell_type": "code",
      "source": [
        "# Download the glove encoder\n",
        "import gensim\n",
        "import gensim.downloader as gloader\n",
        "embedding_model = gloader.load(\"glove-wiki-gigaword-50\")\n",
        "embedding_dimension = 50"
      ],
      "metadata": {
        "id": "a4PAMFOTKhpG",
        "colab": {
          "base_uri": "https://localhost:8080/"
        },
        "outputId": "6cdfaf4a-9d21-4a46-a7a0-4a05622eb2a0"
      },
      "execution_count": null,
      "outputs": [
        {
          "output_type": "stream",
          "name": "stdout",
          "text": [
            "[==================================================] 100.0% 66.0/66.0MB downloaded\n"
          ]
        }
      ]
    },
    {
      "cell_type": "code",
      "source": [
        "def check_OOV_terms(embedding_model: gensim.models.keyedvectors.KeyedVectors,\n",
        "                    word_listing: List[str]):\n",
        "    \"\"\"\n",
        "    Checks differences between pre-trained embedding model vocabulary\n",
        "    and dataset specific vocabulary in order to highlight out-of-vocabulary terms.\n",
        "\n",
        "    :param embedding_model: pre-trained word embedding model (gensim wrapper)\n",
        "    :param word_listing: dataset specific vocabulary (list)\n",
        "\n",
        "    :return\n",
        "        - list of OOV terms\n",
        "    \"\"\"\n",
        "\n",
        "    embedding_vocabulary = set(embedding_model.vocab.keys())\n",
        "    oov = set(word_listing).difference(embedding_vocabulary)\n",
        "    return list(oov)\n",
        "\n",
        "# Testing\n",
        "oov_terms = check_OOV_terms(embedding_model, word_listing)"
      ],
      "metadata": {
        "id": "3Zj5kauRKLOU"
      },
      "execution_count": null,
      "outputs": []
    },
    {
      "cell_type": "markdown",
      "metadata": {
        "id": "I5B-iQQothUl"
      },
      "source": [
        "Print some statistics:"
      ]
    },
    {
      "cell_type": "code",
      "source": [
        "tot_words = len(word_listing)\n",
        "tot_OOV = len(oov_terms)\n",
        "print('Total number of words is:\\t{}'.format(tot_words))\n",
        "print('Total number of OOV words is:\\t{}'.format(tot_OOV))\n",
        "print('Percentage of OOV words w.r.t the whole vocabulary: {:.1f}%'.format(tot_OOV / tot_words * 100))"
      ],
      "metadata": {
        "colab": {
          "base_uri": "https://localhost:8080/"
        },
        "id": "JeDvAXIWK0U8",
        "outputId": "d3f6bb01-79a4-488b-90d0-1f69d1a12e6d"
      },
      "execution_count": null,
      "outputs": [
        {
          "output_type": "stream",
          "name": "stdout",
          "text": [
            "Total number of words is:\t6976\n",
            "Total number of OOV words is:\t300\n",
            "Percentage of OOV words w.r.t the whole vocabulary: 4.3%\n"
          ]
        }
      ]
    },
    {
      "cell_type": "markdown",
      "metadata": {
        "id": "rgoStd2KvFQN"
      },
      "source": [
        "We then define the function that builds the embedding matrix.\n",
        "\n",
        "The embedding matrix is stored inside a parameter of the tokenizer and will be passed later to the embedding layer in order to retrieve the embedding vectors.\n",
        "\n",
        "The function is called on the entire vocabulary each time it is updated with new words. In particular it checks if, in the pre-trained embedding model, a given word is present or not. If not so, the function generates a random vector with values in the bound [-0.05, 0.05] and same size of the choosen model. In the end the embedding vector is inserted into the matrix in the line corresponding to the index of that word in the vocabulary in order to match with the numeric input of the NN."
      ]
    },
    {
      "cell_type": "code",
      "source": [
        "def build_embedding_matrix(embedding_model: gensim.models.keyedvectors.KeyedVectors,\n",
        "                           embedding_dimension: int,\n",
        "                           word_to_idx: Dict[str, int],\n",
        "                           vocab_size: int,\n",
        "                           oov_terms: List[str]) -> np.ndarray:\n",
        "    \"\"\"\n",
        "    Builds the embedding matrix of a specific dataset given a pre-trained word embedding model\n",
        "\n",
        "    :param embedding_model: pre-trained word embedding model (gensim wrapper)\n",
        "    :param embedding dimension: fixed integer embedding dimension \n",
        "    :param word_to_idx: vocabulary map (word -> index) (dict)\n",
        "    :param vocab_size: size of the vocabulary\n",
        "    :param oov_terms: list of OOV terms (list)\n",
        "\n",
        "    :return\n",
        "        - embedding matrix that assigns a high dimensional vector to each word in the dataset specific vocabulary (shape |V| x d)\n",
        "    \"\"\"\n",
        "\n",
        "    embedding_matrix = np.zeros((vocab_size, embedding_dimension), dtype=np.float32)\n",
        "\n",
        "    for word, idx in tqdm(word_to_idx.items()):\n",
        "        # If the word is not in the vocabulary, associate a random embedding vector, and save it in the embedding matrix\n",
        "        try:\n",
        "            embedding_vector = embedding_model[word]\n",
        "        except (KeyError, TypeError):\n",
        "            embedding_vector = np.random.uniform(low=-0.05, high=0.05, size=embedding_dimension)\n",
        "\n",
        "        embedding_matrix[idx] = embedding_vector\n",
        "\n",
        "    return embedding_matrix\n",
        "\n",
        "# Testing\n",
        "embedding_matrix = build_embedding_matrix(embedding_model, embedding_dimension, word_to_idx, len(word_to_idx), oov_terms)\n",
        "# print(\"\\nEmbedding matrix shape: {}\".format(embedding_matrix.shape))"
      ],
      "metadata": {
        "colab": {
          "base_uri": "https://localhost:8080/"
        },
        "id": "xVZK-_gBK9HM",
        "outputId": "e89b6794-8dab-40cd-e537-6fb4412db668"
      },
      "execution_count": null,
      "outputs": [
        {
          "output_type": "stream",
          "name": "stderr",
          "text": [
            "100%|██████████| 6976/6976 [00:00<00:00, 274383.79it/s]\n"
          ]
        }
      ]
    },
    {
      "cell_type": "code",
      "source": [
        "class Tokenizer(object):\n",
        "    \"\"\" \n",
        "      A simple tokenizer that uses the functions: \n",
        "      - build_word_vocabulary\n",
        "      - check_OOV_terms\n",
        "      - build_embedding_matrix\n",
        "    \"\"\"\n",
        "\n",
        "    def __init__(self, build_embedding_matrix=False, embedding_dimension=None, embedding_model=None):\n",
        "        if build_embedding_matrix:\n",
        "            assert embedding_dimension is not None and type(embedding_dimension) == int\n",
        "\n",
        "        self.build_embedding_matrix = build_embedding_matrix\n",
        "        self.embedding_dimension = embedding_dimension\n",
        "        self.embedding_model = embedding_model\n",
        "\n",
        "        self.embedding_matrix = None\n",
        "        self.word_to_idx = None\n",
        "        self.idx_to_word = None\n",
        "\n",
        "    def build_vocab(self, data, **kwargs):\n",
        "        #first time with None -> create, otherwise update vocabulary\n",
        "        self.idx_to_word, self.word_to_idx, word_listing, _ = build_word_vocabulary(data, self.word_to_idx, self.idx_to_word)\n",
        "\n",
        "        if self.build_embedding_matrix:\n",
        "            \n",
        "            print('Checking OOV terms...')\n",
        "            self.oov_terms = check_OOV_terms(embedding_model=self.embedding_model,\n",
        "                                             word_listing=word_listing)\n",
        "\n",
        "            print('Building the embedding matrix...')\n",
        "            self.embedding_matrix = build_embedding_matrix(embedding_model=self.embedding_model,\n",
        "                                                           word_to_idx=self.word_to_idx,\n",
        "                                                           vocab_size=len(self.word_to_idx),        \n",
        "                                                           embedding_dimension=self.embedding_dimension,\n",
        "                                                           oov_terms=self.oov_terms)\n",
        "\n",
        "\n",
        "    def get_info(self):\n",
        "        return {\n",
        "            'build_embedding_matrix': self.build_embedding_matrix,\n",
        "            'embedding_dimension': self.embedding_dimension,\n",
        "            'embedding_matrix': self.embedding_matrix.shape if self.embedding_matrix is not None else self.embedding_matrix,\n",
        "            'embedding_model': self.embedding_model,\n",
        "            'vocab_size': len(self.word_to_idx),\n",
        "        }\n",
        "\n",
        "\n",
        "    def convert_words_to_ids(self, words):\n",
        "      return [self.word_to_idx[word] for word in words]\n",
        "\n",
        "    def convert_ids_to_words(self, ids):\n",
        "      return [self.idx_to_word[id] for id in ids] "
      ],
      "metadata": {
        "id": "BZYFVLAyLAhG"
      },
      "execution_count": null,
      "outputs": []
    },
    {
      "cell_type": "markdown",
      "metadata": {
        "id": "Bca-yxLlv11O"
      },
      "source": [
        "Using the tokenizer we build incrementally the vocabulary and update the embedding matrix:"
      ]
    },
    {
      "cell_type": "code",
      "source": [
        "# Instantiate the tokenizer (V1)\n",
        "tokenizer = Tokenizer(build_embedding_matrix=True,\n",
        "                      embedding_dimension=embedding_dimension,\n",
        "                      embedding_model=embedding_model)\n",
        "\n",
        "# BUILDING V2 = V1 + train OOV\n",
        "tokenizer.build_vocab(train)\n",
        "print(f'Vocabulary size: {tokenizer.get_info()[\"vocab_size\"]}\\n')\n",
        "\n",
        "# BUILDING V3 = V2 + valid OOV\n",
        "tokenizer.build_vocab(valid)\n",
        "print(f'Vocabulary size: {tokenizer.get_info()[\"vocab_size\"]}\\n')\n",
        "\n",
        "# BUILDING V4 = V3 + test OOV\n",
        "tokenizer.build_vocab(test)\n",
        "print(f'\\nVocabulary size: {tokenizer.get_info()[\"vocab_size\"]}\\n')"
      ],
      "metadata": {
        "colab": {
          "base_uri": "https://localhost:8080/"
        },
        "id": "kBEVxBO8LCV8",
        "outputId": "366a1466-3f89-4211-c886-4b2893cb164a"
      },
      "execution_count": null,
      "outputs": [
        {
          "output_type": "stream",
          "name": "stderr",
          "text": [
            "100%|██████████| 2244/2244 [00:00<00:00, 158943.84it/s]\n",
            "100%|██████████| 2244/2244 [00:00<00:00, 176093.44it/s]\n"
          ]
        },
        {
          "output_type": "stream",
          "name": "stdout",
          "text": [
            "Checking OOV terms...\n",
            "Building the embedding matrix...\n"
          ]
        },
        {
          "output_type": "stream",
          "name": "stderr",
          "text": [
            "100%|██████████| 6679/6679 [00:00<00:00, 253966.33it/s]\n"
          ]
        },
        {
          "output_type": "stream",
          "name": "stdout",
          "text": [
            "Vocabulary size: 6679\n",
            "\n"
          ]
        },
        {
          "output_type": "stream",
          "name": "stderr",
          "text": [
            "100%|██████████| 124/124 [00:00<00:00, 94322.40it/s]\n",
            "100%|██████████| 124/124 [00:00<00:00, 175292.79it/s]\n"
          ]
        },
        {
          "output_type": "stream",
          "name": "stdout",
          "text": [
            "Checking OOV terms...\n",
            "Building the embedding matrix...\n"
          ]
        },
        {
          "output_type": "stream",
          "name": "stderr",
          "text": [
            "100%|██████████| 6836/6836 [00:00<00:00, 276564.41it/s]\n"
          ]
        },
        {
          "output_type": "stream",
          "name": "stdout",
          "text": [
            "Vocabulary size: 6836\n",
            "\n"
          ]
        },
        {
          "output_type": "stream",
          "name": "stderr",
          "text": [
            "100%|██████████| 125/125 [00:00<00:00, 79173.66it/s]\n",
            "100%|██████████| 125/125 [00:00<00:00, 158778.92it/s]\n"
          ]
        },
        {
          "output_type": "stream",
          "name": "stdout",
          "text": [
            "Checking OOV terms...\n",
            "Building the embedding matrix...\n"
          ]
        },
        {
          "output_type": "stream",
          "name": "stderr",
          "text": [
            "100%|██████████| 6976/6976 [00:00<00:00, 250080.89it/s]"
          ]
        },
        {
          "output_type": "stream",
          "name": "stdout",
          "text": [
            "\n",
            "Vocabulary size: 6976\n",
            "\n"
          ]
        },
        {
          "output_type": "stream",
          "name": "stderr",
          "text": [
            "\n"
          ]
        }
      ]
    },
    {
      "cell_type": "markdown",
      "metadata": {
        "id": "y1m8HYJRwiqJ"
      },
      "source": [
        "We also define two function to encode the labels into numbers (binary) and vice versa"
      ]
    },
    {
      "cell_type": "code",
      "source": [
        "def label2idx(label):\n",
        "  return {\n",
        "        'pro': 1,\n",
        "        'con': 0,\n",
        "        'None': 1 # TODO: quanto deve valere None, ovvero la stance del main claim\n",
        "  }[label]\n",
        "\n",
        "def idx2label(idx):\n",
        "  return {\n",
        "        1: 'pro',\n",
        "        0: 'con',\n",
        "  }[idx]"
      ],
      "metadata": {
        "id": "yqevIlu7qh_I"
      },
      "execution_count": null,
      "outputs": []
    },
    {
      "cell_type": "markdown",
      "metadata": {
        "id": "JOEG_4L-w105"
      },
      "source": [
        "And we split the dataset into claims set, evidences set and label set for train/valid/test "
      ]
    },
    {
      "cell_type": "code",
      "source": [
        "# train\n",
        "claim_train = [sentence.split(\" \") for sentence in train['Claim'].values]\n",
        "claim_parent_train = [sentence.split(\" \") for sentence in train['Parent_claim'].values]\n",
        "stance_train = train['Stance']\n",
        "y_train = train['Mean_vote']\n",
        "\n",
        "# valid\n",
        "claim_val = [sentence.split(\" \") for sentence in valid['Claim'].values]\n",
        "claim_parent_val = [sentence.split(\" \") for sentence in valid['Parent_claim'].values]\n",
        "stance_val = valid['Stance']\n",
        "y_val = valid['Mean_vote']\n",
        "\n",
        "# test\n",
        "claim_test = [sentence.split(\" \") for sentence in test['Claim'].values]\n",
        "claim_parent_test = [sentence.split(\" \") for sentence in test['Parent_claim'].values]\n",
        "stance_test = test['Stance']\n",
        "y_test = test['Mean_vote']"
      ],
      "metadata": {
        "id": "QbjUqyjbLLE0"
      },
      "execution_count": null,
      "outputs": []
    },
    {
      "cell_type": "code",
      "source": [
        "idx_to_show =  30 #@param {type:\"slider\", min:0, max:121739, step:1}\n",
        "print('Choosen claim of the training set:')\n",
        "print(claim_train[idx_to_show])\n",
        "print('Choosen parent claim of the training set:')\n",
        "print(claim_parent_train[idx_to_show])\n",
        "print('\\nChoosen stance of the training set:')\n",
        "print(stance_train[idx_to_show])\n",
        "print('\\nChoosen label of the training set:')\n",
        "print(y_train[idx_to_show])"
      ],
      "metadata": {
        "colab": {
          "base_uri": "https://localhost:8080/"
        },
        "id": "P7_uRdokLjcJ",
        "outputId": "98f2b769-820c-4a46-b0af-e8ce9d0f15f7"
      },
      "execution_count": null,
      "outputs": [
        {
          "output_type": "stream",
          "name": "stdout",
          "text": [
            "Choosen claim of the training set:\n",
            "['the', 'total', 'amount', 'of', 'energy', 'in', 'the', 'universe', 'can', 'be', 'shown', 'to', 'be', '0', 'it', 'simply', 'not', 'evenly', 'distributed']\n",
            "Choosen parent claim of the training set:\n",
            "['the', 'second', 'law', 'of', 'thermodynamics', 'indicates', 'that', 'the', 'universe', 'is', 'running', 'out', 'of', 'usable', 'energy', 'if', 'the', 'universe', 'had', 'existed', 'for', 'an', 'infinite', 'number', 'of', 'past', 'days', 'then', 'all', 'usable', 'energy', 'should', 'have', 'disappeared', 'long', 'ago']\n",
            "\n",
            "Choosen stance of the training set:\n",
            "con\n",
            "\n",
            "Choosen label of the training set:\n",
            "3.7\n"
          ]
        }
      ]
    },
    {
      "cell_type": "markdown",
      "metadata": {
        "id": "hgFDZ6oCxe4u"
      },
      "source": [
        "Finally we encode the inputs of our model and the output label to do the evaluation steps.\n",
        "\n",
        "We accomplish this task using two functions that convert claims, evidences and labels into a numerical format using the previously defined tokenizer and functions.\n",
        "\n",
        "The function also pads claims and evidences using zeroes (the encoding of the `-PAD-` string defined in the initialization of the vocabularies) so that they all have the same size.\n",
        "\n",
        "The maximum length of the sequences is determined by the training set in order to emulate a real scenario where the test set can also have longer sequences than the ones used to train the network. In case a claim or an evidence exceeds that dimension, it is truncated."
      ]
    },
    {
      "cell_type": "code",
      "source": [
        "def convert_text(texts, tokenizer, is_training=False, max_seq_length=None):\n",
        "    \"\"\"\n",
        "    Converts input text sequences using a given tokenizer\n",
        "\n",
        "    :param texts: either a list or numpy ndarray of strings\n",
        "    :param tokenizer: an instantiated tokenizer\n",
        "    :param is_training: whether input texts are from the training split or not\n",
        "    :param max_seq_length: the max token sequence previously computed with\n",
        "    training texts.\n",
        "\n",
        "    :return\n",
        "        text_ids: a nested list on token indices\n",
        "        max_seq_length: the max token sequence previously computed with\n",
        "        training texts.\n",
        "    \"\"\"\n",
        "\n",
        "    text_ids = [tokenizer.convert_words_to_ids(sentence) for sentence in texts]\n",
        "\n",
        "    # Padding\n",
        "    if is_training:\n",
        "        max_seq_length = int(np.quantile([len(seq) for seq in text_ids], 0.99))\n",
        "    else:\n",
        "        assert max_seq_length is not None\n",
        "\n",
        "    text_ids = [seq + [0] * (max_seq_length - len(seq)) for seq in text_ids]\n",
        "    text_ids = np.array([seq[:max_seq_length] for seq in text_ids])\n",
        "\n",
        "    if is_training:\n",
        "        return text_ids, max_seq_length\n",
        "    else:\n",
        "        return text_ids"
      ],
      "metadata": {
        "id": "9J5MPmYFL9mF"
      },
      "execution_count": null,
      "outputs": []
    },
    {
      "cell_type": "markdown",
      "metadata": {
        "id": "YyIOZu3oBKOF"
      },
      "source": [
        "Convert claim"
      ]
    },
    {
      "cell_type": "code",
      "source": [
        "# Train\n",
        "claim_train, max_tokens = convert_text(claim_train, tokenizer, True)\n",
        "print(\"Max sequence length: {}\\n\".format(max_tokens))\n",
        "print('X train shape: ', claim_train.shape)\n",
        "\n",
        "# Val\n",
        "claim_val = convert_text(claim_val, tokenizer, False, max_tokens)\n",
        "print('X val shape: ', claim_val.shape)\n",
        "\n",
        "# Test\n",
        "claim_test = convert_text(claim_test, tokenizer, False, max_tokens)\n",
        "print('X test shape: ', claim_test.shape)"
      ],
      "metadata": {
        "id": "aWVzyQW2L_JO",
        "outputId": "08ff9cbd-b1ed-437a-e420-309c08fbfb62",
        "colab": {
          "base_uri": "https://localhost:8080/"
        }
      },
      "execution_count": null,
      "outputs": [
        {
          "output_type": "stream",
          "name": "stdout",
          "text": [
            "Max sequence length: 86\n",
            "\n",
            "X train shape:  (2244, 86)\n",
            "X val shape:  (124, 86)\n",
            "X test shape:  (125, 86)\n"
          ]
        }
      ]
    },
    {
      "cell_type": "markdown",
      "source": [
        "Convert parent claim"
      ],
      "metadata": {
        "id": "gQat-_apGeuH"
      }
    },
    {
      "cell_type": "code",
      "source": [
        "# Train\n",
        "claim_parent_train = convert_text(claim_parent_train, tokenizer, False, max_tokens)\n",
        "print(\"Max sequence length: {}\\n\".format(max_tokens))\n",
        "print('X train shape: ', claim_parent_train.shape)\n",
        "\n",
        "# Val\n",
        "claim_parent_val = convert_text(claim_parent_val, tokenizer, False, max_tokens)\n",
        "print('X val shape: ', claim_parent_val.shape)\n",
        "\n",
        "# Test\n",
        "claim_parent_test = convert_text(claim_parent_test, tokenizer, False, max_tokens)\n",
        "print('X test shape: ', claim_parent_test.shape)"
      ],
      "metadata": {
        "colab": {
          "base_uri": "https://localhost:8080/"
        },
        "id": "k5EYVOL7zRAx",
        "outputId": "73e989f2-d499-4ce1-fe12-f5997b380fa8"
      },
      "execution_count": null,
      "outputs": [
        {
          "output_type": "stream",
          "name": "stdout",
          "text": [
            "Max sequence length: 86\n",
            "\n",
            "X train shape:  (2244, 86)\n",
            "X val shape:  (124, 86)\n",
            "X test shape:  (125, 86)\n"
          ]
        }
      ]
    },
    {
      "cell_type": "markdown",
      "source": [
        "Convert stance"
      ],
      "metadata": {
        "id": "UHlp21ZfFowt"
      }
    },
    {
      "cell_type": "code",
      "source": [
        "# Train\n",
        "stance_train = stance_train.apply(label2idx).values\n",
        "print('Y train shape: ', stance_train.shape)\n",
        "\n",
        "# Val\n",
        "stance_val = stance_val.apply(label2idx).values\n",
        "print('Y valid shape: ', stance_val.shape)\n",
        "\n",
        "# Test\n",
        "stance_test = stance_test.apply(label2idx).values\n",
        "print('Y test shape: ', stance_test.shape)"
      ],
      "metadata": {
        "colab": {
          "base_uri": "https://localhost:8080/"
        },
        "id": "edQzJQR5Fs42",
        "outputId": "53af74b2-d0c3-4d73-891f-deb231d50d47"
      },
      "execution_count": null,
      "outputs": [
        {
          "output_type": "stream",
          "name": "stdout",
          "text": [
            "Y train shape:  (2244,)\n",
            "Y valid shape:  (124,)\n",
            "Y test shape:  (125,)\n"
          ]
        }
      ]
    },
    {
      "cell_type": "code",
      "source": [
        "idx_to_show =  30 #@param {type:\"slider\", min:0, max:121739, step:1}\n",
        "print('Choosen claim of the training set:')\n",
        "print(claim_train[idx_to_show])\n",
        "print('Choosen parent claim of the training set:')\n",
        "print(claim_parent_train[idx_to_show])\n",
        "print('\\nChoosen stance of the training set:')\n",
        "print(stance_train[idx_to_show])\n",
        "print('\\nChoosen label of the training set:')\n",
        "print(y_train[idx_to_show])"
      ],
      "metadata": {
        "colab": {
          "base_uri": "https://localhost:8080/"
        },
        "id": "FecYMJp5OKux",
        "outputId": "998b074c-dc15-40fd-f89b-353019f91633"
      },
      "execution_count": null,
      "outputs": [
        {
          "output_type": "stream",
          "name": "stdout",
          "text": [
            "Choosen claim of the training set:\n",
            "[ 31 444 445   2 446  74  31 154  93  90 447  58  90 448  82 449 120 450\n",
            " 451   0   0   0   0   0   0   0   0   0   0   0   0   0   0   0   0   0\n",
            "   0   0   0   0   0   0   0   0   0   0   0   0   0   0   0   0   0   0\n",
            "   0   0   0   0   0   0   0   0   0   0   0   0   0   0   0   0   0   0\n",
            "   0   0   0   0   0   0   0   0   0   0   0   0   0   0]\n",
            "Choosen parent claim of the training set:\n",
            "[  31 1555  932    2 1556 3589   16   31  154   12 3580    1    2 3590\n",
            "  446  249   31  154  532  762   51   34  208  537    2  916 3591  252\n",
            "  413 3590  446  727  142 3592  892  854    0    0    0    0    0    0\n",
            "    0    0    0    0    0    0    0    0    0    0    0    0    0    0\n",
            "    0    0    0    0    0    0    0    0    0    0    0    0    0    0\n",
            "    0    0    0    0    0    0    0    0    0    0    0    0    0    0\n",
            "    0    0]\n",
            "\n",
            "Choosen stance of the training set:\n",
            "0\n",
            "\n",
            "Choosen label of the training set:\n",
            "3.7\n"
          ]
        }
      ]
    },
    {
      "cell_type": "markdown",
      "source": [
        "# Model"
      ],
      "metadata": {
        "id": "_8paF7IyO4n4"
      }
    },
    {
      "cell_type": "code",
      "source": [
        "# Model 1 and 2\n",
        "class RNNSentenceEmbedding(tf.keras.layers.Layer):\n",
        "    \"\"\"\n",
        "    Create a recurrent sentence embedding layer that using a bidirectional LSTM\n",
        "\n",
        "    :param embedding_dim: the dimension of the embedding vector\n",
        "    :param average_all_outputs: if True the entire sequence of the bidirectional\n",
        "      LSTM is returned and then all the output vectors are averaged, otherwise\n",
        "      only the last output is returned\n",
        "\n",
        "    :return\n",
        "      the sentence embedding vector\n",
        "    \"\"\"\n",
        "    def __init__(self, embedding_dim, average_all_outputs=False, **kwargs):\n",
        "        super(RNNSentenceEmbedding, self).__init__(**kwargs)\n",
        "        self.average_all_outputs = average_all_outputs\n",
        "        self.lstm = Bidirectional(LSTM(embedding_dim, return_sequences=self.average_all_outputs))\n",
        "        \n",
        "    def call(self, inputs, average=False): \n",
        "        if self.average_all_outputs:\n",
        "            return tf.reduce_mean(self.lstm(inputs), axis=1)\n",
        "        else:\n",
        "            return self.lstm(inputs)\n",
        "\n",
        "\n",
        "# Model 3\n",
        "class MLPSentenceEmbedding(tf.keras.layers.Layer):\n",
        "    \"\"\"\n",
        "    Create a MLP sentence embedding layer using a dense layer. At first the input\n",
        "    with shape [batch_size, max_tokens, embedding_dim] is flattened to \n",
        "    [batch_size, max_tokens * embedding_dim] and then it is passed to the dense layer\n",
        "    that encodes the embedding vector so that the shape of the output matrix is\n",
        "    [batch_size, embedding_dim]\n",
        "\n",
        "    :param embedding_dim: the dimension of the embedding vector\n",
        "\n",
        "    :return\n",
        "      the sentence embedding vector\n",
        "    \"\"\"\n",
        "    def __init__(self, embedding_dim, **kwargs):\n",
        "        super(MLPSentenceEmbedding, self).__init__(**kwargs)\n",
        "        self.flatten = Flatten()\n",
        "        self.dense = Dense(embedding_dim)\n",
        "\n",
        "    def call(self, inputs):\n",
        "        flattened = self.flatten(inputs)\n",
        "        return self.dense(flattened)\n",
        "\n",
        "\n",
        "# Model 4\n",
        "class AvgSentenceEmbedding(tf.keras.layers.Layer):\n",
        "    \"\"\"\n",
        "    Create a sentence embedding layer that simply average the embedding of each word in the sentece\n",
        "\n",
        "    :return the sentence embedding vector:\n",
        "    \"\"\"\n",
        "    def __init__(self, **kwargs):\n",
        "        super(AvgSentenceEmbedding, self).__init__(**kwargs)\n",
        "\n",
        "    def call(self, inputs, **kwargs):\n",
        "        return tf.reduce_mean(inputs, axis=1)"
      ],
      "metadata": {
        "id": "l6hyG-H9TTio"
      },
      "execution_count": null,
      "outputs": []
    },
    {
      "cell_type": "code",
      "source": [
        "class ConcatationMerge(tf.keras.layers.Layer):\n",
        "  def call(self, claim_sentence_embedding, evidence_sentence_embedding, **kwargs):\n",
        "      cosine_similarity = Dot(axes=1, normalize=True)([claim_sentence_embedding, evidence_sentence_embedding])\n",
        "      merged = Concatenate()([claim_sentence_embedding, evidence_sentence_embedding])\n",
        "      return Concatenate()([merged, cosine_similarity])\n",
        "\n",
        "class SumMerge(tf.keras.layers.Layer):\n",
        "  def call(self, claim_sentence_embedding, evidence_sentence_embedding, **kwargs):\n",
        "    cosine_similarity = Dot(axes=1, normalize=True)([claim_sentence_embedding, evidence_sentence_embedding])\n",
        "    merged = Add()([claim_sentence_embedding, evidence_sentence_embedding])\n",
        "    return Concatenate()([merged, cosine_similarity])\n",
        "\n",
        "class MeanMerge(tf.keras.layers.Layer):\n",
        "  def call(self, claim_sentence_embedding, evidence_sentence_embedding, **kwargs):\n",
        "    cosine_similarity = Dot(axes=1, normalize=True)([claim_sentence_embedding, evidence_sentence_embedding])\n",
        "    merged = Average()([claim_sentence_embedding, evidence_sentence_embedding])\n",
        "    return Concatenate()([merged, cosine_similarity])"
      ],
      "metadata": {
        "id": "GQ8cZlDM2brI"
      },
      "execution_count": null,
      "outputs": []
    },
    {
      "cell_type": "code",
      "source": [
        "word_embdedding_info = {\n",
        "      \"output_dim\": embedding_dimension,\n",
        "      \"input_dim\": tokenizer.get_info()['vocab_size'],\n",
        "      \"input_length\": max_tokens,\n",
        "      \"weights\": tokenizer.embedding_matrix if tokenizer.embedding_matrix is None else [tokenizer.embedding_matrix],\n",
        "      \"mask_zero\": False,\n",
        "      \"trainable\": False\n",
        "    }"
      ],
      "metadata": {
        "id": "lslDmAmIOzsk"
      },
      "execution_count": null,
      "outputs": []
    },
    {
      "cell_type": "code",
      "source": [
        "training_info = {\n",
        "    'verbose': 1,\n",
        "    'epochs': 100,\n",
        "    'batch_size': 64,\n",
        "    'callbacks': [\n",
        "      keras.callbacks.EarlyStopping(monitor='val_loss',\n",
        "                                    mode='min',\n",
        "                                    patience=5, \n",
        "                                    restore_best_weights=True)]\n",
        "}"
      ],
      "metadata": {
        "id": "mkIi-VGVPBYu"
      },
      "execution_count": null,
      "outputs": []
    },
    {
      "cell_type": "code",
      "source": [
        "#Plots some graphs on training history\n",
        "def show_history(history: keras.callbacks.History):\n",
        "    \"\"\"\n",
        "    Shows training history data stored by the History Keras callback\n",
        "\n",
        "    :param history: History Keras callback\n",
        "    \"\"\"\n",
        "\n",
        "    history_data = history.history\n",
        "    print(\"Displaying the following history keys: \", history_data.keys())\n",
        "\n",
        "    for key, value in history_data.items():\n",
        "        if not key.startswith('val'):\n",
        "            fig, ax = plt.subplots(1, 1)\n",
        "            ax.set_title(key)\n",
        "            ax.plot(value)\n",
        "            if 'val_{}'.format(key) in history_data:\n",
        "                ax.plot(history_data['val_{}'.format(key)])\n",
        "            else:\n",
        "                print(\"Couldn't find validation values for metric: \", key)\n",
        "\n",
        "            ax.set_ylabel(key)\n",
        "            ax.set_xlabel('epoch')\n",
        "            ax.legend(['train', 'val'], loc='best')\n",
        "\n",
        "    plt.show()\n",
        "\n",
        "#Train the model\n",
        "def train_model(model: keras.Model,\n",
        "                x_train: np.ndarray,\n",
        "                y_train: np.ndarray,\n",
        "                x_val: np.ndarray,\n",
        "                y_val: np.ndarray,\n",
        "                training_info: Dict):\n",
        "    \"\"\"\n",
        "    Training routine for the Keras model.\n",
        "    At the end of the training, retrieved History data is shown.\n",
        "\n",
        "    :param model: Keras built model\n",
        "    :param x_train: training data in np.ndarray format\n",
        "    :param y_train: training labels in np.ndarray format\n",
        "    :param x_val: validation data in np.ndarray format\n",
        "    :param y_val: validation labels in np.ndarray format\n",
        "    :param training_info: dictionary storing model fit() argument information\n",
        "\n",
        "    :return\n",
        "        model: trained Keras model\n",
        "    \"\"\"\n",
        "    print(\"Start training! \\nParameters: {}\".format(training_info))\n",
        "    history = model.fit(x=x_train, y=y_train,\n",
        "                        validation_data=(x_val, y_val),\n",
        "                        **training_info)\n",
        "    print(\"Training completed! Showing history...\")\n",
        "\n",
        "    show_history(history)\n",
        "\n",
        "    return model"
      ],
      "metadata": {
        "id": "ELMDlOMoQGSf"
      },
      "execution_count": null,
      "outputs": []
    },
    {
      "cell_type": "code",
      "source": [
        "from tensorflow.keras.layers import Input, Embedding, Bidirectional, LSTM, Dot, Concatenate, Add, Average, Dense, Dropout, Flatten"
      ],
      "metadata": {
        "id": "Ca5_ojgtT0Pl"
      },
      "execution_count": null,
      "outputs": []
    },
    {
      "cell_type": "code",
      "source": [
        "def create_model1(sentence_embedding, merging_strategy):\n",
        "    \n",
        "    # Claim input embedding\n",
        "    claim_input = Input(shape=(max_tokens,), name=\"claim_input\")\n",
        "    claim_word_embdedding = Embedding(**word_embdedding_info, name=\"claim_word_embdedding\")(claim_input)\n",
        "    claim_sentence_embedding = sentence_embedding(claim_word_embdedding)\n",
        "\n",
        "    claim_parent_input = Input(shape=(max_tokens,), name='claim_parent_input')\n",
        "    claim_parent_word_embdedding = Embedding(**word_embdedding_info, name=\"claim_parent_word_embdedding\")(claim_parent_input)\n",
        "    claim_parent_sentence_embedding = sentence_embedding(claim_parent_word_embdedding)\n",
        "\n",
        "    # Stance input\n",
        "    stance_input = Input(shape=(1,), name='stance_input')\n",
        "\n",
        "    # Merging\n",
        "    merge_layer = merging_strategy(claim_sentence_embedding, claim_parent_sentence_embedding)\n",
        "\n",
        "    # Concatenation\n",
        "    concat_layer = Concatenate()([merge_layer, stance_input])\n",
        "\n",
        "    # Regressor\n",
        "    dense_layer = Dense(50, activation=\"relu\",\n",
        "                         # kernel_regularizer=keras.regularizers.l2(0.01),\n",
        "                         name=\"dense\")(concat_layer)\n",
        "    # Dropout layer\n",
        "    dropout_layer = Dropout(rate=0, name=\"dropout\")(dense_layer)\n",
        "    # Output layer\n",
        "    output_class = Dense(1, activation=\"relu\", name=\"regressor\")(dropout_layer)\n",
        "\n",
        "    model = keras.Model(inputs=[claim_input, claim_parent_input, stance_input], outputs=output_class)\n",
        "\n",
        "    model.summary()\n",
        "\n",
        "    # Compile\n",
        "    model.compile(loss='mae', metrics=['mae'],\n",
        "                  optimizer=keras.optimizers.Adam(1e-4))\n",
        "\n",
        "    return model\n",
        "\n",
        "model1 = create_model1(sentence_embedding=RNNSentenceEmbedding(embedding_dimension, False, name='sentence_embedding'), merging_strategy=ConcatationMerge(name=\"merging_strategy\"))\n",
        "\n",
        "model1 = train_model(model=model1, x_train=[claim_train, claim_parent_train, stance_train], y_train=y_train,\n",
        "                    x_val=[claim_val, claim_parent_val, stance_val], y_val=y_val, training_info=training_info)"
      ],
      "metadata": {
        "colab": {
          "base_uri": "https://localhost:8080/",
          "height": 1000
        },
        "id": "IAmcXAA8PHqT",
        "outputId": "db0809be-9a0f-413a-999c-074387e9daf6"
      },
      "execution_count": null,
      "outputs": [
        {
          "output_type": "stream",
          "name": "stdout",
          "text": [
            "Model: \"model\"\n",
            "__________________________________________________________________________________________________\n",
            " Layer (type)                   Output Shape         Param #     Connected to                     \n",
            "==================================================================================================\n",
            " claim_input (InputLayer)       [(None, 86)]         0           []                               \n",
            "                                                                                                  \n",
            " claim_parent_input (InputLayer  [(None, 86)]        0           []                               \n",
            " )                                                                                                \n",
            "                                                                                                  \n",
            " claim_word_embdedding (Embeddi  (None, 86, 50)      348800      ['claim_input[0][0]']            \n",
            " ng)                                                                                              \n",
            "                                                                                                  \n",
            " claim_parent_word_embdedding (  (None, 86, 50)      348800      ['claim_parent_input[0][0]']     \n",
            " Embedding)                                                                                       \n",
            "                                                                                                  \n",
            " sentence_embedding (RNNSentenc  (None, 100)         40400       ['claim_word_embdedding[0][0]',  \n",
            " eEmbedding)                                                      'claim_parent_word_embdedding[0]\n",
            "                                                                 [0]']                            \n",
            "                                                                                                  \n",
            " merging_strategy (ConcatationM  (None, 201)         0           ['sentence_embedding[0][0]',     \n",
            " erge)                                                            'sentence_embedding[1][0]']     \n",
            "                                                                                                  \n",
            " stance_input (InputLayer)      [(None, 1)]          0           []                               \n",
            "                                                                                                  \n",
            " concatenate (Concatenate)      (None, 202)          0           ['merging_strategy[0][0]',       \n",
            "                                                                  'stance_input[0][0]']           \n",
            "                                                                                                  \n",
            " dense (Dense)                  (None, 50)           10150       ['concatenate[0][0]']            \n",
            "                                                                                                  \n",
            " dropout (Dropout)              (None, 50)           0           ['dense[0][0]']                  \n",
            "                                                                                                  \n",
            " regressor (Dense)              (None, 1)            51          ['dropout[0][0]']                \n",
            "                                                                                                  \n",
            "==================================================================================================\n",
            "Total params: 748,201\n",
            "Trainable params: 50,601\n",
            "Non-trainable params: 697,600\n",
            "__________________________________________________________________________________________________\n",
            "Start training! \n",
            "Parameters: {'verbose': 1, 'epochs': 100, 'batch_size': 64, 'callbacks': [<keras.callbacks.EarlyStopping object at 0x7f90136709d0>]}\n",
            "Epoch 1/100\n",
            "36/36 [==============================] - 11s 61ms/step - loss: 1.6687 - mae: 1.6687 - val_loss: 1.2722 - val_mae: 1.2722\n",
            "Epoch 2/100\n",
            "36/36 [==============================] - 1s 20ms/step - loss: 1.0067 - mae: 1.0067 - val_loss: 0.7717 - val_mae: 0.7717\n",
            "Epoch 3/100\n",
            "36/36 [==============================] - 1s 20ms/step - loss: 0.7905 - mae: 0.7905 - val_loss: 0.7669 - val_mae: 0.7669\n",
            "Epoch 4/100\n",
            "36/36 [==============================] - 1s 19ms/step - loss: 0.7832 - mae: 0.7832 - val_loss: 0.7641 - val_mae: 0.7641\n",
            "Epoch 5/100\n",
            "36/36 [==============================] - 1s 20ms/step - loss: 0.7774 - mae: 0.7774 - val_loss: 0.7601 - val_mae: 0.7601\n",
            "Epoch 6/100\n",
            "36/36 [==============================] - 1s 19ms/step - loss: 0.7731 - mae: 0.7731 - val_loss: 0.7556 - val_mae: 0.7556\n",
            "Epoch 7/100\n",
            "36/36 [==============================] - 1s 20ms/step - loss: 0.7688 - mae: 0.7688 - val_loss: 0.7515 - val_mae: 0.7515\n",
            "Epoch 8/100\n",
            "36/36 [==============================] - 1s 19ms/step - loss: 0.7652 - mae: 0.7652 - val_loss: 0.7476 - val_mae: 0.7476\n",
            "Epoch 9/100\n",
            "36/36 [==============================] - 1s 19ms/step - loss: 0.7615 - mae: 0.7615 - val_loss: 0.7452 - val_mae: 0.7452\n",
            "Epoch 10/100\n",
            "36/36 [==============================] - 1s 19ms/step - loss: 0.7589 - mae: 0.7589 - val_loss: 0.7424 - val_mae: 0.7424\n",
            "Epoch 11/100\n",
            "36/36 [==============================] - 1s 19ms/step - loss: 0.7548 - mae: 0.7548 - val_loss: 0.7404 - val_mae: 0.7404\n",
            "Epoch 12/100\n",
            "36/36 [==============================] - 1s 20ms/step - loss: 0.7530 - mae: 0.7530 - val_loss: 0.7374 - val_mae: 0.7374\n",
            "Epoch 13/100\n",
            "36/36 [==============================] - 1s 20ms/step - loss: 0.7486 - mae: 0.7486 - val_loss: 0.7372 - val_mae: 0.7372\n",
            "Epoch 14/100\n",
            "36/36 [==============================] - 1s 20ms/step - loss: 0.7455 - mae: 0.7455 - val_loss: 0.7358 - val_mae: 0.7358\n",
            "Epoch 15/100\n",
            "36/36 [==============================] - 1s 19ms/step - loss: 0.7433 - mae: 0.7433 - val_loss: 0.7357 - val_mae: 0.7357\n",
            "Epoch 16/100\n",
            "36/36 [==============================] - 1s 20ms/step - loss: 0.7395 - mae: 0.7395 - val_loss: 0.7344 - val_mae: 0.7344\n",
            "Epoch 17/100\n",
            "36/36 [==============================] - 1s 20ms/step - loss: 0.7392 - mae: 0.7392 - val_loss: 0.7335 - val_mae: 0.7335\n",
            "Epoch 18/100\n",
            "36/36 [==============================] - 1s 20ms/step - loss: 0.7355 - mae: 0.7355 - val_loss: 0.7314 - val_mae: 0.7314\n",
            "Epoch 19/100\n",
            "36/36 [==============================] - 1s 19ms/step - loss: 0.7331 - mae: 0.7331 - val_loss: 0.7325 - val_mae: 0.7325\n",
            "Epoch 20/100\n",
            "36/36 [==============================] - 1s 19ms/step - loss: 0.7311 - mae: 0.7311 - val_loss: 0.7296 - val_mae: 0.7296\n",
            "Epoch 21/100\n",
            "36/36 [==============================] - 1s 19ms/step - loss: 0.7297 - mae: 0.7297 - val_loss: 0.7312 - val_mae: 0.7312\n",
            "Epoch 22/100\n",
            "36/36 [==============================] - 1s 19ms/step - loss: 0.7290 - mae: 0.7290 - val_loss: 0.7292 - val_mae: 0.7292\n",
            "Epoch 23/100\n",
            "36/36 [==============================] - 1s 19ms/step - loss: 0.7282 - mae: 0.7282 - val_loss: 0.7279 - val_mae: 0.7279\n",
            "Epoch 24/100\n",
            "36/36 [==============================] - 1s 20ms/step - loss: 0.7243 - mae: 0.7243 - val_loss: 0.7289 - val_mae: 0.7289\n",
            "Epoch 25/100\n",
            "36/36 [==============================] - 1s 20ms/step - loss: 0.7245 - mae: 0.7245 - val_loss: 0.7255 - val_mae: 0.7255\n",
            "Epoch 26/100\n",
            "36/36 [==============================] - 1s 20ms/step - loss: 0.7229 - mae: 0.7229 - val_loss: 0.7265 - val_mae: 0.7265\n",
            "Epoch 27/100\n",
            "36/36 [==============================] - 1s 20ms/step - loss: 0.7190 - mae: 0.7190 - val_loss: 0.7215 - val_mae: 0.7215\n",
            "Epoch 28/100\n",
            "36/36 [==============================] - 1s 19ms/step - loss: 0.7186 - mae: 0.7186 - val_loss: 0.7216 - val_mae: 0.7216\n",
            "Epoch 29/100\n",
            "36/36 [==============================] - 1s 19ms/step - loss: 0.7190 - mae: 0.7190 - val_loss: 0.7214 - val_mae: 0.7214\n",
            "Epoch 30/100\n",
            "36/36 [==============================] - 1s 19ms/step - loss: 0.7160 - mae: 0.7160 - val_loss: 0.7223 - val_mae: 0.7223\n",
            "Epoch 31/100\n",
            "36/36 [==============================] - 1s 19ms/step - loss: 0.7154 - mae: 0.7154 - val_loss: 0.7220 - val_mae: 0.7220\n",
            "Epoch 32/100\n",
            "36/36 [==============================] - 1s 19ms/step - loss: 0.7161 - mae: 0.7161 - val_loss: 0.7188 - val_mae: 0.7188\n",
            "Epoch 33/100\n",
            "36/36 [==============================] - 1s 19ms/step - loss: 0.7124 - mae: 0.7124 - val_loss: 0.7207 - val_mae: 0.7207\n",
            "Epoch 34/100\n",
            "36/36 [==============================] - 1s 19ms/step - loss: 0.7101 - mae: 0.7101 - val_loss: 0.7195 - val_mae: 0.7195\n",
            "Epoch 35/100\n",
            "36/36 [==============================] - 1s 18ms/step - loss: 0.7101 - mae: 0.7101 - val_loss: 0.7198 - val_mae: 0.7198\n",
            "Epoch 36/100\n",
            "36/36 [==============================] - 1s 19ms/step - loss: 0.7077 - mae: 0.7077 - val_loss: 0.7218 - val_mae: 0.7218\n",
            "Epoch 37/100\n",
            "36/36 [==============================] - 1s 19ms/step - loss: 0.7064 - mae: 0.7064 - val_loss: 0.7184 - val_mae: 0.7184\n",
            "Epoch 38/100\n",
            "36/36 [==============================] - 1s 19ms/step - loss: 0.7051 - mae: 0.7051 - val_loss: 0.7225 - val_mae: 0.7225\n",
            "Epoch 39/100\n",
            "36/36 [==============================] - 1s 19ms/step - loss: 0.7029 - mae: 0.7029 - val_loss: 0.7217 - val_mae: 0.7217\n",
            "Epoch 40/100\n",
            "36/36 [==============================] - 1s 20ms/step - loss: 0.7018 - mae: 0.7018 - val_loss: 0.7229 - val_mae: 0.7229\n",
            "Epoch 41/100\n",
            "36/36 [==============================] - 1s 20ms/step - loss: 0.7011 - mae: 0.7011 - val_loss: 0.7231 - val_mae: 0.7231\n",
            "Epoch 42/100\n",
            "36/36 [==============================] - 1s 19ms/step - loss: 0.7002 - mae: 0.7002 - val_loss: 0.7225 - val_mae: 0.7225\n",
            "Training completed! Showing history...\n",
            "Displaying the following history keys:  dict_keys(['loss', 'mae', 'val_loss', 'val_mae'])\n"
          ]
        },
        {
          "output_type": "display_data",
          "data": {
            "image/png": "[encoded data removed]",
            "text/plain": [
              "<Figure size 720x360 with 1 Axes>"
            ]
          },
          "metadata": {
            "needs_background": "light"
          }
        },
        {
          "output_type": "display_data",
          "data": {
            "image/png": "[encoded data removed]",
            "text/plain": [
              "<Figure size 720x360 with 1 Axes>"
            ]
          },
          "metadata": {
            "needs_background": "light"
          }
        }
      ]
    },
    {
      "cell_type": "markdown",
      "source": [
        "# Evaluation"
      ],
      "metadata": {
        "id": "4kQ045igQmAs"
      }
    },
    {
      "cell_type": "code",
      "source": [
        "def predict_data(model: keras.Model,\n",
        "                 x: np.ndarray,\n",
        "                 prediction_info: Dict) -> np.ndarray:\n",
        "    \"\"\"\n",
        "    Inference routine of a given input set of examples\n",
        "\n",
        "    :param model: Keras built and possibly trained model\n",
        "    :param x: input set of examples in np.ndarray format\n",
        "    :param prediction_info: dictionary storing model predict() argument information\n",
        "\n",
        "    :return\n",
        "        predictions: predicted labels in np.ndarray format\n",
        "    \"\"\"\n",
        "\n",
        "    #print('Starting prediction: \\n{}'.format(prediction_info))\n",
        "    #print('Predicting on {} samples'.format(x.shape[0]))\n",
        "\n",
        "    predictions = model.predict(x, **prediction_info)\n",
        "    return predictions\n",
        "\n",
        "\n",
        "def evaluate_predictions(predictions: np.ndarray,\n",
        "                         y: np.ndarray,\n",
        "                         metrics: List[Callable],\n",
        "                         metric_names: List[str]):\n",
        "    \"\"\"\n",
        "    Evaluates given model predictions on a list of metric functions\n",
        "\n",
        "    :param predictions: model predictions in np.ndarray format\n",
        "    :param y: ground-truth labels in np.ndarray format\n",
        "    :param metrics: list of metric functions\n",
        "    :param metric_names: list of metric names\n",
        "\n",
        "    :return\n",
        "        metric_info: dictionary containing metric values for each input metric\n",
        "    \"\"\"\n",
        "\n",
        "    assert len(metrics) == len(metric_names)\n",
        "\n",
        "    print(\"Evaluating predictions! Total samples: \", y.shape[0])\n",
        "\n",
        "    metric_info = {}\n",
        "    for metric, metric_name in zip(metrics, metric_names):\n",
        "        all_metric_values = metric\n",
        "        metric_value = np.mean([ metric(y_true, y_pred) for y_true, y_pred in zip(y, predictions) ])\n",
        "        metric_info[metric_name] = metric_value\n",
        "\n",
        "    return metric_info"
      ],
      "metadata": {
        "id": "AAxOR59KQlDn"
      },
      "execution_count": null,
      "outputs": []
    },
    {
      "cell_type": "code",
      "source": [
        "best_model = model1"
      ],
      "metadata": {
        "id": "s4F1TIs6Qrn4"
      },
      "execution_count": null,
      "outputs": []
    },
    {
      "cell_type": "code",
      "source": [
        "# Inference\n",
        "prediction_info = {\n",
        "    'batch_size': 64,\n",
        "    'verbose': 1\n",
        "}\n",
        "test_predictions = predict_data(model=best_model, x=[claim_test, claim_parent_test, stance_test], prediction_info=prediction_info)\n",
        "\n",
        "print(test_predictions.shape)\n",
        "print(y_test.shape)\n",
        "\n",
        "# test_predictions = np.mean(test_predictions, axis=1)\n",
        "\n",
        "import sys\n",
        "import numpy\n",
        "numpy.set_printoptions(threshold=sys.maxsize)\n",
        "\n",
        "print(\"\\n\".join(\"{} {}\".format(x, y) for x, y in zip(test_predictions, y_test)))\n",
        "# print(test_predictions)\n",
        "#print(y_test)"
      ],
      "metadata": {
        "id": "ssnyMWkIQqAW",
        "colab": {
          "base_uri": "https://localhost:8080/"
        },
        "outputId": "82770968-7d79-4167-83c4-1c8fbffd614a"
      },
      "execution_count": null,
      "outputs": [
        {
          "output_type": "stream",
          "name": "stdout",
          "text": [
            "2/2 [==============================] - 1s 13ms/step\n",
            "(125, 1)\n",
            "(125,)\n",
            "[1.9024545] 3.5\n",
            "[2.569378] 2.0\n",
            "[2.0984344] 2.0\n",
            "[2.2856996] 1.7\n",
            "[2.3917096] 4.0\n",
            "[1.6458006] 2.0\n",
            "[2.1321046] 2.0\n",
            "[2.2965899] 1.3\n",
            "[2.4235072] 2.7\n",
            "[2.4113853] 0.0\n",
            "[2.200731] 1.7\n",
            "[2.4621794] 2.0\n",
            "[2.2883081] 2.5\n",
            "[2.020868] 2.3\n",
            "[2.392322] 4.0\n",
            "[2.5651472] 2.5\n",
            "[2.4223032] 3.3\n",
            "[1.4681185] 2.6\n",
            "[1.6670995] 2.7\n",
            "[2.2298563] 3.0\n",
            "[2.2584443] 0.8\n",
            "[2.4253519] 2.0\n",
            "[2.045211] 4.0\n",
            "[1.8189589] 2.5\n",
            "[2.3995218] 3.7\n",
            "[2.1038115] 4.0\n",
            "[1.9480574] 2.5\n",
            "[2.4267685] 2.0\n",
            "[1.9462513] 3.7\n",
            "[2.6664746] 3.7\n",
            "[2.376877] 2.5\n",
            "[1.6697628] 4.0\n",
            "[1.8098329] 4.0\n",
            "[1.8864368] 3.7\n",
            "[2.6067758] 2.0\n",
            "[2.4118135] 2.0\n",
            "[2.177028] 3.7\n",
            "[2.8921278] 3.0\n",
            "[2.6369236] 1.7\n",
            "[2.6256568] 1.0\n",
            "[2.7665796] 3.3\n",
            "[2.6411605] 3.3\n",
            "[2.6106339] 3.7\n",
            "[1.9374324] 4.0\n",
            "[2.49652] 2.4\n",
            "[2.046037] 2.0\n",
            "[2.763991] 2.0\n",
            "[2.118075] 2.7\n",
            "[1.8982102] 1.3\n",
            "[2.7717772] 0.0\n",
            "[2.2183735] 0.7\n",
            "[2.1674159] 3.0\n",
            "[2.1645749] 2.0\n",
            "[1.6955805] 1.0\n",
            "[2.590996] 2.3\n",
            "[2.5551786] 2.0\n",
            "[2.519791] 2.7\n",
            "[2.5066478] 1.5\n",
            "[2.0181181] 2.3\n",
            "[2.1863878] 4.0\n",
            "[2.0359395] 4.0\n",
            "[1.9441329] 2.0\n",
            "[2.534269] 1.4\n",
            "[2.1878679] 0.0\n",
            "[2.5250425] 1.0\n",
            "[1.5964924] 1.9\n",
            "[1.9103241] 1.3\n",
            "[1.9969586] 4.0\n",
            "[2.0605755] 2.0\n",
            "[1.9259697] 3.0\n",
            "[2.249761] 1.7\n",
            "[2.3247535] 2.0\n",
            "[1.8286217] 1.0\n",
            "[2.10683] 2.5\n",
            "[2.0161984] 3.5\n",
            "[1.9912119] 1.5\n",
            "[2.3643005] 4.0\n",
            "[2.1876886] 4.0\n",
            "[2.2935688] 4.0\n",
            "[2.0796447] 1.0\n",
            "[2.465134] 1.3\n",
            "[2.3854504] 2.5\n",
            "[1.887315] 2.0\n",
            "[2.2330468] 4.0\n",
            "[2.0134296] 2.0\n",
            "[2.187033] 4.0\n",
            "[2.0032918] 1.0\n",
            "[2.1011443] 2.0\n",
            "[2.4321935] 4.0\n",
            "[1.7844074] 1.2\n",
            "[2.3884008] 2.0\n",
            "[2.1533785] 2.0\n",
            "[1.8782065] 0.0\n",
            "[2.132776] 2.0\n",
            "[1.4401493] 1.6\n",
            "[2.0098085] 2.7\n",
            "[1.995391] 2.0\n",
            "[1.8040265] 2.0\n",
            "[1.9765801] 4.0\n",
            "[2.172889] 1.5\n",
            "[2.043335] 2.0\n",
            "[2.1349013] 1.5\n",
            "[2.2825985] 0.0\n",
            "[2.1998432] 1.9\n",
            "[2.1351168] 2.0\n",
            "[2.0518832] 3.7\n",
            "[2.104819] 2.0\n",
            "[2.2027884] 1.3\n",
            "[2.0372937] 1.5\n",
            "[2.4087381] 3.0\n",
            "[2.0607793] 0.4\n",
            "[2.3085625] 2.7\n",
            "[2.0135643] 2.5\n",
            "[1.9975415] 1.5\n",
            "[2.1069818] 2.0\n",
            "[2.0616863] 3.3\n",
            "[2.2759314] 2.7\n",
            "[2.2900403] 1.0\n",
            "[2.1350844] 2.5\n",
            "[2.0814416] 2.0\n",
            "[2.1229873] 0.5\n",
            "[1.9849533] 1.5\n",
            "[1.9834533] 2.7\n",
            "[2.2485917] 2.0\n",
            "[2.0277941] 4.0\n"
          ]
        }
      ]
    },
    {
      "cell_type": "markdown",
      "source": [
        "![image.png](data:image/png;base64,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)"
      ],
      "metadata": {
        "id": "6oEBsVgXEDZR"
      }
    },
    {
      "cell_type": "markdown",
      "source": [
        "####Linear Regression"
      ],
      "metadata": {
        "id": "o2hfQgaUSt00"
      }
    },
    {
      "cell_type": "code",
      "source": [
        "import numpy as np\n",
        "from sklearn.linear_model import LinearRegression\n",
        "\n",
        "base_model = LinearRegression().fit(claim_train, y_train)\n",
        "r_sq = base_model.score(claim_train, y_train)\n",
        "print('coefficient of determination:', r_sq)\n",
        "print('intercept:', base_model.intercept_)\n",
        "#print('slope:', base_model.coef_)\n",
        "\n",
        "y_pred = base_model.predict(claim_test)\n",
        "#print('predicted response:', y_pred, sep='\\n')\n",
        "\n",
        "print(\"\\n\".join(\"{} {}\".format(x, y) for x, y in zip(y_pred, y_test)))"
      ],
      "metadata": {
        "id": "0bz-Ev2JKqW3",
        "outputId": "8f5a4303-cff3-411b-a2c5-4af7c5ad5346",
        "colab": {
          "base_uri": "https://localhost:8080/"
        }
      },
      "execution_count": null,
      "outputs": [
        {
          "output_type": "stream",
          "name": "stdout",
          "text": [
            "coefficient of determination: 0.04963376442520817\n",
            "intercept: 2.141937137056417\n",
            "0.8305030788735035 3.5\n",
            "2.2863281701466764 2.0\n",
            "0.7357653875020602 2.0\n",
            "2.4935961773405313 1.7\n",
            "2.1786497455743588 4.0\n",
            "2.2169465716628283 2.0\n",
            "1.692184945860281 2.0\n",
            "2.01857033959549 1.3\n",
            "6.03236409563541 2.7\n",
            "2.366823988957439 0.0\n",
            "2.232729474814275 1.7\n",
            "2.1035097125071234 2.0\n",
            "2.700928812141357 2.5\n",
            "2.5967788758802177 2.3\n",
            "2.095039608216394 4.0\n",
            "2.461894436236864 2.5\n",
            "2.1626672330110415 3.3\n",
            "2.8395787466834066 2.6\n",
            "2.0963029795592836 2.7\n",
            "2.150797879594196 3.0\n",
            "2.1797650852541417 0.8\n",
            "2.2986461180729716 2.0\n",
            "2.235374455612256 4.0\n",
            "2.1387406069786783 2.5\n",
            "2.2136713027049857 3.7\n",
            "2.3140923211855187 4.0\n",
            "2.592645481703265 2.5\n",
            "2.918427007710886 2.0\n",
            "2.3693111578677692 3.7\n",
            "3.044419461189653 3.7\n",
            "2.570778170885622 2.5\n",
            "2.2410293608122296 4.0\n",
            "2.849974340089129 4.0\n",
            "2.484734631224462 3.7\n",
            "3.6476975888283754 2.0\n",
            "2.736016233046535 2.0\n",
            "2.895144643794849 3.7\n",
            "2.3191437869662317 3.0\n",
            "2.192260050967209 1.7\n",
            "2.411045421713058 1.0\n",
            "2.306808531383807 3.3\n",
            "2.4477736178353364 3.3\n",
            "2.594359880273883 3.7\n",
            "2.1408951139905454 4.0\n",
            "2.1135153820060077 2.4\n",
            "2.3921700580378493 2.0\n",
            "2.200408226289831 2.0\n",
            "1.9560934227431006 2.7\n",
            "2.3602626690475423 1.3\n",
            "2.399092081328253 0.0\n",
            "2.2889751063314767 0.7\n",
            "2.137894698907178 3.0\n",
            "2.2148366258956056 2.0\n",
            "2.3225994723925516 1.0\n",
            "2.2030915843180776 2.3\n",
            "2.3564057301446764 2.0\n",
            "2.2042854719343 2.7\n",
            "2.1935726604657075 1.5\n",
            "2.5433890515238007 2.3\n",
            "2.3126232711051187 4.0\n",
            "2.2569587168185317 4.0\n",
            "2.4243473826622695 2.0\n",
            "2.418146479237477 1.4\n",
            "2.670669666398134 0.0\n",
            "2.065667010472716 1.0\n",
            "2.15007076367829 1.9\n",
            "2.1865247864469906 1.3\n",
            "2.5836669597131907 4.0\n",
            "2.2255834595678436 2.0\n",
            "3.1533307254428817 3.0\n",
            "2.2478205456702094 1.7\n",
            "2.2309308251177025 2.0\n",
            "2.1437338954428493 1.0\n",
            "2.1438721550442272 2.5\n",
            "2.2287429068292814 3.5\n",
            "2.29577452577231 1.5\n",
            "1.350170318256324 4.0\n",
            "2.2141543576889413 4.0\n",
            "2.207655002579151 4.0\n",
            "2.1741731473644497 1.0\n",
            "2.4523253626784696 1.3\n",
            "2.271388959160824 2.5\n",
            "2.2139129563962725 2.0\n",
            "2.8166839528513092 4.0\n",
            "2.16125878911292 2.0\n",
            "2.267556521728808 4.0\n",
            "2.618436507375239 1.0\n",
            "2.308181367452207 2.0\n",
            "2.6929775137899776 4.0\n",
            "2.442242038231111 1.2\n",
            "2.594857937968084 2.0\n",
            "2.4923165926221125 2.0\n",
            "2.2283000494760006 0.0\n",
            "2.2328950682989257 2.0\n",
            "2.1636195460002496 1.6\n",
            "1.9385574118477402 2.7\n",
            "2.514726088685464 2.0\n",
            "2.1817969413022715 2.0\n",
            "2.188179246283292 4.0\n",
            "2.425888712734836 1.5\n",
            "2.2572897518514274 2.0\n",
            "2.489352422490417 1.5\n",
            "2.2573998010295373 0.0\n",
            "2.4673110221830608 1.9\n",
            "2.2434358887391235 2.0\n",
            "2.0272399704931687 3.7\n",
            "2.1499835056961834 2.0\n",
            "2.7623903397205893 1.3\n",
            "2.3880653704576864 1.5\n",
            "2.4545479046684386 3.0\n",
            "2.344919731993203 0.4\n",
            "2.2685487688368475 2.7\n",
            "2.4846276952895114 2.5\n",
            "2.453837539250837 1.5\n",
            "2.1589523500385477 2.0\n",
            "2.24731716803498 3.3\n",
            "2.6860642935691574 2.7\n",
            "1.8456770957938191 1.0\n",
            "2.2399512868778277 2.5\n",
            "2.348542594888391 2.0\n",
            "2.3492867439112413 0.5\n",
            "2.2865094229308145 1.5\n",
            "2.2137229934652916 2.7\n",
            "2.3742165261894996 2.0\n",
            "2.150787818312798 4.0\n"
          ]
        }
      ]
    },
    {
      "cell_type": "markdown",
      "source": [
        "####Polynomial Regression (to fix)"
      ],
      "metadata": {
        "id": "qQ6NndM7SkwB"
      }
    },
    {
      "cell_type": "code",
      "source": [
        "from sklearn.preprocessing import PolynomialFeatures\n",
        "\n",
        "# define the pipeline and train model\n",
        "input = PolynomialFeatures(degree=2, include_bias=False).fit_transform(claim_train)\n",
        "                  \n",
        "base_model = LinearRegression().fit(input, y_train)\n",
        "\n",
        "#print('predicted response:', y_pred, sep='\\n')\n",
        "\n",
        "print(\"\\n\".join(\"{} {}\".format(x, y) for x, y in zip(y_pred, y_test)))"
      ],
      "metadata": {
        "id": "rNRg-75iSjgL",
        "outputId": "607cf719-8423-4f09-ee7f-205c7c61159d",
        "colab": {
          "base_uri": "https://localhost:8080/"
        }
      },
      "execution_count": null,
      "outputs": [
        {
          "output_type": "stream",
          "name": "stdout",
          "text": [
            "0.8305030788735035 3.5\n",
            "2.2863281701466764 2.0\n",
            "0.7357653875020602 2.0\n",
            "2.4935961773405313 1.7\n",
            "2.1786497455743588 4.0\n",
            "2.2169465716628283 2.0\n",
            "1.692184945860281 2.0\n",
            "2.01857033959549 1.3\n",
            "6.03236409563541 2.7\n",
            "2.366823988957439 0.0\n",
            "2.232729474814275 1.7\n",
            "2.1035097125071234 2.0\n",
            "2.700928812141357 2.5\n",
            "2.5967788758802177 2.3\n",
            "2.095039608216394 4.0\n",
            "2.461894436236864 2.5\n",
            "2.1626672330110415 3.3\n",
            "2.8395787466834066 2.6\n",
            "2.0963029795592836 2.7\n",
            "2.150797879594196 3.0\n",
            "2.1797650852541417 0.8\n",
            "2.2986461180729716 2.0\n",
            "2.235374455612256 4.0\n",
            "2.1387406069786783 2.5\n",
            "2.2136713027049857 3.7\n",
            "2.3140923211855187 4.0\n",
            "2.592645481703265 2.5\n",
            "2.918427007710886 2.0\n",
            "2.3693111578677692 3.7\n",
            "3.044419461189653 3.7\n",
            "2.570778170885622 2.5\n",
            "2.2410293608122296 4.0\n",
            "2.849974340089129 4.0\n",
            "2.484734631224462 3.7\n",
            "3.6476975888283754 2.0\n",
            "2.736016233046535 2.0\n",
            "2.895144643794849 3.7\n",
            "2.3191437869662317 3.0\n",
            "2.192260050967209 1.7\n",
            "2.411045421713058 1.0\n",
            "2.306808531383807 3.3\n",
            "2.4477736178353364 3.3\n",
            "2.594359880273883 3.7\n",
            "2.1408951139905454 4.0\n",
            "2.1135153820060077 2.4\n",
            "2.3921700580378493 2.0\n",
            "2.200408226289831 2.0\n",
            "1.9560934227431006 2.7\n",
            "2.3602626690475423 1.3\n",
            "2.399092081328253 0.0\n",
            "2.2889751063314767 0.7\n",
            "2.137894698907178 3.0\n",
            "2.2148366258956056 2.0\n",
            "2.3225994723925516 1.0\n",
            "2.2030915843180776 2.3\n",
            "2.3564057301446764 2.0\n",
            "2.2042854719343 2.7\n",
            "2.1935726604657075 1.5\n",
            "2.5433890515238007 2.3\n",
            "2.3126232711051187 4.0\n",
            "2.2569587168185317 4.0\n",
            "2.4243473826622695 2.0\n",
            "2.418146479237477 1.4\n",
            "2.670669666398134 0.0\n",
            "2.065667010472716 1.0\n",
            "2.15007076367829 1.9\n",
            "2.1865247864469906 1.3\n",
            "2.5836669597131907 4.0\n",
            "2.2255834595678436 2.0\n",
            "3.1533307254428817 3.0\n",
            "2.2478205456702094 1.7\n",
            "2.2309308251177025 2.0\n",
            "2.1437338954428493 1.0\n",
            "2.1438721550442272 2.5\n",
            "2.2287429068292814 3.5\n",
            "2.29577452577231 1.5\n",
            "1.350170318256324 4.0\n",
            "2.2141543576889413 4.0\n",
            "2.207655002579151 4.0\n",
            "2.1741731473644497 1.0\n",
            "2.4523253626784696 1.3\n",
            "2.271388959160824 2.5\n",
            "2.2139129563962725 2.0\n",
            "2.8166839528513092 4.0\n",
            "2.16125878911292 2.0\n",
            "2.267556521728808 4.0\n",
            "2.618436507375239 1.0\n",
            "2.308181367452207 2.0\n",
            "2.6929775137899776 4.0\n",
            "2.442242038231111 1.2\n",
            "2.594857937968084 2.0\n",
            "2.4923165926221125 2.0\n",
            "2.2283000494760006 0.0\n",
            "2.2328950682989257 2.0\n",
            "2.1636195460002496 1.6\n",
            "1.9385574118477402 2.7\n",
            "2.514726088685464 2.0\n",
            "2.1817969413022715 2.0\n",
            "2.188179246283292 4.0\n",
            "2.425888712734836 1.5\n",
            "2.2572897518514274 2.0\n",
            "2.489352422490417 1.5\n",
            "2.2573998010295373 0.0\n",
            "2.4673110221830608 1.9\n",
            "2.2434358887391235 2.0\n",
            "2.0272399704931687 3.7\n",
            "2.1499835056961834 2.0\n",
            "2.7623903397205893 1.3\n",
            "2.3880653704576864 1.5\n",
            "2.4545479046684386 3.0\n",
            "2.344919731993203 0.4\n",
            "2.2685487688368475 2.7\n",
            "2.4846276952895114 2.5\n",
            "2.453837539250837 1.5\n",
            "2.1589523500385477 2.0\n",
            "2.24731716803498 3.3\n",
            "2.6860642935691574 2.7\n",
            "1.8456770957938191 1.0\n",
            "2.2399512868778277 2.5\n",
            "2.348542594888391 2.0\n",
            "2.3492867439112413 0.5\n",
            "2.2865094229308145 1.5\n",
            "2.2137229934652916 2.7\n",
            "2.3742165261894996 2.0\n",
            "2.150787818312798 4.0\n"
          ]
        }
      ]
    },
    {
      "cell_type": "markdown",
      "source": [
        "####Robust Regression - RANSAC"
      ],
      "metadata": {
        "id": "2KZvf-yCxzi5"
      }
    },
    {
      "cell_type": "code",
      "source": [
        "from sklearn.linear_model import RANSACRegressor\n",
        "\n",
        "# Set RANSAC hyperparameters\n",
        "ransac = RANSACRegressor(LinearRegression(),\n",
        "\t\tmax_trials=4, \t\t# Number of Iterations\n",
        "\t\tmin_samples=2, \t\t# Minimum size of the sample\n",
        "\t\tloss='absolute_loss', \t# Metrics for loss\n",
        "\t\tresidual_threshold=10 \t# Threshold\n",
        "\t\t)\n",
        "\n",
        "# Train model\n",
        "ransac.fit(claim_train, y_train)\n",
        "\n",
        "y_pred = ransac.predict(claim_test)\n",
        "#print('predicted response:', y_pred, sep='\\n')\n",
        "\n",
        "print(\"\\n\".join(\"{} {}\".format(x, y) for x, y in zip(y_pred, y_test)))"
      ],
      "metadata": {
        "id": "iL99Jqzzx6wh",
        "outputId": "351b71b7-6639-424a-bc8f-7570c082b5b6",
        "colab": {
          "base_uri": "https://localhost:8080/"
        }
      },
      "execution_count": null,
      "outputs": [
        {
          "output_type": "stream",
          "name": "stdout",
          "text": [
            "0.8305030788735035 3.5\n",
            "2.2863281701466764 2.0\n",
            "0.7357653875020602 2.0\n",
            "2.4935961773405313 1.7\n",
            "2.1786497455743588 4.0\n",
            "2.2169465716628283 2.0\n",
            "1.692184945860281 2.0\n",
            "2.01857033959549 1.3\n",
            "6.03236409563541 2.7\n",
            "2.366823988957439 0.0\n",
            "2.232729474814275 1.7\n",
            "2.1035097125071234 2.0\n",
            "2.700928812141357 2.5\n",
            "2.5967788758802177 2.3\n",
            "2.095039608216394 4.0\n",
            "2.461894436236864 2.5\n",
            "2.1626672330110415 3.3\n",
            "2.8395787466834066 2.6\n",
            "2.0963029795592836 2.7\n",
            "2.150797879594196 3.0\n",
            "2.1797650852541417 0.8\n",
            "2.2986461180729716 2.0\n",
            "2.235374455612256 4.0\n",
            "2.1387406069786783 2.5\n",
            "2.2136713027049857 3.7\n",
            "2.3140923211855187 4.0\n",
            "2.592645481703265 2.5\n",
            "2.918427007710886 2.0\n",
            "2.3693111578677692 3.7\n",
            "3.044419461189653 3.7\n",
            "2.570778170885622 2.5\n",
            "2.2410293608122296 4.0\n",
            "2.849974340089129 4.0\n",
            "2.484734631224462 3.7\n",
            "3.6476975888283754 2.0\n",
            "2.736016233046535 2.0\n",
            "2.895144643794849 3.7\n",
            "2.3191437869662317 3.0\n",
            "2.192260050967209 1.7\n",
            "2.411045421713058 1.0\n",
            "2.306808531383807 3.3\n",
            "2.4477736178353364 3.3\n",
            "2.594359880273883 3.7\n",
            "2.1408951139905454 4.0\n",
            "2.1135153820060077 2.4\n",
            "2.3921700580378493 2.0\n",
            "2.200408226289831 2.0\n",
            "1.9560934227431006 2.7\n",
            "2.3602626690475423 1.3\n",
            "2.399092081328253 0.0\n",
            "2.2889751063314767 0.7\n",
            "2.137894698907178 3.0\n",
            "2.2148366258956056 2.0\n",
            "2.3225994723925516 1.0\n",
            "2.2030915843180776 2.3\n",
            "2.3564057301446764 2.0\n",
            "2.2042854719343 2.7\n",
            "2.1935726604657075 1.5\n",
            "2.5433890515238007 2.3\n",
            "2.3126232711051187 4.0\n",
            "2.2569587168185317 4.0\n",
            "2.4243473826622695 2.0\n",
            "2.418146479237477 1.4\n",
            "2.670669666398134 0.0\n",
            "2.065667010472716 1.0\n",
            "2.15007076367829 1.9\n",
            "2.1865247864469906 1.3\n",
            "2.5836669597131907 4.0\n",
            "2.2255834595678436 2.0\n",
            "3.1533307254428817 3.0\n",
            "2.2478205456702094 1.7\n",
            "2.2309308251177025 2.0\n",
            "2.1437338954428493 1.0\n",
            "2.1438721550442272 2.5\n",
            "2.2287429068292814 3.5\n",
            "2.29577452577231 1.5\n",
            "1.350170318256324 4.0\n",
            "2.2141543576889413 4.0\n",
            "2.207655002579151 4.0\n",
            "2.1741731473644497 1.0\n",
            "2.4523253626784696 1.3\n",
            "2.271388959160824 2.5\n",
            "2.2139129563962725 2.0\n",
            "2.8166839528513092 4.0\n",
            "2.16125878911292 2.0\n",
            "2.267556521728808 4.0\n",
            "2.618436507375239 1.0\n",
            "2.308181367452207 2.0\n",
            "2.6929775137899776 4.0\n",
            "2.442242038231111 1.2\n",
            "2.594857937968084 2.0\n",
            "2.4923165926221125 2.0\n",
            "2.2283000494760006 0.0\n",
            "2.2328950682989257 2.0\n",
            "2.1636195460002496 1.6\n",
            "1.9385574118477402 2.7\n",
            "2.514726088685464 2.0\n",
            "2.1817969413022715 2.0\n",
            "2.188179246283292 4.0\n",
            "2.425888712734836 1.5\n",
            "2.2572897518514274 2.0\n",
            "2.489352422490417 1.5\n",
            "2.2573998010295373 0.0\n",
            "2.4673110221830608 1.9\n",
            "2.2434358887391235 2.0\n",
            "2.0272399704931687 3.7\n",
            "2.1499835056961834 2.0\n",
            "2.7623903397205893 1.3\n",
            "2.3880653704576864 1.5\n",
            "2.4545479046684386 3.0\n",
            "2.344919731993203 0.4\n",
            "2.2685487688368475 2.7\n",
            "2.4846276952895114 2.5\n",
            "2.453837539250837 1.5\n",
            "2.1589523500385477 2.0\n",
            "2.24731716803498 3.3\n",
            "2.6860642935691574 2.7\n",
            "1.8456770957938191 1.0\n",
            "2.2399512868778277 2.5\n",
            "2.348542594888391 2.0\n",
            "2.3492867439112413 0.5\n",
            "2.2865094229308145 1.5\n",
            "2.2137229934652916 2.7\n",
            "2.3742165261894996 2.0\n",
            "2.150787818312798 4.0\n"
          ]
        }
      ]
    },
    {
      "cell_type": "markdown",
      "source": [
        "####Decision Tree Regressor"
      ],
      "metadata": {
        "id": "mZaDZ8wgyt5X"
      }
    },
    {
      "cell_type": "code",
      "source": [
        "from sklearn.tree import DecisionTreeRegressor\n",
        "import graphviz \n",
        "from sklearn.tree import export_graphviz\n",
        "from IPython.display import Image\n",
        "\n",
        "# Build decision tree\n",
        "tree=DecisionTreeRegressor(max_depth=1)\n",
        "tree.fit(claim_train,y_train)\n",
        "\n",
        "y_pred = tree.predict(claim_test)\n",
        "#print('predicted response:', y_pred, sep='\\n')\n",
        "\n",
        "print(\"\\n\".join(\"{} {}\".format(x, y) for x, y in zip(y_pred, y_test)))\n",
        "\n",
        "dot_data = export_graphviz(tree, out_file=\"tree.dot\") \n",
        "graph = graphviz.Source(dot_data)\n",
        "! dot -Tpng tree.dot -o tree.png\n",
        "Image(filename='tree.png')"
      ],
      "metadata": {
        "id": "rp6oCPAiyrnE",
        "outputId": "ffdf15d6-170d-446d-e55d-27a17ff0cded",
        "colab": {
          "base_uri": "https://localhost:8080/",
          "height": 1000
        }
      },
      "execution_count": null,
      "outputs": [
        {
          "output_type": "stream",
          "name": "stdout",
          "text": [
            "2.327024341778441 3.5\n",
            "2.327024341778441 2.0\n",
            "2.327024341778441 2.0\n",
            "2.327024341778441 1.7\n",
            "2.0047619047619047 4.0\n",
            "2.327024341778441 2.0\n",
            "2.327024341778441 2.0\n",
            "2.327024341778441 1.3\n",
            "2.327024341778441 2.7\n",
            "2.327024341778441 0.0\n",
            "2.327024341778441 1.7\n",
            "2.327024341778441 2.0\n",
            "2.327024341778441 2.5\n",
            "2.327024341778441 2.3\n",
            "2.327024341778441 4.0\n",
            "2.327024341778441 2.5\n",
            "2.327024341778441 3.3\n",
            "2.327024341778441 2.6\n",
            "2.327024341778441 2.7\n",
            "2.327024341778441 3.0\n",
            "2.327024341778441 0.8\n",
            "2.327024341778441 2.0\n",
            "2.327024341778441 4.0\n",
            "2.0047619047619047 2.5\n",
            "2.327024341778441 3.7\n",
            "2.327024341778441 4.0\n",
            "2.327024341778441 2.5\n",
            "2.327024341778441 2.0\n",
            "2.327024341778441 3.7\n",
            "2.327024341778441 3.7\n",
            "2.327024341778441 2.5\n",
            "2.327024341778441 4.0\n",
            "2.327024341778441 4.0\n",
            "2.327024341778441 3.7\n",
            "2.327024341778441 2.0\n",
            "2.327024341778441 2.0\n",
            "2.327024341778441 3.7\n",
            "2.327024341778441 3.0\n",
            "2.327024341778441 1.7\n",
            "2.327024341778441 1.0\n",
            "2.327024341778441 3.3\n",
            "2.327024341778441 3.3\n",
            "2.327024341778441 3.7\n",
            "2.0047619047619047 4.0\n",
            "2.327024341778441 2.4\n",
            "2.327024341778441 2.0\n",
            "2.327024341778441 2.0\n",
            "2.327024341778441 2.7\n",
            "2.327024341778441 1.3\n",
            "2.327024341778441 0.0\n",
            "2.327024341778441 0.7\n",
            "2.0047619047619047 3.0\n",
            "2.0047619047619047 2.0\n",
            "2.0047619047619047 1.0\n",
            "2.327024341778441 2.3\n",
            "2.327024341778441 2.0\n",
            "2.327024341778441 2.7\n",
            "2.327024341778441 1.5\n",
            "2.327024341778441 2.3\n",
            "2.327024341778441 4.0\n",
            "2.0047619047619047 4.0\n",
            "2.327024341778441 2.0\n",
            "2.327024341778441 1.4\n",
            "2.327024341778441 0.0\n",
            "2.327024341778441 1.0\n",
            "2.0047619047619047 1.9\n",
            "2.0047619047619047 1.3\n",
            "2.327024341778441 4.0\n",
            "2.327024341778441 2.0\n",
            "2.327024341778441 3.0\n",
            "2.327024341778441 1.7\n",
            "2.327024341778441 2.0\n",
            "2.327024341778441 1.0\n",
            "2.0047619047619047 2.5\n",
            "2.327024341778441 3.5\n",
            "2.327024341778441 1.5\n",
            "2.327024341778441 4.0\n",
            "2.327024341778441 4.0\n",
            "2.0047619047619047 4.0\n",
            "2.327024341778441 1.0\n",
            "2.327024341778441 1.3\n",
            "2.327024341778441 2.5\n",
            "2.327024341778441 2.0\n",
            "2.327024341778441 4.0\n",
            "2.327024341778441 2.0\n",
            "2.327024341778441 4.0\n",
            "2.327024341778441 1.0\n",
            "2.327024341778441 2.0\n",
            "2.327024341778441 4.0\n",
            "2.327024341778441 1.2\n",
            "2.327024341778441 2.0\n",
            "2.0047619047619047 2.0\n",
            "2.327024341778441 0.0\n",
            "2.327024341778441 2.0\n",
            "2.0047619047619047 1.6\n",
            "2.327024341778441 2.7\n",
            "2.327024341778441 2.0\n",
            "2.327024341778441 2.0\n",
            "2.327024341778441 4.0\n",
            "2.327024341778441 1.5\n",
            "2.327024341778441 2.0\n",
            "2.327024341778441 1.5\n",
            "2.327024341778441 0.0\n",
            "2.327024341778441 1.9\n",
            "2.327024341778441 2.0\n",
            "2.327024341778441 3.7\n",
            "2.327024341778441 2.0\n",
            "2.327024341778441 1.3\n",
            "2.327024341778441 1.5\n",
            "2.327024341778441 3.0\n",
            "2.327024341778441 0.4\n",
            "2.327024341778441 2.7\n",
            "2.327024341778441 2.5\n",
            "2.327024341778441 1.5\n",
            "2.327024341778441 2.0\n",
            "2.327024341778441 3.3\n",
            "2.327024341778441 2.7\n",
            "2.327024341778441 1.0\n",
            "2.0047619047619047 2.5\n",
            "2.327024341778441 2.0\n",
            "2.0047619047619047 0.5\n",
            "2.327024341778441 1.5\n",
            "2.327024341778441 2.7\n",
            "2.327024341778441 2.0\n",
            "2.327024341778441 4.0\n"
          ]
        },
        {
          "output_type": "execute_result",
          "data": {
            "image/png": "[encoded data removed]",
            "text/plain": [
              "<IPython.core.display.Image object>"
            ]
          },
          "metadata": {},
          "execution_count": 60
        }
      ]
    },
    {
      "cell_type": "markdown",
      "source": [
        "####Random Forest Regression"
      ],
      "metadata": {
        "id": "C8zqc5Ux05Ax"
      }
    },
    {
      "cell_type": "code",
      "source": [
        "from sklearn.ensemble import RandomForestRegressor\n",
        "\n",
        "# define used regressor\n",
        "forest=RandomForestRegressor(n_estimators=20,\n",
        "                             max_depth=10,\n",
        "                             criterion='mse',\n",
        "                            )\n",
        "\n",
        "# train model\n",
        "forest.fit(claim_train,y_train)\n",
        "\n",
        "y_pred = tree.predict(claim_test)\n",
        "#print('predicted response:', y_pred, sep='\\n')\n",
        "\n",
        "print(\"\\n\".join(\"{} {}\".format(x, y) for x, y in zip(y_pred, y_test)))"
      ],
      "metadata": {
        "id": "fVamWNb407x3",
        "outputId": "aa8d8d9f-d925-4dca-d01e-63ec4def2fe7",
        "colab": {
          "base_uri": "https://localhost:8080/"
        }
      },
      "execution_count": null,
      "outputs": [
        {
          "output_type": "stream",
          "name": "stdout",
          "text": [
            "2.327024341778441 3.5\n",
            "2.327024341778441 2.0\n",
            "2.327024341778441 2.0\n",
            "2.327024341778441 1.7\n",
            "2.0047619047619047 4.0\n",
            "2.327024341778441 2.0\n",
            "2.327024341778441 2.0\n",
            "2.327024341778441 1.3\n",
            "2.327024341778441 2.7\n",
            "2.327024341778441 0.0\n",
            "2.327024341778441 1.7\n",
            "2.327024341778441 2.0\n",
            "2.327024341778441 2.5\n",
            "2.327024341778441 2.3\n",
            "2.327024341778441 4.0\n",
            "2.327024341778441 2.5\n",
            "2.327024341778441 3.3\n",
            "2.327024341778441 2.6\n",
            "2.327024341778441 2.7\n",
            "2.327024341778441 3.0\n",
            "2.327024341778441 0.8\n",
            "2.327024341778441 2.0\n",
            "2.327024341778441 4.0\n",
            "2.0047619047619047 2.5\n",
            "2.327024341778441 3.7\n",
            "2.327024341778441 4.0\n",
            "2.327024341778441 2.5\n",
            "2.327024341778441 2.0\n",
            "2.327024341778441 3.7\n",
            "2.327024341778441 3.7\n",
            "2.327024341778441 2.5\n",
            "2.327024341778441 4.0\n",
            "2.327024341778441 4.0\n",
            "2.327024341778441 3.7\n",
            "2.327024341778441 2.0\n",
            "2.327024341778441 2.0\n",
            "2.327024341778441 3.7\n",
            "2.327024341778441 3.0\n",
            "2.327024341778441 1.7\n",
            "2.327024341778441 1.0\n",
            "2.327024341778441 3.3\n",
            "2.327024341778441 3.3\n",
            "2.327024341778441 3.7\n",
            "2.0047619047619047 4.0\n",
            "2.327024341778441 2.4\n",
            "2.327024341778441 2.0\n",
            "2.327024341778441 2.0\n",
            "2.327024341778441 2.7\n",
            "2.327024341778441 1.3\n",
            "2.327024341778441 0.0\n",
            "2.327024341778441 0.7\n",
            "2.0047619047619047 3.0\n",
            "2.0047619047619047 2.0\n",
            "2.0047619047619047 1.0\n",
            "2.327024341778441 2.3\n",
            "2.327024341778441 2.0\n",
            "2.327024341778441 2.7\n",
            "2.327024341778441 1.5\n",
            "2.327024341778441 2.3\n",
            "2.327024341778441 4.0\n",
            "2.0047619047619047 4.0\n",
            "2.327024341778441 2.0\n",
            "2.327024341778441 1.4\n",
            "2.327024341778441 0.0\n",
            "2.327024341778441 1.0\n",
            "2.0047619047619047 1.9\n",
            "2.0047619047619047 1.3\n",
            "2.327024341778441 4.0\n",
            "2.327024341778441 2.0\n",
            "2.327024341778441 3.0\n",
            "2.327024341778441 1.7\n",
            "2.327024341778441 2.0\n",
            "2.327024341778441 1.0\n",
            "2.0047619047619047 2.5\n",
            "2.327024341778441 3.5\n",
            "2.327024341778441 1.5\n",
            "2.327024341778441 4.0\n",
            "2.327024341778441 4.0\n",
            "2.0047619047619047 4.0\n",
            "2.327024341778441 1.0\n",
            "2.327024341778441 1.3\n",
            "2.327024341778441 2.5\n",
            "2.327024341778441 2.0\n",
            "2.327024341778441 4.0\n",
            "2.327024341778441 2.0\n",
            "2.327024341778441 4.0\n",
            "2.327024341778441 1.0\n",
            "2.327024341778441 2.0\n",
            "2.327024341778441 4.0\n",
            "2.327024341778441 1.2\n",
            "2.327024341778441 2.0\n",
            "2.0047619047619047 2.0\n",
            "2.327024341778441 0.0\n",
            "2.327024341778441 2.0\n",
            "2.0047619047619047 1.6\n",
            "2.327024341778441 2.7\n",
            "2.327024341778441 2.0\n",
            "2.327024341778441 2.0\n",
            "2.327024341778441 4.0\n",
            "2.327024341778441 1.5\n",
            "2.327024341778441 2.0\n",
            "2.327024341778441 1.5\n",
            "2.327024341778441 0.0\n",
            "2.327024341778441 1.9\n",
            "2.327024341778441 2.0\n",
            "2.327024341778441 3.7\n",
            "2.327024341778441 2.0\n",
            "2.327024341778441 1.3\n",
            "2.327024341778441 1.5\n",
            "2.327024341778441 3.0\n",
            "2.327024341778441 0.4\n",
            "2.327024341778441 2.7\n",
            "2.327024341778441 2.5\n",
            "2.327024341778441 1.5\n",
            "2.327024341778441 2.0\n",
            "2.327024341778441 3.3\n",
            "2.327024341778441 2.7\n",
            "2.327024341778441 1.0\n",
            "2.0047619047619047 2.5\n",
            "2.327024341778441 2.0\n",
            "2.0047619047619047 0.5\n",
            "2.327024341778441 1.5\n",
            "2.327024341778441 2.7\n",
            "2.327024341778441 2.0\n",
            "2.327024341778441 4.0\n"
          ]
        }
      ]
    },
    {
      "cell_type": "markdown",
      "source": [
        "####Gaussian Process Regression - Squared Exponential Kernel (to fix)"
      ],
      "metadata": {
        "id": "f8vPJyDJ1nfd"
      }
    },
    {
      "cell_type": "code",
      "source": [
        "from sklearn.gaussian_process.kernels import RBF\n",
        "from sklearn.gaussian_process import GaussianProcessClassifier\n",
        "\n",
        "# Definition of the Radial Basis Function (RBF) as kernel\n",
        "kernel = 1.0 * RBF( length_scale=1.0 , length_scale_bounds=(1e-1, 10.0))\n",
        "\n",
        "# Train Gaussian Process\n",
        "gpc = GaussianProcessClassifier(kernel=kernel, random_state=0)\n",
        "print(type(claim_train))\n",
        "gpc.fit(claim_train.to, y_train)\n",
        "\n",
        "y_pred = gpc.predict(claim_test)\n",
        "#print('predicted response:', y_pred, sep='\\n')\n",
        "\n",
        "print(\"\\n\".join(\"{} {}\".format(x, y) for x, y in zip(y_pred, y_test)))"
      ],
      "metadata": {
        "id": "rpDVwyAo1xBD",
        "outputId": "e15804d1-4fce-44c9-ab15-3d1eb6835d78",
        "colab": {
          "base_uri": "https://localhost:8080/",
          "height": 1000
        }
      },
      "execution_count": null,
      "outputs": [
        {
          "output_type": "stream",
          "name": "stdout",
          "text": [
            "<class 'numpy.ndarray'>\n"
          ]
        },
        {
          "output_type": "error",
          "ename": "ValueError",
          "evalue": "ignored",
          "traceback": [
            "\u001b[0;31m---------------------------------------------------------------------------\u001b[0m",
            "\u001b[0;31mValueError\u001b[0m                                Traceback (most recent call last)",
            "\u001b[0;32m<ipython-input-67-b6125c976b46>\u001b[0m in \u001b[0;36m<module>\u001b[0;34m()\u001b[0m\n\u001b[1;32m      8\u001b[0m \u001b[0mgpc\u001b[0m \u001b[0;34m=\u001b[0m \u001b[0mGaussianProcessClassifier\u001b[0m\u001b[0;34m(\u001b[0m\u001b[0mkernel\u001b[0m\u001b[0;34m=\u001b[0m\u001b[0mkernel\u001b[0m\u001b[0;34m,\u001b[0m \u001b[0mrandom_state\u001b[0m\u001b[0;34m=\u001b[0m\u001b[0;36m0\u001b[0m\u001b[0;34m)\u001b[0m\u001b[0;34m\u001b[0m\u001b[0;34m\u001b[0m\u001b[0m\n\u001b[1;32m      9\u001b[0m \u001b[0mprint\u001b[0m\u001b[0;34m(\u001b[0m\u001b[0mtype\u001b[0m\u001b[0;34m(\u001b[0m\u001b[0mclaim_train\u001b[0m\u001b[0;34m)\u001b[0m\u001b[0;34m)\u001b[0m\u001b[0;34m\u001b[0m\u001b[0;34m\u001b[0m\u001b[0m\n\u001b[0;32m---> 10\u001b[0;31m \u001b[0mgpc\u001b[0m\u001b[0;34m.\u001b[0m\u001b[0mfit\u001b[0m\u001b[0;34m(\u001b[0m\u001b[0mclaim_train\u001b[0m\u001b[0;34m.\u001b[0m\u001b[0mastype\u001b[0m\u001b[0;34m(\u001b[0m\u001b[0;34m'int'\u001b[0m\u001b[0;34m)\u001b[0m\u001b[0;34m,\u001b[0m \u001b[0my_train\u001b[0m\u001b[0;34m)\u001b[0m\u001b[0;34m\u001b[0m\u001b[0;34m\u001b[0m\u001b[0m\n\u001b[0m\u001b[1;32m     11\u001b[0m \u001b[0;34m\u001b[0m\u001b[0m\n\u001b[1;32m     12\u001b[0m \u001b[0my_pred\u001b[0m \u001b[0;34m=\u001b[0m \u001b[0mgpc\u001b[0m\u001b[0;34m.\u001b[0m\u001b[0mpredict\u001b[0m\u001b[0;34m(\u001b[0m\u001b[0mclaim_test\u001b[0m\u001b[0;34m)\u001b[0m\u001b[0;34m\u001b[0m\u001b[0;34m\u001b[0m\u001b[0m\n",
            "\u001b[0;32m/usr/local/lib/python3.7/dist-packages/sklearn/gaussian_process/_gpc.py\u001b[0m in \u001b[0;36mfit\u001b[0;34m(self, X, y)\u001b[0m\n\u001b[1;32m    713\u001b[0m                 \u001b[0;32mraise\u001b[0m \u001b[0mValueError\u001b[0m\u001b[0;34m(\u001b[0m\u001b[0;34m\"Unknown multi-class mode %s\"\u001b[0m \u001b[0;34m%\u001b[0m \u001b[0mself\u001b[0m\u001b[0;34m.\u001b[0m\u001b[0mmulti_class\u001b[0m\u001b[0;34m)\u001b[0m\u001b[0;34m\u001b[0m\u001b[0;34m\u001b[0m\u001b[0m\n\u001b[1;32m    714\u001b[0m \u001b[0;34m\u001b[0m\u001b[0m\n\u001b[0;32m--> 715\u001b[0;31m         \u001b[0mself\u001b[0m\u001b[0;34m.\u001b[0m\u001b[0mbase_estimator_\u001b[0m\u001b[0;34m.\u001b[0m\u001b[0mfit\u001b[0m\u001b[0;34m(\u001b[0m\u001b[0mX\u001b[0m\u001b[0;34m,\u001b[0m \u001b[0my\u001b[0m\u001b[0;34m)\u001b[0m\u001b[0;34m\u001b[0m\u001b[0;34m\u001b[0m\u001b[0m\n\u001b[0m\u001b[1;32m    716\u001b[0m \u001b[0;34m\u001b[0m\u001b[0m\n\u001b[1;32m    717\u001b[0m         \u001b[0;32mif\u001b[0m \u001b[0mself\u001b[0m\u001b[0;34m.\u001b[0m\u001b[0mn_classes_\u001b[0m \u001b[0;34m>\u001b[0m \u001b[0;36m2\u001b[0m\u001b[0;34m:\u001b[0m\u001b[0;34m\u001b[0m\u001b[0;34m\u001b[0m\u001b[0m\n",
            "\u001b[0;32m/usr/local/lib/python3.7/dist-packages/sklearn/multiclass.py\u001b[0m in \u001b[0;36mfit\u001b[0;34m(self, X, y)\u001b[0m\n\u001b[1;32m    328\u001b[0m         \u001b[0;31m# overall.\u001b[0m\u001b[0;34m\u001b[0m\u001b[0;34m\u001b[0m\u001b[0;34m\u001b[0m\u001b[0m\n\u001b[1;32m    329\u001b[0m         \u001b[0mself\u001b[0m\u001b[0;34m.\u001b[0m\u001b[0mlabel_binarizer_\u001b[0m \u001b[0;34m=\u001b[0m \u001b[0mLabelBinarizer\u001b[0m\u001b[0;34m(\u001b[0m\u001b[0msparse_output\u001b[0m\u001b[0;34m=\u001b[0m\u001b[0;32mTrue\u001b[0m\u001b[0;34m)\u001b[0m\u001b[0;34m\u001b[0m\u001b[0;34m\u001b[0m\u001b[0m\n\u001b[0;32m--> 330\u001b[0;31m         \u001b[0mY\u001b[0m \u001b[0;34m=\u001b[0m \u001b[0mself\u001b[0m\u001b[0;34m.\u001b[0m\u001b[0mlabel_binarizer_\u001b[0m\u001b[0;34m.\u001b[0m\u001b[0mfit_transform\u001b[0m\u001b[0;34m(\u001b[0m\u001b[0my\u001b[0m\u001b[0;34m)\u001b[0m\u001b[0;34m\u001b[0m\u001b[0;34m\u001b[0m\u001b[0m\n\u001b[0m\u001b[1;32m    331\u001b[0m         \u001b[0mY\u001b[0m \u001b[0;34m=\u001b[0m \u001b[0mY\u001b[0m\u001b[0;34m.\u001b[0m\u001b[0mtocsc\u001b[0m\u001b[0;34m(\u001b[0m\u001b[0;34m)\u001b[0m\u001b[0;34m\u001b[0m\u001b[0;34m\u001b[0m\u001b[0m\n\u001b[1;32m    332\u001b[0m         \u001b[0mself\u001b[0m\u001b[0;34m.\u001b[0m\u001b[0mclasses_\u001b[0m \u001b[0;34m=\u001b[0m \u001b[0mself\u001b[0m\u001b[0;34m.\u001b[0m\u001b[0mlabel_binarizer_\u001b[0m\u001b[0;34m.\u001b[0m\u001b[0mclasses_\u001b[0m\u001b[0;34m\u001b[0m\u001b[0;34m\u001b[0m\u001b[0m\n",
            "\u001b[0;32m/usr/local/lib/python3.7/dist-packages/sklearn/preprocessing/_label.py\u001b[0m in \u001b[0;36mfit_transform\u001b[0;34m(self, y)\u001b[0m\n\u001b[1;32m    322\u001b[0m             \u001b[0mwill\u001b[0m \u001b[0mbe\u001b[0m \u001b[0mof\u001b[0m \u001b[0mCSR\u001b[0m \u001b[0mformat\u001b[0m\u001b[0;34m.\u001b[0m\u001b[0;34m\u001b[0m\u001b[0;34m\u001b[0m\u001b[0m\n\u001b[1;32m    323\u001b[0m         \"\"\"\n\u001b[0;32m--> 324\u001b[0;31m         \u001b[0;32mreturn\u001b[0m \u001b[0mself\u001b[0m\u001b[0;34m.\u001b[0m\u001b[0mfit\u001b[0m\u001b[0;34m(\u001b[0m\u001b[0my\u001b[0m\u001b[0;34m)\u001b[0m\u001b[0;34m.\u001b[0m\u001b[0mtransform\u001b[0m\u001b[0;34m(\u001b[0m\u001b[0my\u001b[0m\u001b[0;34m)\u001b[0m\u001b[0;34m\u001b[0m\u001b[0;34m\u001b[0m\u001b[0m\n\u001b[0m\u001b[1;32m    325\u001b[0m \u001b[0;34m\u001b[0m\u001b[0m\n\u001b[1;32m    326\u001b[0m     \u001b[0;32mdef\u001b[0m \u001b[0mtransform\u001b[0m\u001b[0;34m(\u001b[0m\u001b[0mself\u001b[0m\u001b[0;34m,\u001b[0m \u001b[0my\u001b[0m\u001b[0;34m)\u001b[0m\u001b[0;34m:\u001b[0m\u001b[0;34m\u001b[0m\u001b[0;34m\u001b[0m\u001b[0m\n",
            "\u001b[0;32m/usr/local/lib/python3.7/dist-packages/sklearn/preprocessing/_label.py\u001b[0m in \u001b[0;36mfit\u001b[0;34m(self, y)\u001b[0m\n\u001b[1;32m    299\u001b[0m \u001b[0;34m\u001b[0m\u001b[0m\n\u001b[1;32m    300\u001b[0m         \u001b[0mself\u001b[0m\u001b[0;34m.\u001b[0m\u001b[0msparse_input_\u001b[0m \u001b[0;34m=\u001b[0m \u001b[0msp\u001b[0m\u001b[0;34m.\u001b[0m\u001b[0missparse\u001b[0m\u001b[0;34m(\u001b[0m\u001b[0my\u001b[0m\u001b[0;34m)\u001b[0m\u001b[0;34m\u001b[0m\u001b[0;34m\u001b[0m\u001b[0m\n\u001b[0;32m--> 301\u001b[0;31m         \u001b[0mself\u001b[0m\u001b[0;34m.\u001b[0m\u001b[0mclasses_\u001b[0m \u001b[0;34m=\u001b[0m \u001b[0munique_labels\u001b[0m\u001b[0;34m(\u001b[0m\u001b[0my\u001b[0m\u001b[0;34m)\u001b[0m\u001b[0;34m\u001b[0m\u001b[0;34m\u001b[0m\u001b[0m\n\u001b[0m\u001b[1;32m    302\u001b[0m         \u001b[0;32mreturn\u001b[0m \u001b[0mself\u001b[0m\u001b[0;34m\u001b[0m\u001b[0;34m\u001b[0m\u001b[0m\n\u001b[1;32m    303\u001b[0m \u001b[0;34m\u001b[0m\u001b[0m\n",
            "\u001b[0;32m/usr/local/lib/python3.7/dist-packages/sklearn/utils/multiclass.py\u001b[0m in \u001b[0;36munique_labels\u001b[0;34m(*ys)\u001b[0m\n\u001b[1;32m     99\u001b[0m     \u001b[0m_unique_labels\u001b[0m \u001b[0;34m=\u001b[0m \u001b[0m_FN_UNIQUE_LABELS\u001b[0m\u001b[0;34m.\u001b[0m\u001b[0mget\u001b[0m\u001b[0;34m(\u001b[0m\u001b[0mlabel_type\u001b[0m\u001b[0;34m,\u001b[0m \u001b[0;32mNone\u001b[0m\u001b[0;34m)\u001b[0m\u001b[0;34m\u001b[0m\u001b[0;34m\u001b[0m\u001b[0m\n\u001b[1;32m    100\u001b[0m     \u001b[0;32mif\u001b[0m \u001b[0;32mnot\u001b[0m \u001b[0m_unique_labels\u001b[0m\u001b[0;34m:\u001b[0m\u001b[0;34m\u001b[0m\u001b[0;34m\u001b[0m\u001b[0m\n\u001b[0;32m--> 101\u001b[0;31m         \u001b[0;32mraise\u001b[0m \u001b[0mValueError\u001b[0m\u001b[0;34m(\u001b[0m\u001b[0;34m\"Unknown label type: %s\"\u001b[0m \u001b[0;34m%\u001b[0m \u001b[0mrepr\u001b[0m\u001b[0;34m(\u001b[0m\u001b[0mys\u001b[0m\u001b[0;34m)\u001b[0m\u001b[0;34m)\u001b[0m\u001b[0;34m\u001b[0m\u001b[0;34m\u001b[0m\u001b[0m\n\u001b[0m\u001b[1;32m    102\u001b[0m \u001b[0;34m\u001b[0m\u001b[0m\n\u001b[1;32m    103\u001b[0m     \u001b[0mys_labels\u001b[0m \u001b[0;34m=\u001b[0m \u001b[0mset\u001b[0m\u001b[0;34m(\u001b[0m\u001b[0mchain\u001b[0m\u001b[0;34m.\u001b[0m\u001b[0mfrom_iterable\u001b[0m\u001b[0;34m(\u001b[0m\u001b[0m_unique_labels\u001b[0m\u001b[0;34m(\u001b[0m\u001b[0my\u001b[0m\u001b[0;34m)\u001b[0m \u001b[0;32mfor\u001b[0m \u001b[0my\u001b[0m \u001b[0;32min\u001b[0m \u001b[0mys\u001b[0m\u001b[0;34m)\u001b[0m\u001b[0;34m)\u001b[0m\u001b[0;34m\u001b[0m\u001b[0;34m\u001b[0m\u001b[0m\n",
            "\u001b[0;31mValueError\u001b[0m: Unknown label type: (array([2.2, 3.7, 2. , 1.7, 2. , 0. , 1.3, 4. , 3. , 2.8, 1.8, 4. , 1.6,\n       2. , 0. , 2.5, 2. , 3.3, 3. , 1.6, 1.4, 2.7, 1. , 0. , 0. , 2.3,\n       1.4, 1.5, 2.3, 2. , 2. , 2.5, 3.5, 2.7, 4. , 3.5, 2.7, 1.5, 2.2,\n       1.8, 2. , 2.5, 2. , 1.7, 2. , 4. , 1.3, 2.3, 1.4, 4. , 3.4, 4. ,\n       2.7, 1.3, 2.5, 4. , 2.5, 2. , 0. , 2.7, 2. , 1.3, 1.5, 2.5, 3.7,\n       2. , 2.5, 2. , 4. , 1. , 2. , 4. , 2. , 2. , 2.5, 0. , 1.6, 1.5,\n       2. , 3.2, 2.3, 1.7, 2. , 3.2, 4. , 2. , 2.5, 2.5, 4. , 2. , 1.5,\n       3. , 2. , 2. , 2.7, 1.5, 4. , 2. , 1.8, 1.8, 1.7, 4. , 3. , 2. ,\n       2.4, 3. , 2.7, 2.5, 2.3, 3.2, 2.8, 0.5, 1.3, 4. , 2.8, 1.5, 3. ,\n       1. , 2. , 4. , 2. , 4. , 1.8, 0. , 3.7, 3. , 2.2, 0.7, 2. , 1.3,\n       2. , 1. , 2.5, 3.2, 2.2, 3.2, 2. , 3. , 0.7, 2. , 1.5, 2. , 1.9,\n       4. , 1.5, 2.6, 2.7, 2. , 0.7, 2.5, 2. , 3.7, 2.7, 2. , 3.3, 2. ,\n       2. , 1.5, 2. , 2. , 4. , 3.2, 3. , 1. , 1.3, 2. , 1.5, 1.5, 3.1,\n       1.7, 0.5, 1. , 2. , 1.7, 2. , 2. , 0.4, 3. , 2.9, 2. , 2.7, 2.3,\n       2. , 3.9, 1.3, 1.6, 4. , 4. , 2. , 1.3, 1.5, 2. , 2. , 4. , 2. ,\n       2.7, 1.3, 2. , 2.7, 4. , 2. , 1.6, 0.5, 2. , 1. , 3. , 3.3, 3.5,\n       1.3, 1. , 3.5, 2. , 3.5, 1.3, 3.5, 0. , 1.5, 0.3, 1. , 0. , 3.3,\n       2.1, 3. , 2. , 4. , 2. , 2. , 0.5, 3.4, 2. , 3.2, 2. , 0. , 1. ,\n       4. , 3. , 2. , 4. , 2.6, 3.5, 3.7, 2. , 2. , 2.7, 3. , 4. , 2.5,\n       3.5, 2. , 4. , 2.3, 2. , 3. , 2.5, 1.5, 1.3, 3.7, 2. , 2.5, 2.2,\n       2.5, 1.7, 0.5, 3.3, 3.2, 2.5, 1.8, 2.5, 1. , 1.5, 2. , 3.1, 3.2,\n       3. , 2. , 2. , 3. , 2. , 2. , 2. , 2.3, 2. , 4. , 1.5, 2. , 2.7,\n       0.3, 0. , 4. , 1.5, 2.2, 0.3, 2.2, 3. , 0. , 2.5, 2.5, 2. , 1. ,\n       2. , 2.6, 2. , 2.3, 2. , 1. , 2. , 3.4, 4. , 1. , 4. , 2. , 2. ,\n       2.3, 4. , 2.5, 2.1, 3.2, 3.5, 2.5, 2. , 0. , 3. , 2.3, 2.5, 2. ,\n       2. , 1.5, 4. , 2.3, 2.5, 1. , 1. , 1.5, 0. , 1.5, 2. , 1.8, 1.7,\n       2.5, 1.3, 0.8, 0.3, 2.5, 4. , 2. , 2.5, 2.2, 0. , 1.3, 4. , 4. ,\n       0.5, 0.8, 1.3, 1. , 2.3, 1. , 2. , 4. , 2.3, 2. , 2.5, 2.8, 1.7,\n       2. , 2.5, 2. , 2.3, 4. , 3.5, 3. , 1.4, 3.5, 1.5, 2. , 2. , 2.5,\n       2.7, 1.8, 2.5, 4. , 2. , 1.6, 2.9, 2. , 2. , 4. , 1.3, 3.2, 2. ,\n       2.5, 2.3, 3.7, 2.7, 1.5, 1.7, 2.3, 2. , 1. , 2.5, 2. , 2. , 1.5,\n       2.4, 2. , 2. , 1.5, 3.5, 0.9, 2.1, 1.7, 0. , 2. , 3. , 2. , 4. ,\n       2. , 2.1, 2.4, 3.3, 1.5, 3. , 2.4, 2. , 2.7, 2.7, 2.7, 2.3, 2.2,\n       3. , 0.8, 2. , 1.8, 3. , 2.1, 0. , 1.7, 2.3, 2. , 1.3, 2.5, 2. ,\n       3.6, 2. , 2.7, 2.4, 2. , 2. , 2.5, 2. , 1.6, 2.7, 3.7, 2. , 4. ,\n       2. , 2. , 0. , 0. , 1.5, 0.5, 3.5, 3.4, 3.3, 1.3, 2. , 4. , 1.3,\n       2. , 3. , 2. , 1.8, 2. , 2. , 4. , 2.7, 2.7, 2.5, 2. , 2. , 2.4,\n       2.7, 2. , 2.3, 1.5, 1.2, 1.4, 3.8, 0.5, 3. , 2.6, 3. , 3. , 1.4,\n       1. , 2.7, 3.3, 1.3, 3. , 2. , 2.5, 2.5, 2.7, 2. , 2.2, 2. , 3.7,\n       4. , 1. , 4. , 2.5, 1.7, 3. , 3. , 2. , 1. , 4. , 2.5, 2. , 4. ,\n       4. , 3. , 2.5, 1.8, 3. , 1.3, 2. , 2.8, 4. , 0.5, 4. , 4. , 1.8,\n       2.5, 2. , 1.7, 2. , 3.5, 3.4, 2.5, 2.5, 2. , 0.5, 2. , 1.3, 1.1,\n       2.3, 3.4, 1.5, 1.7, 2. , 2.5, 2.5, 1.5, 2.3, 0. , 4. , 2. , 2. ,\n       1. , 1. , 3. , 2. , 3. , 4. , 2.7, 2. , 2.3, 2.1, 1.3, 0. , 1.5,\n       1.3, 4. , 2. , 2.7, 1.7, 1.3, 4. , 2. , 2. , 0.5, 3.7, 2. , 3.7,\n       1. , 2.9, 3.7, 1.5, 1.5, 2. , 2.1, 3.7, 4. , 0. , 1. , 2.5, 2.3,\n       1.7, 1.3, 1.3, 3. , 1.5, 2. , 2.7, 0.8, 1. , 2. , 0. , 2. , 2.5,\n       2. , 1.3, 3.5, 3.5, 3. , 0. , 3.3, 3. , 1.3, 2. , 1.5, 2. , 1. ,\n       2. , 2. , 2.5, 2. , 1.5, 4. , 3.3, 0. , 2.3, 1. , 1.8, 0.9, 3. ,\n       1.4, 2. , 3.3, 1. , 2.5, 2. , 2.7, 3. , 2.2, 2. , 3.4, 2. , 2.4,\n       3.3, 1.6, 1. , 2.3, 2.6, 1.3, 0. , 3. , 1.3, 2. , 3. , 1.3, 2. ,\n       3.2, 4. , 2.2, 4. , 3.5, 2. , 2. , 2. , 0. , 2.5, 3. , 1.5, 3.5,\n       4. , 2. , 1.3, 3. , 3. , 2. , 2.7, 4. , 3. , 2.5, 3. , 4. , 3. ,\n       2.5, 1.9, 3.5, 2. , 2. , 2. , 2. , 1.5, 1. , 4. , 2.4, 4. , 3.5,\n       3.1, 2.6, 3. , 2. , 3.3, 2. , 1.5, 3. , 4. , 2.8, 4. , 2.4, 3. ,\n       1.5, 3.5, 4. , 2. , 2. , 2.5, 2. , 0.5, 4. , 0.5, 2.5, 0. , 2. ,\n       2.2, 1.3, 3.7, 1.3, 3.2, 4. , 2.7, 2.5, 3.5, 3.7, 4. , 2. , 4. ,\n       2.5, 2.7, 2.6, 3. , 3.1, 1. , 2. , 1.5, 2. , 1.5, 4. , 2.3, 0.5,\n       2. , 2. , 4. , 3.6, 1.6, 0.7, 2. , 2. , 2. , 0.7, 1.7, 2.7, 3. ,\n       0. , 2. , 3.7, 0.5, 0. , 1.6, 2. , 1. , 0. , 2. , 3.5, 3.2, 2. ,\n       2. , 3. , 2. , 2.2, 2. , 2. , 4. , 0. , 1.3, 1.3, 2. , 4. , 4. ,\n       2. , 2. , 0.8, 3.6, 2.7, 2. , 2. , 1.7, 2. , 2. , 3.5, 2. , 1.5,\n       1. , 2.5, 2. , 0. , 2. , 3.7, 4. , 2. , 2.3, 1. , 1.3, 1.5, 3. ,\n       1.3, 1.5, 0.8, 2.5, 3.2, 2. , 1. , 2. , 4. , 2.7, 3.3, 2. , 4. ,\n       3.3, 2. , 3.3, 1.8, 2. , 3. , 1. , 2.5, 0.3, 2.2, 2. , 1.3, 0. ,\n       2. , 1.4, 0. , 2.2, 0.5, 2.5, 0.5, 0.5, 4. , 1. , 4. , 2.7, 3.2,\n       1.5, 3. , 2.9, 1.5, 2. , 1. , 2.7, 2. , 0. , 2. , 3.3, 2. , 1.8,\n       1.5, 1.9, 2.4, 3.4, 1.3, 0.6, 3. , 0.7, 2. , 3. , 2.8, 3.2, 4. ,\n       3. , 4. , 3. , 2. , 1.5, 3.5, 2. , 2. , 1.3, 0. , 2. , 1.3, 3.2,\n       2.7, 2.2, 1.5, 3. , 1.7, 2. , 2.9, 0.5, 2.4, 2.5, 2.7, 1.3, 2.4,\n       2. , 2. , 2. , 2.3, 2. , 3.5, 1.3, 4. , 1.3, 3. , 3.2, 4. , 1.3,\n       3.5, 2.5, 2. , 2.5, 3.5, 2. , 0.3, 4. , 2. , 1.2, 2.7, 2.2, 0.5,\n       2. , 3.2, 1. , 1.7, 2.5, 3.2, 2. , 3.5, 1.8, 1.9, 2. , 1. , 2. ,\n       2. , 2. , 0. , 3.7, 2.8, 2. , 2.5, 4. , 2. , 1. , 2. , 1.9, 2. ,\n       4. , 1. , 3.2, 1.3, 4. , 0.7, 0.5, 1.8, 4. , 0. , 0. , 1. , 2. ,\n       2. , 0. , 0.5, 3.5, 2.4, 3. , 3.5, 3. , 2. , 2.1, 1.3, 2.3, 3. ,\n       2.5, 1.3, 3.5, 2. , 3.3, 2. , 1.7, 0.8, 0.3, 2.3, 2.7, 1.1, 4. ,\n       2.2, 2.3, 2. , 1.3, 2. , 2. , 2.1, 2. , 1.3, 4. , 0. , 3. , 2.5,\n       0. , 2. , 2.5, 2.7, 1.6, 2.3, 3. , 2. , 2. , 4. , 4. , 2. , 2. ,\n       2.2, 3. , 3. , 1.3, 3.5, 2.7, 2. , 4. , 2. , 2.1, 2.2, 2.3, 3. ,\n       2.7, 2. , 2. , 2. , 2. , 2. , 2.2, 2. , 2.2, 2.7, 2.7, 4. , 2. ,\n       4. , 2. , 2.7, 4. , 1.1, 2.7, 3.5, 1. , 1.8, 0. , 3.2, 2.9, 0.5,\n       3.5, 1. , 0.5, 1.8, 1.4, 2. , 2. , 2. , 2. , 2.4, 2. , 2. , 1.4,\n       1.3, 2.5, 2. , 2.7, 1.8, 3.3, 1.7, 1.3, 2.5, 3.2, 3. , 0.7, 4. ,\n       2.5, 2. , 2. , 2. , 2.5, 0. , 2.5, 2.5, 3.2, 2.7, 0.3, 2.7, 2.7,\n       1. , 2.3, 1.3, 3.5, 3.3, 3.5, 0.5, 1.3, 2. , 0. , 2. , 2. , 3.2,\n       2.5, 1.7, 3.5, 2.7, 2.5, 4. , 2.7, 2.5, 2. , 2. , 2. , 2.1, 0.3,\n       4. , 2. , 2.7, 2.3, 2.6, 3.5, 3.5, 4. , 2.5, 2.2, 3.3, 2.7, 3. ,\n       1.7, 0.5, 3. , 2. , 1.5, 2. , 2.8, 2.2, 3.2, 2.7, 2.3, 1. , 4. ,\n       1.7, 2. , 2. , 3.2, 0.3, 3.7, 2.5, 2. , 1.3, 1.5, 2.5, 4. , 1.3,\n       3. , 2.2, 4. , 2. , 2. , 3.2, 1.3, 0. , 2.5, 3.5, 2. , 3.7, 4. ,\n       4. , 4. , 2. , 4. , 2.8, 1.8, 1.5, 2. , 2.8, 0. , 3.5, 3.8, 1.8,\n       3. , 1.7, 3.5, 2. , 2. , 3.2, 1.5, 2. , 1.5, 2.5, 2. , 3. , 2. ,\n       2. , 2.5, 1.3, 3.5, 4. , 1.4, 2.5, 3.5, 2. , 2. , 2.7, 3.3, 2.7,\n       2. , 2.3, 2. , 2. , 2. , 3.5, 1.1, 1.3, 2. , 2. , 1.5, 2.7, 2. ,\n       3.3, 3. , 3. , 3.2, 0.5, 1.8, 2. , 2.5, 2.7, 2. , 2.2, 2.1, 3.5,\n       2.5, 0.5, 3.2, 2. , 2. , 2. , 2. , 3.5, 2.8, 0. , 2.5, 3.8, 4. ,\n       2.7, 2. , 4. , 4. , 1.5, 3.7, 1.3, 2. , 3.4, 3. , 2. , 2.4, 2.7,\n       1.3, 1.5, 3.6, 1.3, 2. , 2.4, 1.5, 1.9, 2.7, 2. , 1.2, 1.7, 3. ,\n       3.2, 1.3, 0. , 3. , 2.5, 1.5, 3. , 4. , 0.5, 3.4, 2.7, 2. , 1.5,\n       4. , 1.5, 2.3, 1.7, 2.6, 1.3, 2. , 2. , 3. , 4. , 3.2, 2. , 3. ,\n       3.5, 2.2, 2. , 2.7, 2.4, 0.7, 3.7, 4. , 2. , 2.7, 1.7, 2. , 1. ,\n       2.2, 1. , 3.5, 2.2, 4. , 2.3, 3.5, 2.5, 2.7, 0.5, 2. , 2.6, 3.3,\n       1.7, 3. , 1.8, 0.5, 2.4, 0. , 2.4, 2. , 3. , 3.5, 1.3, 2.8, 1.9,\n       4. , 3. , 1. , 3. , 2.7, 2.3, 1.5, 2.5, 1.4, 1.3, 0.3, 4. , 1.4,\n       2. , 3.2, 1.3, 1.2, 2. , 3. , 3. , 2.6, 1.8, 3.7, 0.5, 3.2, 2.3,\n       4. , 2. , 2. , 3.4, 2. , 1.8, 2.7, 3.3, 3.5, 2.7, 3.4, 4. , 3.4,\n       2. , 1.7, 3.5, 1.6, 0. , 2. , 4. , 2.7, 3.7, 2. , 3.5, 3. , 2.8,\n       1.8, 2.9, 2.9, 4. , 3.7, 2. , 4. , 3. , 1.1, 3. , 1.3, 3. , 2.5,\n       1.9, 1.6, 2.7, 2.5, 4. , 2.2, 2.5, 2. , 2.8, 4. , 2. , 2.6, 4. ,\n       2. , 1.5, 0. , 0. , 4. , 2. , 3.5, 4. , 2. , 2. , 3. , 2.3, 1.7,\n       2.6, 1.9, 0.5, 2.7, 3.2, 4. , 2. , 4. , 2.5, 3.5, 2.7, 3. , 2.6,\n       3.5, 2. , 2. , 1.7, 0.8, 2.5, 2.7, 2. , 1. , 1. , 3.7, 3. , 4. ,\n       4. , 4. , 1.5, 3.8, 2.5, 3.8, 2.5, 3.2, 2. , 4. , 2. , 2.5, 2. ,\n       3.1, 2. , 0. , 1.9, 2. , 2.7, 2. , 2.8, 2.3, 3.2, 2. , 1.5, 1.8,\n       1.3, 0.5, 3.5, 0. , 2.2, 1.3, 1. , 2. , 3.3, 3. , 3.7, 3. , 0.5,\n       1.6, 2.7, 4. , 3.7, 2. , 1.7, 2.3, 1.7, 3.2, 1. , 2.5, 2.5, 2.2,\n       3.9, 0.8, 2.1, 1.8, 2.7, 3.2, 2. , 2.5, 3.2, 4. , 1.9, 1.3, 1.3,\n       2. , 4. , 3.2, 2.5, 4. , 2.7, 2. , 3.3, 2. , 2. , 0. , 2. , 1.4,\n       2.3, 1.5, 2. , 2.1, 2. , 2.5, 2. , 3.2, 4. , 2. , 2.2, 3.5, 2. ,\n       3.7, 1. , 3. , 1.5, 1.5, 2.4, 2. , 0.5, 2.7, 1.9, 2.2, 2. , 3. ,\n       1.5, 2. , 3.5, 3.5, 2.5, 2.1, 2.3, 2. , 4. , 3.7, 2.7, 1.1, 4. ,\n       2. , 2.1, 1.8, 2.7, 0. , 1. , 0. , 2. , 3.5, 0.5, 3. , 2. , 2.7,\n       1.4, 3.5, 2.7, 2.5, 3.3, 3.5, 2. , 2.5, 0.5, 3. , 1. , 4. , 1. ,\n       1.5, 1. , 2. , 0.3, 2. , 2. , 1.3, 1. , 2.7, 3.5, 1.5, 2. , 3.2,\n       1.5, 2. , 2. , 3.3, 4. , 4. , 0. , 2. , 4. , 2.5, 2.5, 3. , 4. ,\n       1.3, 2. , 3.5, 2. , 2.3, 2. , 2. , 1.7, 4. , 2. , 2. , 3. , 1.5,\n       1.3, 2.4, 2. , 2.5, 2. , 2. , 0. , 2.6, 2. , 2. , 2.7, 2.8, 3. ,\n       2. , 2. , 3. , 3.8, 2.7, 4. , 0.7, 1.5, 3.5, 2.2, 2. , 2. , 2. ,\n       3.5, 2. , 1.7, 3.1, 2.3, 2. , 2.5, 3.2, 3.5, 2.2, 2.7, 2.7, 1. ,\n       0. , 4. , 3.3, 2. , 4. , 2. , 1.9, 2. , 3.3, 2. , 3.5, 2. , 2.7,\n       2.7, 4. , 0.8, 3.3, 2. , 2.7, 2. , 3.2, 1.3, 2.3, 3.3, 2.8, 2. ,\n       3. , 2. , 1.6, 3.5, 2.7, 3. , 3.4, 2.7, 2.3, 4. , 2. , 3.5, 2. ,\n       2.7, 1.3, 3. , 2.5, 1. , 1.9, 2.7, 1.3, 2.7, 4. , 1.3, 2. , 2.7,\n       3.7, 1.7, 3.8, 2. , 3.1, 1.3, 1.7, 3.8, 2. , 2.7, 3.7, 2.8, 2.6,\n       4. , 2. , 3.6, 0.5, 2.3, 4. , 3.7, 1.3, 2.4, 2.9, 2. , 2.7, 2. ,\n       1.3, 1.9, 2. , 3.4, 4. , 2.5, 1.7, 3. , 1.1, 4. , 1.5, 2.5, 1.6,\n       1. , 4. , 0. , 0. , 3.3, 3. , 2.7, 2.5, 0. , 2.4, 3. , 1.3, 2. ,\n       1.7, 3. , 2.8, 1.2, 2. , 2.6, 2.3, 4. , 2. , 3.2, 1.3, 4. , 3. ,\n       2.7, 4. , 1.3, 1.8, 2. , 3.2, 0. , 2.5, 2. , 3. , 3.7, 0. , 1. ,\n       1. , 4. , 1.3, 3.7, 2.5, 1.9, 2.3, 0. , 2.2, 1.8, 4. , 2.5, 0.5,\n       2.5, 2.5, 3. , 1.5, 4. , 1. , 2.2, 2. , 2.3, 2.7, 3.3, 2.9, 2. ,\n       0.8, 4. , 2. , 2.7, 2.6, 2.3, 2. , 2. , 0.5, 1.8, 1. , 2.5, 0.7,\n       4. , 3.2, 2. , 2.7, 3.6, 1. , 3.5, 1. , 0. , 3. , 2.6, 2. , 3.4,\n       2.7, 1.5, 2. , 0.7, 2.5, 2. , 4. , 2. , 4. , 3.7, 4. , 2.7, 2.3,\n       3.2, 3.2, 2. , 2.7, 1.7, 2.7, 2. , 4. , 2. , 4. , 4. , 2.7, 0. ,\n       1.5, 3.2, 3.5, 3.4, 2. , 1.3, 2. , 2. , 2. , 2.7, 3. , 2. , 2. ,\n       4. , 1.4, 2. , 1.5, 1. , 1.4, 2.8, 4. , 2. , 4. , 1.3, 2. , 2.7,\n       2.4, 3.5, 3.8, 1.5, 3.7, 2. , 2.2, 2. , 2.5, 2. , 2.3, 2.2, 1. ,\n       1.8, 3.7, 2. , 2. , 2.7, 1.7, 2.7, 4. , 1.6, 2. , 1.5, 4. , 2.2,\n       2. , 2.5, 1. , 2.4, 2. , 1.8, 2. , 2.7, 2. , 2. , 3.4, 2.3, 2. ,\n       2.1, 3.3, 2.7, 2. , 3.2, 2.5, 4. , 1.8, 2.3, 1. , 0.5, 1. , 2. ,\n       3.8, 2.7, 2. , 1.3, 2.7, 2. , 2. , 2.7, 2. , 4. , 1.4, 2.3, 0. ,\n       3.7, 2. , 2. , 2. , 2.2, 2.3, 1.3, 2. , 1.5, 2.3, 2.5, 2.9, 2. ,\n       4. , 2.3, 4. , 2.6, 3.5, 1.7, 2.8, 1. , 2.9, 2.7, 2.2, 1.3, 2.5,\n       4. , 4. , 3. , 4. , 2. , 1.5, 2.8, 2.7, 2. , 2. , 2. , 0.5, 2. ,\n       2.3, 2. , 2.3, 2. , 1. , 3.5, 1.9, 2. , 2. , 3.3, 1.4, 3.5, 2. ,\n       0.5, 2.5, 4. , 1.5, 1.5, 3.5, 2. , 2.5, 2. , 2. , 3.3, 1. , 2.9,\n       1.3, 1. , 1.8, 1.5, 2. , 3. , 2.3, 3. , 2. , 2. , 3.5, 2. , 2.5,\n       2. , 2.3, 1.2, 1.8, 3. , 1. , 2. , 1.8, 2.2, 2.7, 2. , 1.3, 4. ,\n       2.2, 4. , 2.1, 2.6, 1. , 2. , 2. , 2. , 2.5, 3. , 3. , 1.5, 2.7,\n       0.8, 1.5, 3.3, 2.2, 2.4, 2.7, 2. , 3.8, 2.7, 2. , 2. , 2. , 4. ,\n       3.4, 4. , 2. , 2.7, 1.3, 3.1, 3.5, 3.5, 2.2, 2.9, 4. , 4. , 2.8,\n       3.5, 2.4, 1. , 0. , 2.8, 1.3, 1.8, 3.5, 2. , 0. , 1.3, 3.3, 4. ,\n       2. , 1.7, 2. , 3. , 2. , 1.3, 1.3, 0.5, 1.5, 3.5, 2. , 3.5, 3. ,\n       3.7, 2. , 2. , 1.5, 2. , 4. , 2.5, 2. , 3. , 2. , 2. , 4. , 2. ,\n       2.7, 4. , 2. , 2.7, 3. , 2.5, 3.5, 3.7, 2.7, 1.7, 2.5, 4. , 3.2,\n       4. , 2. , 2. , 1.3, 4. , 2.9, 1.5, 1.3, 3.4, 2. , 3. , 3.3, 2.3,\n       3.3, 2.7, 2. , 3. , 2.3, 3.5, 3.5, 0.5, 1. , 2. , 2. , 2. , 2.3,\n       3. , 2. , 3.3, 3.3, 2. , 2.4, 3.5, 2.3, 1.5, 3. , 2.3, 1.5, 2. ,\n       1.7, 2. , 2.7, 1. , 3.5, 1. , 2. , 0.3, 2. , 2. , 2. , 2.3, 3. ,\n       2.3, 2. , 3. , 2. , 2. , 2. , 2. , 2.7, 1.5, 2. , 0.5, 2.5, 2. ,\n       2.3, 4. , 2. , 2. , 0. , 2. , 2.7, 2. ]),)"
          ]
        }
      ]
    },
    {
      "cell_type": "markdown",
      "source": [
        "####SVM Regression"
      ],
      "metadata": {
        "id": "feEw-B_W4lBk"
      }
    },
    {
      "cell_type": "code",
      "source": [
        "from sklearn.svm import SVR\n",
        "\n",
        "# Choose regression method and set hyperparameter\n",
        "svr_rbf=SVR(C=1.0, epsilon=0.2, kernel='rbf')\n",
        "\n",
        "# Training of the regression model\n",
        "svr_rbf.fit(claim_train, y_train)\n",
        "y_pred = svr_rbf.predict(claim_test)\n",
        "#print('predicted response:', y_pred, sep='\\n')\n",
        "\n",
        "print(\"\\n\".join(\"{} {}\".format(x, y) for x, y in zip(y_pred, y_test)))"
      ],
      "metadata": {
        "id": "fQeUqb3C4oIk",
        "outputId": "1a9c00c9-0f74-405a-a01a-dc9375687d77",
        "colab": {
          "base_uri": "https://localhost:8080/"
        }
      },
      "execution_count": null,
      "outputs": [
        {
          "output_type": "stream",
          "name": "stdout",
          "text": [
            "2.4517509867535416 3.5\n",
            "2.177320891782906 2.0\n",
            "2.5019835625553317 2.0\n",
            "2.440122065979379 1.7\n",
            "2.2053608907137754 4.0\n",
            "2.421127255533579 2.0\n",
            "2.4193564862392116 2.0\n",
            "2.4376362069499833 1.3\n",
            "2.497829140672093 2.7\n",
            "2.3368350201612236 0.0\n",
            "2.0507844577392413 1.7\n",
            "2.1312181315094323 2.0\n",
            "2.4297706162368855 2.5\n",
            "2.4872559189348924 2.3\n",
            "2.4273428686970346 4.0\n",
            "2.818219612619305 2.5\n",
            "2.1607289736596256 3.3\n",
            "2.5024653977826454 2.6\n",
            "2.3085119076764498 2.7\n",
            "2.033028246919731 3.0\n",
            "2.399959692216876 0.8\n",
            "2.3838956953714034 2.0\n",
            "2.0985192471304264 4.0\n",
            "2.04677350537863 2.5\n",
            "2.318840669219976 3.7\n",
            "2.609681473637752 4.0\n",
            "2.4847334774035135 2.5\n",
            "2.431194295316665 2.0\n",
            "2.5839763883488867 3.7\n",
            "2.498851019840883 3.7\n",
            "2.4858331679229733 2.5\n",
            "2.5762669443111763 4.0\n",
            "2.4758019805034195 4.0\n",
            "2.4810146319835584 3.7\n",
            "2.5110500819279733 2.0\n",
            "2.693043589145578 2.0\n",
            "2.619812966116823 3.7\n",
            "2.4248460531709584 3.0\n",
            "2.5109681463335933 1.7\n",
            "2.6715221442166186 1.0\n",
            "2.270893016600754 3.3\n",
            "2.307564948478435 3.3\n",
            "2.4259446230027573 3.7\n",
            "1.9827977836588748 4.0\n",
            "1.6008855588273465 2.4\n",
            "2.513246943349469 2.0\n",
            "2.189017175476041 2.0\n",
            "2.4318974682360004 2.7\n",
            "2.19979789931373 1.3\n",
            "2.448775419312713 0.0\n",
            "2.6558625548680865 0.7\n",
            "2.026828661394429 3.0\n",
            "2.098629794447761 2.0\n",
            "2.268693491669345 1.0\n",
            "2.600490515029614 2.3\n",
            "2.2794447092817633 2.0\n",
            "2.0714517406197905 2.7\n",
            "1.9991579555293715 1.5\n",
            "2.2453143859978355 2.3\n",
            "2.506399586800837 4.0\n",
            "2.1850737240165654 4.0\n",
            "1.917662433078712 2.0\n",
            "2.573387934335957 1.4\n",
            "2.5912110384853295 0.0\n",
            "2.1117292184315195 1.0\n",
            "1.97480333291896 1.9\n",
            "1.9757348561429298 1.3\n",
            "2.401300521247243 4.0\n",
            "2.2419357675672513 2.0\n",
            "2.496014514232377 3.0\n",
            "2.4471344438078684 1.7\n",
            "2.1335941772703766 2.0\n",
            "1.8420515501421366 1.0\n",
            "1.9929823046625197 2.5\n",
            "2.196448119780865 3.5\n",
            "2.249382966428124 1.5\n",
            "2.4744392902742556 4.0\n",
            "2.4217489529972687 4.0\n",
            "1.8462351880394534 4.0\n",
            "2.0774403008043243 1.0\n",
            "2.229947982203376 1.3\n",
            "2.0685351694078715 2.5\n",
            "2.1612189608508263 2.0\n",
            "2.4373777756499377 4.0\n",
            "1.983466763156255 2.0\n",
            "2.377346108959039 4.0\n",
            "2.5353001952236665 1.0\n",
            "2.3196772177007086 2.0\n",
            "2.2697789479963806 4.0\n",
            "2.1725058773833132 1.2\n",
            "3.0983198056064 2.0\n",
            "2.1672141375420604 2.0\n",
            "2.126575772229091 0.0\n",
            "2.4778910307644284 2.0\n",
            "2.4954919903164416 1.6\n",
            "2.4167446050601606 2.7\n",
            "2.184044935428795 2.0\n",
            "2.1042064684375315 2.0\n",
            "2.4290495297550043 4.0\n",
            "2.393048793999911 1.5\n",
            "2.428310682118165 2.0\n",
            "2.67760423282889 1.5\n",
            "2.41629086590908 0.0\n",
            "2.5125632824392747 1.9\n",
            "2.50878638752704 2.0\n",
            "2.2004762641436937 3.7\n",
            "2.401941661089891 2.0\n",
            "2.500019173689088 1.3\n",
            "2.6838543413470104 1.5\n",
            "2.3992355899093782 3.0\n",
            "2.041090648576504 0.4\n",
            "2.458253853779391 2.7\n",
            "2.481342223854311 2.5\n",
            "2.561088768762236 1.5\n",
            "2.086603903523546 2.0\n",
            "2.3817682689081514 3.3\n",
            "2.166800609394989 2.7\n",
            "2.2776666969068264 1.0\n",
            "2.111112529026929 2.5\n",
            "2.169228807748158 2.0\n",
            "1.9045204997906775 0.5\n",
            "2.205197100270158 1.5\n",
            "2.1445906189435124 2.7\n",
            "2.113427956912581 2.0\n",
            "2.129709933030414 4.0\n"
          ]
        }
      ]
    }
  ]
}